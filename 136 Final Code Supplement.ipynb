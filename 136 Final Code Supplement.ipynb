{
 "cells": [
  {
   "cell_type": "code",
   "execution_count": null,
   "metadata": {},
   "outputs": [],
   "source": [
    "#Run hyperparameter tuning again to check stability of Coherence scoring\n",
    "#Run LDA modeling with 100 terms\n",
    "#Run comparisons on 100 terms/topic. "
   ]
  },
  {
   "cell_type": "code",
   "execution_count": 1,
   "metadata": {},
   "outputs": [],
   "source": [
    "%matplotlib inline "
   ]
  },
  {
   "cell_type": "code",
   "execution_count": 9,
   "metadata": {},
   "outputs": [],
   "source": [
    "import bs4\n",
    "from bs4 import BeautifulSoup as bsoup\n",
    "import requests as rq\n",
    "import re\n",
    "import pandas\n",
    "import nltk\n",
    "from nltk.corpus import stopwords\n",
    "from nltk.probability import FreqDist\n",
    "from nltk.stem.snowball import SnowballStemmer\n",
    "import datetime\n",
    "from dateutil.parser import parse\n",
    "import numpy as np\n",
    "from numpy import exp\n",
    "import tqdm #to show % progress when running\n",
    "from tqdm import tqdm_notebook as tqdm\n",
    "import seaborn as sns\n",
    "from scipy.stats import spearmanr, pearsonr\n",
    "from scipy.spatial.distance import cosine\n",
    "#from sklearn.decomposition import PCA\n",
    "#from sklearn.preprocessing import StandardScaler\n",
    "import matplotlib.pyplot as plt\n",
    "import gensim \n",
    "from gensim.models.coherencemodel import CoherenceModel\n",
    "from gensim import corpora\n",
    "import networkx as nx\n",
    "from itertools import combinations\n",
    "from collections import defaultdict\n",
    "import pyLDAvis.gensim"
   ]
  },
  {
   "cell_type": "code",
   "execution_count": 3,
   "metadata": {},
   "outputs": [],
   "source": [
    "#Run hyperparameter tuning again to check stability of Coherence scoring\n",
    "%store -r corpus\n",
    "%store -r id2word\n",
    "%store -r trigram_text_data"
   ]
  },
  {
   "cell_type": "code",
   "execution_count": 196,
   "metadata": {},
   "outputs": [],
   "source": [
    "def compute_coherence_values(corpus,dictionary, k, a, b, r):  \n",
    "    lda_model = gensim.models.LdaModel(corpus=corpus,id2word=dictionary, \n",
    "                                       num_topics=k,alpha=a,eta=b, random_state = r,\n",
    "                                           passes = 5) #Use 5 for tuning purposes. Increasing passes will increase coherence score.\n",
    "                                     \n",
    "    \n",
    "    coherence_model_lda = CoherenceModel(model=lda_model, texts=trigram_text_data, dictionary=id2word, coherence='c_v')\n",
    "    \n",
    "    return coherence_model_lda.get_coherence()"
   ]
  },
  {
   "cell_type": "code",
   "execution_count": 339,
   "metadata": {
    "scrolled": true
   },
   "outputs": [
    {
     "name": "stderr",
     "output_type": "stream",
     "text": [
      "/Users/gwengou/opt/anaconda3/lib/python3.7/site-packages/ipykernel_launcher.py:25: TqdmDeprecationWarning: This function will be removed in tqdm==5.0.0\n",
      "Please use `tqdm.notebook.tqdm` instead of `tqdm.tqdm_notebook`\n"
     ]
    },
    {
     "data": {
      "application/vnd.jupyter.widget-view+json": {
       "model_id": "1ddc565e103641d692883b19943fdca9",
       "version_major": 2,
       "version_minor": 0
      },
      "text/plain": [
       "HBox(children=(FloatProgress(value=0.0, max=9.0), HTML(value='')))"
      ]
     },
     "metadata": {},
     "output_type": "display_data"
    },
    {
     "name": "stderr",
     "output_type": "stream",
     "text": [
      "/Users/gwengou/opt/anaconda3/lib/python3.7/site-packages/ipykernel_launcher.py:33: TqdmDeprecationWarning: This function will be removed in tqdm==5.0.0\n",
      "Please use `tqdm.notebook.tqdm` instead of `tqdm.tqdm_notebook`\n"
     ]
    },
    {
     "data": {
      "application/vnd.jupyter.widget-view+json": {
       "model_id": "62d559d733894195bc254bf89d8091dc",
       "version_major": 2,
       "version_minor": 0
      },
      "text/plain": [
       "HBox(children=(FloatProgress(value=0.0, description='k loop', max=7.0, style=ProgressStyle(description_width='…"
      ]
     },
     "metadata": {},
     "output_type": "display_data"
    },
    {
     "name": "stderr",
     "output_type": "stream",
     "text": [
      "/Users/gwengou/opt/anaconda3/lib/python3.7/site-packages/ipykernel_launcher.py:35: TqdmDeprecationWarning: This function will be removed in tqdm==5.0.0\n",
      "Please use `tqdm.notebook.tqdm` instead of `tqdm.tqdm_notebook`\n"
     ]
    },
    {
     "data": {
      "application/vnd.jupyter.widget-view+json": {
       "model_id": "22b1c4ca1c024096ba42282da202b9f3",
       "version_major": 2,
       "version_minor": 0
      },
      "text/plain": [
       "HBox(children=(FloatProgress(value=0.0, description='alpha loop', max=3.0, style=ProgressStyle(description_wid…"
      ]
     },
     "metadata": {},
     "output_type": "display_data"
    },
    {
     "name": "stderr",
     "output_type": "stream",
     "text": [
      "/Users/gwengou/opt/anaconda3/lib/python3.7/site-packages/ipykernel_launcher.py:37: TqdmDeprecationWarning: This function will be removed in tqdm==5.0.0\n",
      "Please use `tqdm.notebook.tqdm` instead of `tqdm.tqdm_notebook`\n"
     ]
    },
    {
     "data": {
      "application/vnd.jupyter.widget-view+json": {
       "model_id": "51293a489ec4481891b6324cd59c96ad",
       "version_major": 2,
       "version_minor": 0
      },
      "text/plain": [
       "HBox(children=(FloatProgress(value=0.0, description='beta loop', max=6.0, style=ProgressStyle(description_widt…"
      ]
     },
     "metadata": {},
     "output_type": "display_data"
    },
    {
     "name": "stdout",
     "output_type": "stream",
     "text": [
      "\n"
     ]
    },
    {
     "name": "stderr",
     "output_type": "stream",
     "text": [
      "/Users/gwengou/opt/anaconda3/lib/python3.7/site-packages/ipykernel_launcher.py:37: TqdmDeprecationWarning: This function will be removed in tqdm==5.0.0\n",
      "Please use `tqdm.notebook.tqdm` instead of `tqdm.tqdm_notebook`\n"
     ]
    },
    {
     "data": {
      "application/vnd.jupyter.widget-view+json": {
       "model_id": "d1f8962f1e464222ba513e537327cdf8",
       "version_major": 2,
       "version_minor": 0
      },
      "text/plain": [
       "HBox(children=(FloatProgress(value=0.0, description='beta loop', max=6.0, style=ProgressStyle(description_widt…"
      ]
     },
     "metadata": {},
     "output_type": "display_data"
    },
    {
     "name": "stdout",
     "output_type": "stream",
     "text": [
      "\n"
     ]
    },
    {
     "name": "stderr",
     "output_type": "stream",
     "text": [
      "/Users/gwengou/opt/anaconda3/lib/python3.7/site-packages/ipykernel_launcher.py:37: TqdmDeprecationWarning: This function will be removed in tqdm==5.0.0\n",
      "Please use `tqdm.notebook.tqdm` instead of `tqdm.tqdm_notebook`\n"
     ]
    },
    {
     "data": {
      "application/vnd.jupyter.widget-view+json": {
       "model_id": "4fa031ba446b4e1a8683c4b20cb78556",
       "version_major": 2,
       "version_minor": 0
      },
      "text/plain": [
       "HBox(children=(FloatProgress(value=0.0, description='beta loop', max=6.0, style=ProgressStyle(description_widt…"
      ]
     },
     "metadata": {},
     "output_type": "display_data"
    },
    {
     "name": "stdout",
     "output_type": "stream",
     "text": [
      "\n",
      "\n"
     ]
    },
    {
     "name": "stderr",
     "output_type": "stream",
     "text": [
      "/Users/gwengou/opt/anaconda3/lib/python3.7/site-packages/ipykernel_launcher.py:35: TqdmDeprecationWarning: This function will be removed in tqdm==5.0.0\n",
      "Please use `tqdm.notebook.tqdm` instead of `tqdm.tqdm_notebook`\n"
     ]
    },
    {
     "data": {
      "application/vnd.jupyter.widget-view+json": {
       "model_id": "90bed3000c854ed5ad5a064dba3682e0",
       "version_major": 2,
       "version_minor": 0
      },
      "text/plain": [
       "HBox(children=(FloatProgress(value=0.0, description='alpha loop', max=3.0, style=ProgressStyle(description_wid…"
      ]
     },
     "metadata": {},
     "output_type": "display_data"
    },
    {
     "name": "stderr",
     "output_type": "stream",
     "text": [
      "/Users/gwengou/opt/anaconda3/lib/python3.7/site-packages/ipykernel_launcher.py:37: TqdmDeprecationWarning: This function will be removed in tqdm==5.0.0\n",
      "Please use `tqdm.notebook.tqdm` instead of `tqdm.tqdm_notebook`\n"
     ]
    },
    {
     "data": {
      "application/vnd.jupyter.widget-view+json": {
       "model_id": "bb8b3bca7e9c47258974f06732e35e5d",
       "version_major": 2,
       "version_minor": 0
      },
      "text/plain": [
       "HBox(children=(FloatProgress(value=0.0, description='beta loop', max=6.0, style=ProgressStyle(description_widt…"
      ]
     },
     "metadata": {},
     "output_type": "display_data"
    },
    {
     "name": "stdout",
     "output_type": "stream",
     "text": [
      "\n"
     ]
    },
    {
     "name": "stderr",
     "output_type": "stream",
     "text": [
      "/Users/gwengou/opt/anaconda3/lib/python3.7/site-packages/ipykernel_launcher.py:37: TqdmDeprecationWarning: This function will be removed in tqdm==5.0.0\n",
      "Please use `tqdm.notebook.tqdm` instead of `tqdm.tqdm_notebook`\n"
     ]
    },
    {
     "data": {
      "application/vnd.jupyter.widget-view+json": {
       "model_id": "aabf04e2b92649d1897a28cd6282f178",
       "version_major": 2,
       "version_minor": 0
      },
      "text/plain": [
       "HBox(children=(FloatProgress(value=0.0, description='beta loop', max=6.0, style=ProgressStyle(description_widt…"
      ]
     },
     "metadata": {},
     "output_type": "display_data"
    },
    {
     "name": "stdout",
     "output_type": "stream",
     "text": [
      "\n"
     ]
    },
    {
     "name": "stderr",
     "output_type": "stream",
     "text": [
      "/Users/gwengou/opt/anaconda3/lib/python3.7/site-packages/ipykernel_launcher.py:37: TqdmDeprecationWarning: This function will be removed in tqdm==5.0.0\n",
      "Please use `tqdm.notebook.tqdm` instead of `tqdm.tqdm_notebook`\n"
     ]
    },
    {
     "data": {
      "application/vnd.jupyter.widget-view+json": {
       "model_id": "6887d607775f46179dd385f7311797bc",
       "version_major": 2,
       "version_minor": 0
      },
      "text/plain": [
       "HBox(children=(FloatProgress(value=0.0, description='beta loop', max=6.0, style=ProgressStyle(description_widt…"
      ]
     },
     "metadata": {},
     "output_type": "display_data"
    },
    {
     "name": "stdout",
     "output_type": "stream",
     "text": [
      "\n",
      "\n"
     ]
    },
    {
     "name": "stderr",
     "output_type": "stream",
     "text": [
      "/Users/gwengou/opt/anaconda3/lib/python3.7/site-packages/ipykernel_launcher.py:35: TqdmDeprecationWarning: This function will be removed in tqdm==5.0.0\n",
      "Please use `tqdm.notebook.tqdm` instead of `tqdm.tqdm_notebook`\n"
     ]
    },
    {
     "data": {
      "application/vnd.jupyter.widget-view+json": {
       "model_id": "6dc5d84634b144ac88bf739cc2f533f8",
       "version_major": 2,
       "version_minor": 0
      },
      "text/plain": [
       "HBox(children=(FloatProgress(value=0.0, description='alpha loop', max=3.0, style=ProgressStyle(description_wid…"
      ]
     },
     "metadata": {},
     "output_type": "display_data"
    },
    {
     "name": "stderr",
     "output_type": "stream",
     "text": [
      "/Users/gwengou/opt/anaconda3/lib/python3.7/site-packages/ipykernel_launcher.py:37: TqdmDeprecationWarning: This function will be removed in tqdm==5.0.0\n",
      "Please use `tqdm.notebook.tqdm` instead of `tqdm.tqdm_notebook`\n"
     ]
    },
    {
     "data": {
      "application/vnd.jupyter.widget-view+json": {
       "model_id": "ecdd8fce0a3540d9955140ffb4d9f5fe",
       "version_major": 2,
       "version_minor": 0
      },
      "text/plain": [
       "HBox(children=(FloatProgress(value=0.0, description='beta loop', max=6.0, style=ProgressStyle(description_widt…"
      ]
     },
     "metadata": {},
     "output_type": "display_data"
    },
    {
     "name": "stdout",
     "output_type": "stream",
     "text": [
      "\n"
     ]
    },
    {
     "name": "stderr",
     "output_type": "stream",
     "text": [
      "/Users/gwengou/opt/anaconda3/lib/python3.7/site-packages/ipykernel_launcher.py:37: TqdmDeprecationWarning: This function will be removed in tqdm==5.0.0\n",
      "Please use `tqdm.notebook.tqdm` instead of `tqdm.tqdm_notebook`\n"
     ]
    },
    {
     "data": {
      "application/vnd.jupyter.widget-view+json": {
       "model_id": "3d9d5f84e7f948b6904e38f60d55fa5a",
       "version_major": 2,
       "version_minor": 0
      },
      "text/plain": [
       "HBox(children=(FloatProgress(value=0.0, description='beta loop', max=6.0, style=ProgressStyle(description_widt…"
      ]
     },
     "metadata": {},
     "output_type": "display_data"
    },
    {
     "name": "stdout",
     "output_type": "stream",
     "text": [
      "\n"
     ]
    },
    {
     "name": "stderr",
     "output_type": "stream",
     "text": [
      "/Users/gwengou/opt/anaconda3/lib/python3.7/site-packages/ipykernel_launcher.py:37: TqdmDeprecationWarning: This function will be removed in tqdm==5.0.0\n",
      "Please use `tqdm.notebook.tqdm` instead of `tqdm.tqdm_notebook`\n"
     ]
    },
    {
     "data": {
      "application/vnd.jupyter.widget-view+json": {
       "model_id": "991c17b135f1448398969e976a14a80f",
       "version_major": 2,
       "version_minor": 0
      },
      "text/plain": [
       "HBox(children=(FloatProgress(value=0.0, description='beta loop', max=6.0, style=ProgressStyle(description_widt…"
      ]
     },
     "metadata": {},
     "output_type": "display_data"
    },
    {
     "name": "stdout",
     "output_type": "stream",
     "text": [
      "\n",
      "\n"
     ]
    },
    {
     "name": "stderr",
     "output_type": "stream",
     "text": [
      "/Users/gwengou/opt/anaconda3/lib/python3.7/site-packages/ipykernel_launcher.py:35: TqdmDeprecationWarning: This function will be removed in tqdm==5.0.0\n",
      "Please use `tqdm.notebook.tqdm` instead of `tqdm.tqdm_notebook`\n"
     ]
    },
    {
     "data": {
      "application/vnd.jupyter.widget-view+json": {
       "model_id": "fafd4a64b65d443494e86d3de0a21aaf",
       "version_major": 2,
       "version_minor": 0
      },
      "text/plain": [
       "HBox(children=(FloatProgress(value=0.0, description='alpha loop', max=3.0, style=ProgressStyle(description_wid…"
      ]
     },
     "metadata": {},
     "output_type": "display_data"
    },
    {
     "name": "stderr",
     "output_type": "stream",
     "text": [
      "/Users/gwengou/opt/anaconda3/lib/python3.7/site-packages/ipykernel_launcher.py:37: TqdmDeprecationWarning: This function will be removed in tqdm==5.0.0\n",
      "Please use `tqdm.notebook.tqdm` instead of `tqdm.tqdm_notebook`\n"
     ]
    },
    {
     "data": {
      "application/vnd.jupyter.widget-view+json": {
       "model_id": "cb1b601d561148b98875189d6754571b",
       "version_major": 2,
       "version_minor": 0
      },
      "text/plain": [
       "HBox(children=(FloatProgress(value=0.0, description='beta loop', max=6.0, style=ProgressStyle(description_widt…"
      ]
     },
     "metadata": {},
     "output_type": "display_data"
    },
    {
     "name": "stdout",
     "output_type": "stream",
     "text": [
      "\n"
     ]
    },
    {
     "name": "stderr",
     "output_type": "stream",
     "text": [
      "/Users/gwengou/opt/anaconda3/lib/python3.7/site-packages/ipykernel_launcher.py:37: TqdmDeprecationWarning: This function will be removed in tqdm==5.0.0\n",
      "Please use `tqdm.notebook.tqdm` instead of `tqdm.tqdm_notebook`\n"
     ]
    },
    {
     "data": {
      "application/vnd.jupyter.widget-view+json": {
       "model_id": "1ac5a277f0b34ce8a02e0d6df32c7aba",
       "version_major": 2,
       "version_minor": 0
      },
      "text/plain": [
       "HBox(children=(FloatProgress(value=0.0, description='beta loop', max=6.0, style=ProgressStyle(description_widt…"
      ]
     },
     "metadata": {},
     "output_type": "display_data"
    },
    {
     "name": "stdout",
     "output_type": "stream",
     "text": [
      "\n"
     ]
    },
    {
     "name": "stderr",
     "output_type": "stream",
     "text": [
      "/Users/gwengou/opt/anaconda3/lib/python3.7/site-packages/ipykernel_launcher.py:37: TqdmDeprecationWarning: This function will be removed in tqdm==5.0.0\n",
      "Please use `tqdm.notebook.tqdm` instead of `tqdm.tqdm_notebook`\n"
     ]
    },
    {
     "data": {
      "application/vnd.jupyter.widget-view+json": {
       "model_id": "f7dea80fe12747f2a27e92f91c19f88b",
       "version_major": 2,
       "version_minor": 0
      },
      "text/plain": [
       "HBox(children=(FloatProgress(value=0.0, description='beta loop', max=6.0, style=ProgressStyle(description_widt…"
      ]
     },
     "metadata": {},
     "output_type": "display_data"
    },
    {
     "name": "stdout",
     "output_type": "stream",
     "text": [
      "\n",
      "\n"
     ]
    },
    {
     "name": "stderr",
     "output_type": "stream",
     "text": [
      "/Users/gwengou/opt/anaconda3/lib/python3.7/site-packages/ipykernel_launcher.py:35: TqdmDeprecationWarning: This function will be removed in tqdm==5.0.0\n",
      "Please use `tqdm.notebook.tqdm` instead of `tqdm.tqdm_notebook`\n"
     ]
    },
    {
     "data": {
      "application/vnd.jupyter.widget-view+json": {
       "model_id": "ccc5048e2d4546f190e0ee5ceb46a08c",
       "version_major": 2,
       "version_minor": 0
      },
      "text/plain": [
       "HBox(children=(FloatProgress(value=0.0, description='alpha loop', max=3.0, style=ProgressStyle(description_wid…"
      ]
     },
     "metadata": {},
     "output_type": "display_data"
    },
    {
     "name": "stderr",
     "output_type": "stream",
     "text": [
      "/Users/gwengou/opt/anaconda3/lib/python3.7/site-packages/ipykernel_launcher.py:37: TqdmDeprecationWarning: This function will be removed in tqdm==5.0.0\n",
      "Please use `tqdm.notebook.tqdm` instead of `tqdm.tqdm_notebook`\n"
     ]
    },
    {
     "data": {
      "application/vnd.jupyter.widget-view+json": {
       "model_id": "d830ac945f2b42a1b20af6bb5ab083ea",
       "version_major": 2,
       "version_minor": 0
      },
      "text/plain": [
       "HBox(children=(FloatProgress(value=0.0, description='beta loop', max=6.0, style=ProgressStyle(description_widt…"
      ]
     },
     "metadata": {},
     "output_type": "display_data"
    },
    {
     "name": "stdout",
     "output_type": "stream",
     "text": [
      "\n"
     ]
    },
    {
     "name": "stderr",
     "output_type": "stream",
     "text": [
      "/Users/gwengou/opt/anaconda3/lib/python3.7/site-packages/ipykernel_launcher.py:37: TqdmDeprecationWarning: This function will be removed in tqdm==5.0.0\n",
      "Please use `tqdm.notebook.tqdm` instead of `tqdm.tqdm_notebook`\n"
     ]
    },
    {
     "data": {
      "application/vnd.jupyter.widget-view+json": {
       "model_id": "c2a1c4ca0390490ab24ee2877478110b",
       "version_major": 2,
       "version_minor": 0
      },
      "text/plain": [
       "HBox(children=(FloatProgress(value=0.0, description='beta loop', max=6.0, style=ProgressStyle(description_widt…"
      ]
     },
     "metadata": {},
     "output_type": "display_data"
    },
    {
     "name": "stdout",
     "output_type": "stream",
     "text": [
      "\n"
     ]
    },
    {
     "name": "stderr",
     "output_type": "stream",
     "text": [
      "/Users/gwengou/opt/anaconda3/lib/python3.7/site-packages/ipykernel_launcher.py:37: TqdmDeprecationWarning: This function will be removed in tqdm==5.0.0\n",
      "Please use `tqdm.notebook.tqdm` instead of `tqdm.tqdm_notebook`\n"
     ]
    },
    {
     "data": {
      "application/vnd.jupyter.widget-view+json": {
       "model_id": "db2a5c51a9f043879a18248542bc7d7c",
       "version_major": 2,
       "version_minor": 0
      },
      "text/plain": [
       "HBox(children=(FloatProgress(value=0.0, description='beta loop', max=6.0, style=ProgressStyle(description_widt…"
      ]
     },
     "metadata": {},
     "output_type": "display_data"
    },
    {
     "name": "stdout",
     "output_type": "stream",
     "text": [
      "\n",
      "\n"
     ]
    },
    {
     "name": "stderr",
     "output_type": "stream",
     "text": [
      "/Users/gwengou/opt/anaconda3/lib/python3.7/site-packages/ipykernel_launcher.py:35: TqdmDeprecationWarning: This function will be removed in tqdm==5.0.0\n",
      "Please use `tqdm.notebook.tqdm` instead of `tqdm.tqdm_notebook`\n"
     ]
    },
    {
     "data": {
      "application/vnd.jupyter.widget-view+json": {
       "model_id": "3148e62fa1454aa9a46857582e1025d5",
       "version_major": 2,
       "version_minor": 0
      },
      "text/plain": [
       "HBox(children=(FloatProgress(value=0.0, description='alpha loop', max=3.0, style=ProgressStyle(description_wid…"
      ]
     },
     "metadata": {},
     "output_type": "display_data"
    },
    {
     "name": "stderr",
     "output_type": "stream",
     "text": [
      "/Users/gwengou/opt/anaconda3/lib/python3.7/site-packages/ipykernel_launcher.py:37: TqdmDeprecationWarning: This function will be removed in tqdm==5.0.0\n",
      "Please use `tqdm.notebook.tqdm` instead of `tqdm.tqdm_notebook`\n"
     ]
    },
    {
     "data": {
      "application/vnd.jupyter.widget-view+json": {
       "model_id": "4a6490710a7b41038a0f7a6ff72b187f",
       "version_major": 2,
       "version_minor": 0
      },
      "text/plain": [
       "HBox(children=(FloatProgress(value=0.0, description='beta loop', max=6.0, style=ProgressStyle(description_widt…"
      ]
     },
     "metadata": {},
     "output_type": "display_data"
    },
    {
     "name": "stdout",
     "output_type": "stream",
     "text": [
      "\n"
     ]
    },
    {
     "name": "stderr",
     "output_type": "stream",
     "text": [
      "/Users/gwengou/opt/anaconda3/lib/python3.7/site-packages/ipykernel_launcher.py:37: TqdmDeprecationWarning: This function will be removed in tqdm==5.0.0\n",
      "Please use `tqdm.notebook.tqdm` instead of `tqdm.tqdm_notebook`\n"
     ]
    },
    {
     "data": {
      "application/vnd.jupyter.widget-view+json": {
       "model_id": "b9bbbe2697b1406690a8cd4899240a6c",
       "version_major": 2,
       "version_minor": 0
      },
      "text/plain": [
       "HBox(children=(FloatProgress(value=0.0, description='beta loop', max=6.0, style=ProgressStyle(description_widt…"
      ]
     },
     "metadata": {},
     "output_type": "display_data"
    },
    {
     "name": "stdout",
     "output_type": "stream",
     "text": [
      "\n"
     ]
    },
    {
     "name": "stderr",
     "output_type": "stream",
     "text": [
      "/Users/gwengou/opt/anaconda3/lib/python3.7/site-packages/ipykernel_launcher.py:37: TqdmDeprecationWarning: This function will be removed in tqdm==5.0.0\n",
      "Please use `tqdm.notebook.tqdm` instead of `tqdm.tqdm_notebook`\n"
     ]
    },
    {
     "data": {
      "application/vnd.jupyter.widget-view+json": {
       "model_id": "c3b40dd512f0466b9153ece06fa56bc9",
       "version_major": 2,
       "version_minor": 0
      },
      "text/plain": [
       "HBox(children=(FloatProgress(value=0.0, description='beta loop', max=6.0, style=ProgressStyle(description_widt…"
      ]
     },
     "metadata": {},
     "output_type": "display_data"
    },
    {
     "name": "stdout",
     "output_type": "stream",
     "text": [
      "\n",
      "\n"
     ]
    },
    {
     "name": "stderr",
     "output_type": "stream",
     "text": [
      "/Users/gwengou/opt/anaconda3/lib/python3.7/site-packages/ipykernel_launcher.py:35: TqdmDeprecationWarning: This function will be removed in tqdm==5.0.0\n",
      "Please use `tqdm.notebook.tqdm` instead of `tqdm.tqdm_notebook`\n"
     ]
    },
    {
     "data": {
      "application/vnd.jupyter.widget-view+json": {
       "model_id": "fff624698d83441083e0b39e2c9a2c45",
       "version_major": 2,
       "version_minor": 0
      },
      "text/plain": [
       "HBox(children=(FloatProgress(value=0.0, description='alpha loop', max=3.0, style=ProgressStyle(description_wid…"
      ]
     },
     "metadata": {},
     "output_type": "display_data"
    },
    {
     "name": "stderr",
     "output_type": "stream",
     "text": [
      "/Users/gwengou/opt/anaconda3/lib/python3.7/site-packages/ipykernel_launcher.py:37: TqdmDeprecationWarning: This function will be removed in tqdm==5.0.0\n",
      "Please use `tqdm.notebook.tqdm` instead of `tqdm.tqdm_notebook`\n"
     ]
    },
    {
     "data": {
      "application/vnd.jupyter.widget-view+json": {
       "model_id": "7465619bec744439be132b1ca67f4a3a",
       "version_major": 2,
       "version_minor": 0
      },
      "text/plain": [
       "HBox(children=(FloatProgress(value=0.0, description='beta loop', max=6.0, style=ProgressStyle(description_widt…"
      ]
     },
     "metadata": {},
     "output_type": "display_data"
    },
    {
     "name": "stdout",
     "output_type": "stream",
     "text": [
      "\n"
     ]
    },
    {
     "name": "stderr",
     "output_type": "stream",
     "text": [
      "/Users/gwengou/opt/anaconda3/lib/python3.7/site-packages/ipykernel_launcher.py:37: TqdmDeprecationWarning: This function will be removed in tqdm==5.0.0\n",
      "Please use `tqdm.notebook.tqdm` instead of `tqdm.tqdm_notebook`\n"
     ]
    },
    {
     "data": {
      "application/vnd.jupyter.widget-view+json": {
       "model_id": "8feb7d261036487f89d8fb2c08260d7a",
       "version_major": 2,
       "version_minor": 0
      },
      "text/plain": [
       "HBox(children=(FloatProgress(value=0.0, description='beta loop', max=6.0, style=ProgressStyle(description_widt…"
      ]
     },
     "metadata": {},
     "output_type": "display_data"
    },
    {
     "name": "stdout",
     "output_type": "stream",
     "text": [
      "\n"
     ]
    },
    {
     "name": "stderr",
     "output_type": "stream",
     "text": [
      "/Users/gwengou/opt/anaconda3/lib/python3.7/site-packages/ipykernel_launcher.py:37: TqdmDeprecationWarning: This function will be removed in tqdm==5.0.0\n",
      "Please use `tqdm.notebook.tqdm` instead of `tqdm.tqdm_notebook`\n"
     ]
    },
    {
     "data": {
      "application/vnd.jupyter.widget-view+json": {
       "model_id": "5489b346ec4646728d794c3a107ea292",
       "version_major": 2,
       "version_minor": 0
      },
      "text/plain": [
       "HBox(children=(FloatProgress(value=0.0, description='beta loop', max=6.0, style=ProgressStyle(description_widt…"
      ]
     },
     "metadata": {},
     "output_type": "display_data"
    },
    {
     "name": "stdout",
     "output_type": "stream",
     "text": [
      "\n",
      "\n",
      "\n"
     ]
    },
    {
     "name": "stderr",
     "output_type": "stream",
     "text": [
      "/Users/gwengou/opt/anaconda3/lib/python3.7/site-packages/ipykernel_launcher.py:33: TqdmDeprecationWarning: This function will be removed in tqdm==5.0.0\n",
      "Please use `tqdm.notebook.tqdm` instead of `tqdm.tqdm_notebook`\n"
     ]
    },
    {
     "data": {
      "application/vnd.jupyter.widget-view+json": {
       "model_id": "807d6c0f31d14300951636882beb40f3",
       "version_major": 2,
       "version_minor": 0
      },
      "text/plain": [
       "HBox(children=(FloatProgress(value=0.0, description='k loop', max=7.0, style=ProgressStyle(description_width='…"
      ]
     },
     "metadata": {},
     "output_type": "display_data"
    },
    {
     "name": "stderr",
     "output_type": "stream",
     "text": [
      "/Users/gwengou/opt/anaconda3/lib/python3.7/site-packages/ipykernel_launcher.py:35: TqdmDeprecationWarning: This function will be removed in tqdm==5.0.0\n",
      "Please use `tqdm.notebook.tqdm` instead of `tqdm.tqdm_notebook`\n"
     ]
    },
    {
     "data": {
      "application/vnd.jupyter.widget-view+json": {
       "model_id": "d65e0a5996f448fa87a78237a80d187b",
       "version_major": 2,
       "version_minor": 0
      },
      "text/plain": [
       "HBox(children=(FloatProgress(value=0.0, description='alpha loop', max=3.0, style=ProgressStyle(description_wid…"
      ]
     },
     "metadata": {},
     "output_type": "display_data"
    },
    {
     "name": "stderr",
     "output_type": "stream",
     "text": [
      "/Users/gwengou/opt/anaconda3/lib/python3.7/site-packages/ipykernel_launcher.py:37: TqdmDeprecationWarning: This function will be removed in tqdm==5.0.0\n",
      "Please use `tqdm.notebook.tqdm` instead of `tqdm.tqdm_notebook`\n"
     ]
    },
    {
     "data": {
      "application/vnd.jupyter.widget-view+json": {
       "model_id": "9069452985cd4fa59b21ad25cdf62258",
       "version_major": 2,
       "version_minor": 0
      },
      "text/plain": [
       "HBox(children=(FloatProgress(value=0.0, description='beta loop', max=6.0, style=ProgressStyle(description_widt…"
      ]
     },
     "metadata": {},
     "output_type": "display_data"
    },
    {
     "name": "stdout",
     "output_type": "stream",
     "text": [
      "\n"
     ]
    },
    {
     "name": "stderr",
     "output_type": "stream",
     "text": [
      "/Users/gwengou/opt/anaconda3/lib/python3.7/site-packages/ipykernel_launcher.py:37: TqdmDeprecationWarning: This function will be removed in tqdm==5.0.0\n",
      "Please use `tqdm.notebook.tqdm` instead of `tqdm.tqdm_notebook`\n"
     ]
    },
    {
     "data": {
      "application/vnd.jupyter.widget-view+json": {
       "model_id": "43414817d2e440598ed34a08846ffde5",
       "version_major": 2,
       "version_minor": 0
      },
      "text/plain": [
       "HBox(children=(FloatProgress(value=0.0, description='beta loop', max=6.0, style=ProgressStyle(description_widt…"
      ]
     },
     "metadata": {},
     "output_type": "display_data"
    },
    {
     "name": "stdout",
     "output_type": "stream",
     "text": [
      "\n"
     ]
    },
    {
     "name": "stderr",
     "output_type": "stream",
     "text": [
      "/Users/gwengou/opt/anaconda3/lib/python3.7/site-packages/ipykernel_launcher.py:37: TqdmDeprecationWarning: This function will be removed in tqdm==5.0.0\n",
      "Please use `tqdm.notebook.tqdm` instead of `tqdm.tqdm_notebook`\n"
     ]
    },
    {
     "data": {
      "application/vnd.jupyter.widget-view+json": {
       "model_id": "a4a2f87b8ea044ed9c6fa28d51a0f0a9",
       "version_major": 2,
       "version_minor": 0
      },
      "text/plain": [
       "HBox(children=(FloatProgress(value=0.0, description='beta loop', max=6.0, style=ProgressStyle(description_widt…"
      ]
     },
     "metadata": {},
     "output_type": "display_data"
    },
    {
     "name": "stdout",
     "output_type": "stream",
     "text": [
      "\n",
      "\n"
     ]
    },
    {
     "name": "stderr",
     "output_type": "stream",
     "text": [
      "/Users/gwengou/opt/anaconda3/lib/python3.7/site-packages/ipykernel_launcher.py:35: TqdmDeprecationWarning: This function will be removed in tqdm==5.0.0\n",
      "Please use `tqdm.notebook.tqdm` instead of `tqdm.tqdm_notebook`\n"
     ]
    },
    {
     "data": {
      "application/vnd.jupyter.widget-view+json": {
       "model_id": "c9e19921ed7b4bf3830fdcd8549cffbb",
       "version_major": 2,
       "version_minor": 0
      },
      "text/plain": [
       "HBox(children=(FloatProgress(value=0.0, description='alpha loop', max=3.0, style=ProgressStyle(description_wid…"
      ]
     },
     "metadata": {},
     "output_type": "display_data"
    },
    {
     "name": "stderr",
     "output_type": "stream",
     "text": [
      "/Users/gwengou/opt/anaconda3/lib/python3.7/site-packages/ipykernel_launcher.py:37: TqdmDeprecationWarning: This function will be removed in tqdm==5.0.0\n",
      "Please use `tqdm.notebook.tqdm` instead of `tqdm.tqdm_notebook`\n"
     ]
    },
    {
     "data": {
      "application/vnd.jupyter.widget-view+json": {
       "model_id": "ff1d92a1b6d647b5865f8b22a552415c",
       "version_major": 2,
       "version_minor": 0
      },
      "text/plain": [
       "HBox(children=(FloatProgress(value=0.0, description='beta loop', max=6.0, style=ProgressStyle(description_widt…"
      ]
     },
     "metadata": {},
     "output_type": "display_data"
    },
    {
     "name": "stdout",
     "output_type": "stream",
     "text": [
      "\n"
     ]
    },
    {
     "name": "stderr",
     "output_type": "stream",
     "text": [
      "/Users/gwengou/opt/anaconda3/lib/python3.7/site-packages/ipykernel_launcher.py:37: TqdmDeprecationWarning: This function will be removed in tqdm==5.0.0\n",
      "Please use `tqdm.notebook.tqdm` instead of `tqdm.tqdm_notebook`\n"
     ]
    },
    {
     "data": {
      "application/vnd.jupyter.widget-view+json": {
       "model_id": "0371b873fa494c5297f744aadfaee42d",
       "version_major": 2,
       "version_minor": 0
      },
      "text/plain": [
       "HBox(children=(FloatProgress(value=0.0, description='beta loop', max=6.0, style=ProgressStyle(description_widt…"
      ]
     },
     "metadata": {},
     "output_type": "display_data"
    },
    {
     "name": "stdout",
     "output_type": "stream",
     "text": [
      "\n"
     ]
    },
    {
     "name": "stderr",
     "output_type": "stream",
     "text": [
      "/Users/gwengou/opt/anaconda3/lib/python3.7/site-packages/ipykernel_launcher.py:37: TqdmDeprecationWarning: This function will be removed in tqdm==5.0.0\n",
      "Please use `tqdm.notebook.tqdm` instead of `tqdm.tqdm_notebook`\n"
     ]
    },
    {
     "data": {
      "application/vnd.jupyter.widget-view+json": {
       "model_id": "8b57d90b78c84ab59950cb6066055751",
       "version_major": 2,
       "version_minor": 0
      },
      "text/plain": [
       "HBox(children=(FloatProgress(value=0.0, description='beta loop', max=6.0, style=ProgressStyle(description_widt…"
      ]
     },
     "metadata": {},
     "output_type": "display_data"
    },
    {
     "name": "stdout",
     "output_type": "stream",
     "text": [
      "\n",
      "\n"
     ]
    },
    {
     "name": "stderr",
     "output_type": "stream",
     "text": [
      "/Users/gwengou/opt/anaconda3/lib/python3.7/site-packages/ipykernel_launcher.py:35: TqdmDeprecationWarning: This function will be removed in tqdm==5.0.0\n",
      "Please use `tqdm.notebook.tqdm` instead of `tqdm.tqdm_notebook`\n"
     ]
    },
    {
     "data": {
      "application/vnd.jupyter.widget-view+json": {
       "model_id": "5db0a380765341a59c4f2f7c4cd939da",
       "version_major": 2,
       "version_minor": 0
      },
      "text/plain": [
       "HBox(children=(FloatProgress(value=0.0, description='alpha loop', max=3.0, style=ProgressStyle(description_wid…"
      ]
     },
     "metadata": {},
     "output_type": "display_data"
    },
    {
     "name": "stderr",
     "output_type": "stream",
     "text": [
      "/Users/gwengou/opt/anaconda3/lib/python3.7/site-packages/ipykernel_launcher.py:37: TqdmDeprecationWarning: This function will be removed in tqdm==5.0.0\n",
      "Please use `tqdm.notebook.tqdm` instead of `tqdm.tqdm_notebook`\n"
     ]
    },
    {
     "data": {
      "application/vnd.jupyter.widget-view+json": {
       "model_id": "db72651770bd4d2582e8998e8f9ba193",
       "version_major": 2,
       "version_minor": 0
      },
      "text/plain": [
       "HBox(children=(FloatProgress(value=0.0, description='beta loop', max=6.0, style=ProgressStyle(description_widt…"
      ]
     },
     "metadata": {},
     "output_type": "display_data"
    },
    {
     "name": "stdout",
     "output_type": "stream",
     "text": [
      "\n"
     ]
    },
    {
     "name": "stderr",
     "output_type": "stream",
     "text": [
      "/Users/gwengou/opt/anaconda3/lib/python3.7/site-packages/ipykernel_launcher.py:37: TqdmDeprecationWarning: This function will be removed in tqdm==5.0.0\n",
      "Please use `tqdm.notebook.tqdm` instead of `tqdm.tqdm_notebook`\n"
     ]
    },
    {
     "data": {
      "application/vnd.jupyter.widget-view+json": {
       "model_id": "acebf1d757694bb0b62616aab7a1786a",
       "version_major": 2,
       "version_minor": 0
      },
      "text/plain": [
       "HBox(children=(FloatProgress(value=0.0, description='beta loop', max=6.0, style=ProgressStyle(description_widt…"
      ]
     },
     "metadata": {},
     "output_type": "display_data"
    },
    {
     "name": "stdout",
     "output_type": "stream",
     "text": [
      "\n"
     ]
    },
    {
     "name": "stderr",
     "output_type": "stream",
     "text": [
      "/Users/gwengou/opt/anaconda3/lib/python3.7/site-packages/ipykernel_launcher.py:37: TqdmDeprecationWarning: This function will be removed in tqdm==5.0.0\n",
      "Please use `tqdm.notebook.tqdm` instead of `tqdm.tqdm_notebook`\n"
     ]
    },
    {
     "data": {
      "application/vnd.jupyter.widget-view+json": {
       "model_id": "34d50a9b73c849f4b51653c398420266",
       "version_major": 2,
       "version_minor": 0
      },
      "text/plain": [
       "HBox(children=(FloatProgress(value=0.0, description='beta loop', max=6.0, style=ProgressStyle(description_widt…"
      ]
     },
     "metadata": {},
     "output_type": "display_data"
    },
    {
     "name": "stdout",
     "output_type": "stream",
     "text": [
      "\n",
      "\n"
     ]
    },
    {
     "name": "stderr",
     "output_type": "stream",
     "text": [
      "/Users/gwengou/opt/anaconda3/lib/python3.7/site-packages/ipykernel_launcher.py:35: TqdmDeprecationWarning: This function will be removed in tqdm==5.0.0\n",
      "Please use `tqdm.notebook.tqdm` instead of `tqdm.tqdm_notebook`\n"
     ]
    },
    {
     "data": {
      "application/vnd.jupyter.widget-view+json": {
       "model_id": "10708433319c4506be7c2234e3911f6d",
       "version_major": 2,
       "version_minor": 0
      },
      "text/plain": [
       "HBox(children=(FloatProgress(value=0.0, description='alpha loop', max=3.0, style=ProgressStyle(description_wid…"
      ]
     },
     "metadata": {},
     "output_type": "display_data"
    },
    {
     "name": "stderr",
     "output_type": "stream",
     "text": [
      "/Users/gwengou/opt/anaconda3/lib/python3.7/site-packages/ipykernel_launcher.py:37: TqdmDeprecationWarning: This function will be removed in tqdm==5.0.0\n",
      "Please use `tqdm.notebook.tqdm` instead of `tqdm.tqdm_notebook`\n"
     ]
    },
    {
     "data": {
      "application/vnd.jupyter.widget-view+json": {
       "model_id": "57f4b46cd793412aac401e43a0c06f87",
       "version_major": 2,
       "version_minor": 0
      },
      "text/plain": [
       "HBox(children=(FloatProgress(value=0.0, description='beta loop', max=6.0, style=ProgressStyle(description_widt…"
      ]
     },
     "metadata": {},
     "output_type": "display_data"
    },
    {
     "name": "stdout",
     "output_type": "stream",
     "text": [
      "\n"
     ]
    },
    {
     "name": "stderr",
     "output_type": "stream",
     "text": [
      "/Users/gwengou/opt/anaconda3/lib/python3.7/site-packages/ipykernel_launcher.py:37: TqdmDeprecationWarning: This function will be removed in tqdm==5.0.0\n",
      "Please use `tqdm.notebook.tqdm` instead of `tqdm.tqdm_notebook`\n"
     ]
    },
    {
     "data": {
      "application/vnd.jupyter.widget-view+json": {
       "model_id": "29ee07ff40d944ba97ab4d47bb3d7860",
       "version_major": 2,
       "version_minor": 0
      },
      "text/plain": [
       "HBox(children=(FloatProgress(value=0.0, description='beta loop', max=6.0, style=ProgressStyle(description_widt…"
      ]
     },
     "metadata": {},
     "output_type": "display_data"
    },
    {
     "name": "stdout",
     "output_type": "stream",
     "text": [
      "\n"
     ]
    },
    {
     "name": "stderr",
     "output_type": "stream",
     "text": [
      "/Users/gwengou/opt/anaconda3/lib/python3.7/site-packages/ipykernel_launcher.py:37: TqdmDeprecationWarning: This function will be removed in tqdm==5.0.0\n",
      "Please use `tqdm.notebook.tqdm` instead of `tqdm.tqdm_notebook`\n"
     ]
    },
    {
     "data": {
      "application/vnd.jupyter.widget-view+json": {
       "model_id": "95fb2e609ee04c579a95e5aceb272514",
       "version_major": 2,
       "version_minor": 0
      },
      "text/plain": [
       "HBox(children=(FloatProgress(value=0.0, description='beta loop', max=6.0, style=ProgressStyle(description_widt…"
      ]
     },
     "metadata": {},
     "output_type": "display_data"
    },
    {
     "name": "stdout",
     "output_type": "stream",
     "text": [
      "\n",
      "\n"
     ]
    },
    {
     "name": "stderr",
     "output_type": "stream",
     "text": [
      "/Users/gwengou/opt/anaconda3/lib/python3.7/site-packages/ipykernel_launcher.py:35: TqdmDeprecationWarning: This function will be removed in tqdm==5.0.0\n",
      "Please use `tqdm.notebook.tqdm` instead of `tqdm.tqdm_notebook`\n"
     ]
    },
    {
     "data": {
      "application/vnd.jupyter.widget-view+json": {
       "model_id": "0de677a7b1544633abd16803e52ef5cc",
       "version_major": 2,
       "version_minor": 0
      },
      "text/plain": [
       "HBox(children=(FloatProgress(value=0.0, description='alpha loop', max=3.0, style=ProgressStyle(description_wid…"
      ]
     },
     "metadata": {},
     "output_type": "display_data"
    },
    {
     "name": "stderr",
     "output_type": "stream",
     "text": [
      "/Users/gwengou/opt/anaconda3/lib/python3.7/site-packages/ipykernel_launcher.py:37: TqdmDeprecationWarning: This function will be removed in tqdm==5.0.0\n",
      "Please use `tqdm.notebook.tqdm` instead of `tqdm.tqdm_notebook`\n"
     ]
    },
    {
     "data": {
      "application/vnd.jupyter.widget-view+json": {
       "model_id": "5d33a8872a704e40b28764772383e222",
       "version_major": 2,
       "version_minor": 0
      },
      "text/plain": [
       "HBox(children=(FloatProgress(value=0.0, description='beta loop', max=6.0, style=ProgressStyle(description_widt…"
      ]
     },
     "metadata": {},
     "output_type": "display_data"
    },
    {
     "name": "stdout",
     "output_type": "stream",
     "text": [
      "\n"
     ]
    },
    {
     "name": "stderr",
     "output_type": "stream",
     "text": [
      "/Users/gwengou/opt/anaconda3/lib/python3.7/site-packages/ipykernel_launcher.py:37: TqdmDeprecationWarning: This function will be removed in tqdm==5.0.0\n",
      "Please use `tqdm.notebook.tqdm` instead of `tqdm.tqdm_notebook`\n"
     ]
    },
    {
     "data": {
      "application/vnd.jupyter.widget-view+json": {
       "model_id": "8ec687bb4bbb44d0b7c21defb2a12de4",
       "version_major": 2,
       "version_minor": 0
      },
      "text/plain": [
       "HBox(children=(FloatProgress(value=0.0, description='beta loop', max=6.0, style=ProgressStyle(description_widt…"
      ]
     },
     "metadata": {},
     "output_type": "display_data"
    },
    {
     "name": "stdout",
     "output_type": "stream",
     "text": [
      "\n"
     ]
    },
    {
     "name": "stderr",
     "output_type": "stream",
     "text": [
      "/Users/gwengou/opt/anaconda3/lib/python3.7/site-packages/ipykernel_launcher.py:37: TqdmDeprecationWarning: This function will be removed in tqdm==5.0.0\n",
      "Please use `tqdm.notebook.tqdm` instead of `tqdm.tqdm_notebook`\n"
     ]
    },
    {
     "data": {
      "application/vnd.jupyter.widget-view+json": {
       "model_id": "8f798b9baf3f4e0fb0c9965e7073aa78",
       "version_major": 2,
       "version_minor": 0
      },
      "text/plain": [
       "HBox(children=(FloatProgress(value=0.0, description='beta loop', max=6.0, style=ProgressStyle(description_widt…"
      ]
     },
     "metadata": {},
     "output_type": "display_data"
    },
    {
     "name": "stdout",
     "output_type": "stream",
     "text": [
      "\n",
      "\n"
     ]
    },
    {
     "name": "stderr",
     "output_type": "stream",
     "text": [
      "/Users/gwengou/opt/anaconda3/lib/python3.7/site-packages/ipykernel_launcher.py:35: TqdmDeprecationWarning: This function will be removed in tqdm==5.0.0\n",
      "Please use `tqdm.notebook.tqdm` instead of `tqdm.tqdm_notebook`\n"
     ]
    },
    {
     "data": {
      "application/vnd.jupyter.widget-view+json": {
       "model_id": "47dc1eada0b8411aad91984b023df8f5",
       "version_major": 2,
       "version_minor": 0
      },
      "text/plain": [
       "HBox(children=(FloatProgress(value=0.0, description='alpha loop', max=3.0, style=ProgressStyle(description_wid…"
      ]
     },
     "metadata": {},
     "output_type": "display_data"
    },
    {
     "name": "stderr",
     "output_type": "stream",
     "text": [
      "/Users/gwengou/opt/anaconda3/lib/python3.7/site-packages/ipykernel_launcher.py:37: TqdmDeprecationWarning: This function will be removed in tqdm==5.0.0\n",
      "Please use `tqdm.notebook.tqdm` instead of `tqdm.tqdm_notebook`\n"
     ]
    },
    {
     "data": {
      "application/vnd.jupyter.widget-view+json": {
       "model_id": "b08549ff79104c668ef326d451d0dbbd",
       "version_major": 2,
       "version_minor": 0
      },
      "text/plain": [
       "HBox(children=(FloatProgress(value=0.0, description='beta loop', max=6.0, style=ProgressStyle(description_widt…"
      ]
     },
     "metadata": {},
     "output_type": "display_data"
    },
    {
     "name": "stdout",
     "output_type": "stream",
     "text": [
      "\n"
     ]
    },
    {
     "name": "stderr",
     "output_type": "stream",
     "text": [
      "/Users/gwengou/opt/anaconda3/lib/python3.7/site-packages/ipykernel_launcher.py:37: TqdmDeprecationWarning: This function will be removed in tqdm==5.0.0\n",
      "Please use `tqdm.notebook.tqdm` instead of `tqdm.tqdm_notebook`\n"
     ]
    },
    {
     "data": {
      "application/vnd.jupyter.widget-view+json": {
       "model_id": "03ddcc1629c847f780ae9a819d694f07",
       "version_major": 2,
       "version_minor": 0
      },
      "text/plain": [
       "HBox(children=(FloatProgress(value=0.0, description='beta loop', max=6.0, style=ProgressStyle(description_widt…"
      ]
     },
     "metadata": {},
     "output_type": "display_data"
    },
    {
     "name": "stdout",
     "output_type": "stream",
     "text": [
      "\n"
     ]
    },
    {
     "name": "stderr",
     "output_type": "stream",
     "text": [
      "/Users/gwengou/opt/anaconda3/lib/python3.7/site-packages/ipykernel_launcher.py:37: TqdmDeprecationWarning: This function will be removed in tqdm==5.0.0\n",
      "Please use `tqdm.notebook.tqdm` instead of `tqdm.tqdm_notebook`\n"
     ]
    },
    {
     "data": {
      "application/vnd.jupyter.widget-view+json": {
       "model_id": "a73fbd7d10874ff3973454ee077097e6",
       "version_major": 2,
       "version_minor": 0
      },
      "text/plain": [
       "HBox(children=(FloatProgress(value=0.0, description='beta loop', max=6.0, style=ProgressStyle(description_widt…"
      ]
     },
     "metadata": {},
     "output_type": "display_data"
    },
    {
     "name": "stdout",
     "output_type": "stream",
     "text": [
      "\n",
      "\n"
     ]
    },
    {
     "name": "stderr",
     "output_type": "stream",
     "text": [
      "/Users/gwengou/opt/anaconda3/lib/python3.7/site-packages/ipykernel_launcher.py:35: TqdmDeprecationWarning: This function will be removed in tqdm==5.0.0\n",
      "Please use `tqdm.notebook.tqdm` instead of `tqdm.tqdm_notebook`\n"
     ]
    },
    {
     "data": {
      "application/vnd.jupyter.widget-view+json": {
       "model_id": "1b87eec6c26f44668ed34e24578ab8f8",
       "version_major": 2,
       "version_minor": 0
      },
      "text/plain": [
       "HBox(children=(FloatProgress(value=0.0, description='alpha loop', max=3.0, style=ProgressStyle(description_wid…"
      ]
     },
     "metadata": {},
     "output_type": "display_data"
    },
    {
     "name": "stderr",
     "output_type": "stream",
     "text": [
      "/Users/gwengou/opt/anaconda3/lib/python3.7/site-packages/ipykernel_launcher.py:37: TqdmDeprecationWarning: This function will be removed in tqdm==5.0.0\n",
      "Please use `tqdm.notebook.tqdm` instead of `tqdm.tqdm_notebook`\n"
     ]
    },
    {
     "data": {
      "application/vnd.jupyter.widget-view+json": {
       "model_id": "467bef653cd045a3815a1b2087be5523",
       "version_major": 2,
       "version_minor": 0
      },
      "text/plain": [
       "HBox(children=(FloatProgress(value=0.0, description='beta loop', max=6.0, style=ProgressStyle(description_widt…"
      ]
     },
     "metadata": {},
     "output_type": "display_data"
    },
    {
     "name": "stdout",
     "output_type": "stream",
     "text": [
      "\n"
     ]
    },
    {
     "name": "stderr",
     "output_type": "stream",
     "text": [
      "/Users/gwengou/opt/anaconda3/lib/python3.7/site-packages/ipykernel_launcher.py:37: TqdmDeprecationWarning: This function will be removed in tqdm==5.0.0\n",
      "Please use `tqdm.notebook.tqdm` instead of `tqdm.tqdm_notebook`\n"
     ]
    },
    {
     "data": {
      "application/vnd.jupyter.widget-view+json": {
       "model_id": "7770bd25e1d549059abd197336d05bdb",
       "version_major": 2,
       "version_minor": 0
      },
      "text/plain": [
       "HBox(children=(FloatProgress(value=0.0, description='beta loop', max=6.0, style=ProgressStyle(description_widt…"
      ]
     },
     "metadata": {},
     "output_type": "display_data"
    },
    {
     "name": "stdout",
     "output_type": "stream",
     "text": [
      "\n"
     ]
    },
    {
     "name": "stderr",
     "output_type": "stream",
     "text": [
      "/Users/gwengou/opt/anaconda3/lib/python3.7/site-packages/ipykernel_launcher.py:37: TqdmDeprecationWarning: This function will be removed in tqdm==5.0.0\n",
      "Please use `tqdm.notebook.tqdm` instead of `tqdm.tqdm_notebook`\n"
     ]
    },
    {
     "data": {
      "application/vnd.jupyter.widget-view+json": {
       "model_id": "1413d070319544c29908ff938240447c",
       "version_major": 2,
       "version_minor": 0
      },
      "text/plain": [
       "HBox(children=(FloatProgress(value=0.0, description='beta loop', max=6.0, style=ProgressStyle(description_widt…"
      ]
     },
     "metadata": {},
     "output_type": "display_data"
    },
    {
     "name": "stdout",
     "output_type": "stream",
     "text": [
      "\n",
      "\n",
      "\n"
     ]
    },
    {
     "name": "stderr",
     "output_type": "stream",
     "text": [
      "/Users/gwengou/opt/anaconda3/lib/python3.7/site-packages/ipykernel_launcher.py:33: TqdmDeprecationWarning: This function will be removed in tqdm==5.0.0\n",
      "Please use `tqdm.notebook.tqdm` instead of `tqdm.tqdm_notebook`\n"
     ]
    },
    {
     "data": {
      "application/vnd.jupyter.widget-view+json": {
       "model_id": "9a4d9b68c02c446691ba8cad83beff07",
       "version_major": 2,
       "version_minor": 0
      },
      "text/plain": [
       "HBox(children=(FloatProgress(value=0.0, description='k loop', max=7.0, style=ProgressStyle(description_width='…"
      ]
     },
     "metadata": {},
     "output_type": "display_data"
    },
    {
     "name": "stderr",
     "output_type": "stream",
     "text": [
      "/Users/gwengou/opt/anaconda3/lib/python3.7/site-packages/ipykernel_launcher.py:35: TqdmDeprecationWarning: This function will be removed in tqdm==5.0.0\n",
      "Please use `tqdm.notebook.tqdm` instead of `tqdm.tqdm_notebook`\n"
     ]
    },
    {
     "data": {
      "application/vnd.jupyter.widget-view+json": {
       "model_id": "877543ec110642ff8dadc8286433f78b",
       "version_major": 2,
       "version_minor": 0
      },
      "text/plain": [
       "HBox(children=(FloatProgress(value=0.0, description='alpha loop', max=3.0, style=ProgressStyle(description_wid…"
      ]
     },
     "metadata": {},
     "output_type": "display_data"
    },
    {
     "name": "stderr",
     "output_type": "stream",
     "text": [
      "/Users/gwengou/opt/anaconda3/lib/python3.7/site-packages/ipykernel_launcher.py:37: TqdmDeprecationWarning: This function will be removed in tqdm==5.0.0\n",
      "Please use `tqdm.notebook.tqdm` instead of `tqdm.tqdm_notebook`\n"
     ]
    },
    {
     "data": {
      "application/vnd.jupyter.widget-view+json": {
       "model_id": "7b202890b4b44990b36fc7c5bb6f5c07",
       "version_major": 2,
       "version_minor": 0
      },
      "text/plain": [
       "HBox(children=(FloatProgress(value=0.0, description='beta loop', max=6.0, style=ProgressStyle(description_widt…"
      ]
     },
     "metadata": {},
     "output_type": "display_data"
    },
    {
     "name": "stdout",
     "output_type": "stream",
     "text": [
      "\n"
     ]
    },
    {
     "name": "stderr",
     "output_type": "stream",
     "text": [
      "/Users/gwengou/opt/anaconda3/lib/python3.7/site-packages/ipykernel_launcher.py:37: TqdmDeprecationWarning: This function will be removed in tqdm==5.0.0\n",
      "Please use `tqdm.notebook.tqdm` instead of `tqdm.tqdm_notebook`\n"
     ]
    },
    {
     "data": {
      "application/vnd.jupyter.widget-view+json": {
       "model_id": "8a8e21db2b2f47a3995f94d04abeb190",
       "version_major": 2,
       "version_minor": 0
      },
      "text/plain": [
       "HBox(children=(FloatProgress(value=0.0, description='beta loop', max=6.0, style=ProgressStyle(description_widt…"
      ]
     },
     "metadata": {},
     "output_type": "display_data"
    },
    {
     "name": "stdout",
     "output_type": "stream",
     "text": [
      "\n"
     ]
    },
    {
     "name": "stderr",
     "output_type": "stream",
     "text": [
      "/Users/gwengou/opt/anaconda3/lib/python3.7/site-packages/ipykernel_launcher.py:37: TqdmDeprecationWarning: This function will be removed in tqdm==5.0.0\n",
      "Please use `tqdm.notebook.tqdm` instead of `tqdm.tqdm_notebook`\n"
     ]
    },
    {
     "data": {
      "application/vnd.jupyter.widget-view+json": {
       "model_id": "67080e2032c44e9ea79f0f9d363a579a",
       "version_major": 2,
       "version_minor": 0
      },
      "text/plain": [
       "HBox(children=(FloatProgress(value=0.0, description='beta loop', max=6.0, style=ProgressStyle(description_widt…"
      ]
     },
     "metadata": {},
     "output_type": "display_data"
    },
    {
     "name": "stdout",
     "output_type": "stream",
     "text": [
      "\n",
      "\n"
     ]
    },
    {
     "name": "stderr",
     "output_type": "stream",
     "text": [
      "/Users/gwengou/opt/anaconda3/lib/python3.7/site-packages/ipykernel_launcher.py:35: TqdmDeprecationWarning: This function will be removed in tqdm==5.0.0\n",
      "Please use `tqdm.notebook.tqdm` instead of `tqdm.tqdm_notebook`\n"
     ]
    },
    {
     "data": {
      "application/vnd.jupyter.widget-view+json": {
       "model_id": "076023c6ec7a4b82b46f721391b51b58",
       "version_major": 2,
       "version_minor": 0
      },
      "text/plain": [
       "HBox(children=(FloatProgress(value=0.0, description='alpha loop', max=3.0, style=ProgressStyle(description_wid…"
      ]
     },
     "metadata": {},
     "output_type": "display_data"
    },
    {
     "name": "stderr",
     "output_type": "stream",
     "text": [
      "/Users/gwengou/opt/anaconda3/lib/python3.7/site-packages/ipykernel_launcher.py:37: TqdmDeprecationWarning: This function will be removed in tqdm==5.0.0\n",
      "Please use `tqdm.notebook.tqdm` instead of `tqdm.tqdm_notebook`\n"
     ]
    },
    {
     "data": {
      "application/vnd.jupyter.widget-view+json": {
       "model_id": "f7e4f66e57e741ebbfcd94f52c2fea87",
       "version_major": 2,
       "version_minor": 0
      },
      "text/plain": [
       "HBox(children=(FloatProgress(value=0.0, description='beta loop', max=6.0, style=ProgressStyle(description_widt…"
      ]
     },
     "metadata": {},
     "output_type": "display_data"
    },
    {
     "name": "stdout",
     "output_type": "stream",
     "text": [
      "\n"
     ]
    },
    {
     "name": "stderr",
     "output_type": "stream",
     "text": [
      "/Users/gwengou/opt/anaconda3/lib/python3.7/site-packages/ipykernel_launcher.py:37: TqdmDeprecationWarning: This function will be removed in tqdm==5.0.0\n",
      "Please use `tqdm.notebook.tqdm` instead of `tqdm.tqdm_notebook`\n"
     ]
    },
    {
     "data": {
      "application/vnd.jupyter.widget-view+json": {
       "model_id": "ea7adc48542e4bac838ac0b15671177f",
       "version_major": 2,
       "version_minor": 0
      },
      "text/plain": [
       "HBox(children=(FloatProgress(value=0.0, description='beta loop', max=6.0, style=ProgressStyle(description_widt…"
      ]
     },
     "metadata": {},
     "output_type": "display_data"
    },
    {
     "name": "stdout",
     "output_type": "stream",
     "text": [
      "\n"
     ]
    },
    {
     "name": "stderr",
     "output_type": "stream",
     "text": [
      "/Users/gwengou/opt/anaconda3/lib/python3.7/site-packages/ipykernel_launcher.py:37: TqdmDeprecationWarning: This function will be removed in tqdm==5.0.0\n",
      "Please use `tqdm.notebook.tqdm` instead of `tqdm.tqdm_notebook`\n"
     ]
    },
    {
     "data": {
      "application/vnd.jupyter.widget-view+json": {
       "model_id": "8185abffae404d47b7a09482c2fcbe35",
       "version_major": 2,
       "version_minor": 0
      },
      "text/plain": [
       "HBox(children=(FloatProgress(value=0.0, description='beta loop', max=6.0, style=ProgressStyle(description_widt…"
      ]
     },
     "metadata": {},
     "output_type": "display_data"
    },
    {
     "name": "stdout",
     "output_type": "stream",
     "text": [
      "\n",
      "\n"
     ]
    },
    {
     "name": "stderr",
     "output_type": "stream",
     "text": [
      "/Users/gwengou/opt/anaconda3/lib/python3.7/site-packages/ipykernel_launcher.py:35: TqdmDeprecationWarning: This function will be removed in tqdm==5.0.0\n",
      "Please use `tqdm.notebook.tqdm` instead of `tqdm.tqdm_notebook`\n"
     ]
    },
    {
     "data": {
      "application/vnd.jupyter.widget-view+json": {
       "model_id": "6503cbe946ac4bab9ef794d61d522a7e",
       "version_major": 2,
       "version_minor": 0
      },
      "text/plain": [
       "HBox(children=(FloatProgress(value=0.0, description='alpha loop', max=3.0, style=ProgressStyle(description_wid…"
      ]
     },
     "metadata": {},
     "output_type": "display_data"
    },
    {
     "name": "stderr",
     "output_type": "stream",
     "text": [
      "/Users/gwengou/opt/anaconda3/lib/python3.7/site-packages/ipykernel_launcher.py:37: TqdmDeprecationWarning: This function will be removed in tqdm==5.0.0\n",
      "Please use `tqdm.notebook.tqdm` instead of `tqdm.tqdm_notebook`\n"
     ]
    },
    {
     "data": {
      "application/vnd.jupyter.widget-view+json": {
       "model_id": "296a394105464ce9968a191e167d8f5e",
       "version_major": 2,
       "version_minor": 0
      },
      "text/plain": [
       "HBox(children=(FloatProgress(value=0.0, description='beta loop', max=6.0, style=ProgressStyle(description_widt…"
      ]
     },
     "metadata": {},
     "output_type": "display_data"
    },
    {
     "name": "stdout",
     "output_type": "stream",
     "text": [
      "\n"
     ]
    },
    {
     "name": "stderr",
     "output_type": "stream",
     "text": [
      "/Users/gwengou/opt/anaconda3/lib/python3.7/site-packages/ipykernel_launcher.py:37: TqdmDeprecationWarning: This function will be removed in tqdm==5.0.0\n",
      "Please use `tqdm.notebook.tqdm` instead of `tqdm.tqdm_notebook`\n"
     ]
    },
    {
     "data": {
      "application/vnd.jupyter.widget-view+json": {
       "model_id": "b704963e2d8b42e0a8823e9cda0d051c",
       "version_major": 2,
       "version_minor": 0
      },
      "text/plain": [
       "HBox(children=(FloatProgress(value=0.0, description='beta loop', max=6.0, style=ProgressStyle(description_widt…"
      ]
     },
     "metadata": {},
     "output_type": "display_data"
    },
    {
     "name": "stdout",
     "output_type": "stream",
     "text": [
      "\n"
     ]
    },
    {
     "name": "stderr",
     "output_type": "stream",
     "text": [
      "/Users/gwengou/opt/anaconda3/lib/python3.7/site-packages/ipykernel_launcher.py:37: TqdmDeprecationWarning: This function will be removed in tqdm==5.0.0\n",
      "Please use `tqdm.notebook.tqdm` instead of `tqdm.tqdm_notebook`\n"
     ]
    },
    {
     "data": {
      "application/vnd.jupyter.widget-view+json": {
       "model_id": "6567a57fb4f84305adb17dea571be154",
       "version_major": 2,
       "version_minor": 0
      },
      "text/plain": [
       "HBox(children=(FloatProgress(value=0.0, description='beta loop', max=6.0, style=ProgressStyle(description_widt…"
      ]
     },
     "metadata": {},
     "output_type": "display_data"
    },
    {
     "name": "stdout",
     "output_type": "stream",
     "text": [
      "\n",
      "\n"
     ]
    },
    {
     "name": "stderr",
     "output_type": "stream",
     "text": [
      "/Users/gwengou/opt/anaconda3/lib/python3.7/site-packages/ipykernel_launcher.py:35: TqdmDeprecationWarning: This function will be removed in tqdm==5.0.0\n",
      "Please use `tqdm.notebook.tqdm` instead of `tqdm.tqdm_notebook`\n"
     ]
    },
    {
     "data": {
      "application/vnd.jupyter.widget-view+json": {
       "model_id": "055eb5936b4342f4b0c9a1752ab982b3",
       "version_major": 2,
       "version_minor": 0
      },
      "text/plain": [
       "HBox(children=(FloatProgress(value=0.0, description='alpha loop', max=3.0, style=ProgressStyle(description_wid…"
      ]
     },
     "metadata": {},
     "output_type": "display_data"
    },
    {
     "name": "stderr",
     "output_type": "stream",
     "text": [
      "/Users/gwengou/opt/anaconda3/lib/python3.7/site-packages/ipykernel_launcher.py:37: TqdmDeprecationWarning: This function will be removed in tqdm==5.0.0\n",
      "Please use `tqdm.notebook.tqdm` instead of `tqdm.tqdm_notebook`\n"
     ]
    },
    {
     "data": {
      "application/vnd.jupyter.widget-view+json": {
       "model_id": "6fd9f2fcad1849e49bd8acf095d8e2a4",
       "version_major": 2,
       "version_minor": 0
      },
      "text/plain": [
       "HBox(children=(FloatProgress(value=0.0, description='beta loop', max=6.0, style=ProgressStyle(description_widt…"
      ]
     },
     "metadata": {},
     "output_type": "display_data"
    },
    {
     "name": "stdout",
     "output_type": "stream",
     "text": [
      "\n"
     ]
    },
    {
     "name": "stderr",
     "output_type": "stream",
     "text": [
      "/Users/gwengou/opt/anaconda3/lib/python3.7/site-packages/ipykernel_launcher.py:37: TqdmDeprecationWarning: This function will be removed in tqdm==5.0.0\n",
      "Please use `tqdm.notebook.tqdm` instead of `tqdm.tqdm_notebook`\n"
     ]
    },
    {
     "data": {
      "application/vnd.jupyter.widget-view+json": {
       "model_id": "206b97fc555b483d915b7160b2fa662e",
       "version_major": 2,
       "version_minor": 0
      },
      "text/plain": [
       "HBox(children=(FloatProgress(value=0.0, description='beta loop', max=6.0, style=ProgressStyle(description_widt…"
      ]
     },
     "metadata": {},
     "output_type": "display_data"
    },
    {
     "name": "stdout",
     "output_type": "stream",
     "text": [
      "\n"
     ]
    },
    {
     "name": "stderr",
     "output_type": "stream",
     "text": [
      "/Users/gwengou/opt/anaconda3/lib/python3.7/site-packages/ipykernel_launcher.py:37: TqdmDeprecationWarning: This function will be removed in tqdm==5.0.0\n",
      "Please use `tqdm.notebook.tqdm` instead of `tqdm.tqdm_notebook`\n"
     ]
    },
    {
     "data": {
      "application/vnd.jupyter.widget-view+json": {
       "model_id": "4a57ef28ccb84d38a10c638e1abf61b4",
       "version_major": 2,
       "version_minor": 0
      },
      "text/plain": [
       "HBox(children=(FloatProgress(value=0.0, description='beta loop', max=6.0, style=ProgressStyle(description_widt…"
      ]
     },
     "metadata": {},
     "output_type": "display_data"
    },
    {
     "name": "stdout",
     "output_type": "stream",
     "text": [
      "\n",
      "\n"
     ]
    },
    {
     "name": "stderr",
     "output_type": "stream",
     "text": [
      "/Users/gwengou/opt/anaconda3/lib/python3.7/site-packages/ipykernel_launcher.py:35: TqdmDeprecationWarning: This function will be removed in tqdm==5.0.0\n",
      "Please use `tqdm.notebook.tqdm` instead of `tqdm.tqdm_notebook`\n"
     ]
    },
    {
     "data": {
      "application/vnd.jupyter.widget-view+json": {
       "model_id": "c363fcf0c2404770b6db5253c8629d56",
       "version_major": 2,
       "version_minor": 0
      },
      "text/plain": [
       "HBox(children=(FloatProgress(value=0.0, description='alpha loop', max=3.0, style=ProgressStyle(description_wid…"
      ]
     },
     "metadata": {},
     "output_type": "display_data"
    },
    {
     "name": "stderr",
     "output_type": "stream",
     "text": [
      "/Users/gwengou/opt/anaconda3/lib/python3.7/site-packages/ipykernel_launcher.py:37: TqdmDeprecationWarning: This function will be removed in tqdm==5.0.0\n",
      "Please use `tqdm.notebook.tqdm` instead of `tqdm.tqdm_notebook`\n"
     ]
    },
    {
     "data": {
      "application/vnd.jupyter.widget-view+json": {
       "model_id": "24b2bbc84b054af6a316143575ecc952",
       "version_major": 2,
       "version_minor": 0
      },
      "text/plain": [
       "HBox(children=(FloatProgress(value=0.0, description='beta loop', max=6.0, style=ProgressStyle(description_widt…"
      ]
     },
     "metadata": {},
     "output_type": "display_data"
    },
    {
     "name": "stdout",
     "output_type": "stream",
     "text": [
      "\n"
     ]
    },
    {
     "name": "stderr",
     "output_type": "stream",
     "text": [
      "/Users/gwengou/opt/anaconda3/lib/python3.7/site-packages/ipykernel_launcher.py:37: TqdmDeprecationWarning: This function will be removed in tqdm==5.0.0\n",
      "Please use `tqdm.notebook.tqdm` instead of `tqdm.tqdm_notebook`\n"
     ]
    },
    {
     "data": {
      "application/vnd.jupyter.widget-view+json": {
       "model_id": "9e054d64a19f439aa3dd8dfa44755eff",
       "version_major": 2,
       "version_minor": 0
      },
      "text/plain": [
       "HBox(children=(FloatProgress(value=0.0, description='beta loop', max=6.0, style=ProgressStyle(description_widt…"
      ]
     },
     "metadata": {},
     "output_type": "display_data"
    },
    {
     "name": "stdout",
     "output_type": "stream",
     "text": [
      "\n"
     ]
    },
    {
     "name": "stderr",
     "output_type": "stream",
     "text": [
      "/Users/gwengou/opt/anaconda3/lib/python3.7/site-packages/ipykernel_launcher.py:37: TqdmDeprecationWarning: This function will be removed in tqdm==5.0.0\n",
      "Please use `tqdm.notebook.tqdm` instead of `tqdm.tqdm_notebook`\n"
     ]
    },
    {
     "data": {
      "application/vnd.jupyter.widget-view+json": {
       "model_id": "42e19447e0324d889da657e523cb5014",
       "version_major": 2,
       "version_minor": 0
      },
      "text/plain": [
       "HBox(children=(FloatProgress(value=0.0, description='beta loop', max=6.0, style=ProgressStyle(description_widt…"
      ]
     },
     "metadata": {},
     "output_type": "display_data"
    },
    {
     "name": "stdout",
     "output_type": "stream",
     "text": [
      "\n",
      "\n"
     ]
    },
    {
     "name": "stderr",
     "output_type": "stream",
     "text": [
      "/Users/gwengou/opt/anaconda3/lib/python3.7/site-packages/ipykernel_launcher.py:35: TqdmDeprecationWarning: This function will be removed in tqdm==5.0.0\n",
      "Please use `tqdm.notebook.tqdm` instead of `tqdm.tqdm_notebook`\n"
     ]
    },
    {
     "data": {
      "application/vnd.jupyter.widget-view+json": {
       "model_id": "c124e5e54314438093aa660cdcfeb148",
       "version_major": 2,
       "version_minor": 0
      },
      "text/plain": [
       "HBox(children=(FloatProgress(value=0.0, description='alpha loop', max=3.0, style=ProgressStyle(description_wid…"
      ]
     },
     "metadata": {},
     "output_type": "display_data"
    },
    {
     "name": "stderr",
     "output_type": "stream",
     "text": [
      "/Users/gwengou/opt/anaconda3/lib/python3.7/site-packages/ipykernel_launcher.py:37: TqdmDeprecationWarning: This function will be removed in tqdm==5.0.0\n",
      "Please use `tqdm.notebook.tqdm` instead of `tqdm.tqdm_notebook`\n"
     ]
    },
    {
     "data": {
      "application/vnd.jupyter.widget-view+json": {
       "model_id": "4cbbf1649c6d41a8ab9086a41bc8faf6",
       "version_major": 2,
       "version_minor": 0
      },
      "text/plain": [
       "HBox(children=(FloatProgress(value=0.0, description='beta loop', max=6.0, style=ProgressStyle(description_widt…"
      ]
     },
     "metadata": {},
     "output_type": "display_data"
    },
    {
     "name": "stdout",
     "output_type": "stream",
     "text": [
      "\n"
     ]
    },
    {
     "name": "stderr",
     "output_type": "stream",
     "text": [
      "/Users/gwengou/opt/anaconda3/lib/python3.7/site-packages/ipykernel_launcher.py:37: TqdmDeprecationWarning: This function will be removed in tqdm==5.0.0\n",
      "Please use `tqdm.notebook.tqdm` instead of `tqdm.tqdm_notebook`\n"
     ]
    },
    {
     "data": {
      "application/vnd.jupyter.widget-view+json": {
       "model_id": "e5aa3de7971042f1a02edbcab02619ec",
       "version_major": 2,
       "version_minor": 0
      },
      "text/plain": [
       "HBox(children=(FloatProgress(value=0.0, description='beta loop', max=6.0, style=ProgressStyle(description_widt…"
      ]
     },
     "metadata": {},
     "output_type": "display_data"
    },
    {
     "name": "stdout",
     "output_type": "stream",
     "text": [
      "\n"
     ]
    },
    {
     "name": "stderr",
     "output_type": "stream",
     "text": [
      "/Users/gwengou/opt/anaconda3/lib/python3.7/site-packages/ipykernel_launcher.py:37: TqdmDeprecationWarning: This function will be removed in tqdm==5.0.0\n",
      "Please use `tqdm.notebook.tqdm` instead of `tqdm.tqdm_notebook`\n"
     ]
    },
    {
     "data": {
      "application/vnd.jupyter.widget-view+json": {
       "model_id": "2f536bc529ee451c96c186ed0329e526",
       "version_major": 2,
       "version_minor": 0
      },
      "text/plain": [
       "HBox(children=(FloatProgress(value=0.0, description='beta loop', max=6.0, style=ProgressStyle(description_widt…"
      ]
     },
     "metadata": {},
     "output_type": "display_data"
    },
    {
     "name": "stdout",
     "output_type": "stream",
     "text": [
      "\n",
      "\n"
     ]
    },
    {
     "name": "stderr",
     "output_type": "stream",
     "text": [
      "/Users/gwengou/opt/anaconda3/lib/python3.7/site-packages/ipykernel_launcher.py:35: TqdmDeprecationWarning: This function will be removed in tqdm==5.0.0\n",
      "Please use `tqdm.notebook.tqdm` instead of `tqdm.tqdm_notebook`\n"
     ]
    },
    {
     "data": {
      "application/vnd.jupyter.widget-view+json": {
       "model_id": "9d54c974040d4b1da8b918b146a4deaa",
       "version_major": 2,
       "version_minor": 0
      },
      "text/plain": [
       "HBox(children=(FloatProgress(value=0.0, description='alpha loop', max=3.0, style=ProgressStyle(description_wid…"
      ]
     },
     "metadata": {},
     "output_type": "display_data"
    },
    {
     "name": "stderr",
     "output_type": "stream",
     "text": [
      "/Users/gwengou/opt/anaconda3/lib/python3.7/site-packages/ipykernel_launcher.py:37: TqdmDeprecationWarning: This function will be removed in tqdm==5.0.0\n",
      "Please use `tqdm.notebook.tqdm` instead of `tqdm.tqdm_notebook`\n"
     ]
    },
    {
     "data": {
      "application/vnd.jupyter.widget-view+json": {
       "model_id": "b6591ef785144c86b405baedaad851a4",
       "version_major": 2,
       "version_minor": 0
      },
      "text/plain": [
       "HBox(children=(FloatProgress(value=0.0, description='beta loop', max=6.0, style=ProgressStyle(description_widt…"
      ]
     },
     "metadata": {},
     "output_type": "display_data"
    },
    {
     "name": "stdout",
     "output_type": "stream",
     "text": [
      "\n"
     ]
    },
    {
     "name": "stderr",
     "output_type": "stream",
     "text": [
      "/Users/gwengou/opt/anaconda3/lib/python3.7/site-packages/ipykernel_launcher.py:37: TqdmDeprecationWarning: This function will be removed in tqdm==5.0.0\n",
      "Please use `tqdm.notebook.tqdm` instead of `tqdm.tqdm_notebook`\n"
     ]
    },
    {
     "data": {
      "application/vnd.jupyter.widget-view+json": {
       "model_id": "43b0b77d0a7c4e179a634ba8170f8298",
       "version_major": 2,
       "version_minor": 0
      },
      "text/plain": [
       "HBox(children=(FloatProgress(value=0.0, description='beta loop', max=6.0, style=ProgressStyle(description_widt…"
      ]
     },
     "metadata": {},
     "output_type": "display_data"
    },
    {
     "name": "stdout",
     "output_type": "stream",
     "text": [
      "\n"
     ]
    },
    {
     "name": "stderr",
     "output_type": "stream",
     "text": [
      "/Users/gwengou/opt/anaconda3/lib/python3.7/site-packages/ipykernel_launcher.py:37: TqdmDeprecationWarning: This function will be removed in tqdm==5.0.0\n",
      "Please use `tqdm.notebook.tqdm` instead of `tqdm.tqdm_notebook`\n"
     ]
    },
    {
     "data": {
      "application/vnd.jupyter.widget-view+json": {
       "model_id": "b65e59afdc2d4e58aacab322faf8dd40",
       "version_major": 2,
       "version_minor": 0
      },
      "text/plain": [
       "HBox(children=(FloatProgress(value=0.0, description='beta loop', max=6.0, style=ProgressStyle(description_widt…"
      ]
     },
     "metadata": {},
     "output_type": "display_data"
    },
    {
     "name": "stdout",
     "output_type": "stream",
     "text": [
      "\n",
      "\n",
      "\n"
     ]
    },
    {
     "name": "stderr",
     "output_type": "stream",
     "text": [
      "/Users/gwengou/opt/anaconda3/lib/python3.7/site-packages/ipykernel_launcher.py:33: TqdmDeprecationWarning: This function will be removed in tqdm==5.0.0\n",
      "Please use `tqdm.notebook.tqdm` instead of `tqdm.tqdm_notebook`\n"
     ]
    },
    {
     "data": {
      "application/vnd.jupyter.widget-view+json": {
       "model_id": "c210616d599342669255279f58b39b2c",
       "version_major": 2,
       "version_minor": 0
      },
      "text/plain": [
       "HBox(children=(FloatProgress(value=0.0, description='k loop', max=7.0, style=ProgressStyle(description_width='…"
      ]
     },
     "metadata": {},
     "output_type": "display_data"
    },
    {
     "name": "stderr",
     "output_type": "stream",
     "text": [
      "/Users/gwengou/opt/anaconda3/lib/python3.7/site-packages/ipykernel_launcher.py:35: TqdmDeprecationWarning: This function will be removed in tqdm==5.0.0\n",
      "Please use `tqdm.notebook.tqdm` instead of `tqdm.tqdm_notebook`\n"
     ]
    },
    {
     "data": {
      "application/vnd.jupyter.widget-view+json": {
       "model_id": "37de76ae408f49c290dffbc9a2617e1b",
       "version_major": 2,
       "version_minor": 0
      },
      "text/plain": [
       "HBox(children=(FloatProgress(value=0.0, description='alpha loop', max=3.0, style=ProgressStyle(description_wid…"
      ]
     },
     "metadata": {},
     "output_type": "display_data"
    },
    {
     "name": "stderr",
     "output_type": "stream",
     "text": [
      "/Users/gwengou/opt/anaconda3/lib/python3.7/site-packages/ipykernel_launcher.py:37: TqdmDeprecationWarning: This function will be removed in tqdm==5.0.0\n",
      "Please use `tqdm.notebook.tqdm` instead of `tqdm.tqdm_notebook`\n"
     ]
    },
    {
     "data": {
      "application/vnd.jupyter.widget-view+json": {
       "model_id": "adb3fdeaed294a0ba00abf2a75ad9d64",
       "version_major": 2,
       "version_minor": 0
      },
      "text/plain": [
       "HBox(children=(FloatProgress(value=0.0, description='beta loop', max=6.0, style=ProgressStyle(description_widt…"
      ]
     },
     "metadata": {},
     "output_type": "display_data"
    },
    {
     "name": "stdout",
     "output_type": "stream",
     "text": [
      "\n"
     ]
    },
    {
     "name": "stderr",
     "output_type": "stream",
     "text": [
      "/Users/gwengou/opt/anaconda3/lib/python3.7/site-packages/ipykernel_launcher.py:37: TqdmDeprecationWarning: This function will be removed in tqdm==5.0.0\n",
      "Please use `tqdm.notebook.tqdm` instead of `tqdm.tqdm_notebook`\n"
     ]
    },
    {
     "data": {
      "application/vnd.jupyter.widget-view+json": {
       "model_id": "a7a6c456d0ac4aae9728732812d0bedb",
       "version_major": 2,
       "version_minor": 0
      },
      "text/plain": [
       "HBox(children=(FloatProgress(value=0.0, description='beta loop', max=6.0, style=ProgressStyle(description_widt…"
      ]
     },
     "metadata": {},
     "output_type": "display_data"
    },
    {
     "name": "stdout",
     "output_type": "stream",
     "text": [
      "\n"
     ]
    },
    {
     "name": "stderr",
     "output_type": "stream",
     "text": [
      "/Users/gwengou/opt/anaconda3/lib/python3.7/site-packages/ipykernel_launcher.py:37: TqdmDeprecationWarning: This function will be removed in tqdm==5.0.0\n",
      "Please use `tqdm.notebook.tqdm` instead of `tqdm.tqdm_notebook`\n"
     ]
    },
    {
     "data": {
      "application/vnd.jupyter.widget-view+json": {
       "model_id": "4986e1c8b69f4a6e8176583caa6152d1",
       "version_major": 2,
       "version_minor": 0
      },
      "text/plain": [
       "HBox(children=(FloatProgress(value=0.0, description='beta loop', max=6.0, style=ProgressStyle(description_widt…"
      ]
     },
     "metadata": {},
     "output_type": "display_data"
    },
    {
     "name": "stdout",
     "output_type": "stream",
     "text": [
      "\n",
      "\n"
     ]
    },
    {
     "name": "stderr",
     "output_type": "stream",
     "text": [
      "/Users/gwengou/opt/anaconda3/lib/python3.7/site-packages/ipykernel_launcher.py:35: TqdmDeprecationWarning: This function will be removed in tqdm==5.0.0\n",
      "Please use `tqdm.notebook.tqdm` instead of `tqdm.tqdm_notebook`\n"
     ]
    },
    {
     "data": {
      "application/vnd.jupyter.widget-view+json": {
       "model_id": "c6c80c1daec0473aaf854abcb5782c72",
       "version_major": 2,
       "version_minor": 0
      },
      "text/plain": [
       "HBox(children=(FloatProgress(value=0.0, description='alpha loop', max=3.0, style=ProgressStyle(description_wid…"
      ]
     },
     "metadata": {},
     "output_type": "display_data"
    },
    {
     "name": "stderr",
     "output_type": "stream",
     "text": [
      "/Users/gwengou/opt/anaconda3/lib/python3.7/site-packages/ipykernel_launcher.py:37: TqdmDeprecationWarning: This function will be removed in tqdm==5.0.0\n",
      "Please use `tqdm.notebook.tqdm` instead of `tqdm.tqdm_notebook`\n"
     ]
    },
    {
     "data": {
      "application/vnd.jupyter.widget-view+json": {
       "model_id": "b7438718610542f18797299f88df6cc9",
       "version_major": 2,
       "version_minor": 0
      },
      "text/plain": [
       "HBox(children=(FloatProgress(value=0.0, description='beta loop', max=6.0, style=ProgressStyle(description_widt…"
      ]
     },
     "metadata": {},
     "output_type": "display_data"
    },
    {
     "name": "stdout",
     "output_type": "stream",
     "text": [
      "\n"
     ]
    },
    {
     "name": "stderr",
     "output_type": "stream",
     "text": [
      "/Users/gwengou/opt/anaconda3/lib/python3.7/site-packages/ipykernel_launcher.py:37: TqdmDeprecationWarning: This function will be removed in tqdm==5.0.0\n",
      "Please use `tqdm.notebook.tqdm` instead of `tqdm.tqdm_notebook`\n"
     ]
    },
    {
     "data": {
      "application/vnd.jupyter.widget-view+json": {
       "model_id": "d78e290e16f24d6c9882fc398e6b1c53",
       "version_major": 2,
       "version_minor": 0
      },
      "text/plain": [
       "HBox(children=(FloatProgress(value=0.0, description='beta loop', max=6.0, style=ProgressStyle(description_widt…"
      ]
     },
     "metadata": {},
     "output_type": "display_data"
    },
    {
     "name": "stdout",
     "output_type": "stream",
     "text": [
      "\n"
     ]
    },
    {
     "name": "stderr",
     "output_type": "stream",
     "text": [
      "/Users/gwengou/opt/anaconda3/lib/python3.7/site-packages/ipykernel_launcher.py:37: TqdmDeprecationWarning: This function will be removed in tqdm==5.0.0\n",
      "Please use `tqdm.notebook.tqdm` instead of `tqdm.tqdm_notebook`\n"
     ]
    },
    {
     "data": {
      "application/vnd.jupyter.widget-view+json": {
       "model_id": "5f7c56b8ca0740809232ec3b5f94ecce",
       "version_major": 2,
       "version_minor": 0
      },
      "text/plain": [
       "HBox(children=(FloatProgress(value=0.0, description='beta loop', max=6.0, style=ProgressStyle(description_widt…"
      ]
     },
     "metadata": {},
     "output_type": "display_data"
    },
    {
     "name": "stdout",
     "output_type": "stream",
     "text": [
      "\n",
      "\n"
     ]
    },
    {
     "name": "stderr",
     "output_type": "stream",
     "text": [
      "/Users/gwengou/opt/anaconda3/lib/python3.7/site-packages/ipykernel_launcher.py:35: TqdmDeprecationWarning: This function will be removed in tqdm==5.0.0\n",
      "Please use `tqdm.notebook.tqdm` instead of `tqdm.tqdm_notebook`\n"
     ]
    },
    {
     "data": {
      "application/vnd.jupyter.widget-view+json": {
       "model_id": "0f45eeb167ec472dbf160b13e02bbcff",
       "version_major": 2,
       "version_minor": 0
      },
      "text/plain": [
       "HBox(children=(FloatProgress(value=0.0, description='alpha loop', max=3.0, style=ProgressStyle(description_wid…"
      ]
     },
     "metadata": {},
     "output_type": "display_data"
    },
    {
     "name": "stderr",
     "output_type": "stream",
     "text": [
      "/Users/gwengou/opt/anaconda3/lib/python3.7/site-packages/ipykernel_launcher.py:37: TqdmDeprecationWarning: This function will be removed in tqdm==5.0.0\n",
      "Please use `tqdm.notebook.tqdm` instead of `tqdm.tqdm_notebook`\n"
     ]
    },
    {
     "data": {
      "application/vnd.jupyter.widget-view+json": {
       "model_id": "f3ef79a7b2c34669a6c7ef35a870f2fa",
       "version_major": 2,
       "version_minor": 0
      },
      "text/plain": [
       "HBox(children=(FloatProgress(value=0.0, description='beta loop', max=6.0, style=ProgressStyle(description_widt…"
      ]
     },
     "metadata": {},
     "output_type": "display_data"
    },
    {
     "name": "stdout",
     "output_type": "stream",
     "text": [
      "\n"
     ]
    },
    {
     "name": "stderr",
     "output_type": "stream",
     "text": [
      "/Users/gwengou/opt/anaconda3/lib/python3.7/site-packages/ipykernel_launcher.py:37: TqdmDeprecationWarning: This function will be removed in tqdm==5.0.0\n",
      "Please use `tqdm.notebook.tqdm` instead of `tqdm.tqdm_notebook`\n"
     ]
    },
    {
     "data": {
      "application/vnd.jupyter.widget-view+json": {
       "model_id": "fbb18c3fae6e4b5da9e63d7429532f6f",
       "version_major": 2,
       "version_minor": 0
      },
      "text/plain": [
       "HBox(children=(FloatProgress(value=0.0, description='beta loop', max=6.0, style=ProgressStyle(description_widt…"
      ]
     },
     "metadata": {},
     "output_type": "display_data"
    },
    {
     "name": "stdout",
     "output_type": "stream",
     "text": [
      "\n"
     ]
    },
    {
     "name": "stderr",
     "output_type": "stream",
     "text": [
      "/Users/gwengou/opt/anaconda3/lib/python3.7/site-packages/ipykernel_launcher.py:37: TqdmDeprecationWarning: This function will be removed in tqdm==5.0.0\n",
      "Please use `tqdm.notebook.tqdm` instead of `tqdm.tqdm_notebook`\n"
     ]
    },
    {
     "data": {
      "application/vnd.jupyter.widget-view+json": {
       "model_id": "3554c06a24074574a18f95da2f1df303",
       "version_major": 2,
       "version_minor": 0
      },
      "text/plain": [
       "HBox(children=(FloatProgress(value=0.0, description='beta loop', max=6.0, style=ProgressStyle(description_widt…"
      ]
     },
     "metadata": {},
     "output_type": "display_data"
    },
    {
     "name": "stdout",
     "output_type": "stream",
     "text": [
      "\n",
      "\n"
     ]
    },
    {
     "name": "stderr",
     "output_type": "stream",
     "text": [
      "/Users/gwengou/opt/anaconda3/lib/python3.7/site-packages/ipykernel_launcher.py:35: TqdmDeprecationWarning: This function will be removed in tqdm==5.0.0\n",
      "Please use `tqdm.notebook.tqdm` instead of `tqdm.tqdm_notebook`\n"
     ]
    },
    {
     "data": {
      "application/vnd.jupyter.widget-view+json": {
       "model_id": "5c88622506c54b73bbeab10a9359d138",
       "version_major": 2,
       "version_minor": 0
      },
      "text/plain": [
       "HBox(children=(FloatProgress(value=0.0, description='alpha loop', max=3.0, style=ProgressStyle(description_wid…"
      ]
     },
     "metadata": {},
     "output_type": "display_data"
    },
    {
     "name": "stderr",
     "output_type": "stream",
     "text": [
      "/Users/gwengou/opt/anaconda3/lib/python3.7/site-packages/ipykernel_launcher.py:37: TqdmDeprecationWarning: This function will be removed in tqdm==5.0.0\n",
      "Please use `tqdm.notebook.tqdm` instead of `tqdm.tqdm_notebook`\n"
     ]
    },
    {
     "data": {
      "application/vnd.jupyter.widget-view+json": {
       "model_id": "62fc3d3e280a4b819f197b7978567c03",
       "version_major": 2,
       "version_minor": 0
      },
      "text/plain": [
       "HBox(children=(FloatProgress(value=0.0, description='beta loop', max=6.0, style=ProgressStyle(description_widt…"
      ]
     },
     "metadata": {},
     "output_type": "display_data"
    },
    {
     "name": "stdout",
     "output_type": "stream",
     "text": [
      "\n"
     ]
    },
    {
     "name": "stderr",
     "output_type": "stream",
     "text": [
      "/Users/gwengou/opt/anaconda3/lib/python3.7/site-packages/ipykernel_launcher.py:37: TqdmDeprecationWarning: This function will be removed in tqdm==5.0.0\n",
      "Please use `tqdm.notebook.tqdm` instead of `tqdm.tqdm_notebook`\n"
     ]
    },
    {
     "data": {
      "application/vnd.jupyter.widget-view+json": {
       "model_id": "ca047abd56894dd4974f7841f5871e4b",
       "version_major": 2,
       "version_minor": 0
      },
      "text/plain": [
       "HBox(children=(FloatProgress(value=0.0, description='beta loop', max=6.0, style=ProgressStyle(description_widt…"
      ]
     },
     "metadata": {},
     "output_type": "display_data"
    },
    {
     "name": "stdout",
     "output_type": "stream",
     "text": [
      "\n"
     ]
    },
    {
     "name": "stderr",
     "output_type": "stream",
     "text": [
      "/Users/gwengou/opt/anaconda3/lib/python3.7/site-packages/ipykernel_launcher.py:37: TqdmDeprecationWarning: This function will be removed in tqdm==5.0.0\n",
      "Please use `tqdm.notebook.tqdm` instead of `tqdm.tqdm_notebook`\n"
     ]
    },
    {
     "data": {
      "application/vnd.jupyter.widget-view+json": {
       "model_id": "b75a1ee28b524191b546edd1194be42d",
       "version_major": 2,
       "version_minor": 0
      },
      "text/plain": [
       "HBox(children=(FloatProgress(value=0.0, description='beta loop', max=6.0, style=ProgressStyle(description_widt…"
      ]
     },
     "metadata": {},
     "output_type": "display_data"
    },
    {
     "name": "stdout",
     "output_type": "stream",
     "text": [
      "\n",
      "\n"
     ]
    },
    {
     "name": "stderr",
     "output_type": "stream",
     "text": [
      "/Users/gwengou/opt/anaconda3/lib/python3.7/site-packages/ipykernel_launcher.py:35: TqdmDeprecationWarning: This function will be removed in tqdm==5.0.0\n",
      "Please use `tqdm.notebook.tqdm` instead of `tqdm.tqdm_notebook`\n"
     ]
    },
    {
     "data": {
      "application/vnd.jupyter.widget-view+json": {
       "model_id": "e56c33970daf4c3686a3d9ea53ebffe6",
       "version_major": 2,
       "version_minor": 0
      },
      "text/plain": [
       "HBox(children=(FloatProgress(value=0.0, description='alpha loop', max=3.0, style=ProgressStyle(description_wid…"
      ]
     },
     "metadata": {},
     "output_type": "display_data"
    },
    {
     "name": "stderr",
     "output_type": "stream",
     "text": [
      "/Users/gwengou/opt/anaconda3/lib/python3.7/site-packages/ipykernel_launcher.py:37: TqdmDeprecationWarning: This function will be removed in tqdm==5.0.0\n",
      "Please use `tqdm.notebook.tqdm` instead of `tqdm.tqdm_notebook`\n"
     ]
    },
    {
     "data": {
      "application/vnd.jupyter.widget-view+json": {
       "model_id": "48d53d971b124953ae2d9c81cdb566d6",
       "version_major": 2,
       "version_minor": 0
      },
      "text/plain": [
       "HBox(children=(FloatProgress(value=0.0, description='beta loop', max=6.0, style=ProgressStyle(description_widt…"
      ]
     },
     "metadata": {},
     "output_type": "display_data"
    },
    {
     "name": "stdout",
     "output_type": "stream",
     "text": [
      "\n"
     ]
    },
    {
     "name": "stderr",
     "output_type": "stream",
     "text": [
      "/Users/gwengou/opt/anaconda3/lib/python3.7/site-packages/ipykernel_launcher.py:37: TqdmDeprecationWarning: This function will be removed in tqdm==5.0.0\n",
      "Please use `tqdm.notebook.tqdm` instead of `tqdm.tqdm_notebook`\n"
     ]
    },
    {
     "data": {
      "application/vnd.jupyter.widget-view+json": {
       "model_id": "3b97a15544ce4d04828d92350fe2e19d",
       "version_major": 2,
       "version_minor": 0
      },
      "text/plain": [
       "HBox(children=(FloatProgress(value=0.0, description='beta loop', max=6.0, style=ProgressStyle(description_widt…"
      ]
     },
     "metadata": {},
     "output_type": "display_data"
    },
    {
     "name": "stdout",
     "output_type": "stream",
     "text": [
      "\n"
     ]
    },
    {
     "name": "stderr",
     "output_type": "stream",
     "text": [
      "/Users/gwengou/opt/anaconda3/lib/python3.7/site-packages/ipykernel_launcher.py:37: TqdmDeprecationWarning: This function will be removed in tqdm==5.0.0\n",
      "Please use `tqdm.notebook.tqdm` instead of `tqdm.tqdm_notebook`\n"
     ]
    },
    {
     "data": {
      "application/vnd.jupyter.widget-view+json": {
       "model_id": "03046e8bc71e49fba187d97c48e9f244",
       "version_major": 2,
       "version_minor": 0
      },
      "text/plain": [
       "HBox(children=(FloatProgress(value=0.0, description='beta loop', max=6.0, style=ProgressStyle(description_widt…"
      ]
     },
     "metadata": {},
     "output_type": "display_data"
    },
    {
     "name": "stdout",
     "output_type": "stream",
     "text": [
      "\n",
      "\n"
     ]
    },
    {
     "name": "stderr",
     "output_type": "stream",
     "text": [
      "/Users/gwengou/opt/anaconda3/lib/python3.7/site-packages/ipykernel_launcher.py:35: TqdmDeprecationWarning: This function will be removed in tqdm==5.0.0\n",
      "Please use `tqdm.notebook.tqdm` instead of `tqdm.tqdm_notebook`\n"
     ]
    },
    {
     "data": {
      "application/vnd.jupyter.widget-view+json": {
       "model_id": "46fe09699b5942ff9cca5d505ba6fb9c",
       "version_major": 2,
       "version_minor": 0
      },
      "text/plain": [
       "HBox(children=(FloatProgress(value=0.0, description='alpha loop', max=3.0, style=ProgressStyle(description_wid…"
      ]
     },
     "metadata": {},
     "output_type": "display_data"
    },
    {
     "name": "stderr",
     "output_type": "stream",
     "text": [
      "/Users/gwengou/opt/anaconda3/lib/python3.7/site-packages/ipykernel_launcher.py:37: TqdmDeprecationWarning: This function will be removed in tqdm==5.0.0\n",
      "Please use `tqdm.notebook.tqdm` instead of `tqdm.tqdm_notebook`\n"
     ]
    },
    {
     "data": {
      "application/vnd.jupyter.widget-view+json": {
       "model_id": "2bede5e72d2c474fb66cfd2270cb5de8",
       "version_major": 2,
       "version_minor": 0
      },
      "text/plain": [
       "HBox(children=(FloatProgress(value=0.0, description='beta loop', max=6.0, style=ProgressStyle(description_widt…"
      ]
     },
     "metadata": {},
     "output_type": "display_data"
    },
    {
     "name": "stdout",
     "output_type": "stream",
     "text": [
      "\n"
     ]
    },
    {
     "name": "stderr",
     "output_type": "stream",
     "text": [
      "/Users/gwengou/opt/anaconda3/lib/python3.7/site-packages/ipykernel_launcher.py:37: TqdmDeprecationWarning: This function will be removed in tqdm==5.0.0\n",
      "Please use `tqdm.notebook.tqdm` instead of `tqdm.tqdm_notebook`\n"
     ]
    },
    {
     "data": {
      "application/vnd.jupyter.widget-view+json": {
       "model_id": "a55ffd28cf7e44048f816590fa165615",
       "version_major": 2,
       "version_minor": 0
      },
      "text/plain": [
       "HBox(children=(FloatProgress(value=0.0, description='beta loop', max=6.0, style=ProgressStyle(description_widt…"
      ]
     },
     "metadata": {},
     "output_type": "display_data"
    },
    {
     "name": "stdout",
     "output_type": "stream",
     "text": [
      "\n"
     ]
    },
    {
     "name": "stderr",
     "output_type": "stream",
     "text": [
      "/Users/gwengou/opt/anaconda3/lib/python3.7/site-packages/ipykernel_launcher.py:37: TqdmDeprecationWarning: This function will be removed in tqdm==5.0.0\n",
      "Please use `tqdm.notebook.tqdm` instead of `tqdm.tqdm_notebook`\n"
     ]
    },
    {
     "data": {
      "application/vnd.jupyter.widget-view+json": {
       "model_id": "351887ab56ac4180a996f612553a3bd3",
       "version_major": 2,
       "version_minor": 0
      },
      "text/plain": [
       "HBox(children=(FloatProgress(value=0.0, description='beta loop', max=6.0, style=ProgressStyle(description_widt…"
      ]
     },
     "metadata": {},
     "output_type": "display_data"
    },
    {
     "name": "stdout",
     "output_type": "stream",
     "text": [
      "\n",
      "\n"
     ]
    },
    {
     "name": "stderr",
     "output_type": "stream",
     "text": [
      "/Users/gwengou/opt/anaconda3/lib/python3.7/site-packages/ipykernel_launcher.py:35: TqdmDeprecationWarning: This function will be removed in tqdm==5.0.0\n",
      "Please use `tqdm.notebook.tqdm` instead of `tqdm.tqdm_notebook`\n"
     ]
    },
    {
     "data": {
      "application/vnd.jupyter.widget-view+json": {
       "model_id": "88eb42c504454385aa19a3600eaaa6db",
       "version_major": 2,
       "version_minor": 0
      },
      "text/plain": [
       "HBox(children=(FloatProgress(value=0.0, description='alpha loop', max=3.0, style=ProgressStyle(description_wid…"
      ]
     },
     "metadata": {},
     "output_type": "display_data"
    },
    {
     "name": "stderr",
     "output_type": "stream",
     "text": [
      "/Users/gwengou/opt/anaconda3/lib/python3.7/site-packages/ipykernel_launcher.py:37: TqdmDeprecationWarning: This function will be removed in tqdm==5.0.0\n",
      "Please use `tqdm.notebook.tqdm` instead of `tqdm.tqdm_notebook`\n"
     ]
    },
    {
     "data": {
      "application/vnd.jupyter.widget-view+json": {
       "model_id": "9b11fd80aa2f4263a752f62044c4ade3",
       "version_major": 2,
       "version_minor": 0
      },
      "text/plain": [
       "HBox(children=(FloatProgress(value=0.0, description='beta loop', max=6.0, style=ProgressStyle(description_widt…"
      ]
     },
     "metadata": {},
     "output_type": "display_data"
    },
    {
     "name": "stdout",
     "output_type": "stream",
     "text": [
      "\n"
     ]
    },
    {
     "name": "stderr",
     "output_type": "stream",
     "text": [
      "/Users/gwengou/opt/anaconda3/lib/python3.7/site-packages/ipykernel_launcher.py:37: TqdmDeprecationWarning: This function will be removed in tqdm==5.0.0\n",
      "Please use `tqdm.notebook.tqdm` instead of `tqdm.tqdm_notebook`\n"
     ]
    },
    {
     "data": {
      "application/vnd.jupyter.widget-view+json": {
       "model_id": "add01126b138400e9ee0064dd470d9d9",
       "version_major": 2,
       "version_minor": 0
      },
      "text/plain": [
       "HBox(children=(FloatProgress(value=0.0, description='beta loop', max=6.0, style=ProgressStyle(description_widt…"
      ]
     },
     "metadata": {},
     "output_type": "display_data"
    },
    {
     "name": "stdout",
     "output_type": "stream",
     "text": [
      "\n"
     ]
    },
    {
     "name": "stderr",
     "output_type": "stream",
     "text": [
      "/Users/gwengou/opt/anaconda3/lib/python3.7/site-packages/ipykernel_launcher.py:37: TqdmDeprecationWarning: This function will be removed in tqdm==5.0.0\n",
      "Please use `tqdm.notebook.tqdm` instead of `tqdm.tqdm_notebook`\n"
     ]
    },
    {
     "data": {
      "application/vnd.jupyter.widget-view+json": {
       "model_id": "29b818968abc4818a432a369eca85f8a",
       "version_major": 2,
       "version_minor": 0
      },
      "text/plain": [
       "HBox(children=(FloatProgress(value=0.0, description='beta loop', max=6.0, style=ProgressStyle(description_widt…"
      ]
     },
     "metadata": {},
     "output_type": "display_data"
    },
    {
     "name": "stdout",
     "output_type": "stream",
     "text": [
      "\n",
      "\n",
      "\n"
     ]
    },
    {
     "name": "stderr",
     "output_type": "stream",
     "text": [
      "/Users/gwengou/opt/anaconda3/lib/python3.7/site-packages/ipykernel_launcher.py:33: TqdmDeprecationWarning: This function will be removed in tqdm==5.0.0\n",
      "Please use `tqdm.notebook.tqdm` instead of `tqdm.tqdm_notebook`\n"
     ]
    },
    {
     "data": {
      "application/vnd.jupyter.widget-view+json": {
       "model_id": "8d6af56562a84ad888df5e242a71ba53",
       "version_major": 2,
       "version_minor": 0
      },
      "text/plain": [
       "HBox(children=(FloatProgress(value=0.0, description='k loop', max=7.0, style=ProgressStyle(description_width='…"
      ]
     },
     "metadata": {},
     "output_type": "display_data"
    },
    {
     "name": "stderr",
     "output_type": "stream",
     "text": [
      "/Users/gwengou/opt/anaconda3/lib/python3.7/site-packages/ipykernel_launcher.py:35: TqdmDeprecationWarning: This function will be removed in tqdm==5.0.0\n",
      "Please use `tqdm.notebook.tqdm` instead of `tqdm.tqdm_notebook`\n"
     ]
    },
    {
     "data": {
      "application/vnd.jupyter.widget-view+json": {
       "model_id": "ba1fc18ebc1a4ffa885b323329cecd24",
       "version_major": 2,
       "version_minor": 0
      },
      "text/plain": [
       "HBox(children=(FloatProgress(value=0.0, description='alpha loop', max=3.0, style=ProgressStyle(description_wid…"
      ]
     },
     "metadata": {},
     "output_type": "display_data"
    },
    {
     "name": "stderr",
     "output_type": "stream",
     "text": [
      "/Users/gwengou/opt/anaconda3/lib/python3.7/site-packages/ipykernel_launcher.py:37: TqdmDeprecationWarning: This function will be removed in tqdm==5.0.0\n",
      "Please use `tqdm.notebook.tqdm` instead of `tqdm.tqdm_notebook`\n"
     ]
    },
    {
     "data": {
      "application/vnd.jupyter.widget-view+json": {
       "model_id": "ac5d992fa4bc41ce8b6838d51abd1fd1",
       "version_major": 2,
       "version_minor": 0
      },
      "text/plain": [
       "HBox(children=(FloatProgress(value=0.0, description='beta loop', max=6.0, style=ProgressStyle(description_widt…"
      ]
     },
     "metadata": {},
     "output_type": "display_data"
    },
    {
     "name": "stdout",
     "output_type": "stream",
     "text": [
      "\n"
     ]
    },
    {
     "name": "stderr",
     "output_type": "stream",
     "text": [
      "/Users/gwengou/opt/anaconda3/lib/python3.7/site-packages/ipykernel_launcher.py:37: TqdmDeprecationWarning: This function will be removed in tqdm==5.0.0\n",
      "Please use `tqdm.notebook.tqdm` instead of `tqdm.tqdm_notebook`\n"
     ]
    },
    {
     "data": {
      "application/vnd.jupyter.widget-view+json": {
       "model_id": "6437ea9fbc4744bbae2bb779c20caec3",
       "version_major": 2,
       "version_minor": 0
      },
      "text/plain": [
       "HBox(children=(FloatProgress(value=0.0, description='beta loop', max=6.0, style=ProgressStyle(description_widt…"
      ]
     },
     "metadata": {},
     "output_type": "display_data"
    },
    {
     "name": "stdout",
     "output_type": "stream",
     "text": [
      "\n"
     ]
    },
    {
     "name": "stderr",
     "output_type": "stream",
     "text": [
      "/Users/gwengou/opt/anaconda3/lib/python3.7/site-packages/ipykernel_launcher.py:37: TqdmDeprecationWarning: This function will be removed in tqdm==5.0.0\n",
      "Please use `tqdm.notebook.tqdm` instead of `tqdm.tqdm_notebook`\n"
     ]
    },
    {
     "data": {
      "application/vnd.jupyter.widget-view+json": {
       "model_id": "8d4d0be6a7654415b131d85970c5fee4",
       "version_major": 2,
       "version_minor": 0
      },
      "text/plain": [
       "HBox(children=(FloatProgress(value=0.0, description='beta loop', max=6.0, style=ProgressStyle(description_widt…"
      ]
     },
     "metadata": {},
     "output_type": "display_data"
    },
    {
     "name": "stdout",
     "output_type": "stream",
     "text": [
      "\n",
      "\n"
     ]
    },
    {
     "name": "stderr",
     "output_type": "stream",
     "text": [
      "/Users/gwengou/opt/anaconda3/lib/python3.7/site-packages/ipykernel_launcher.py:35: TqdmDeprecationWarning: This function will be removed in tqdm==5.0.0\n",
      "Please use `tqdm.notebook.tqdm` instead of `tqdm.tqdm_notebook`\n"
     ]
    },
    {
     "data": {
      "application/vnd.jupyter.widget-view+json": {
       "model_id": "0329582095e44abeb393f9e4c7b824b9",
       "version_major": 2,
       "version_minor": 0
      },
      "text/plain": [
       "HBox(children=(FloatProgress(value=0.0, description='alpha loop', max=3.0, style=ProgressStyle(description_wid…"
      ]
     },
     "metadata": {},
     "output_type": "display_data"
    },
    {
     "name": "stderr",
     "output_type": "stream",
     "text": [
      "/Users/gwengou/opt/anaconda3/lib/python3.7/site-packages/ipykernel_launcher.py:37: TqdmDeprecationWarning: This function will be removed in tqdm==5.0.0\n",
      "Please use `tqdm.notebook.tqdm` instead of `tqdm.tqdm_notebook`\n"
     ]
    },
    {
     "data": {
      "application/vnd.jupyter.widget-view+json": {
       "model_id": "2c4b6764ddd64ab3bcbed0d2f8612cb5",
       "version_major": 2,
       "version_minor": 0
      },
      "text/plain": [
       "HBox(children=(FloatProgress(value=0.0, description='beta loop', max=6.0, style=ProgressStyle(description_widt…"
      ]
     },
     "metadata": {},
     "output_type": "display_data"
    },
    {
     "name": "stdout",
     "output_type": "stream",
     "text": [
      "\n"
     ]
    },
    {
     "name": "stderr",
     "output_type": "stream",
     "text": [
      "/Users/gwengou/opt/anaconda3/lib/python3.7/site-packages/ipykernel_launcher.py:37: TqdmDeprecationWarning: This function will be removed in tqdm==5.0.0\n",
      "Please use `tqdm.notebook.tqdm` instead of `tqdm.tqdm_notebook`\n"
     ]
    },
    {
     "data": {
      "application/vnd.jupyter.widget-view+json": {
       "model_id": "f55bc5c5b9be47afacfaaa15fb0b3e2c",
       "version_major": 2,
       "version_minor": 0
      },
      "text/plain": [
       "HBox(children=(FloatProgress(value=0.0, description='beta loop', max=6.0, style=ProgressStyle(description_widt…"
      ]
     },
     "metadata": {},
     "output_type": "display_data"
    },
    {
     "name": "stdout",
     "output_type": "stream",
     "text": [
      "\n"
     ]
    },
    {
     "name": "stderr",
     "output_type": "stream",
     "text": [
      "/Users/gwengou/opt/anaconda3/lib/python3.7/site-packages/ipykernel_launcher.py:37: TqdmDeprecationWarning: This function will be removed in tqdm==5.0.0\n",
      "Please use `tqdm.notebook.tqdm` instead of `tqdm.tqdm_notebook`\n"
     ]
    },
    {
     "data": {
      "application/vnd.jupyter.widget-view+json": {
       "model_id": "983f6d98666548578162f1722ee92421",
       "version_major": 2,
       "version_minor": 0
      },
      "text/plain": [
       "HBox(children=(FloatProgress(value=0.0, description='beta loop', max=6.0, style=ProgressStyle(description_widt…"
      ]
     },
     "metadata": {},
     "output_type": "display_data"
    },
    {
     "name": "stdout",
     "output_type": "stream",
     "text": [
      "\n",
      "\n"
     ]
    },
    {
     "name": "stderr",
     "output_type": "stream",
     "text": [
      "/Users/gwengou/opt/anaconda3/lib/python3.7/site-packages/ipykernel_launcher.py:35: TqdmDeprecationWarning: This function will be removed in tqdm==5.0.0\n",
      "Please use `tqdm.notebook.tqdm` instead of `tqdm.tqdm_notebook`\n"
     ]
    },
    {
     "data": {
      "application/vnd.jupyter.widget-view+json": {
       "model_id": "da59c5bd8ede4f9695aeface4a859cb9",
       "version_major": 2,
       "version_minor": 0
      },
      "text/plain": [
       "HBox(children=(FloatProgress(value=0.0, description='alpha loop', max=3.0, style=ProgressStyle(description_wid…"
      ]
     },
     "metadata": {},
     "output_type": "display_data"
    },
    {
     "name": "stderr",
     "output_type": "stream",
     "text": [
      "/Users/gwengou/opt/anaconda3/lib/python3.7/site-packages/ipykernel_launcher.py:37: TqdmDeprecationWarning: This function will be removed in tqdm==5.0.0\n",
      "Please use `tqdm.notebook.tqdm` instead of `tqdm.tqdm_notebook`\n"
     ]
    },
    {
     "data": {
      "application/vnd.jupyter.widget-view+json": {
       "model_id": "9d545241ba1d4b8288d01da1a20e427f",
       "version_major": 2,
       "version_minor": 0
      },
      "text/plain": [
       "HBox(children=(FloatProgress(value=0.0, description='beta loop', max=6.0, style=ProgressStyle(description_widt…"
      ]
     },
     "metadata": {},
     "output_type": "display_data"
    },
    {
     "name": "stdout",
     "output_type": "stream",
     "text": [
      "\n"
     ]
    },
    {
     "name": "stderr",
     "output_type": "stream",
     "text": [
      "/Users/gwengou/opt/anaconda3/lib/python3.7/site-packages/ipykernel_launcher.py:37: TqdmDeprecationWarning: This function will be removed in tqdm==5.0.0\n",
      "Please use `tqdm.notebook.tqdm` instead of `tqdm.tqdm_notebook`\n"
     ]
    },
    {
     "data": {
      "application/vnd.jupyter.widget-view+json": {
       "model_id": "65801df3f5874f8bb92680d4d98b3bb3",
       "version_major": 2,
       "version_minor": 0
      },
      "text/plain": [
       "HBox(children=(FloatProgress(value=0.0, description='beta loop', max=6.0, style=ProgressStyle(description_widt…"
      ]
     },
     "metadata": {},
     "output_type": "display_data"
    },
    {
     "name": "stdout",
     "output_type": "stream",
     "text": [
      "\n"
     ]
    },
    {
     "name": "stderr",
     "output_type": "stream",
     "text": [
      "/Users/gwengou/opt/anaconda3/lib/python3.7/site-packages/ipykernel_launcher.py:37: TqdmDeprecationWarning: This function will be removed in tqdm==5.0.0\n",
      "Please use `tqdm.notebook.tqdm` instead of `tqdm.tqdm_notebook`\n"
     ]
    },
    {
     "data": {
      "application/vnd.jupyter.widget-view+json": {
       "model_id": "9b20e397f0b9480a9c0e88b1bd5a668f",
       "version_major": 2,
       "version_minor": 0
      },
      "text/plain": [
       "HBox(children=(FloatProgress(value=0.0, description='beta loop', max=6.0, style=ProgressStyle(description_widt…"
      ]
     },
     "metadata": {},
     "output_type": "display_data"
    },
    {
     "name": "stdout",
     "output_type": "stream",
     "text": [
      "\n",
      "\n"
     ]
    },
    {
     "name": "stderr",
     "output_type": "stream",
     "text": [
      "/Users/gwengou/opt/anaconda3/lib/python3.7/site-packages/ipykernel_launcher.py:35: TqdmDeprecationWarning: This function will be removed in tqdm==5.0.0\n",
      "Please use `tqdm.notebook.tqdm` instead of `tqdm.tqdm_notebook`\n"
     ]
    },
    {
     "data": {
      "application/vnd.jupyter.widget-view+json": {
       "model_id": "f66531457676489196df704360ec8fd3",
       "version_major": 2,
       "version_minor": 0
      },
      "text/plain": [
       "HBox(children=(FloatProgress(value=0.0, description='alpha loop', max=3.0, style=ProgressStyle(description_wid…"
      ]
     },
     "metadata": {},
     "output_type": "display_data"
    },
    {
     "name": "stderr",
     "output_type": "stream",
     "text": [
      "/Users/gwengou/opt/anaconda3/lib/python3.7/site-packages/ipykernel_launcher.py:37: TqdmDeprecationWarning: This function will be removed in tqdm==5.0.0\n",
      "Please use `tqdm.notebook.tqdm` instead of `tqdm.tqdm_notebook`\n"
     ]
    },
    {
     "data": {
      "application/vnd.jupyter.widget-view+json": {
       "model_id": "84a8848c41a3417ba864cae11596cad4",
       "version_major": 2,
       "version_minor": 0
      },
      "text/plain": [
       "HBox(children=(FloatProgress(value=0.0, description='beta loop', max=6.0, style=ProgressStyle(description_widt…"
      ]
     },
     "metadata": {},
     "output_type": "display_data"
    },
    {
     "name": "stdout",
     "output_type": "stream",
     "text": [
      "\n"
     ]
    },
    {
     "name": "stderr",
     "output_type": "stream",
     "text": [
      "/Users/gwengou/opt/anaconda3/lib/python3.7/site-packages/ipykernel_launcher.py:37: TqdmDeprecationWarning: This function will be removed in tqdm==5.0.0\n",
      "Please use `tqdm.notebook.tqdm` instead of `tqdm.tqdm_notebook`\n"
     ]
    },
    {
     "data": {
      "application/vnd.jupyter.widget-view+json": {
       "model_id": "05b23526eaf74e2b8c9e5263c1cec0c0",
       "version_major": 2,
       "version_minor": 0
      },
      "text/plain": [
       "HBox(children=(FloatProgress(value=0.0, description='beta loop', max=6.0, style=ProgressStyle(description_widt…"
      ]
     },
     "metadata": {},
     "output_type": "display_data"
    },
    {
     "name": "stdout",
     "output_type": "stream",
     "text": [
      "\n"
     ]
    },
    {
     "name": "stderr",
     "output_type": "stream",
     "text": [
      "/Users/gwengou/opt/anaconda3/lib/python3.7/site-packages/ipykernel_launcher.py:37: TqdmDeprecationWarning: This function will be removed in tqdm==5.0.0\n",
      "Please use `tqdm.notebook.tqdm` instead of `tqdm.tqdm_notebook`\n"
     ]
    },
    {
     "data": {
      "application/vnd.jupyter.widget-view+json": {
       "model_id": "00680d4e0e3f4024b8f28c80f920cf1c",
       "version_major": 2,
       "version_minor": 0
      },
      "text/plain": [
       "HBox(children=(FloatProgress(value=0.0, description='beta loop', max=6.0, style=ProgressStyle(description_widt…"
      ]
     },
     "metadata": {},
     "output_type": "display_data"
    },
    {
     "name": "stdout",
     "output_type": "stream",
     "text": [
      "\n",
      "\n"
     ]
    },
    {
     "name": "stderr",
     "output_type": "stream",
     "text": [
      "/Users/gwengou/opt/anaconda3/lib/python3.7/site-packages/ipykernel_launcher.py:35: TqdmDeprecationWarning: This function will be removed in tqdm==5.0.0\n",
      "Please use `tqdm.notebook.tqdm` instead of `tqdm.tqdm_notebook`\n"
     ]
    },
    {
     "data": {
      "application/vnd.jupyter.widget-view+json": {
       "model_id": "3935b8368ebe4e07a1f3f34096e63eac",
       "version_major": 2,
       "version_minor": 0
      },
      "text/plain": [
       "HBox(children=(FloatProgress(value=0.0, description='alpha loop', max=3.0, style=ProgressStyle(description_wid…"
      ]
     },
     "metadata": {},
     "output_type": "display_data"
    },
    {
     "name": "stderr",
     "output_type": "stream",
     "text": [
      "/Users/gwengou/opt/anaconda3/lib/python3.7/site-packages/ipykernel_launcher.py:37: TqdmDeprecationWarning: This function will be removed in tqdm==5.0.0\n",
      "Please use `tqdm.notebook.tqdm` instead of `tqdm.tqdm_notebook`\n"
     ]
    },
    {
     "data": {
      "application/vnd.jupyter.widget-view+json": {
       "model_id": "6d3b153090c541058de4f80ea5d7766a",
       "version_major": 2,
       "version_minor": 0
      },
      "text/plain": [
       "HBox(children=(FloatProgress(value=0.0, description='beta loop', max=6.0, style=ProgressStyle(description_widt…"
      ]
     },
     "metadata": {},
     "output_type": "display_data"
    },
    {
     "name": "stdout",
     "output_type": "stream",
     "text": [
      "\n"
     ]
    },
    {
     "name": "stderr",
     "output_type": "stream",
     "text": [
      "/Users/gwengou/opt/anaconda3/lib/python3.7/site-packages/ipykernel_launcher.py:37: TqdmDeprecationWarning: This function will be removed in tqdm==5.0.0\n",
      "Please use `tqdm.notebook.tqdm` instead of `tqdm.tqdm_notebook`\n"
     ]
    },
    {
     "data": {
      "application/vnd.jupyter.widget-view+json": {
       "model_id": "58ef068de23949588d715ed454985deb",
       "version_major": 2,
       "version_minor": 0
      },
      "text/plain": [
       "HBox(children=(FloatProgress(value=0.0, description='beta loop', max=6.0, style=ProgressStyle(description_widt…"
      ]
     },
     "metadata": {},
     "output_type": "display_data"
    },
    {
     "name": "stdout",
     "output_type": "stream",
     "text": [
      "\n"
     ]
    },
    {
     "name": "stderr",
     "output_type": "stream",
     "text": [
      "/Users/gwengou/opt/anaconda3/lib/python3.7/site-packages/ipykernel_launcher.py:37: TqdmDeprecationWarning: This function will be removed in tqdm==5.0.0\n",
      "Please use `tqdm.notebook.tqdm` instead of `tqdm.tqdm_notebook`\n"
     ]
    },
    {
     "data": {
      "application/vnd.jupyter.widget-view+json": {
       "model_id": "e1b4123c4ce146f68e33be69040d756e",
       "version_major": 2,
       "version_minor": 0
      },
      "text/plain": [
       "HBox(children=(FloatProgress(value=0.0, description='beta loop', max=6.0, style=ProgressStyle(description_widt…"
      ]
     },
     "metadata": {},
     "output_type": "display_data"
    },
    {
     "name": "stdout",
     "output_type": "stream",
     "text": [
      "\n",
      "\n"
     ]
    },
    {
     "name": "stderr",
     "output_type": "stream",
     "text": [
      "/Users/gwengou/opt/anaconda3/lib/python3.7/site-packages/ipykernel_launcher.py:35: TqdmDeprecationWarning: This function will be removed in tqdm==5.0.0\n",
      "Please use `tqdm.notebook.tqdm` instead of `tqdm.tqdm_notebook`\n"
     ]
    },
    {
     "data": {
      "application/vnd.jupyter.widget-view+json": {
       "model_id": "e870d231413e4926a0fb6a9a7003f9c5",
       "version_major": 2,
       "version_minor": 0
      },
      "text/plain": [
       "HBox(children=(FloatProgress(value=0.0, description='alpha loop', max=3.0, style=ProgressStyle(description_wid…"
      ]
     },
     "metadata": {},
     "output_type": "display_data"
    },
    {
     "name": "stderr",
     "output_type": "stream",
     "text": [
      "/Users/gwengou/opt/anaconda3/lib/python3.7/site-packages/ipykernel_launcher.py:37: TqdmDeprecationWarning: This function will be removed in tqdm==5.0.0\n",
      "Please use `tqdm.notebook.tqdm` instead of `tqdm.tqdm_notebook`\n"
     ]
    },
    {
     "data": {
      "application/vnd.jupyter.widget-view+json": {
       "model_id": "fcc662ae5ca543e8b7f7ec6ab0352056",
       "version_major": 2,
       "version_minor": 0
      },
      "text/plain": [
       "HBox(children=(FloatProgress(value=0.0, description='beta loop', max=6.0, style=ProgressStyle(description_widt…"
      ]
     },
     "metadata": {},
     "output_type": "display_data"
    },
    {
     "name": "stdout",
     "output_type": "stream",
     "text": [
      "\n"
     ]
    },
    {
     "name": "stderr",
     "output_type": "stream",
     "text": [
      "/Users/gwengou/opt/anaconda3/lib/python3.7/site-packages/ipykernel_launcher.py:37: TqdmDeprecationWarning: This function will be removed in tqdm==5.0.0\n",
      "Please use `tqdm.notebook.tqdm` instead of `tqdm.tqdm_notebook`\n"
     ]
    },
    {
     "data": {
      "application/vnd.jupyter.widget-view+json": {
       "model_id": "449f26237a0a49ca9f85f59b2ce3c171",
       "version_major": 2,
       "version_minor": 0
      },
      "text/plain": [
       "HBox(children=(FloatProgress(value=0.0, description='beta loop', max=6.0, style=ProgressStyle(description_widt…"
      ]
     },
     "metadata": {},
     "output_type": "display_data"
    },
    {
     "name": "stdout",
     "output_type": "stream",
     "text": [
      "\n"
     ]
    },
    {
     "name": "stderr",
     "output_type": "stream",
     "text": [
      "/Users/gwengou/opt/anaconda3/lib/python3.7/site-packages/ipykernel_launcher.py:37: TqdmDeprecationWarning: This function will be removed in tqdm==5.0.0\n",
      "Please use `tqdm.notebook.tqdm` instead of `tqdm.tqdm_notebook`\n"
     ]
    },
    {
     "data": {
      "application/vnd.jupyter.widget-view+json": {
       "model_id": "ac734a1f61374769b08a3d653f6e3df2",
       "version_major": 2,
       "version_minor": 0
      },
      "text/plain": [
       "HBox(children=(FloatProgress(value=0.0, description='beta loop', max=6.0, style=ProgressStyle(description_widt…"
      ]
     },
     "metadata": {},
     "output_type": "display_data"
    },
    {
     "name": "stdout",
     "output_type": "stream",
     "text": [
      "\n",
      "\n"
     ]
    },
    {
     "name": "stderr",
     "output_type": "stream",
     "text": [
      "/Users/gwengou/opt/anaconda3/lib/python3.7/site-packages/ipykernel_launcher.py:35: TqdmDeprecationWarning: This function will be removed in tqdm==5.0.0\n",
      "Please use `tqdm.notebook.tqdm` instead of `tqdm.tqdm_notebook`\n"
     ]
    },
    {
     "data": {
      "application/vnd.jupyter.widget-view+json": {
       "model_id": "c82cb3817e694ad2b381df6efe1ddab1",
       "version_major": 2,
       "version_minor": 0
      },
      "text/plain": [
       "HBox(children=(FloatProgress(value=0.0, description='alpha loop', max=3.0, style=ProgressStyle(description_wid…"
      ]
     },
     "metadata": {},
     "output_type": "display_data"
    },
    {
     "name": "stderr",
     "output_type": "stream",
     "text": [
      "/Users/gwengou/opt/anaconda3/lib/python3.7/site-packages/ipykernel_launcher.py:37: TqdmDeprecationWarning: This function will be removed in tqdm==5.0.0\n",
      "Please use `tqdm.notebook.tqdm` instead of `tqdm.tqdm_notebook`\n"
     ]
    },
    {
     "data": {
      "application/vnd.jupyter.widget-view+json": {
       "model_id": "eb9877d8bcfe41af8e8591788f8b6e02",
       "version_major": 2,
       "version_minor": 0
      },
      "text/plain": [
       "HBox(children=(FloatProgress(value=0.0, description='beta loop', max=6.0, style=ProgressStyle(description_widt…"
      ]
     },
     "metadata": {},
     "output_type": "display_data"
    },
    {
     "name": "stdout",
     "output_type": "stream",
     "text": [
      "\n"
     ]
    },
    {
     "name": "stderr",
     "output_type": "stream",
     "text": [
      "/Users/gwengou/opt/anaconda3/lib/python3.7/site-packages/ipykernel_launcher.py:37: TqdmDeprecationWarning: This function will be removed in tqdm==5.0.0\n",
      "Please use `tqdm.notebook.tqdm` instead of `tqdm.tqdm_notebook`\n"
     ]
    },
    {
     "data": {
      "application/vnd.jupyter.widget-view+json": {
       "model_id": "44df632f3bb242939a734409e52eb3c6",
       "version_major": 2,
       "version_minor": 0
      },
      "text/plain": [
       "HBox(children=(FloatProgress(value=0.0, description='beta loop', max=6.0, style=ProgressStyle(description_widt…"
      ]
     },
     "metadata": {},
     "output_type": "display_data"
    },
    {
     "name": "stdout",
     "output_type": "stream",
     "text": [
      "\n"
     ]
    },
    {
     "name": "stderr",
     "output_type": "stream",
     "text": [
      "/Users/gwengou/opt/anaconda3/lib/python3.7/site-packages/ipykernel_launcher.py:37: TqdmDeprecationWarning: This function will be removed in tqdm==5.0.0\n",
      "Please use `tqdm.notebook.tqdm` instead of `tqdm.tqdm_notebook`\n"
     ]
    },
    {
     "data": {
      "application/vnd.jupyter.widget-view+json": {
       "model_id": "9fd096eb512648aba7e5b4deb71b64c1",
       "version_major": 2,
       "version_minor": 0
      },
      "text/plain": [
       "HBox(children=(FloatProgress(value=0.0, description='beta loop', max=6.0, style=ProgressStyle(description_widt…"
      ]
     },
     "metadata": {},
     "output_type": "display_data"
    },
    {
     "name": "stdout",
     "output_type": "stream",
     "text": [
      "\n",
      "\n",
      "\n"
     ]
    },
    {
     "name": "stderr",
     "output_type": "stream",
     "text": [
      "/Users/gwengou/opt/anaconda3/lib/python3.7/site-packages/ipykernel_launcher.py:33: TqdmDeprecationWarning: This function will be removed in tqdm==5.0.0\n",
      "Please use `tqdm.notebook.tqdm` instead of `tqdm.tqdm_notebook`\n"
     ]
    },
    {
     "data": {
      "application/vnd.jupyter.widget-view+json": {
       "model_id": "b7152b8f83df4c44956af57be6855f09",
       "version_major": 2,
       "version_minor": 0
      },
      "text/plain": [
       "HBox(children=(FloatProgress(value=0.0, description='k loop', max=7.0, style=ProgressStyle(description_width='…"
      ]
     },
     "metadata": {},
     "output_type": "display_data"
    },
    {
     "name": "stderr",
     "output_type": "stream",
     "text": [
      "/Users/gwengou/opt/anaconda3/lib/python3.7/site-packages/ipykernel_launcher.py:35: TqdmDeprecationWarning: This function will be removed in tqdm==5.0.0\n",
      "Please use `tqdm.notebook.tqdm` instead of `tqdm.tqdm_notebook`\n"
     ]
    },
    {
     "data": {
      "application/vnd.jupyter.widget-view+json": {
       "model_id": "6dfe7ed284d443158b2ca6e4e436e603",
       "version_major": 2,
       "version_minor": 0
      },
      "text/plain": [
       "HBox(children=(FloatProgress(value=0.0, description='alpha loop', max=3.0, style=ProgressStyle(description_wid…"
      ]
     },
     "metadata": {},
     "output_type": "display_data"
    },
    {
     "name": "stderr",
     "output_type": "stream",
     "text": [
      "/Users/gwengou/opt/anaconda3/lib/python3.7/site-packages/ipykernel_launcher.py:37: TqdmDeprecationWarning: This function will be removed in tqdm==5.0.0\n",
      "Please use `tqdm.notebook.tqdm` instead of `tqdm.tqdm_notebook`\n"
     ]
    },
    {
     "data": {
      "application/vnd.jupyter.widget-view+json": {
       "model_id": "e42ad8b32ee34283991101f573f5e44b",
       "version_major": 2,
       "version_minor": 0
      },
      "text/plain": [
       "HBox(children=(FloatProgress(value=0.0, description='beta loop', max=6.0, style=ProgressStyle(description_widt…"
      ]
     },
     "metadata": {},
     "output_type": "display_data"
    },
    {
     "name": "stdout",
     "output_type": "stream",
     "text": [
      "\n"
     ]
    },
    {
     "name": "stderr",
     "output_type": "stream",
     "text": [
      "/Users/gwengou/opt/anaconda3/lib/python3.7/site-packages/ipykernel_launcher.py:37: TqdmDeprecationWarning: This function will be removed in tqdm==5.0.0\n",
      "Please use `tqdm.notebook.tqdm` instead of `tqdm.tqdm_notebook`\n"
     ]
    },
    {
     "data": {
      "application/vnd.jupyter.widget-view+json": {
       "model_id": "d9809a524b5c42c5b9842c2f81e3f762",
       "version_major": 2,
       "version_minor": 0
      },
      "text/plain": [
       "HBox(children=(FloatProgress(value=0.0, description='beta loop', max=6.0, style=ProgressStyle(description_widt…"
      ]
     },
     "metadata": {},
     "output_type": "display_data"
    },
    {
     "name": "stdout",
     "output_type": "stream",
     "text": [
      "\n"
     ]
    },
    {
     "name": "stderr",
     "output_type": "stream",
     "text": [
      "/Users/gwengou/opt/anaconda3/lib/python3.7/site-packages/ipykernel_launcher.py:37: TqdmDeprecationWarning: This function will be removed in tqdm==5.0.0\n",
      "Please use `tqdm.notebook.tqdm` instead of `tqdm.tqdm_notebook`\n"
     ]
    },
    {
     "data": {
      "application/vnd.jupyter.widget-view+json": {
       "model_id": "788e96a1f2ab48fb8756b9cef20eca89",
       "version_major": 2,
       "version_minor": 0
      },
      "text/plain": [
       "HBox(children=(FloatProgress(value=0.0, description='beta loop', max=6.0, style=ProgressStyle(description_widt…"
      ]
     },
     "metadata": {},
     "output_type": "display_data"
    },
    {
     "name": "stdout",
     "output_type": "stream",
     "text": [
      "\n",
      "\n"
     ]
    },
    {
     "name": "stderr",
     "output_type": "stream",
     "text": [
      "/Users/gwengou/opt/anaconda3/lib/python3.7/site-packages/ipykernel_launcher.py:35: TqdmDeprecationWarning: This function will be removed in tqdm==5.0.0\n",
      "Please use `tqdm.notebook.tqdm` instead of `tqdm.tqdm_notebook`\n"
     ]
    },
    {
     "data": {
      "application/vnd.jupyter.widget-view+json": {
       "model_id": "54114faa24dd442b8fb165a814baa4cd",
       "version_major": 2,
       "version_minor": 0
      },
      "text/plain": [
       "HBox(children=(FloatProgress(value=0.0, description='alpha loop', max=3.0, style=ProgressStyle(description_wid…"
      ]
     },
     "metadata": {},
     "output_type": "display_data"
    },
    {
     "name": "stderr",
     "output_type": "stream",
     "text": [
      "/Users/gwengou/opt/anaconda3/lib/python3.7/site-packages/ipykernel_launcher.py:37: TqdmDeprecationWarning: This function will be removed in tqdm==5.0.0\n",
      "Please use `tqdm.notebook.tqdm` instead of `tqdm.tqdm_notebook`\n"
     ]
    },
    {
     "data": {
      "application/vnd.jupyter.widget-view+json": {
       "model_id": "989b7b9a624644d4b763dce60a4dc82c",
       "version_major": 2,
       "version_minor": 0
      },
      "text/plain": [
       "HBox(children=(FloatProgress(value=0.0, description='beta loop', max=6.0, style=ProgressStyle(description_widt…"
      ]
     },
     "metadata": {},
     "output_type": "display_data"
    },
    {
     "name": "stdout",
     "output_type": "stream",
     "text": [
      "\n"
     ]
    },
    {
     "name": "stderr",
     "output_type": "stream",
     "text": [
      "/Users/gwengou/opt/anaconda3/lib/python3.7/site-packages/ipykernel_launcher.py:37: TqdmDeprecationWarning: This function will be removed in tqdm==5.0.0\n",
      "Please use `tqdm.notebook.tqdm` instead of `tqdm.tqdm_notebook`\n"
     ]
    },
    {
     "data": {
      "application/vnd.jupyter.widget-view+json": {
       "model_id": "f577383bd7ec4d65b94c1d265f94ca6f",
       "version_major": 2,
       "version_minor": 0
      },
      "text/plain": [
       "HBox(children=(FloatProgress(value=0.0, description='beta loop', max=6.0, style=ProgressStyle(description_widt…"
      ]
     },
     "metadata": {},
     "output_type": "display_data"
    },
    {
     "name": "stdout",
     "output_type": "stream",
     "text": [
      "\n"
     ]
    },
    {
     "name": "stderr",
     "output_type": "stream",
     "text": [
      "/Users/gwengou/opt/anaconda3/lib/python3.7/site-packages/ipykernel_launcher.py:37: TqdmDeprecationWarning: This function will be removed in tqdm==5.0.0\n",
      "Please use `tqdm.notebook.tqdm` instead of `tqdm.tqdm_notebook`\n"
     ]
    },
    {
     "data": {
      "application/vnd.jupyter.widget-view+json": {
       "model_id": "866d3916f4a6456dbd8989bd970a1a23",
       "version_major": 2,
       "version_minor": 0
      },
      "text/plain": [
       "HBox(children=(FloatProgress(value=0.0, description='beta loop', max=6.0, style=ProgressStyle(description_widt…"
      ]
     },
     "metadata": {},
     "output_type": "display_data"
    },
    {
     "name": "stdout",
     "output_type": "stream",
     "text": [
      "\n",
      "\n"
     ]
    },
    {
     "name": "stderr",
     "output_type": "stream",
     "text": [
      "/Users/gwengou/opt/anaconda3/lib/python3.7/site-packages/ipykernel_launcher.py:35: TqdmDeprecationWarning: This function will be removed in tqdm==5.0.0\n",
      "Please use `tqdm.notebook.tqdm` instead of `tqdm.tqdm_notebook`\n"
     ]
    },
    {
     "data": {
      "application/vnd.jupyter.widget-view+json": {
       "model_id": "2599ae329b744a67819369bc9ac72bbf",
       "version_major": 2,
       "version_minor": 0
      },
      "text/plain": [
       "HBox(children=(FloatProgress(value=0.0, description='alpha loop', max=3.0, style=ProgressStyle(description_wid…"
      ]
     },
     "metadata": {},
     "output_type": "display_data"
    },
    {
     "name": "stderr",
     "output_type": "stream",
     "text": [
      "/Users/gwengou/opt/anaconda3/lib/python3.7/site-packages/ipykernel_launcher.py:37: TqdmDeprecationWarning: This function will be removed in tqdm==5.0.0\n",
      "Please use `tqdm.notebook.tqdm` instead of `tqdm.tqdm_notebook`\n"
     ]
    },
    {
     "data": {
      "application/vnd.jupyter.widget-view+json": {
       "model_id": "9e2eb944123f4356bdaf10e335605b4f",
       "version_major": 2,
       "version_minor": 0
      },
      "text/plain": [
       "HBox(children=(FloatProgress(value=0.0, description='beta loop', max=6.0, style=ProgressStyle(description_widt…"
      ]
     },
     "metadata": {},
     "output_type": "display_data"
    },
    {
     "name": "stdout",
     "output_type": "stream",
     "text": [
      "\n"
     ]
    },
    {
     "name": "stderr",
     "output_type": "stream",
     "text": [
      "/Users/gwengou/opt/anaconda3/lib/python3.7/site-packages/ipykernel_launcher.py:37: TqdmDeprecationWarning: This function will be removed in tqdm==5.0.0\n",
      "Please use `tqdm.notebook.tqdm` instead of `tqdm.tqdm_notebook`\n"
     ]
    },
    {
     "data": {
      "application/vnd.jupyter.widget-view+json": {
       "model_id": "99fb463a78b1422fab39971f81db1af1",
       "version_major": 2,
       "version_minor": 0
      },
      "text/plain": [
       "HBox(children=(FloatProgress(value=0.0, description='beta loop', max=6.0, style=ProgressStyle(description_widt…"
      ]
     },
     "metadata": {},
     "output_type": "display_data"
    },
    {
     "name": "stdout",
     "output_type": "stream",
     "text": [
      "\n"
     ]
    },
    {
     "name": "stderr",
     "output_type": "stream",
     "text": [
      "/Users/gwengou/opt/anaconda3/lib/python3.7/site-packages/ipykernel_launcher.py:37: TqdmDeprecationWarning: This function will be removed in tqdm==5.0.0\n",
      "Please use `tqdm.notebook.tqdm` instead of `tqdm.tqdm_notebook`\n"
     ]
    },
    {
     "data": {
      "application/vnd.jupyter.widget-view+json": {
       "model_id": "56c843cfd04e45f7a97070a41953aca5",
       "version_major": 2,
       "version_minor": 0
      },
      "text/plain": [
       "HBox(children=(FloatProgress(value=0.0, description='beta loop', max=6.0, style=ProgressStyle(description_widt…"
      ]
     },
     "metadata": {},
     "output_type": "display_data"
    },
    {
     "name": "stdout",
     "output_type": "stream",
     "text": [
      "\n",
      "\n"
     ]
    },
    {
     "name": "stderr",
     "output_type": "stream",
     "text": [
      "/Users/gwengou/opt/anaconda3/lib/python3.7/site-packages/ipykernel_launcher.py:35: TqdmDeprecationWarning: This function will be removed in tqdm==5.0.0\n",
      "Please use `tqdm.notebook.tqdm` instead of `tqdm.tqdm_notebook`\n"
     ]
    },
    {
     "data": {
      "application/vnd.jupyter.widget-view+json": {
       "model_id": "d5050897fdc348738ac359f2467050de",
       "version_major": 2,
       "version_minor": 0
      },
      "text/plain": [
       "HBox(children=(FloatProgress(value=0.0, description='alpha loop', max=3.0, style=ProgressStyle(description_wid…"
      ]
     },
     "metadata": {},
     "output_type": "display_data"
    },
    {
     "name": "stderr",
     "output_type": "stream",
     "text": [
      "/Users/gwengou/opt/anaconda3/lib/python3.7/site-packages/ipykernel_launcher.py:37: TqdmDeprecationWarning: This function will be removed in tqdm==5.0.0\n",
      "Please use `tqdm.notebook.tqdm` instead of `tqdm.tqdm_notebook`\n"
     ]
    },
    {
     "data": {
      "application/vnd.jupyter.widget-view+json": {
       "model_id": "a0f688034ad949c89de1004a82799416",
       "version_major": 2,
       "version_minor": 0
      },
      "text/plain": [
       "HBox(children=(FloatProgress(value=0.0, description='beta loop', max=6.0, style=ProgressStyle(description_widt…"
      ]
     },
     "metadata": {},
     "output_type": "display_data"
    },
    {
     "name": "stdout",
     "output_type": "stream",
     "text": [
      "\n"
     ]
    },
    {
     "name": "stderr",
     "output_type": "stream",
     "text": [
      "/Users/gwengou/opt/anaconda3/lib/python3.7/site-packages/ipykernel_launcher.py:37: TqdmDeprecationWarning: This function will be removed in tqdm==5.0.0\n",
      "Please use `tqdm.notebook.tqdm` instead of `tqdm.tqdm_notebook`\n"
     ]
    },
    {
     "data": {
      "application/vnd.jupyter.widget-view+json": {
       "model_id": "663f3b44636f481385f0722b4a624a3b",
       "version_major": 2,
       "version_minor": 0
      },
      "text/plain": [
       "HBox(children=(FloatProgress(value=0.0, description='beta loop', max=6.0, style=ProgressStyle(description_widt…"
      ]
     },
     "metadata": {},
     "output_type": "display_data"
    },
    {
     "name": "stdout",
     "output_type": "stream",
     "text": [
      "\n"
     ]
    },
    {
     "name": "stderr",
     "output_type": "stream",
     "text": [
      "/Users/gwengou/opt/anaconda3/lib/python3.7/site-packages/ipykernel_launcher.py:37: TqdmDeprecationWarning: This function will be removed in tqdm==5.0.0\n",
      "Please use `tqdm.notebook.tqdm` instead of `tqdm.tqdm_notebook`\n"
     ]
    },
    {
     "data": {
      "application/vnd.jupyter.widget-view+json": {
       "model_id": "c3f833f123ce400ca22a7e4dab19c290",
       "version_major": 2,
       "version_minor": 0
      },
      "text/plain": [
       "HBox(children=(FloatProgress(value=0.0, description='beta loop', max=6.0, style=ProgressStyle(description_widt…"
      ]
     },
     "metadata": {},
     "output_type": "display_data"
    },
    {
     "name": "stdout",
     "output_type": "stream",
     "text": [
      "\n",
      "\n"
     ]
    },
    {
     "name": "stderr",
     "output_type": "stream",
     "text": [
      "/Users/gwengou/opt/anaconda3/lib/python3.7/site-packages/ipykernel_launcher.py:35: TqdmDeprecationWarning: This function will be removed in tqdm==5.0.0\n",
      "Please use `tqdm.notebook.tqdm` instead of `tqdm.tqdm_notebook`\n"
     ]
    },
    {
     "data": {
      "application/vnd.jupyter.widget-view+json": {
       "model_id": "24ccbeff2c6f43488b140ff38ac54053",
       "version_major": 2,
       "version_minor": 0
      },
      "text/plain": [
       "HBox(children=(FloatProgress(value=0.0, description='alpha loop', max=3.0, style=ProgressStyle(description_wid…"
      ]
     },
     "metadata": {},
     "output_type": "display_data"
    },
    {
     "name": "stderr",
     "output_type": "stream",
     "text": [
      "/Users/gwengou/opt/anaconda3/lib/python3.7/site-packages/ipykernel_launcher.py:37: TqdmDeprecationWarning: This function will be removed in tqdm==5.0.0\n",
      "Please use `tqdm.notebook.tqdm` instead of `tqdm.tqdm_notebook`\n"
     ]
    },
    {
     "data": {
      "application/vnd.jupyter.widget-view+json": {
       "model_id": "cc37b55929a8445e9c47dbfd4760be19",
       "version_major": 2,
       "version_minor": 0
      },
      "text/plain": [
       "HBox(children=(FloatProgress(value=0.0, description='beta loop', max=6.0, style=ProgressStyle(description_widt…"
      ]
     },
     "metadata": {},
     "output_type": "display_data"
    },
    {
     "name": "stdout",
     "output_type": "stream",
     "text": [
      "\n"
     ]
    },
    {
     "name": "stderr",
     "output_type": "stream",
     "text": [
      "/Users/gwengou/opt/anaconda3/lib/python3.7/site-packages/ipykernel_launcher.py:37: TqdmDeprecationWarning: This function will be removed in tqdm==5.0.0\n",
      "Please use `tqdm.notebook.tqdm` instead of `tqdm.tqdm_notebook`\n"
     ]
    },
    {
     "data": {
      "application/vnd.jupyter.widget-view+json": {
       "model_id": "c2a0c319b86d44628904c6c057974013",
       "version_major": 2,
       "version_minor": 0
      },
      "text/plain": [
       "HBox(children=(FloatProgress(value=0.0, description='beta loop', max=6.0, style=ProgressStyle(description_widt…"
      ]
     },
     "metadata": {},
     "output_type": "display_data"
    },
    {
     "name": "stdout",
     "output_type": "stream",
     "text": [
      "\n"
     ]
    },
    {
     "name": "stderr",
     "output_type": "stream",
     "text": [
      "/Users/gwengou/opt/anaconda3/lib/python3.7/site-packages/ipykernel_launcher.py:37: TqdmDeprecationWarning: This function will be removed in tqdm==5.0.0\n",
      "Please use `tqdm.notebook.tqdm` instead of `tqdm.tqdm_notebook`\n"
     ]
    },
    {
     "data": {
      "application/vnd.jupyter.widget-view+json": {
       "model_id": "6e92e992d8844f71b46dcd9b74a9f2ba",
       "version_major": 2,
       "version_minor": 0
      },
      "text/plain": [
       "HBox(children=(FloatProgress(value=0.0, description='beta loop', max=6.0, style=ProgressStyle(description_widt…"
      ]
     },
     "metadata": {},
     "output_type": "display_data"
    },
    {
     "name": "stdout",
     "output_type": "stream",
     "text": [
      "\n",
      "\n"
     ]
    },
    {
     "name": "stderr",
     "output_type": "stream",
     "text": [
      "/Users/gwengou/opt/anaconda3/lib/python3.7/site-packages/ipykernel_launcher.py:35: TqdmDeprecationWarning: This function will be removed in tqdm==5.0.0\n",
      "Please use `tqdm.notebook.tqdm` instead of `tqdm.tqdm_notebook`\n"
     ]
    },
    {
     "data": {
      "application/vnd.jupyter.widget-view+json": {
       "model_id": "cb8853f4c6344adba7b52ffc1a7ad5bc",
       "version_major": 2,
       "version_minor": 0
      },
      "text/plain": [
       "HBox(children=(FloatProgress(value=0.0, description='alpha loop', max=3.0, style=ProgressStyle(description_wid…"
      ]
     },
     "metadata": {},
     "output_type": "display_data"
    },
    {
     "name": "stderr",
     "output_type": "stream",
     "text": [
      "/Users/gwengou/opt/anaconda3/lib/python3.7/site-packages/ipykernel_launcher.py:37: TqdmDeprecationWarning: This function will be removed in tqdm==5.0.0\n",
      "Please use `tqdm.notebook.tqdm` instead of `tqdm.tqdm_notebook`\n"
     ]
    },
    {
     "data": {
      "application/vnd.jupyter.widget-view+json": {
       "model_id": "7cce1d535f0c4b978072aaefb8e3c3c0",
       "version_major": 2,
       "version_minor": 0
      },
      "text/plain": [
       "HBox(children=(FloatProgress(value=0.0, description='beta loop', max=6.0, style=ProgressStyle(description_widt…"
      ]
     },
     "metadata": {},
     "output_type": "display_data"
    },
    {
     "name": "stdout",
     "output_type": "stream",
     "text": [
      "\n"
     ]
    },
    {
     "name": "stderr",
     "output_type": "stream",
     "text": [
      "/Users/gwengou/opt/anaconda3/lib/python3.7/site-packages/ipykernel_launcher.py:37: TqdmDeprecationWarning: This function will be removed in tqdm==5.0.0\n",
      "Please use `tqdm.notebook.tqdm` instead of `tqdm.tqdm_notebook`\n"
     ]
    },
    {
     "data": {
      "application/vnd.jupyter.widget-view+json": {
       "model_id": "c34332aaa6504289b88c0f98c494f5fc",
       "version_major": 2,
       "version_minor": 0
      },
      "text/plain": [
       "HBox(children=(FloatProgress(value=0.0, description='beta loop', max=6.0, style=ProgressStyle(description_widt…"
      ]
     },
     "metadata": {},
     "output_type": "display_data"
    },
    {
     "name": "stdout",
     "output_type": "stream",
     "text": [
      "\n"
     ]
    },
    {
     "name": "stderr",
     "output_type": "stream",
     "text": [
      "/Users/gwengou/opt/anaconda3/lib/python3.7/site-packages/ipykernel_launcher.py:37: TqdmDeprecationWarning: This function will be removed in tqdm==5.0.0\n",
      "Please use `tqdm.notebook.tqdm` instead of `tqdm.tqdm_notebook`\n"
     ]
    },
    {
     "data": {
      "application/vnd.jupyter.widget-view+json": {
       "model_id": "64e5d69ebdf04f9697a053c26a4adab4",
       "version_major": 2,
       "version_minor": 0
      },
      "text/plain": [
       "HBox(children=(FloatProgress(value=0.0, description='beta loop', max=6.0, style=ProgressStyle(description_widt…"
      ]
     },
     "metadata": {},
     "output_type": "display_data"
    },
    {
     "name": "stdout",
     "output_type": "stream",
     "text": [
      "\n",
      "\n"
     ]
    },
    {
     "name": "stderr",
     "output_type": "stream",
     "text": [
      "/Users/gwengou/opt/anaconda3/lib/python3.7/site-packages/ipykernel_launcher.py:35: TqdmDeprecationWarning: This function will be removed in tqdm==5.0.0\n",
      "Please use `tqdm.notebook.tqdm` instead of `tqdm.tqdm_notebook`\n"
     ]
    },
    {
     "data": {
      "application/vnd.jupyter.widget-view+json": {
       "model_id": "3ae6c3635e474230b7f3bb8d2653300c",
       "version_major": 2,
       "version_minor": 0
      },
      "text/plain": [
       "HBox(children=(FloatProgress(value=0.0, description='alpha loop', max=3.0, style=ProgressStyle(description_wid…"
      ]
     },
     "metadata": {},
     "output_type": "display_data"
    },
    {
     "name": "stderr",
     "output_type": "stream",
     "text": [
      "/Users/gwengou/opt/anaconda3/lib/python3.7/site-packages/ipykernel_launcher.py:37: TqdmDeprecationWarning: This function will be removed in tqdm==5.0.0\n",
      "Please use `tqdm.notebook.tqdm` instead of `tqdm.tqdm_notebook`\n"
     ]
    },
    {
     "data": {
      "application/vnd.jupyter.widget-view+json": {
       "model_id": "c08b0ffb1caf4b039bb04636235c2fbb",
       "version_major": 2,
       "version_minor": 0
      },
      "text/plain": [
       "HBox(children=(FloatProgress(value=0.0, description='beta loop', max=6.0, style=ProgressStyle(description_widt…"
      ]
     },
     "metadata": {},
     "output_type": "display_data"
    },
    {
     "name": "stdout",
     "output_type": "stream",
     "text": [
      "\n"
     ]
    },
    {
     "name": "stderr",
     "output_type": "stream",
     "text": [
      "/Users/gwengou/opt/anaconda3/lib/python3.7/site-packages/ipykernel_launcher.py:37: TqdmDeprecationWarning: This function will be removed in tqdm==5.0.0\n",
      "Please use `tqdm.notebook.tqdm` instead of `tqdm.tqdm_notebook`\n"
     ]
    },
    {
     "data": {
      "application/vnd.jupyter.widget-view+json": {
       "model_id": "57016c4ace6247eb9afd54dff785de24",
       "version_major": 2,
       "version_minor": 0
      },
      "text/plain": [
       "HBox(children=(FloatProgress(value=0.0, description='beta loop', max=6.0, style=ProgressStyle(description_widt…"
      ]
     },
     "metadata": {},
     "output_type": "display_data"
    },
    {
     "name": "stdout",
     "output_type": "stream",
     "text": [
      "\n"
     ]
    },
    {
     "name": "stderr",
     "output_type": "stream",
     "text": [
      "/Users/gwengou/opt/anaconda3/lib/python3.7/site-packages/ipykernel_launcher.py:37: TqdmDeprecationWarning: This function will be removed in tqdm==5.0.0\n",
      "Please use `tqdm.notebook.tqdm` instead of `tqdm.tqdm_notebook`\n"
     ]
    },
    {
     "data": {
      "application/vnd.jupyter.widget-view+json": {
       "model_id": "8dd7fb8a80a842d5a6bd5fce7c74b6b3",
       "version_major": 2,
       "version_minor": 0
      },
      "text/plain": [
       "HBox(children=(FloatProgress(value=0.0, description='beta loop', max=6.0, style=ProgressStyle(description_widt…"
      ]
     },
     "metadata": {},
     "output_type": "display_data"
    },
    {
     "name": "stdout",
     "output_type": "stream",
     "text": [
      "\n",
      "\n",
      "\n"
     ]
    },
    {
     "name": "stderr",
     "output_type": "stream",
     "text": [
      "/Users/gwengou/opt/anaconda3/lib/python3.7/site-packages/ipykernel_launcher.py:33: TqdmDeprecationWarning: This function will be removed in tqdm==5.0.0\n",
      "Please use `tqdm.notebook.tqdm` instead of `tqdm.tqdm_notebook`\n"
     ]
    },
    {
     "data": {
      "application/vnd.jupyter.widget-view+json": {
       "model_id": "f2c5f2b8f5d944e089611deb7639bd9c",
       "version_major": 2,
       "version_minor": 0
      },
      "text/plain": [
       "HBox(children=(FloatProgress(value=0.0, description='k loop', max=7.0, style=ProgressStyle(description_width='…"
      ]
     },
     "metadata": {},
     "output_type": "display_data"
    },
    {
     "name": "stderr",
     "output_type": "stream",
     "text": [
      "/Users/gwengou/opt/anaconda3/lib/python3.7/site-packages/ipykernel_launcher.py:35: TqdmDeprecationWarning: This function will be removed in tqdm==5.0.0\n",
      "Please use `tqdm.notebook.tqdm` instead of `tqdm.tqdm_notebook`\n"
     ]
    },
    {
     "data": {
      "application/vnd.jupyter.widget-view+json": {
       "model_id": "639d9f03e3934ecd9f36d8d3108d9777",
       "version_major": 2,
       "version_minor": 0
      },
      "text/plain": [
       "HBox(children=(FloatProgress(value=0.0, description='alpha loop', max=3.0, style=ProgressStyle(description_wid…"
      ]
     },
     "metadata": {},
     "output_type": "display_data"
    },
    {
     "name": "stderr",
     "output_type": "stream",
     "text": [
      "/Users/gwengou/opt/anaconda3/lib/python3.7/site-packages/ipykernel_launcher.py:37: TqdmDeprecationWarning: This function will be removed in tqdm==5.0.0\n",
      "Please use `tqdm.notebook.tqdm` instead of `tqdm.tqdm_notebook`\n"
     ]
    },
    {
     "data": {
      "application/vnd.jupyter.widget-view+json": {
       "model_id": "3f35789655e84b64ac9c32715e081914",
       "version_major": 2,
       "version_minor": 0
      },
      "text/plain": [
       "HBox(children=(FloatProgress(value=0.0, description='beta loop', max=6.0, style=ProgressStyle(description_widt…"
      ]
     },
     "metadata": {},
     "output_type": "display_data"
    },
    {
     "name": "stdout",
     "output_type": "stream",
     "text": [
      "\n"
     ]
    },
    {
     "name": "stderr",
     "output_type": "stream",
     "text": [
      "/Users/gwengou/opt/anaconda3/lib/python3.7/site-packages/ipykernel_launcher.py:37: TqdmDeprecationWarning: This function will be removed in tqdm==5.0.0\n",
      "Please use `tqdm.notebook.tqdm` instead of `tqdm.tqdm_notebook`\n"
     ]
    },
    {
     "data": {
      "application/vnd.jupyter.widget-view+json": {
       "model_id": "7a5ec83d4ad34ed289aab649e7629b2b",
       "version_major": 2,
       "version_minor": 0
      },
      "text/plain": [
       "HBox(children=(FloatProgress(value=0.0, description='beta loop', max=6.0, style=ProgressStyle(description_widt…"
      ]
     },
     "metadata": {},
     "output_type": "display_data"
    },
    {
     "name": "stdout",
     "output_type": "stream",
     "text": [
      "\n"
     ]
    },
    {
     "name": "stderr",
     "output_type": "stream",
     "text": [
      "/Users/gwengou/opt/anaconda3/lib/python3.7/site-packages/ipykernel_launcher.py:37: TqdmDeprecationWarning: This function will be removed in tqdm==5.0.0\n",
      "Please use `tqdm.notebook.tqdm` instead of `tqdm.tqdm_notebook`\n"
     ]
    },
    {
     "data": {
      "application/vnd.jupyter.widget-view+json": {
       "model_id": "ade09bee297541d88f2ac13aea80590b",
       "version_major": 2,
       "version_minor": 0
      },
      "text/plain": [
       "HBox(children=(FloatProgress(value=0.0, description='beta loop', max=6.0, style=ProgressStyle(description_widt…"
      ]
     },
     "metadata": {},
     "output_type": "display_data"
    },
    {
     "name": "stdout",
     "output_type": "stream",
     "text": [
      "\n",
      "\n"
     ]
    },
    {
     "name": "stderr",
     "output_type": "stream",
     "text": [
      "/Users/gwengou/opt/anaconda3/lib/python3.7/site-packages/ipykernel_launcher.py:35: TqdmDeprecationWarning: This function will be removed in tqdm==5.0.0\n",
      "Please use `tqdm.notebook.tqdm` instead of `tqdm.tqdm_notebook`\n"
     ]
    },
    {
     "data": {
      "application/vnd.jupyter.widget-view+json": {
       "model_id": "83955b0ae1994d52803f06fa100ab598",
       "version_major": 2,
       "version_minor": 0
      },
      "text/plain": [
       "HBox(children=(FloatProgress(value=0.0, description='alpha loop', max=3.0, style=ProgressStyle(description_wid…"
      ]
     },
     "metadata": {},
     "output_type": "display_data"
    },
    {
     "name": "stderr",
     "output_type": "stream",
     "text": [
      "/Users/gwengou/opt/anaconda3/lib/python3.7/site-packages/ipykernel_launcher.py:37: TqdmDeprecationWarning: This function will be removed in tqdm==5.0.0\n",
      "Please use `tqdm.notebook.tqdm` instead of `tqdm.tqdm_notebook`\n"
     ]
    },
    {
     "data": {
      "application/vnd.jupyter.widget-view+json": {
       "model_id": "340bbd5c1718494b9e8de4f66275f096",
       "version_major": 2,
       "version_minor": 0
      },
      "text/plain": [
       "HBox(children=(FloatProgress(value=0.0, description='beta loop', max=6.0, style=ProgressStyle(description_widt…"
      ]
     },
     "metadata": {},
     "output_type": "display_data"
    },
    {
     "name": "stdout",
     "output_type": "stream",
     "text": [
      "\n"
     ]
    },
    {
     "name": "stderr",
     "output_type": "stream",
     "text": [
      "/Users/gwengou/opt/anaconda3/lib/python3.7/site-packages/ipykernel_launcher.py:37: TqdmDeprecationWarning: This function will be removed in tqdm==5.0.0\n",
      "Please use `tqdm.notebook.tqdm` instead of `tqdm.tqdm_notebook`\n"
     ]
    },
    {
     "data": {
      "application/vnd.jupyter.widget-view+json": {
       "model_id": "de76e5882221465d921358900a106e48",
       "version_major": 2,
       "version_minor": 0
      },
      "text/plain": [
       "HBox(children=(FloatProgress(value=0.0, description='beta loop', max=6.0, style=ProgressStyle(description_widt…"
      ]
     },
     "metadata": {},
     "output_type": "display_data"
    },
    {
     "name": "stdout",
     "output_type": "stream",
     "text": [
      "\n"
     ]
    },
    {
     "name": "stderr",
     "output_type": "stream",
     "text": [
      "/Users/gwengou/opt/anaconda3/lib/python3.7/site-packages/ipykernel_launcher.py:37: TqdmDeprecationWarning: This function will be removed in tqdm==5.0.0\n",
      "Please use `tqdm.notebook.tqdm` instead of `tqdm.tqdm_notebook`\n"
     ]
    },
    {
     "data": {
      "application/vnd.jupyter.widget-view+json": {
       "model_id": "91815eeebe4540b1834d1b5849cf5634",
       "version_major": 2,
       "version_minor": 0
      },
      "text/plain": [
       "HBox(children=(FloatProgress(value=0.0, description='beta loop', max=6.0, style=ProgressStyle(description_widt…"
      ]
     },
     "metadata": {},
     "output_type": "display_data"
    },
    {
     "name": "stdout",
     "output_type": "stream",
     "text": [
      "\n",
      "\n"
     ]
    },
    {
     "name": "stderr",
     "output_type": "stream",
     "text": [
      "/Users/gwengou/opt/anaconda3/lib/python3.7/site-packages/ipykernel_launcher.py:35: TqdmDeprecationWarning: This function will be removed in tqdm==5.0.0\n",
      "Please use `tqdm.notebook.tqdm` instead of `tqdm.tqdm_notebook`\n"
     ]
    },
    {
     "data": {
      "application/vnd.jupyter.widget-view+json": {
       "model_id": "750103ab3cd841ce839769da57b072eb",
       "version_major": 2,
       "version_minor": 0
      },
      "text/plain": [
       "HBox(children=(FloatProgress(value=0.0, description='alpha loop', max=3.0, style=ProgressStyle(description_wid…"
      ]
     },
     "metadata": {},
     "output_type": "display_data"
    },
    {
     "name": "stderr",
     "output_type": "stream",
     "text": [
      "/Users/gwengou/opt/anaconda3/lib/python3.7/site-packages/ipykernel_launcher.py:37: TqdmDeprecationWarning: This function will be removed in tqdm==5.0.0\n",
      "Please use `tqdm.notebook.tqdm` instead of `tqdm.tqdm_notebook`\n"
     ]
    },
    {
     "data": {
      "application/vnd.jupyter.widget-view+json": {
       "model_id": "c242f87eb76e47d5b5c90a9c226650e1",
       "version_major": 2,
       "version_minor": 0
      },
      "text/plain": [
       "HBox(children=(FloatProgress(value=0.0, description='beta loop', max=6.0, style=ProgressStyle(description_widt…"
      ]
     },
     "metadata": {},
     "output_type": "display_data"
    },
    {
     "name": "stdout",
     "output_type": "stream",
     "text": [
      "\n"
     ]
    },
    {
     "name": "stderr",
     "output_type": "stream",
     "text": [
      "/Users/gwengou/opt/anaconda3/lib/python3.7/site-packages/ipykernel_launcher.py:37: TqdmDeprecationWarning: This function will be removed in tqdm==5.0.0\n",
      "Please use `tqdm.notebook.tqdm` instead of `tqdm.tqdm_notebook`\n"
     ]
    },
    {
     "data": {
      "application/vnd.jupyter.widget-view+json": {
       "model_id": "98e4d24493424e2298e181f7178d6594",
       "version_major": 2,
       "version_minor": 0
      },
      "text/plain": [
       "HBox(children=(FloatProgress(value=0.0, description='beta loop', max=6.0, style=ProgressStyle(description_widt…"
      ]
     },
     "metadata": {},
     "output_type": "display_data"
    },
    {
     "name": "stdout",
     "output_type": "stream",
     "text": [
      "\n"
     ]
    },
    {
     "name": "stderr",
     "output_type": "stream",
     "text": [
      "/Users/gwengou/opt/anaconda3/lib/python3.7/site-packages/ipykernel_launcher.py:37: TqdmDeprecationWarning: This function will be removed in tqdm==5.0.0\n",
      "Please use `tqdm.notebook.tqdm` instead of `tqdm.tqdm_notebook`\n"
     ]
    },
    {
     "data": {
      "application/vnd.jupyter.widget-view+json": {
       "model_id": "237cd62523c8479c873598238979d012",
       "version_major": 2,
       "version_minor": 0
      },
      "text/plain": [
       "HBox(children=(FloatProgress(value=0.0, description='beta loop', max=6.0, style=ProgressStyle(description_widt…"
      ]
     },
     "metadata": {},
     "output_type": "display_data"
    },
    {
     "name": "stdout",
     "output_type": "stream",
     "text": [
      "\n",
      "\n"
     ]
    },
    {
     "name": "stderr",
     "output_type": "stream",
     "text": [
      "/Users/gwengou/opt/anaconda3/lib/python3.7/site-packages/ipykernel_launcher.py:35: TqdmDeprecationWarning: This function will be removed in tqdm==5.0.0\n",
      "Please use `tqdm.notebook.tqdm` instead of `tqdm.tqdm_notebook`\n"
     ]
    },
    {
     "data": {
      "application/vnd.jupyter.widget-view+json": {
       "model_id": "3605fb736a6c436c9df6c0704e7f7b56",
       "version_major": 2,
       "version_minor": 0
      },
      "text/plain": [
       "HBox(children=(FloatProgress(value=0.0, description='alpha loop', max=3.0, style=ProgressStyle(description_wid…"
      ]
     },
     "metadata": {},
     "output_type": "display_data"
    },
    {
     "name": "stderr",
     "output_type": "stream",
     "text": [
      "/Users/gwengou/opt/anaconda3/lib/python3.7/site-packages/ipykernel_launcher.py:37: TqdmDeprecationWarning: This function will be removed in tqdm==5.0.0\n",
      "Please use `tqdm.notebook.tqdm` instead of `tqdm.tqdm_notebook`\n"
     ]
    },
    {
     "data": {
      "application/vnd.jupyter.widget-view+json": {
       "model_id": "e3dc115303d84f60a8ae947474cad469",
       "version_major": 2,
       "version_minor": 0
      },
      "text/plain": [
       "HBox(children=(FloatProgress(value=0.0, description='beta loop', max=6.0, style=ProgressStyle(description_widt…"
      ]
     },
     "metadata": {},
     "output_type": "display_data"
    },
    {
     "name": "stdout",
     "output_type": "stream",
     "text": [
      "\n"
     ]
    },
    {
     "name": "stderr",
     "output_type": "stream",
     "text": [
      "/Users/gwengou/opt/anaconda3/lib/python3.7/site-packages/ipykernel_launcher.py:37: TqdmDeprecationWarning: This function will be removed in tqdm==5.0.0\n",
      "Please use `tqdm.notebook.tqdm` instead of `tqdm.tqdm_notebook`\n"
     ]
    },
    {
     "data": {
      "application/vnd.jupyter.widget-view+json": {
       "model_id": "db6f9d7384fe40dfb19d06f1e88e00ea",
       "version_major": 2,
       "version_minor": 0
      },
      "text/plain": [
       "HBox(children=(FloatProgress(value=0.0, description='beta loop', max=6.0, style=ProgressStyle(description_widt…"
      ]
     },
     "metadata": {},
     "output_type": "display_data"
    },
    {
     "name": "stdout",
     "output_type": "stream",
     "text": [
      "\n"
     ]
    },
    {
     "name": "stderr",
     "output_type": "stream",
     "text": [
      "/Users/gwengou/opt/anaconda3/lib/python3.7/site-packages/ipykernel_launcher.py:37: TqdmDeprecationWarning: This function will be removed in tqdm==5.0.0\n",
      "Please use `tqdm.notebook.tqdm` instead of `tqdm.tqdm_notebook`\n"
     ]
    },
    {
     "data": {
      "application/vnd.jupyter.widget-view+json": {
       "model_id": "8f084cdc1ec94c04bd1f1673fa8a05e5",
       "version_major": 2,
       "version_minor": 0
      },
      "text/plain": [
       "HBox(children=(FloatProgress(value=0.0, description='beta loop', max=6.0, style=ProgressStyle(description_widt…"
      ]
     },
     "metadata": {},
     "output_type": "display_data"
    },
    {
     "name": "stdout",
     "output_type": "stream",
     "text": [
      "\n",
      "\n"
     ]
    },
    {
     "name": "stderr",
     "output_type": "stream",
     "text": [
      "/Users/gwengou/opt/anaconda3/lib/python3.7/site-packages/ipykernel_launcher.py:35: TqdmDeprecationWarning: This function will be removed in tqdm==5.0.0\n",
      "Please use `tqdm.notebook.tqdm` instead of `tqdm.tqdm_notebook`\n"
     ]
    },
    {
     "data": {
      "application/vnd.jupyter.widget-view+json": {
       "model_id": "cb1adab53cc649a98b593de0f88a43a4",
       "version_major": 2,
       "version_minor": 0
      },
      "text/plain": [
       "HBox(children=(FloatProgress(value=0.0, description='alpha loop', max=3.0, style=ProgressStyle(description_wid…"
      ]
     },
     "metadata": {},
     "output_type": "display_data"
    },
    {
     "name": "stderr",
     "output_type": "stream",
     "text": [
      "/Users/gwengou/opt/anaconda3/lib/python3.7/site-packages/ipykernel_launcher.py:37: TqdmDeprecationWarning: This function will be removed in tqdm==5.0.0\n",
      "Please use `tqdm.notebook.tqdm` instead of `tqdm.tqdm_notebook`\n"
     ]
    },
    {
     "data": {
      "application/vnd.jupyter.widget-view+json": {
       "model_id": "38239cf7d808442cb230420223694513",
       "version_major": 2,
       "version_minor": 0
      },
      "text/plain": [
       "HBox(children=(FloatProgress(value=0.0, description='beta loop', max=6.0, style=ProgressStyle(description_widt…"
      ]
     },
     "metadata": {},
     "output_type": "display_data"
    },
    {
     "name": "stdout",
     "output_type": "stream",
     "text": [
      "\n"
     ]
    },
    {
     "name": "stderr",
     "output_type": "stream",
     "text": [
      "/Users/gwengou/opt/anaconda3/lib/python3.7/site-packages/ipykernel_launcher.py:37: TqdmDeprecationWarning: This function will be removed in tqdm==5.0.0\n",
      "Please use `tqdm.notebook.tqdm` instead of `tqdm.tqdm_notebook`\n"
     ]
    },
    {
     "data": {
      "application/vnd.jupyter.widget-view+json": {
       "model_id": "ea049048504f4e8191649eae57d208c8",
       "version_major": 2,
       "version_minor": 0
      },
      "text/plain": [
       "HBox(children=(FloatProgress(value=0.0, description='beta loop', max=6.0, style=ProgressStyle(description_widt…"
      ]
     },
     "metadata": {},
     "output_type": "display_data"
    },
    {
     "name": "stdout",
     "output_type": "stream",
     "text": [
      "\n"
     ]
    },
    {
     "name": "stderr",
     "output_type": "stream",
     "text": [
      "/Users/gwengou/opt/anaconda3/lib/python3.7/site-packages/ipykernel_launcher.py:37: TqdmDeprecationWarning: This function will be removed in tqdm==5.0.0\n",
      "Please use `tqdm.notebook.tqdm` instead of `tqdm.tqdm_notebook`\n"
     ]
    },
    {
     "data": {
      "application/vnd.jupyter.widget-view+json": {
       "model_id": "b46c9bde94ab4729924efd2f9f47771d",
       "version_major": 2,
       "version_minor": 0
      },
      "text/plain": [
       "HBox(children=(FloatProgress(value=0.0, description='beta loop', max=6.0, style=ProgressStyle(description_widt…"
      ]
     },
     "metadata": {},
     "output_type": "display_data"
    },
    {
     "name": "stdout",
     "output_type": "stream",
     "text": [
      "\n",
      "\n"
     ]
    },
    {
     "name": "stderr",
     "output_type": "stream",
     "text": [
      "/Users/gwengou/opt/anaconda3/lib/python3.7/site-packages/ipykernel_launcher.py:35: TqdmDeprecationWarning: This function will be removed in tqdm==5.0.0\n",
      "Please use `tqdm.notebook.tqdm` instead of `tqdm.tqdm_notebook`\n"
     ]
    },
    {
     "data": {
      "application/vnd.jupyter.widget-view+json": {
       "model_id": "ecaaee5703cd44dca74d7bd28e1cb417",
       "version_major": 2,
       "version_minor": 0
      },
      "text/plain": [
       "HBox(children=(FloatProgress(value=0.0, description='alpha loop', max=3.0, style=ProgressStyle(description_wid…"
      ]
     },
     "metadata": {},
     "output_type": "display_data"
    },
    {
     "name": "stderr",
     "output_type": "stream",
     "text": [
      "/Users/gwengou/opt/anaconda3/lib/python3.7/site-packages/ipykernel_launcher.py:37: TqdmDeprecationWarning: This function will be removed in tqdm==5.0.0\n",
      "Please use `tqdm.notebook.tqdm` instead of `tqdm.tqdm_notebook`\n"
     ]
    },
    {
     "data": {
      "application/vnd.jupyter.widget-view+json": {
       "model_id": "b09369770f2e413f9cc1fe46fdd08e6f",
       "version_major": 2,
       "version_minor": 0
      },
      "text/plain": [
       "HBox(children=(FloatProgress(value=0.0, description='beta loop', max=6.0, style=ProgressStyle(description_widt…"
      ]
     },
     "metadata": {},
     "output_type": "display_data"
    },
    {
     "name": "stdout",
     "output_type": "stream",
     "text": [
      "\n"
     ]
    },
    {
     "name": "stderr",
     "output_type": "stream",
     "text": [
      "/Users/gwengou/opt/anaconda3/lib/python3.7/site-packages/ipykernel_launcher.py:37: TqdmDeprecationWarning: This function will be removed in tqdm==5.0.0\n",
      "Please use `tqdm.notebook.tqdm` instead of `tqdm.tqdm_notebook`\n"
     ]
    },
    {
     "data": {
      "application/vnd.jupyter.widget-view+json": {
       "model_id": "ab8e6bef310d4ef1a52cab626a940897",
       "version_major": 2,
       "version_minor": 0
      },
      "text/plain": [
       "HBox(children=(FloatProgress(value=0.0, description='beta loop', max=6.0, style=ProgressStyle(description_widt…"
      ]
     },
     "metadata": {},
     "output_type": "display_data"
    },
    {
     "name": "stdout",
     "output_type": "stream",
     "text": [
      "\n"
     ]
    },
    {
     "name": "stderr",
     "output_type": "stream",
     "text": [
      "/Users/gwengou/opt/anaconda3/lib/python3.7/site-packages/ipykernel_launcher.py:37: TqdmDeprecationWarning: This function will be removed in tqdm==5.0.0\n",
      "Please use `tqdm.notebook.tqdm` instead of `tqdm.tqdm_notebook`\n"
     ]
    },
    {
     "data": {
      "application/vnd.jupyter.widget-view+json": {
       "model_id": "254df78e91074f66b33e10885f57f7c1",
       "version_major": 2,
       "version_minor": 0
      },
      "text/plain": [
       "HBox(children=(FloatProgress(value=0.0, description='beta loop', max=6.0, style=ProgressStyle(description_widt…"
      ]
     },
     "metadata": {},
     "output_type": "display_data"
    },
    {
     "name": "stdout",
     "output_type": "stream",
     "text": [
      "\n",
      "\n"
     ]
    },
    {
     "name": "stderr",
     "output_type": "stream",
     "text": [
      "/Users/gwengou/opt/anaconda3/lib/python3.7/site-packages/ipykernel_launcher.py:35: TqdmDeprecationWarning: This function will be removed in tqdm==5.0.0\n",
      "Please use `tqdm.notebook.tqdm` instead of `tqdm.tqdm_notebook`\n"
     ]
    },
    {
     "data": {
      "application/vnd.jupyter.widget-view+json": {
       "model_id": "648caa7dfd4042ca9299782eb3404e74",
       "version_major": 2,
       "version_minor": 0
      },
      "text/plain": [
       "HBox(children=(FloatProgress(value=0.0, description='alpha loop', max=3.0, style=ProgressStyle(description_wid…"
      ]
     },
     "metadata": {},
     "output_type": "display_data"
    },
    {
     "name": "stderr",
     "output_type": "stream",
     "text": [
      "/Users/gwengou/opt/anaconda3/lib/python3.7/site-packages/ipykernel_launcher.py:37: TqdmDeprecationWarning: This function will be removed in tqdm==5.0.0\n",
      "Please use `tqdm.notebook.tqdm` instead of `tqdm.tqdm_notebook`\n"
     ]
    },
    {
     "data": {
      "application/vnd.jupyter.widget-view+json": {
       "model_id": "82e9b6d1c0854a8cac98754b6b18805c",
       "version_major": 2,
       "version_minor": 0
      },
      "text/plain": [
       "HBox(children=(FloatProgress(value=0.0, description='beta loop', max=6.0, style=ProgressStyle(description_widt…"
      ]
     },
     "metadata": {},
     "output_type": "display_data"
    },
    {
     "name": "stdout",
     "output_type": "stream",
     "text": [
      "\n"
     ]
    },
    {
     "name": "stderr",
     "output_type": "stream",
     "text": [
      "/Users/gwengou/opt/anaconda3/lib/python3.7/site-packages/ipykernel_launcher.py:37: TqdmDeprecationWarning: This function will be removed in tqdm==5.0.0\n",
      "Please use `tqdm.notebook.tqdm` instead of `tqdm.tqdm_notebook`\n"
     ]
    },
    {
     "data": {
      "application/vnd.jupyter.widget-view+json": {
       "model_id": "68aa096d75574778982fc62d85dcedf2",
       "version_major": 2,
       "version_minor": 0
      },
      "text/plain": [
       "HBox(children=(FloatProgress(value=0.0, description='beta loop', max=6.0, style=ProgressStyle(description_widt…"
      ]
     },
     "metadata": {},
     "output_type": "display_data"
    },
    {
     "name": "stdout",
     "output_type": "stream",
     "text": [
      "\n"
     ]
    },
    {
     "name": "stderr",
     "output_type": "stream",
     "text": [
      "/Users/gwengou/opt/anaconda3/lib/python3.7/site-packages/ipykernel_launcher.py:37: TqdmDeprecationWarning: This function will be removed in tqdm==5.0.0\n",
      "Please use `tqdm.notebook.tqdm` instead of `tqdm.tqdm_notebook`\n"
     ]
    },
    {
     "data": {
      "application/vnd.jupyter.widget-view+json": {
       "model_id": "be1d7e9c9ebe48cf91ad00025f257210",
       "version_major": 2,
       "version_minor": 0
      },
      "text/plain": [
       "HBox(children=(FloatProgress(value=0.0, description='beta loop', max=6.0, style=ProgressStyle(description_widt…"
      ]
     },
     "metadata": {},
     "output_type": "display_data"
    },
    {
     "name": "stdout",
     "output_type": "stream",
     "text": [
      "\n",
      "\n",
      "\n"
     ]
    },
    {
     "name": "stderr",
     "output_type": "stream",
     "text": [
      "/Users/gwengou/opt/anaconda3/lib/python3.7/site-packages/ipykernel_launcher.py:33: TqdmDeprecationWarning: This function will be removed in tqdm==5.0.0\n",
      "Please use `tqdm.notebook.tqdm` instead of `tqdm.tqdm_notebook`\n"
     ]
    },
    {
     "data": {
      "application/vnd.jupyter.widget-view+json": {
       "model_id": "2217ab0419e54b2eb7f608327520c69b",
       "version_major": 2,
       "version_minor": 0
      },
      "text/plain": [
       "HBox(children=(FloatProgress(value=0.0, description='k loop', max=7.0, style=ProgressStyle(description_width='…"
      ]
     },
     "metadata": {},
     "output_type": "display_data"
    },
    {
     "name": "stderr",
     "output_type": "stream",
     "text": [
      "/Users/gwengou/opt/anaconda3/lib/python3.7/site-packages/ipykernel_launcher.py:35: TqdmDeprecationWarning: This function will be removed in tqdm==5.0.0\n",
      "Please use `tqdm.notebook.tqdm` instead of `tqdm.tqdm_notebook`\n"
     ]
    },
    {
     "data": {
      "application/vnd.jupyter.widget-view+json": {
       "model_id": "b8a83bb0a83c44ef9df5e90a9499add9",
       "version_major": 2,
       "version_minor": 0
      },
      "text/plain": [
       "HBox(children=(FloatProgress(value=0.0, description='alpha loop', max=3.0, style=ProgressStyle(description_wid…"
      ]
     },
     "metadata": {},
     "output_type": "display_data"
    },
    {
     "name": "stderr",
     "output_type": "stream",
     "text": [
      "/Users/gwengou/opt/anaconda3/lib/python3.7/site-packages/ipykernel_launcher.py:37: TqdmDeprecationWarning: This function will be removed in tqdm==5.0.0\n",
      "Please use `tqdm.notebook.tqdm` instead of `tqdm.tqdm_notebook`\n"
     ]
    },
    {
     "data": {
      "application/vnd.jupyter.widget-view+json": {
       "model_id": "6d560a9dc6a6498ab607e94e8bdd355c",
       "version_major": 2,
       "version_minor": 0
      },
      "text/plain": [
       "HBox(children=(FloatProgress(value=0.0, description='beta loop', max=6.0, style=ProgressStyle(description_widt…"
      ]
     },
     "metadata": {},
     "output_type": "display_data"
    },
    {
     "name": "stdout",
     "output_type": "stream",
     "text": [
      "\n"
     ]
    },
    {
     "name": "stderr",
     "output_type": "stream",
     "text": [
      "/Users/gwengou/opt/anaconda3/lib/python3.7/site-packages/ipykernel_launcher.py:37: TqdmDeprecationWarning: This function will be removed in tqdm==5.0.0\n",
      "Please use `tqdm.notebook.tqdm` instead of `tqdm.tqdm_notebook`\n"
     ]
    },
    {
     "data": {
      "application/vnd.jupyter.widget-view+json": {
       "model_id": "454a99b4fd0e4b2a96ddbfebe3e26e1e",
       "version_major": 2,
       "version_minor": 0
      },
      "text/plain": [
       "HBox(children=(FloatProgress(value=0.0, description='beta loop', max=6.0, style=ProgressStyle(description_widt…"
      ]
     },
     "metadata": {},
     "output_type": "display_data"
    },
    {
     "name": "stdout",
     "output_type": "stream",
     "text": [
      "\n"
     ]
    },
    {
     "name": "stderr",
     "output_type": "stream",
     "text": [
      "/Users/gwengou/opt/anaconda3/lib/python3.7/site-packages/ipykernel_launcher.py:37: TqdmDeprecationWarning: This function will be removed in tqdm==5.0.0\n",
      "Please use `tqdm.notebook.tqdm` instead of `tqdm.tqdm_notebook`\n"
     ]
    },
    {
     "data": {
      "application/vnd.jupyter.widget-view+json": {
       "model_id": "9af5087bf73843398f9c1c1a7aeec858",
       "version_major": 2,
       "version_minor": 0
      },
      "text/plain": [
       "HBox(children=(FloatProgress(value=0.0, description='beta loop', max=6.0, style=ProgressStyle(description_widt…"
      ]
     },
     "metadata": {},
     "output_type": "display_data"
    },
    {
     "name": "stdout",
     "output_type": "stream",
     "text": [
      "\n",
      "\n"
     ]
    },
    {
     "name": "stderr",
     "output_type": "stream",
     "text": [
      "/Users/gwengou/opt/anaconda3/lib/python3.7/site-packages/ipykernel_launcher.py:35: TqdmDeprecationWarning: This function will be removed in tqdm==5.0.0\n",
      "Please use `tqdm.notebook.tqdm` instead of `tqdm.tqdm_notebook`\n"
     ]
    },
    {
     "data": {
      "application/vnd.jupyter.widget-view+json": {
       "model_id": "af57d68760eb4753bde1b3f7d4daaefb",
       "version_major": 2,
       "version_minor": 0
      },
      "text/plain": [
       "HBox(children=(FloatProgress(value=0.0, description='alpha loop', max=3.0, style=ProgressStyle(description_wid…"
      ]
     },
     "metadata": {},
     "output_type": "display_data"
    },
    {
     "name": "stderr",
     "output_type": "stream",
     "text": [
      "/Users/gwengou/opt/anaconda3/lib/python3.7/site-packages/ipykernel_launcher.py:37: TqdmDeprecationWarning: This function will be removed in tqdm==5.0.0\n",
      "Please use `tqdm.notebook.tqdm` instead of `tqdm.tqdm_notebook`\n"
     ]
    },
    {
     "data": {
      "application/vnd.jupyter.widget-view+json": {
       "model_id": "44424513263b4eb187973c66fbbf141a",
       "version_major": 2,
       "version_minor": 0
      },
      "text/plain": [
       "HBox(children=(FloatProgress(value=0.0, description='beta loop', max=6.0, style=ProgressStyle(description_widt…"
      ]
     },
     "metadata": {},
     "output_type": "display_data"
    },
    {
     "name": "stdout",
     "output_type": "stream",
     "text": [
      "\n"
     ]
    },
    {
     "name": "stderr",
     "output_type": "stream",
     "text": [
      "/Users/gwengou/opt/anaconda3/lib/python3.7/site-packages/ipykernel_launcher.py:37: TqdmDeprecationWarning: This function will be removed in tqdm==5.0.0\n",
      "Please use `tqdm.notebook.tqdm` instead of `tqdm.tqdm_notebook`\n"
     ]
    },
    {
     "data": {
      "application/vnd.jupyter.widget-view+json": {
       "model_id": "118f6f5ecf2543c3997b8650fc400493",
       "version_major": 2,
       "version_minor": 0
      },
      "text/plain": [
       "HBox(children=(FloatProgress(value=0.0, description='beta loop', max=6.0, style=ProgressStyle(description_widt…"
      ]
     },
     "metadata": {},
     "output_type": "display_data"
    },
    {
     "name": "stdout",
     "output_type": "stream",
     "text": [
      "\n"
     ]
    },
    {
     "name": "stderr",
     "output_type": "stream",
     "text": [
      "/Users/gwengou/opt/anaconda3/lib/python3.7/site-packages/ipykernel_launcher.py:37: TqdmDeprecationWarning: This function will be removed in tqdm==5.0.0\n",
      "Please use `tqdm.notebook.tqdm` instead of `tqdm.tqdm_notebook`\n"
     ]
    },
    {
     "data": {
      "application/vnd.jupyter.widget-view+json": {
       "model_id": "e9c6338551474df8ba3ad18aa038310f",
       "version_major": 2,
       "version_minor": 0
      },
      "text/plain": [
       "HBox(children=(FloatProgress(value=0.0, description='beta loop', max=6.0, style=ProgressStyle(description_widt…"
      ]
     },
     "metadata": {},
     "output_type": "display_data"
    },
    {
     "name": "stdout",
     "output_type": "stream",
     "text": [
      "\n",
      "\n"
     ]
    },
    {
     "name": "stderr",
     "output_type": "stream",
     "text": [
      "/Users/gwengou/opt/anaconda3/lib/python3.7/site-packages/ipykernel_launcher.py:35: TqdmDeprecationWarning: This function will be removed in tqdm==5.0.0\n",
      "Please use `tqdm.notebook.tqdm` instead of `tqdm.tqdm_notebook`\n"
     ]
    },
    {
     "data": {
      "application/vnd.jupyter.widget-view+json": {
       "model_id": "e842ce8cb671489cac9ab5b159f029c9",
       "version_major": 2,
       "version_minor": 0
      },
      "text/plain": [
       "HBox(children=(FloatProgress(value=0.0, description='alpha loop', max=3.0, style=ProgressStyle(description_wid…"
      ]
     },
     "metadata": {},
     "output_type": "display_data"
    },
    {
     "name": "stderr",
     "output_type": "stream",
     "text": [
      "/Users/gwengou/opt/anaconda3/lib/python3.7/site-packages/ipykernel_launcher.py:37: TqdmDeprecationWarning: This function will be removed in tqdm==5.0.0\n",
      "Please use `tqdm.notebook.tqdm` instead of `tqdm.tqdm_notebook`\n"
     ]
    },
    {
     "data": {
      "application/vnd.jupyter.widget-view+json": {
       "model_id": "582a2d1da5bd4b1fa9b3c45e795b874e",
       "version_major": 2,
       "version_minor": 0
      },
      "text/plain": [
       "HBox(children=(FloatProgress(value=0.0, description='beta loop', max=6.0, style=ProgressStyle(description_widt…"
      ]
     },
     "metadata": {},
     "output_type": "display_data"
    },
    {
     "name": "stdout",
     "output_type": "stream",
     "text": [
      "\n"
     ]
    },
    {
     "name": "stderr",
     "output_type": "stream",
     "text": [
      "/Users/gwengou/opt/anaconda3/lib/python3.7/site-packages/ipykernel_launcher.py:37: TqdmDeprecationWarning: This function will be removed in tqdm==5.0.0\n",
      "Please use `tqdm.notebook.tqdm` instead of `tqdm.tqdm_notebook`\n"
     ]
    },
    {
     "data": {
      "application/vnd.jupyter.widget-view+json": {
       "model_id": "79b7a707053142adabf97a9149be9c0a",
       "version_major": 2,
       "version_minor": 0
      },
      "text/plain": [
       "HBox(children=(FloatProgress(value=0.0, description='beta loop', max=6.0, style=ProgressStyle(description_widt…"
      ]
     },
     "metadata": {},
     "output_type": "display_data"
    },
    {
     "name": "stdout",
     "output_type": "stream",
     "text": [
      "\n"
     ]
    },
    {
     "name": "stderr",
     "output_type": "stream",
     "text": [
      "/Users/gwengou/opt/anaconda3/lib/python3.7/site-packages/ipykernel_launcher.py:37: TqdmDeprecationWarning: This function will be removed in tqdm==5.0.0\n",
      "Please use `tqdm.notebook.tqdm` instead of `tqdm.tqdm_notebook`\n"
     ]
    },
    {
     "data": {
      "application/vnd.jupyter.widget-view+json": {
       "model_id": "a76b5cfb29df436ca9dfa564dd77f100",
       "version_major": 2,
       "version_minor": 0
      },
      "text/plain": [
       "HBox(children=(FloatProgress(value=0.0, description='beta loop', max=6.0, style=ProgressStyle(description_widt…"
      ]
     },
     "metadata": {},
     "output_type": "display_data"
    },
    {
     "name": "stdout",
     "output_type": "stream",
     "text": [
      "\n",
      "\n"
     ]
    },
    {
     "name": "stderr",
     "output_type": "stream",
     "text": [
      "/Users/gwengou/opt/anaconda3/lib/python3.7/site-packages/ipykernel_launcher.py:35: TqdmDeprecationWarning: This function will be removed in tqdm==5.0.0\n",
      "Please use `tqdm.notebook.tqdm` instead of `tqdm.tqdm_notebook`\n"
     ]
    },
    {
     "data": {
      "application/vnd.jupyter.widget-view+json": {
       "model_id": "aa1af0266b134e69b134326a6c3a8a9b",
       "version_major": 2,
       "version_minor": 0
      },
      "text/plain": [
       "HBox(children=(FloatProgress(value=0.0, description='alpha loop', max=3.0, style=ProgressStyle(description_wid…"
      ]
     },
     "metadata": {},
     "output_type": "display_data"
    },
    {
     "name": "stderr",
     "output_type": "stream",
     "text": [
      "/Users/gwengou/opt/anaconda3/lib/python3.7/site-packages/ipykernel_launcher.py:37: TqdmDeprecationWarning: This function will be removed in tqdm==5.0.0\n",
      "Please use `tqdm.notebook.tqdm` instead of `tqdm.tqdm_notebook`\n"
     ]
    },
    {
     "data": {
      "application/vnd.jupyter.widget-view+json": {
       "model_id": "736091745d124945964ed348a8475a28",
       "version_major": 2,
       "version_minor": 0
      },
      "text/plain": [
       "HBox(children=(FloatProgress(value=0.0, description='beta loop', max=6.0, style=ProgressStyle(description_widt…"
      ]
     },
     "metadata": {},
     "output_type": "display_data"
    },
    {
     "name": "stdout",
     "output_type": "stream",
     "text": [
      "\n"
     ]
    },
    {
     "name": "stderr",
     "output_type": "stream",
     "text": [
      "/Users/gwengou/opt/anaconda3/lib/python3.7/site-packages/ipykernel_launcher.py:37: TqdmDeprecationWarning: This function will be removed in tqdm==5.0.0\n",
      "Please use `tqdm.notebook.tqdm` instead of `tqdm.tqdm_notebook`\n"
     ]
    },
    {
     "data": {
      "application/vnd.jupyter.widget-view+json": {
       "model_id": "c8ff2505da804a44b3ef4fe07c80a560",
       "version_major": 2,
       "version_minor": 0
      },
      "text/plain": [
       "HBox(children=(FloatProgress(value=0.0, description='beta loop', max=6.0, style=ProgressStyle(description_widt…"
      ]
     },
     "metadata": {},
     "output_type": "display_data"
    },
    {
     "name": "stdout",
     "output_type": "stream",
     "text": [
      "\n"
     ]
    },
    {
     "name": "stderr",
     "output_type": "stream",
     "text": [
      "/Users/gwengou/opt/anaconda3/lib/python3.7/site-packages/ipykernel_launcher.py:37: TqdmDeprecationWarning: This function will be removed in tqdm==5.0.0\n",
      "Please use `tqdm.notebook.tqdm` instead of `tqdm.tqdm_notebook`\n"
     ]
    },
    {
     "data": {
      "application/vnd.jupyter.widget-view+json": {
       "model_id": "d48b7809413a429b832e2aa7afaf94f3",
       "version_major": 2,
       "version_minor": 0
      },
      "text/plain": [
       "HBox(children=(FloatProgress(value=0.0, description='beta loop', max=6.0, style=ProgressStyle(description_widt…"
      ]
     },
     "metadata": {},
     "output_type": "display_data"
    },
    {
     "name": "stdout",
     "output_type": "stream",
     "text": [
      "\n",
      "\n"
     ]
    },
    {
     "name": "stderr",
     "output_type": "stream",
     "text": [
      "/Users/gwengou/opt/anaconda3/lib/python3.7/site-packages/ipykernel_launcher.py:35: TqdmDeprecationWarning: This function will be removed in tqdm==5.0.0\n",
      "Please use `tqdm.notebook.tqdm` instead of `tqdm.tqdm_notebook`\n"
     ]
    },
    {
     "data": {
      "application/vnd.jupyter.widget-view+json": {
       "model_id": "031d4bfe073842f790c18811f2f6dd3e",
       "version_major": 2,
       "version_minor": 0
      },
      "text/plain": [
       "HBox(children=(FloatProgress(value=0.0, description='alpha loop', max=3.0, style=ProgressStyle(description_wid…"
      ]
     },
     "metadata": {},
     "output_type": "display_data"
    },
    {
     "name": "stderr",
     "output_type": "stream",
     "text": [
      "/Users/gwengou/opt/anaconda3/lib/python3.7/site-packages/ipykernel_launcher.py:37: TqdmDeprecationWarning: This function will be removed in tqdm==5.0.0\n",
      "Please use `tqdm.notebook.tqdm` instead of `tqdm.tqdm_notebook`\n"
     ]
    },
    {
     "data": {
      "application/vnd.jupyter.widget-view+json": {
       "model_id": "66b38e1bde9f47d9bdb060ab3fc27838",
       "version_major": 2,
       "version_minor": 0
      },
      "text/plain": [
       "HBox(children=(FloatProgress(value=0.0, description='beta loop', max=6.0, style=ProgressStyle(description_widt…"
      ]
     },
     "metadata": {},
     "output_type": "display_data"
    },
    {
     "name": "stdout",
     "output_type": "stream",
     "text": [
      "\n"
     ]
    },
    {
     "name": "stderr",
     "output_type": "stream",
     "text": [
      "/Users/gwengou/opt/anaconda3/lib/python3.7/site-packages/ipykernel_launcher.py:37: TqdmDeprecationWarning: This function will be removed in tqdm==5.0.0\n",
      "Please use `tqdm.notebook.tqdm` instead of `tqdm.tqdm_notebook`\n"
     ]
    },
    {
     "data": {
      "application/vnd.jupyter.widget-view+json": {
       "model_id": "5c2107d0f0064b10b551109cbc99081d",
       "version_major": 2,
       "version_minor": 0
      },
      "text/plain": [
       "HBox(children=(FloatProgress(value=0.0, description='beta loop', max=6.0, style=ProgressStyle(description_widt…"
      ]
     },
     "metadata": {},
     "output_type": "display_data"
    },
    {
     "name": "stdout",
     "output_type": "stream",
     "text": [
      "\n"
     ]
    },
    {
     "name": "stderr",
     "output_type": "stream",
     "text": [
      "/Users/gwengou/opt/anaconda3/lib/python3.7/site-packages/ipykernel_launcher.py:37: TqdmDeprecationWarning: This function will be removed in tqdm==5.0.0\n",
      "Please use `tqdm.notebook.tqdm` instead of `tqdm.tqdm_notebook`\n"
     ]
    },
    {
     "data": {
      "application/vnd.jupyter.widget-view+json": {
       "model_id": "a5394f491e504c03b69168bbf657936a",
       "version_major": 2,
       "version_minor": 0
      },
      "text/plain": [
       "HBox(children=(FloatProgress(value=0.0, description='beta loop', max=6.0, style=ProgressStyle(description_widt…"
      ]
     },
     "metadata": {},
     "output_type": "display_data"
    },
    {
     "name": "stdout",
     "output_type": "stream",
     "text": [
      "\n",
      "\n"
     ]
    },
    {
     "name": "stderr",
     "output_type": "stream",
     "text": [
      "/Users/gwengou/opt/anaconda3/lib/python3.7/site-packages/ipykernel_launcher.py:35: TqdmDeprecationWarning: This function will be removed in tqdm==5.0.0\n",
      "Please use `tqdm.notebook.tqdm` instead of `tqdm.tqdm_notebook`\n"
     ]
    },
    {
     "data": {
      "application/vnd.jupyter.widget-view+json": {
       "model_id": "fb1ce8df09b443ed9cf22a493c2bd94f",
       "version_major": 2,
       "version_minor": 0
      },
      "text/plain": [
       "HBox(children=(FloatProgress(value=0.0, description='alpha loop', max=3.0, style=ProgressStyle(description_wid…"
      ]
     },
     "metadata": {},
     "output_type": "display_data"
    },
    {
     "name": "stderr",
     "output_type": "stream",
     "text": [
      "/Users/gwengou/opt/anaconda3/lib/python3.7/site-packages/ipykernel_launcher.py:37: TqdmDeprecationWarning: This function will be removed in tqdm==5.0.0\n",
      "Please use `tqdm.notebook.tqdm` instead of `tqdm.tqdm_notebook`\n"
     ]
    },
    {
     "data": {
      "application/vnd.jupyter.widget-view+json": {
       "model_id": "6643df71ee024acfaa5cb78f41b73204",
       "version_major": 2,
       "version_minor": 0
      },
      "text/plain": [
       "HBox(children=(FloatProgress(value=0.0, description='beta loop', max=6.0, style=ProgressStyle(description_widt…"
      ]
     },
     "metadata": {},
     "output_type": "display_data"
    },
    {
     "name": "stdout",
     "output_type": "stream",
     "text": [
      "\n"
     ]
    },
    {
     "name": "stderr",
     "output_type": "stream",
     "text": [
      "/Users/gwengou/opt/anaconda3/lib/python3.7/site-packages/ipykernel_launcher.py:37: TqdmDeprecationWarning: This function will be removed in tqdm==5.0.0\n",
      "Please use `tqdm.notebook.tqdm` instead of `tqdm.tqdm_notebook`\n"
     ]
    },
    {
     "data": {
      "application/vnd.jupyter.widget-view+json": {
       "model_id": "9e4cdde769ba4aaca7557cb7f832475e",
       "version_major": 2,
       "version_minor": 0
      },
      "text/plain": [
       "HBox(children=(FloatProgress(value=0.0, description='beta loop', max=6.0, style=ProgressStyle(description_widt…"
      ]
     },
     "metadata": {},
     "output_type": "display_data"
    },
    {
     "name": "stdout",
     "output_type": "stream",
     "text": [
      "\n"
     ]
    },
    {
     "name": "stderr",
     "output_type": "stream",
     "text": [
      "/Users/gwengou/opt/anaconda3/lib/python3.7/site-packages/ipykernel_launcher.py:37: TqdmDeprecationWarning: This function will be removed in tqdm==5.0.0\n",
      "Please use `tqdm.notebook.tqdm` instead of `tqdm.tqdm_notebook`\n"
     ]
    },
    {
     "data": {
      "application/vnd.jupyter.widget-view+json": {
       "model_id": "762e9e1b6ed94b13925de17687b6ebce",
       "version_major": 2,
       "version_minor": 0
      },
      "text/plain": [
       "HBox(children=(FloatProgress(value=0.0, description='beta loop', max=6.0, style=ProgressStyle(description_widt…"
      ]
     },
     "metadata": {},
     "output_type": "display_data"
    },
    {
     "name": "stdout",
     "output_type": "stream",
     "text": [
      "\n",
      "\n"
     ]
    },
    {
     "name": "stderr",
     "output_type": "stream",
     "text": [
      "/Users/gwengou/opt/anaconda3/lib/python3.7/site-packages/ipykernel_launcher.py:35: TqdmDeprecationWarning: This function will be removed in tqdm==5.0.0\n",
      "Please use `tqdm.notebook.tqdm` instead of `tqdm.tqdm_notebook`\n"
     ]
    },
    {
     "data": {
      "application/vnd.jupyter.widget-view+json": {
       "model_id": "c52790bb7c754c288094f36710d6ba7d",
       "version_major": 2,
       "version_minor": 0
      },
      "text/plain": [
       "HBox(children=(FloatProgress(value=0.0, description='alpha loop', max=3.0, style=ProgressStyle(description_wid…"
      ]
     },
     "metadata": {},
     "output_type": "display_data"
    },
    {
     "name": "stderr",
     "output_type": "stream",
     "text": [
      "/Users/gwengou/opt/anaconda3/lib/python3.7/site-packages/ipykernel_launcher.py:37: TqdmDeprecationWarning: This function will be removed in tqdm==5.0.0\n",
      "Please use `tqdm.notebook.tqdm` instead of `tqdm.tqdm_notebook`\n"
     ]
    },
    {
     "data": {
      "application/vnd.jupyter.widget-view+json": {
       "model_id": "16ef57d87fde42489abfc0e94ae6931c",
       "version_major": 2,
       "version_minor": 0
      },
      "text/plain": [
       "HBox(children=(FloatProgress(value=0.0, description='beta loop', max=6.0, style=ProgressStyle(description_widt…"
      ]
     },
     "metadata": {},
     "output_type": "display_data"
    },
    {
     "name": "stdout",
     "output_type": "stream",
     "text": [
      "\n"
     ]
    },
    {
     "name": "stderr",
     "output_type": "stream",
     "text": [
      "/Users/gwengou/opt/anaconda3/lib/python3.7/site-packages/ipykernel_launcher.py:37: TqdmDeprecationWarning: This function will be removed in tqdm==5.0.0\n",
      "Please use `tqdm.notebook.tqdm` instead of `tqdm.tqdm_notebook`\n"
     ]
    },
    {
     "data": {
      "application/vnd.jupyter.widget-view+json": {
       "model_id": "c8583f36ac6e42d2b3de2a1a9d3b79d1",
       "version_major": 2,
       "version_minor": 0
      },
      "text/plain": [
       "HBox(children=(FloatProgress(value=0.0, description='beta loop', max=6.0, style=ProgressStyle(description_widt…"
      ]
     },
     "metadata": {},
     "output_type": "display_data"
    },
    {
     "name": "stdout",
     "output_type": "stream",
     "text": [
      "\n"
     ]
    },
    {
     "name": "stderr",
     "output_type": "stream",
     "text": [
      "/Users/gwengou/opt/anaconda3/lib/python3.7/site-packages/ipykernel_launcher.py:37: TqdmDeprecationWarning: This function will be removed in tqdm==5.0.0\n",
      "Please use `tqdm.notebook.tqdm` instead of `tqdm.tqdm_notebook`\n"
     ]
    },
    {
     "data": {
      "application/vnd.jupyter.widget-view+json": {
       "model_id": "8e0e3ec65263445b9c30581fbea28373",
       "version_major": 2,
       "version_minor": 0
      },
      "text/plain": [
       "HBox(children=(FloatProgress(value=0.0, description='beta loop', max=6.0, style=ProgressStyle(description_widt…"
      ]
     },
     "metadata": {},
     "output_type": "display_data"
    },
    {
     "name": "stdout",
     "output_type": "stream",
     "text": [
      "\n",
      "\n",
      "\n"
     ]
    },
    {
     "name": "stderr",
     "output_type": "stream",
     "text": [
      "/Users/gwengou/opt/anaconda3/lib/python3.7/site-packages/ipykernel_launcher.py:33: TqdmDeprecationWarning: This function will be removed in tqdm==5.0.0\n",
      "Please use `tqdm.notebook.tqdm` instead of `tqdm.tqdm_notebook`\n"
     ]
    },
    {
     "data": {
      "application/vnd.jupyter.widget-view+json": {
       "model_id": "faf0277bb84e43e48857e37064a97dd1",
       "version_major": 2,
       "version_minor": 0
      },
      "text/plain": [
       "HBox(children=(FloatProgress(value=0.0, description='k loop', max=7.0, style=ProgressStyle(description_width='…"
      ]
     },
     "metadata": {},
     "output_type": "display_data"
    },
    {
     "name": "stderr",
     "output_type": "stream",
     "text": [
      "/Users/gwengou/opt/anaconda3/lib/python3.7/site-packages/ipykernel_launcher.py:35: TqdmDeprecationWarning: This function will be removed in tqdm==5.0.0\n",
      "Please use `tqdm.notebook.tqdm` instead of `tqdm.tqdm_notebook`\n"
     ]
    },
    {
     "data": {
      "application/vnd.jupyter.widget-view+json": {
       "model_id": "b52adea69a70490489b6cd6aab1280c9",
       "version_major": 2,
       "version_minor": 0
      },
      "text/plain": [
       "HBox(children=(FloatProgress(value=0.0, description='alpha loop', max=3.0, style=ProgressStyle(description_wid…"
      ]
     },
     "metadata": {},
     "output_type": "display_data"
    },
    {
     "name": "stderr",
     "output_type": "stream",
     "text": [
      "/Users/gwengou/opt/anaconda3/lib/python3.7/site-packages/ipykernel_launcher.py:37: TqdmDeprecationWarning: This function will be removed in tqdm==5.0.0\n",
      "Please use `tqdm.notebook.tqdm` instead of `tqdm.tqdm_notebook`\n"
     ]
    },
    {
     "data": {
      "application/vnd.jupyter.widget-view+json": {
       "model_id": "29e113411502403b97aff03c5985c3ff",
       "version_major": 2,
       "version_minor": 0
      },
      "text/plain": [
       "HBox(children=(FloatProgress(value=0.0, description='beta loop', max=6.0, style=ProgressStyle(description_widt…"
      ]
     },
     "metadata": {},
     "output_type": "display_data"
    },
    {
     "name": "stdout",
     "output_type": "stream",
     "text": [
      "\n"
     ]
    },
    {
     "name": "stderr",
     "output_type": "stream",
     "text": [
      "/Users/gwengou/opt/anaconda3/lib/python3.7/site-packages/ipykernel_launcher.py:37: TqdmDeprecationWarning: This function will be removed in tqdm==5.0.0\n",
      "Please use `tqdm.notebook.tqdm` instead of `tqdm.tqdm_notebook`\n"
     ]
    },
    {
     "data": {
      "application/vnd.jupyter.widget-view+json": {
       "model_id": "9f3d19b2b18b48548e286f7374548b03",
       "version_major": 2,
       "version_minor": 0
      },
      "text/plain": [
       "HBox(children=(FloatProgress(value=0.0, description='beta loop', max=6.0, style=ProgressStyle(description_widt…"
      ]
     },
     "metadata": {},
     "output_type": "display_data"
    },
    {
     "name": "stdout",
     "output_type": "stream",
     "text": [
      "\n"
     ]
    },
    {
     "name": "stderr",
     "output_type": "stream",
     "text": [
      "/Users/gwengou/opt/anaconda3/lib/python3.7/site-packages/ipykernel_launcher.py:37: TqdmDeprecationWarning: This function will be removed in tqdm==5.0.0\n",
      "Please use `tqdm.notebook.tqdm` instead of `tqdm.tqdm_notebook`\n"
     ]
    },
    {
     "data": {
      "application/vnd.jupyter.widget-view+json": {
       "model_id": "ecd1259dd74e487d9e67f3dca948f5e5",
       "version_major": 2,
       "version_minor": 0
      },
      "text/plain": [
       "HBox(children=(FloatProgress(value=0.0, description='beta loop', max=6.0, style=ProgressStyle(description_widt…"
      ]
     },
     "metadata": {},
     "output_type": "display_data"
    },
    {
     "name": "stdout",
     "output_type": "stream",
     "text": [
      "\n",
      "\n"
     ]
    },
    {
     "name": "stderr",
     "output_type": "stream",
     "text": [
      "/Users/gwengou/opt/anaconda3/lib/python3.7/site-packages/ipykernel_launcher.py:35: TqdmDeprecationWarning: This function will be removed in tqdm==5.0.0\n",
      "Please use `tqdm.notebook.tqdm` instead of `tqdm.tqdm_notebook`\n"
     ]
    },
    {
     "data": {
      "application/vnd.jupyter.widget-view+json": {
       "model_id": "defe19fb594346c2bc496d2e63dae0ba",
       "version_major": 2,
       "version_minor": 0
      },
      "text/plain": [
       "HBox(children=(FloatProgress(value=0.0, description='alpha loop', max=3.0, style=ProgressStyle(description_wid…"
      ]
     },
     "metadata": {},
     "output_type": "display_data"
    },
    {
     "name": "stderr",
     "output_type": "stream",
     "text": [
      "/Users/gwengou/opt/anaconda3/lib/python3.7/site-packages/ipykernel_launcher.py:37: TqdmDeprecationWarning: This function will be removed in tqdm==5.0.0\n",
      "Please use `tqdm.notebook.tqdm` instead of `tqdm.tqdm_notebook`\n"
     ]
    },
    {
     "data": {
      "application/vnd.jupyter.widget-view+json": {
       "model_id": "bdf3ce2ceea1486aa915bb39dff85386",
       "version_major": 2,
       "version_minor": 0
      },
      "text/plain": [
       "HBox(children=(FloatProgress(value=0.0, description='beta loop', max=6.0, style=ProgressStyle(description_widt…"
      ]
     },
     "metadata": {},
     "output_type": "display_data"
    },
    {
     "name": "stdout",
     "output_type": "stream",
     "text": [
      "\n"
     ]
    },
    {
     "name": "stderr",
     "output_type": "stream",
     "text": [
      "/Users/gwengou/opt/anaconda3/lib/python3.7/site-packages/ipykernel_launcher.py:37: TqdmDeprecationWarning: This function will be removed in tqdm==5.0.0\n",
      "Please use `tqdm.notebook.tqdm` instead of `tqdm.tqdm_notebook`\n"
     ]
    },
    {
     "data": {
      "application/vnd.jupyter.widget-view+json": {
       "model_id": "9c4b9d3661a848b6adb994fde9056d7b",
       "version_major": 2,
       "version_minor": 0
      },
      "text/plain": [
       "HBox(children=(FloatProgress(value=0.0, description='beta loop', max=6.0, style=ProgressStyle(description_widt…"
      ]
     },
     "metadata": {},
     "output_type": "display_data"
    },
    {
     "name": "stdout",
     "output_type": "stream",
     "text": [
      "\n"
     ]
    },
    {
     "name": "stderr",
     "output_type": "stream",
     "text": [
      "/Users/gwengou/opt/anaconda3/lib/python3.7/site-packages/ipykernel_launcher.py:37: TqdmDeprecationWarning: This function will be removed in tqdm==5.0.0\n",
      "Please use `tqdm.notebook.tqdm` instead of `tqdm.tqdm_notebook`\n"
     ]
    },
    {
     "data": {
      "application/vnd.jupyter.widget-view+json": {
       "model_id": "ea2786353e004a808e5eaea37578183a",
       "version_major": 2,
       "version_minor": 0
      },
      "text/plain": [
       "HBox(children=(FloatProgress(value=0.0, description='beta loop', max=6.0, style=ProgressStyle(description_widt…"
      ]
     },
     "metadata": {},
     "output_type": "display_data"
    },
    {
     "name": "stdout",
     "output_type": "stream",
     "text": [
      "\n",
      "\n"
     ]
    },
    {
     "name": "stderr",
     "output_type": "stream",
     "text": [
      "/Users/gwengou/opt/anaconda3/lib/python3.7/site-packages/ipykernel_launcher.py:35: TqdmDeprecationWarning: This function will be removed in tqdm==5.0.0\n",
      "Please use `tqdm.notebook.tqdm` instead of `tqdm.tqdm_notebook`\n"
     ]
    },
    {
     "data": {
      "application/vnd.jupyter.widget-view+json": {
       "model_id": "115f5f996e8a4005a310da78c1de67ea",
       "version_major": 2,
       "version_minor": 0
      },
      "text/plain": [
       "HBox(children=(FloatProgress(value=0.0, description='alpha loop', max=3.0, style=ProgressStyle(description_wid…"
      ]
     },
     "metadata": {},
     "output_type": "display_data"
    },
    {
     "name": "stderr",
     "output_type": "stream",
     "text": [
      "/Users/gwengou/opt/anaconda3/lib/python3.7/site-packages/ipykernel_launcher.py:37: TqdmDeprecationWarning: This function will be removed in tqdm==5.0.0\n",
      "Please use `tqdm.notebook.tqdm` instead of `tqdm.tqdm_notebook`\n"
     ]
    },
    {
     "data": {
      "application/vnd.jupyter.widget-view+json": {
       "model_id": "4e40c81cdaeb49d2b407e61bde56e4d8",
       "version_major": 2,
       "version_minor": 0
      },
      "text/plain": [
       "HBox(children=(FloatProgress(value=0.0, description='beta loop', max=6.0, style=ProgressStyle(description_widt…"
      ]
     },
     "metadata": {},
     "output_type": "display_data"
    },
    {
     "name": "stdout",
     "output_type": "stream",
     "text": [
      "\n"
     ]
    },
    {
     "name": "stderr",
     "output_type": "stream",
     "text": [
      "/Users/gwengou/opt/anaconda3/lib/python3.7/site-packages/ipykernel_launcher.py:37: TqdmDeprecationWarning: This function will be removed in tqdm==5.0.0\n",
      "Please use `tqdm.notebook.tqdm` instead of `tqdm.tqdm_notebook`\n"
     ]
    },
    {
     "data": {
      "application/vnd.jupyter.widget-view+json": {
       "model_id": "0471f6b12c0a41aea47a3659b619f5a8",
       "version_major": 2,
       "version_minor": 0
      },
      "text/plain": [
       "HBox(children=(FloatProgress(value=0.0, description='beta loop', max=6.0, style=ProgressStyle(description_widt…"
      ]
     },
     "metadata": {},
     "output_type": "display_data"
    },
    {
     "name": "stdout",
     "output_type": "stream",
     "text": [
      "\n"
     ]
    },
    {
     "name": "stderr",
     "output_type": "stream",
     "text": [
      "/Users/gwengou/opt/anaconda3/lib/python3.7/site-packages/ipykernel_launcher.py:37: TqdmDeprecationWarning: This function will be removed in tqdm==5.0.0\n",
      "Please use `tqdm.notebook.tqdm` instead of `tqdm.tqdm_notebook`\n"
     ]
    },
    {
     "data": {
      "application/vnd.jupyter.widget-view+json": {
       "model_id": "65c250452c5e41b1b6ce9055fa0a9d93",
       "version_major": 2,
       "version_minor": 0
      },
      "text/plain": [
       "HBox(children=(FloatProgress(value=0.0, description='beta loop', max=6.0, style=ProgressStyle(description_widt…"
      ]
     },
     "metadata": {},
     "output_type": "display_data"
    },
    {
     "name": "stdout",
     "output_type": "stream",
     "text": [
      "\n",
      "\n"
     ]
    },
    {
     "name": "stderr",
     "output_type": "stream",
     "text": [
      "/Users/gwengou/opt/anaconda3/lib/python3.7/site-packages/ipykernel_launcher.py:35: TqdmDeprecationWarning: This function will be removed in tqdm==5.0.0\n",
      "Please use `tqdm.notebook.tqdm` instead of `tqdm.tqdm_notebook`\n"
     ]
    },
    {
     "data": {
      "application/vnd.jupyter.widget-view+json": {
       "model_id": "e4b830b0882f4c1ba680d4ca4b23bd79",
       "version_major": 2,
       "version_minor": 0
      },
      "text/plain": [
       "HBox(children=(FloatProgress(value=0.0, description='alpha loop', max=3.0, style=ProgressStyle(description_wid…"
      ]
     },
     "metadata": {},
     "output_type": "display_data"
    },
    {
     "name": "stderr",
     "output_type": "stream",
     "text": [
      "/Users/gwengou/opt/anaconda3/lib/python3.7/site-packages/ipykernel_launcher.py:37: TqdmDeprecationWarning: This function will be removed in tqdm==5.0.0\n",
      "Please use `tqdm.notebook.tqdm` instead of `tqdm.tqdm_notebook`\n"
     ]
    },
    {
     "data": {
      "application/vnd.jupyter.widget-view+json": {
       "model_id": "a6fd6a4a86544c1c850ef0c2798524bb",
       "version_major": 2,
       "version_minor": 0
      },
      "text/plain": [
       "HBox(children=(FloatProgress(value=0.0, description='beta loop', max=6.0, style=ProgressStyle(description_widt…"
      ]
     },
     "metadata": {},
     "output_type": "display_data"
    },
    {
     "name": "stdout",
     "output_type": "stream",
     "text": [
      "\n"
     ]
    },
    {
     "name": "stderr",
     "output_type": "stream",
     "text": [
      "/Users/gwengou/opt/anaconda3/lib/python3.7/site-packages/ipykernel_launcher.py:37: TqdmDeprecationWarning: This function will be removed in tqdm==5.0.0\n",
      "Please use `tqdm.notebook.tqdm` instead of `tqdm.tqdm_notebook`\n"
     ]
    },
    {
     "data": {
      "application/vnd.jupyter.widget-view+json": {
       "model_id": "c8e438a8db0a492a95e29d67d0fd3c6d",
       "version_major": 2,
       "version_minor": 0
      },
      "text/plain": [
       "HBox(children=(FloatProgress(value=0.0, description='beta loop', max=6.0, style=ProgressStyle(description_widt…"
      ]
     },
     "metadata": {},
     "output_type": "display_data"
    },
    {
     "name": "stdout",
     "output_type": "stream",
     "text": [
      "\n"
     ]
    },
    {
     "name": "stderr",
     "output_type": "stream",
     "text": [
      "/Users/gwengou/opt/anaconda3/lib/python3.7/site-packages/ipykernel_launcher.py:37: TqdmDeprecationWarning: This function will be removed in tqdm==5.0.0\n",
      "Please use `tqdm.notebook.tqdm` instead of `tqdm.tqdm_notebook`\n"
     ]
    },
    {
     "data": {
      "application/vnd.jupyter.widget-view+json": {
       "model_id": "48b3aae260cc481eb0232bbbea1aa72a",
       "version_major": 2,
       "version_minor": 0
      },
      "text/plain": [
       "HBox(children=(FloatProgress(value=0.0, description='beta loop', max=6.0, style=ProgressStyle(description_widt…"
      ]
     },
     "metadata": {},
     "output_type": "display_data"
    },
    {
     "name": "stdout",
     "output_type": "stream",
     "text": [
      "\n",
      "\n"
     ]
    },
    {
     "name": "stderr",
     "output_type": "stream",
     "text": [
      "/Users/gwengou/opt/anaconda3/lib/python3.7/site-packages/ipykernel_launcher.py:35: TqdmDeprecationWarning: This function will be removed in tqdm==5.0.0\n",
      "Please use `tqdm.notebook.tqdm` instead of `tqdm.tqdm_notebook`\n"
     ]
    },
    {
     "data": {
      "application/vnd.jupyter.widget-view+json": {
       "model_id": "02bd60c6987d4d92a5e30765c4553c6a",
       "version_major": 2,
       "version_minor": 0
      },
      "text/plain": [
       "HBox(children=(FloatProgress(value=0.0, description='alpha loop', max=3.0, style=ProgressStyle(description_wid…"
      ]
     },
     "metadata": {},
     "output_type": "display_data"
    },
    {
     "name": "stderr",
     "output_type": "stream",
     "text": [
      "/Users/gwengou/opt/anaconda3/lib/python3.7/site-packages/ipykernel_launcher.py:37: TqdmDeprecationWarning: This function will be removed in tqdm==5.0.0\n",
      "Please use `tqdm.notebook.tqdm` instead of `tqdm.tqdm_notebook`\n"
     ]
    },
    {
     "data": {
      "application/vnd.jupyter.widget-view+json": {
       "model_id": "0330c2568d59487a9442071b1140db03",
       "version_major": 2,
       "version_minor": 0
      },
      "text/plain": [
       "HBox(children=(FloatProgress(value=0.0, description='beta loop', max=6.0, style=ProgressStyle(description_widt…"
      ]
     },
     "metadata": {},
     "output_type": "display_data"
    },
    {
     "name": "stdout",
     "output_type": "stream",
     "text": [
      "\n"
     ]
    },
    {
     "name": "stderr",
     "output_type": "stream",
     "text": [
      "/Users/gwengou/opt/anaconda3/lib/python3.7/site-packages/ipykernel_launcher.py:37: TqdmDeprecationWarning: This function will be removed in tqdm==5.0.0\n",
      "Please use `tqdm.notebook.tqdm` instead of `tqdm.tqdm_notebook`\n"
     ]
    },
    {
     "data": {
      "application/vnd.jupyter.widget-view+json": {
       "model_id": "23ba0d46a3ef424296e930ff56db3368",
       "version_major": 2,
       "version_minor": 0
      },
      "text/plain": [
       "HBox(children=(FloatProgress(value=0.0, description='beta loop', max=6.0, style=ProgressStyle(description_widt…"
      ]
     },
     "metadata": {},
     "output_type": "display_data"
    },
    {
     "name": "stdout",
     "output_type": "stream",
     "text": [
      "\n"
     ]
    },
    {
     "name": "stderr",
     "output_type": "stream",
     "text": [
      "/Users/gwengou/opt/anaconda3/lib/python3.7/site-packages/ipykernel_launcher.py:37: TqdmDeprecationWarning: This function will be removed in tqdm==5.0.0\n",
      "Please use `tqdm.notebook.tqdm` instead of `tqdm.tqdm_notebook`\n"
     ]
    },
    {
     "data": {
      "application/vnd.jupyter.widget-view+json": {
       "model_id": "654737e9744e45c987f9deab2311fb19",
       "version_major": 2,
       "version_minor": 0
      },
      "text/plain": [
       "HBox(children=(FloatProgress(value=0.0, description='beta loop', max=6.0, style=ProgressStyle(description_widt…"
      ]
     },
     "metadata": {},
     "output_type": "display_data"
    },
    {
     "name": "stdout",
     "output_type": "stream",
     "text": [
      "\n",
      "\n"
     ]
    },
    {
     "name": "stderr",
     "output_type": "stream",
     "text": [
      "/Users/gwengou/opt/anaconda3/lib/python3.7/site-packages/ipykernel_launcher.py:35: TqdmDeprecationWarning: This function will be removed in tqdm==5.0.0\n",
      "Please use `tqdm.notebook.tqdm` instead of `tqdm.tqdm_notebook`\n"
     ]
    },
    {
     "data": {
      "application/vnd.jupyter.widget-view+json": {
       "model_id": "4aa6868f1cca44febdae36f68e1e7f0d",
       "version_major": 2,
       "version_minor": 0
      },
      "text/plain": [
       "HBox(children=(FloatProgress(value=0.0, description='alpha loop', max=3.0, style=ProgressStyle(description_wid…"
      ]
     },
     "metadata": {},
     "output_type": "display_data"
    },
    {
     "name": "stderr",
     "output_type": "stream",
     "text": [
      "/Users/gwengou/opt/anaconda3/lib/python3.7/site-packages/ipykernel_launcher.py:37: TqdmDeprecationWarning: This function will be removed in tqdm==5.0.0\n",
      "Please use `tqdm.notebook.tqdm` instead of `tqdm.tqdm_notebook`\n"
     ]
    },
    {
     "data": {
      "application/vnd.jupyter.widget-view+json": {
       "model_id": "be9187647cd24e97b7f8cd753b839396",
       "version_major": 2,
       "version_minor": 0
      },
      "text/plain": [
       "HBox(children=(FloatProgress(value=0.0, description='beta loop', max=6.0, style=ProgressStyle(description_widt…"
      ]
     },
     "metadata": {},
     "output_type": "display_data"
    },
    {
     "name": "stdout",
     "output_type": "stream",
     "text": [
      "\n"
     ]
    },
    {
     "name": "stderr",
     "output_type": "stream",
     "text": [
      "/Users/gwengou/opt/anaconda3/lib/python3.7/site-packages/ipykernel_launcher.py:37: TqdmDeprecationWarning: This function will be removed in tqdm==5.0.0\n",
      "Please use `tqdm.notebook.tqdm` instead of `tqdm.tqdm_notebook`\n"
     ]
    },
    {
     "data": {
      "application/vnd.jupyter.widget-view+json": {
       "model_id": "804fe40adc924a7bb343f53113a6ecab",
       "version_major": 2,
       "version_minor": 0
      },
      "text/plain": [
       "HBox(children=(FloatProgress(value=0.0, description='beta loop', max=6.0, style=ProgressStyle(description_widt…"
      ]
     },
     "metadata": {},
     "output_type": "display_data"
    },
    {
     "name": "stdout",
     "output_type": "stream",
     "text": [
      "\n"
     ]
    },
    {
     "name": "stderr",
     "output_type": "stream",
     "text": [
      "/Users/gwengou/opt/anaconda3/lib/python3.7/site-packages/ipykernel_launcher.py:37: TqdmDeprecationWarning: This function will be removed in tqdm==5.0.0\n",
      "Please use `tqdm.notebook.tqdm` instead of `tqdm.tqdm_notebook`\n"
     ]
    },
    {
     "data": {
      "application/vnd.jupyter.widget-view+json": {
       "model_id": "cbd15ef974bb425ab22dc4361211cc06",
       "version_major": 2,
       "version_minor": 0
      },
      "text/plain": [
       "HBox(children=(FloatProgress(value=0.0, description='beta loop', max=6.0, style=ProgressStyle(description_widt…"
      ]
     },
     "metadata": {},
     "output_type": "display_data"
    },
    {
     "name": "stdout",
     "output_type": "stream",
     "text": [
      "\n",
      "\n"
     ]
    },
    {
     "name": "stderr",
     "output_type": "stream",
     "text": [
      "/Users/gwengou/opt/anaconda3/lib/python3.7/site-packages/ipykernel_launcher.py:35: TqdmDeprecationWarning: This function will be removed in tqdm==5.0.0\n",
      "Please use `tqdm.notebook.tqdm` instead of `tqdm.tqdm_notebook`\n"
     ]
    },
    {
     "data": {
      "application/vnd.jupyter.widget-view+json": {
       "model_id": "a80dff7fc7cd4dd190f2c1ba289f4071",
       "version_major": 2,
       "version_minor": 0
      },
      "text/plain": [
       "HBox(children=(FloatProgress(value=0.0, description='alpha loop', max=3.0, style=ProgressStyle(description_wid…"
      ]
     },
     "metadata": {},
     "output_type": "display_data"
    },
    {
     "name": "stderr",
     "output_type": "stream",
     "text": [
      "/Users/gwengou/opt/anaconda3/lib/python3.7/site-packages/ipykernel_launcher.py:37: TqdmDeprecationWarning: This function will be removed in tqdm==5.0.0\n",
      "Please use `tqdm.notebook.tqdm` instead of `tqdm.tqdm_notebook`\n"
     ]
    },
    {
     "data": {
      "application/vnd.jupyter.widget-view+json": {
       "model_id": "faebb17aafca46b78169f8b9d259f91c",
       "version_major": 2,
       "version_minor": 0
      },
      "text/plain": [
       "HBox(children=(FloatProgress(value=0.0, description='beta loop', max=6.0, style=ProgressStyle(description_widt…"
      ]
     },
     "metadata": {},
     "output_type": "display_data"
    },
    {
     "name": "stdout",
     "output_type": "stream",
     "text": [
      "\n"
     ]
    },
    {
     "name": "stderr",
     "output_type": "stream",
     "text": [
      "/Users/gwengou/opt/anaconda3/lib/python3.7/site-packages/ipykernel_launcher.py:37: TqdmDeprecationWarning: This function will be removed in tqdm==5.0.0\n",
      "Please use `tqdm.notebook.tqdm` instead of `tqdm.tqdm_notebook`\n"
     ]
    },
    {
     "data": {
      "application/vnd.jupyter.widget-view+json": {
       "model_id": "abd56d84d1cc4dfab810a921f02d6f8d",
       "version_major": 2,
       "version_minor": 0
      },
      "text/plain": [
       "HBox(children=(FloatProgress(value=0.0, description='beta loop', max=6.0, style=ProgressStyle(description_widt…"
      ]
     },
     "metadata": {},
     "output_type": "display_data"
    },
    {
     "name": "stdout",
     "output_type": "stream",
     "text": [
      "\n"
     ]
    },
    {
     "name": "stderr",
     "output_type": "stream",
     "text": [
      "/Users/gwengou/opt/anaconda3/lib/python3.7/site-packages/ipykernel_launcher.py:37: TqdmDeprecationWarning: This function will be removed in tqdm==5.0.0\n",
      "Please use `tqdm.notebook.tqdm` instead of `tqdm.tqdm_notebook`\n"
     ]
    },
    {
     "data": {
      "application/vnd.jupyter.widget-view+json": {
       "model_id": "71c2e6a8321040edb6dd460af7ee4314",
       "version_major": 2,
       "version_minor": 0
      },
      "text/plain": [
       "HBox(children=(FloatProgress(value=0.0, description='beta loop', max=6.0, style=ProgressStyle(description_widt…"
      ]
     },
     "metadata": {},
     "output_type": "display_data"
    },
    {
     "name": "stdout",
     "output_type": "stream",
     "text": [
      "\n",
      "\n",
      "\n",
      "\n"
     ]
    }
   ],
   "source": [
    "#can take a long time to run\n",
    "\n",
    "# Topics range\n",
    "min_topics = 8\n",
    "max_topics = 15 #The blog has 24 self-tagged \"categories\" but preliminary examinations showed ~10 optimal topics. \n",
    "step_size = 1\n",
    "topics_range = range(min_topics, max_topics, step_size)\n",
    "\n",
    "#Typical values of alpha can be: an 1D array of length equal to the number of expected topics;’asymmetric’: Uses a fixed normalized asymmetric prior of 1.0 / topicno; ’auto’: Learns an asymmetric prior from the corpus.\n",
    "#Typical value of beta is 0.1 or 200/number_of_words_in_vocabulary.\n",
    "#Ideally, our composites should be made up of only a few topics and our words to belong to only some of the topics. With this in mind, alpha and beta are typically set below one.\n",
    "\n",
    "#Random states\n",
    "random_state = [1, 22, 333, 4444, 55555, 666666, 7777777, 88888888, 999999999] #gensim LDA's random generator comes from numpy.random.RandomState, which has a range between 0 and 2**32 - 1 inclusive.  \n",
    "\n",
    "# Alpha parameter\n",
    "alpha = ['symmetric', 'asymmetric', 'auto']\n",
    "\n",
    "# Beta parameter\n",
    "beta = list(np.arange(0.01, 0.1, 0.02))\n",
    "beta.append('auto')\n",
    "\n",
    "df_multiple_tuning_comparion = pandas.DataFrame()\n",
    "#iterate through 5 random states: \n",
    "for r in tqdm(random_state): \n",
    "    model_results = {\n",
    "                 'Topics': [],\n",
    "                 'Alpha': [],\n",
    "                 'Beta': [],\n",
    "                 'Coherence': []\n",
    "                }\n",
    "    # iterate through number of topics\n",
    "    for k in tqdm(topics_range, desc = 'k loop'):\n",
    "        # iterate through alpha values\n",
    "        for a in tqdm(alpha, desc = 'alpha loop'):\n",
    "            # iterare through beta values\n",
    "            for b in tqdm(beta, desc = 'beta loop'):\n",
    "                # get the coherence score for the given parameters\n",
    "                cv = compute_coherence_values(corpus=corpus, dictionary=id2word, k=k, a=a, b=b, r=r)\n",
    "                # Save the model results\n",
    "                model_results['Topics'].append(k)\n",
    "                model_results['Alpha'].append(a)\n",
    "                model_results['Beta'].append(b)\n",
    "                model_results['Coherence'].append(cv)\n",
    "                best_params_index_row = pandas.DataFrame(model_results)['Coherence'].idxmax()\n",
    "                df_multiple_tuning_comparion[r] = pandas.DataFrame(model_results).loc[best_params_index_row]"
   ]
  },
  {
   "cell_type": "code",
   "execution_count": 341,
   "metadata": {},
   "outputs": [
    {
     "data": {
      "text/html": [
       "<div>\n",
       "<style scoped>\n",
       "    .dataframe tbody tr th:only-of-type {\n",
       "        vertical-align: middle;\n",
       "    }\n",
       "\n",
       "    .dataframe tbody tr th {\n",
       "        vertical-align: top;\n",
       "    }\n",
       "\n",
       "    .dataframe thead th {\n",
       "        text-align: right;\n",
       "    }\n",
       "</style>\n",
       "<table border=\"1\" class=\"dataframe\">\n",
       "  <thead>\n",
       "    <tr style=\"text-align: right;\">\n",
       "      <th></th>\n",
       "      <th>1</th>\n",
       "      <th>22</th>\n",
       "      <th>333</th>\n",
       "      <th>4444</th>\n",
       "      <th>55555</th>\n",
       "      <th>666666</th>\n",
       "      <th>7777777</th>\n",
       "      <th>88888888</th>\n",
       "      <th>999999999</th>\n",
       "    </tr>\n",
       "  </thead>\n",
       "  <tbody>\n",
       "    <tr>\n",
       "      <th>Topics</th>\n",
       "      <td>12</td>\n",
       "      <td>8</td>\n",
       "      <td>8</td>\n",
       "      <td>10</td>\n",
       "      <td>14</td>\n",
       "      <td>9</td>\n",
       "      <td>14</td>\n",
       "      <td>9</td>\n",
       "      <td>11</td>\n",
       "    </tr>\n",
       "    <tr>\n",
       "      <th>Alpha</th>\n",
       "      <td>asymmetric</td>\n",
       "      <td>auto</td>\n",
       "      <td>auto</td>\n",
       "      <td>symmetric</td>\n",
       "      <td>symmetric</td>\n",
       "      <td>symmetric</td>\n",
       "      <td>symmetric</td>\n",
       "      <td>auto</td>\n",
       "      <td>asymmetric</td>\n",
       "    </tr>\n",
       "    <tr>\n",
       "      <th>Beta</th>\n",
       "      <td>0.03</td>\n",
       "      <td>0.01</td>\n",
       "      <td>0.01</td>\n",
       "      <td>0.09</td>\n",
       "      <td>0.01</td>\n",
       "      <td>auto</td>\n",
       "      <td>0.01</td>\n",
       "      <td>0.01</td>\n",
       "      <td>0.05</td>\n",
       "    </tr>\n",
       "    <tr>\n",
       "      <th>Coherence</th>\n",
       "      <td>0.705541</td>\n",
       "      <td>0.702346</td>\n",
       "      <td>0.71659</td>\n",
       "      <td>0.704797</td>\n",
       "      <td>0.699421</td>\n",
       "      <td>0.712607</td>\n",
       "      <td>0.705669</td>\n",
       "      <td>0.709829</td>\n",
       "      <td>0.720617</td>\n",
       "    </tr>\n",
       "  </tbody>\n",
       "</table>\n",
       "</div>"
      ],
      "text/plain": [
       "            1         22        333        4444       55555      666666     \\\n",
       "Topics             12         8         8         10         14          9   \n",
       "Alpha      asymmetric      auto      auto  symmetric  symmetric  symmetric   \n",
       "Beta             0.03      0.01      0.01       0.09       0.01       auto   \n",
       "Coherence    0.705541  0.702346   0.71659   0.704797   0.699421   0.712607   \n",
       "\n",
       "           7777777   88888888    999999999  \n",
       "Topics            14         9          11  \n",
       "Alpha      symmetric      auto  asymmetric  \n",
       "Beta            0.01      0.01        0.05  \n",
       "Coherence   0.705669  0.709829    0.720617  "
      ]
     },
     "execution_count": 341,
     "metadata": {},
     "output_type": "execute_result"
    }
   ],
   "source": [
    "df_multiple_tuning_comparion"
   ]
  },
  {
   "cell_type": "code",
   "execution_count": 329,
   "metadata": {},
   "outputs": [],
   "source": [
    "#Choose: \n",
    "a = 'auto'\n",
    "b = 0.01\n",
    "k = 8"
   ]
  },
  {
   "cell_type": "code",
   "execution_count": null,
   "metadata": {},
   "outputs": [],
   "source": [
    "#Get 100 terms per topic"
   ]
  },
  {
   "cell_type": "code",
   "execution_count": 330,
   "metadata": {},
   "outputs": [
    {
     "name": "stdout",
     "output_type": "stream",
     "text": [
      "(0, '0.002*\"bloomberg\" + 0.002*\"keyn\" + 0.002*\"algorithm\" + 0.002*\"kn95\" + 0.002*\"svalbard\" + 0.002*\"tree\" + 0.002*\"divers\" + 0.002*\"gre\" + 0.002*\"novel\" + 0.002*\"web\" + 0.002*\"quick\" + 0.002*\"passport\" + 0.002*\"tourist\" + 0.002*\"afford\" + 0.002*\"latino\" + 0.002*\"length\" + 0.002*\"contemporari\" + 0.001*\"norway\" + 0.001*\"ark\" + 0.001*\"abort\" + 0.001*\"vital\" + 0.001*\"nudnik\" + 0.001*\"definit\" + 0.001*\"cooper\" + 0.001*\"maxim\" + 0.001*\"dog\" + 0.001*\"coupl\" + 0.001*\"canada\" + 0.001*\"nyc\" + 0.001*\"treati\" + 0.001*\"devic\" + 0.001*\"n95\" + 0.001*\"afraid\" + 0.001*\"librari\" + 0.001*\"silenc\" + 0.001*\"24\" + 0.001*\"vision\" + 0.001*\"click\" + 0.001*\"moder\" + 0.001*\"file\" + 0.001*\"site\" + 0.001*\"weitzman\" + 0.001*\"ekman\" + 0.001*\"decept\" + 0.001*\"limb\" + 0.001*\"micro\" + 0.001*\"exempt\" + 0.001*\"20th\" + 0.001*\"reluct\" + 0.001*\"goug\" + 0.001*\"understood\" + 0.001*\"hokkaido\" + 0.001*\"bureaucrat\" + 0.001*\"council\" + 0.001*\"harm\" + 0.001*\"phase\" + 0.001*\"solitari_confin\" + 0.001*\"usag\" + 0.001*\"virtu\" + 0.001*\"volunt\" + 0.001*\"conscienti\" + 0.001*\"partner\" + 0.001*\"premis\" + 0.001*\"ai\" + 0.001*\"baselin\" + 0.001*\"smooth\" + 0.001*\"segment\" + 0.001*\"gmu\" + 0.001*\"februari\" + 0.001*\"eas\" + 0.001*\"instructor\" + 0.001*\"introduct\" + 0.001*\"reaction\" + 0.001*\"vehicl\" + 0.001*\"phrase\" + 0.001*\"inspir\" + 0.001*\"valid\" + 0.001*\"suit\" + 0.001*\"violat\" + 0.001*\"preserv\" + 0.001*\"exampl\" + 0.001*\"retali\" + 0.001*\"noah\" + 0.001*\"discoveri\" + 0.001*\"rca\" + 0.001*\"ground\" + 0.001*\"ordinari\" + 0.001*\"domain\" + 0.001*\"airport\" + 0.001*\"visa\" + 0.001*\"muni\" + 0.001*\"inou\" + 0.001*\"livestream\" + 0.001*\"isa\" + 0.001*\"cheaper\" + 0.001*\"lovel\" + 0.001*\"cu\" + 0.001*\"offend\" + 0.001*\"santa\" + 0.001*\"secretari\"')\n",
      "(1, '0.003*\"labour\" + 0.003*\"senat\" + 0.002*\"tether_pair\" + 0.002*\"sander\" + 0.002*\"fatal\" + 0.002*\"slave\" + 0.002*\"volcker\" + 0.002*\"volatil\" + 0.002*\"son\" + 0.002*\"jump\" + 0.002*\"japanes\" + 0.002*\"varianc\" + 0.002*\"pari\" + 0.001*\"pair\" + 0.001*\"ceqa\" + 0.001*\"artist\" + 0.001*\"confer\" + 0.001*\"actuari\" + 0.001*\"spreader\" + 0.001*\"nonprofit\" + 0.001*\"aggress\" + 0.001*\"bar\" + 0.001*\"prepared\" + 0.001*\"februari\" + 0.001*\"film\" + 0.001*\"explicit\" + 0.001*\"cyclic\" + 0.001*\"captur\" + 0.001*\"photograph\" + 0.001*\"recoveri\" + 0.001*\"columbia\" + 0.001*\"ethanol\" + 0.001*\"incred\" + 0.001*\"understood\" + 0.001*\"tight\" + 0.001*\"compel\" + 0.001*\"escal\" + 0.001*\"bellini\" + 0.001*\"tip\" + 0.001*\"congress\" + 0.001*\"controversi\" + 0.001*\"obes\" + 0.001*\"phase\" + 0.001*\"meal\" + 0.001*\"race\" + 0.001*\"treasuri\" + 0.001*\"landscap\" + 0.001*\"flow\" + 0.001*\"disast\" + 0.001*\"introduct\" + 0.001*\"fascin\" + 0.001*\"nimbi\" + 0.001*\"outrag\" + 0.001*\"board\" + 0.001*\"forest\" + 0.001*\"ghulam\" + 0.001*\"dalrympl\" + 0.001*\"journalist\" + 0.001*\"ensur\" + 0.001*\"segreg\" + 0.001*\"feed\" + 0.001*\"wast\" + 0.001*\"deeper\" + 0.001*\"roll\" + 0.001*\"2000\" + 0.001*\"toler\" + 0.001*\"thirti\" + 0.001*\"dose\" + 0.001*\"26\" + 0.001*\"simultan\" + 0.001*\"mood_affili\" + 0.001*\"49_cfr\" + 0.001*\"faa\" + 0.001*\"afamelanotid\" + 0.001*\"spock\" + 0.001*\"bodi\" + 0.001*\"frank\" + 0.001*\"symptomat\" + 0.001*\"safer\" + 0.001*\"venetian\" + 0.001*\"forget\" + 0.001*\"conform\" + 0.001*\"permiss\" + 0.001*\"19th\" + 0.001*\"guarante\" + 0.001*\"ghost\" + 0.001*\"constitut\" + 0.001*\"krogan\" + 0.001*\"berni\" + 0.001*\"stagnat\" + 0.001*\"compens\" + 0.001*\"funder\" + 0.001*\"bezo\" + 0.001*\"deficit\" + 0.001*\"contain\" + 0.001*\"steadi\" + 0.001*\"secular_stagnat\" + 0.001*\"modest\" + 0.001*\"amaz\" + 0.001*\"fat\"')\n",
      "(2, '0.003*\"racial\" + 0.002*\"insid\" + 0.002*\"boomer\" + 0.002*\"martin\" + 0.002*\"girl\" + 0.002*\"intent\" + 0.002*\"todd\" + 0.002*\"abhijit\" + 0.002*\"carbon\" + 0.002*\"pursu\" + 0.002*\"tournament\" + 0.002*\"asia\" + 0.002*\"fundament\" + 0.002*\"escal\" + 0.002*\"bore\" + 0.002*\"satisfact\" + 0.002*\"infecti\" + 0.001*\"contrari\" + 0.001*\"genuin\" + 0.001*\"oppos\" + 0.001*\"rememb\" + 0.001*\"liberaltarian\" + 0.001*\"upfront\" + 0.001*\"transplant\" + 0.001*\"reward\" + 0.001*\"venetian\" + 0.001*\"stabil\" + 0.001*\"incorpor\" + 0.001*\"barro\" + 0.001*\"arm\" + 0.001*\"finish\" + 0.001*\"quantit\" + 0.001*\"bengali\" + 0.001*\"recruit\" + 0.001*\"mean\" + 0.001*\"composit\" + 0.001*\"buyer\" + 0.001*\"suscept\" + 0.001*\"ubi\" + 0.001*\"subway\" + 0.001*\"heavili\" + 0.001*\"disrespect\" + 0.001*\"visual\" + 0.001*\"ideal\" + 0.001*\"tell\" + 0.001*\"salari\" + 0.001*\"vote\" + 0.001*\"shortag\" + 0.001*\"oil\" + 0.001*\"sure\" + 0.001*\"stake\" + 0.001*\"warn\" + 0.001*\"visibl\" + 0.001*\"depress\" + 0.001*\"sexual\" + 0.001*\"deceas_transplant\" + 0.001*\"albeit\" + 0.001*\"evolv\" + 0.001*\"club\" + 0.001*\"wartim\" + 0.001*\"pdv\" + 0.001*\"lift\" + 0.001*\"replic\" + 0.001*\"motor\" + 0.001*\"handl\" + 0.001*\"decomposit\" + 0.001*\"prospect\" + 0.001*\"invis\" + 0.001*\"fault\" + 0.001*\"greta_thunberg\" + 0.001*\"folk\" + 0.001*\"stem\" + 0.001*\"devic\" + 0.001*\"comfort\" + 0.001*\"andrew\" + 0.001*\"diabet\" + 0.001*\"census\" + 0.001*\"obsess\" + 0.001*\"dataset\" + 0.001*\"perceiv\" + 0.001*\"clean\" + 0.001*\"inherit\" + 0.001*\"deficit\" + 0.001*\"sharehold\" + 0.001*\"asian\" + 0.001*\"disrupt\" + 0.001*\"liberti\" + 0.001*\"21\" + 0.001*\"paragraph\" + 0.001*\"deliveri\" + 0.001*\"elast\" + 0.001*\"format\" + 0.001*\"temperatur\" + 0.001*\"senior\" + 0.001*\"interrupt\" + 0.001*\"medium\" + 0.001*\"creativ\" + 0.001*\"sad\" + 0.001*\"prejudic\" + 0.001*\"phrase\"')\n",
      "(3, '0.003*\"murray\" + 0.002*\"chess\" + 0.002*\"johnson\" + 0.002*\"robbin\" + 0.002*\"teacher\" + 0.002*\"proposit\" + 0.002*\"tomb\" + 0.002*\"mention\" + 0.002*\"dozen\" + 0.001*\"romer\" + 0.001*\"bill\" + 0.001*\"cebu\" + 0.001*\"commerci\" + 0.001*\"dinwiddi\" + 0.001*\"wing\" + 0.001*\"biomed\" + 0.001*\"brazil\" + 0.001*\"nsf\" + 0.001*\"comprehens\" + 0.001*\"invent\" + 0.001*\"muslim\" + 0.001*\"cough\" + 0.001*\"submit\" + 0.001*\"citat\" + 0.001*\"grew\" + 0.001*\"pound\" + 0.001*\"neighborhood\" + 0.001*\"residenti\" + 0.001*\"coloni\" + 0.001*\"alli\" + 0.001*\"show\" + 0.001*\"prosper\" + 0.001*\"guarante\" + 0.001*\"justic\" + 0.001*\"eric\" + 0.001*\"schizophrenia\" + 0.001*\"reformat\" + 0.001*\"ufc\" + 0.001*\"reimburs\" + 0.001*\"sba\" + 0.001*\"200\" + 0.001*\"meter\" + 0.001*\"seattl\" + 0.001*\"hike\" + 0.001*\"park\" + 0.001*\"300\" + 0.001*\"famous\" + 0.001*\"scholar\" + 0.001*\"pro\" + 0.001*\"intend\" + 0.001*\"statement\" + 0.001*\"elast\" + 0.001*\"refere\" + 0.001*\"advis\" + 0.001*\"pension\" + 0.001*\"exhibit\" + 0.001*\"subsequ\" + 0.001*\"2014\" + 0.001*\"lift\" + 0.001*\"correspond\" + 0.001*\"communist\" + 0.001*\"imperi\" + 0.001*\"softwar\" + 0.001*\"except\" + 0.001*\"chapter\" + 0.001*\"ground\" + 0.001*\"host\" + 0.001*\"silicon_valley\" + 0.001*\"august\" + 0.001*\"ring\" + 0.001*\"ensur\" + 0.001*\"panic\" + 0.001*\"bankruptci\" + 0.001*\"reliabl\" + 0.001*\"albeit\" + 0.001*\"philippin\" + 0.001*\"islam\" + 0.001*\"england\" + 0.001*\"weight\" + 0.001*\"constrain\" + 0.001*\"laid\" + 0.001*\"eleph\" + 0.001*\"controversi\" + 0.001*\"tournament\" + 0.001*\"format\" + 0.001*\"romney\" + 0.001*\"ivori\" + 0.001*\"envelop\" + 0.001*\"alter\" + 0.001*\"acceler\" + 0.001*\"permiss\" + 0.001*\"upward\" + 0.001*\"delhi\" + 0.001*\"buchanan\" + 0.001*\"boundari\" + 0.001*\"dopamin\" + 0.001*\"burn\" + 0.001*\"deepli\" + 0.001*\"arab\" + 0.001*\"diplomat\"')\n",
      "(4, '0.002*\"swedish\" + 0.002*\"sweden\" + 0.002*\"migrat\" + 0.002*\"bailout\" + 0.002*\"bail\" + 0.002*\"tractor\" + 0.002*\"nigel\" + 0.001*\"implicit\" + 0.001*\"award\" + 0.001*\"iceland\" + 0.001*\"1970\" + 0.001*\"owner\" + 0.001*\"neighborhood\" + 0.001*\"squirrel\" + 0.001*\"influenza\" + 0.001*\"incid\" + 0.001*\"displac\" + 0.001*\"ideal\" + 0.001*\"carrier\" + 0.001*\"gas\" + 0.001*\"nber\" + 0.001*\"conclud\" + 0.001*\"acorn\" + 0.001*\"brexit\" + 0.001*\"park\" + 0.001*\"delhi\" + 0.001*\"referendum\" + 0.001*\"celebr\" + 0.001*\"karachi\" + 0.001*\"septemb\" + 0.001*\"felt\" + 0.001*\"chapter\" + 0.001*\"tabl\" + 0.001*\"jazz\" + 0.001*\"ohio\" + 0.001*\"almond\" + 0.001*\"manhattan\" + 0.001*\"defend\" + 0.001*\"reaction\" + 0.001*\"distress\" + 0.001*\"isa\" + 0.001*\"king\" + 0.001*\"harford\" + 0.001*\"seat\" + 0.001*\"1000\" + 0.001*\"orient\" + 0.001*\"referenda\" + 0.001*\"mexico\" + 0.001*\"microsoft\" + 0.001*\"revis\" + 0.001*\"graphic\" + 0.001*\"attitud\" + 0.001*\"forget\" + 0.001*\"disagre\" + 0.001*\"migrant\" + 0.001*\"1980\" + 0.001*\"27\" + 0.001*\"herd\" + 0.001*\"anim\" + 0.001*\"scene\" + 0.001*\"lifetim\" + 0.001*\"scholar\" + 0.001*\"2011\" + 0.001*\"june\" + 0.001*\"consensus\" + 0.001*\"coerciv\" + 0.001*\"speaker\" + 0.001*\"fun\" + 0.001*\"2009\" + 0.001*\"fli\" + 0.001*\"constitut\" + 0.001*\"convinc\" + 0.001*\"lie\" + 0.001*\"facil\" + 0.001*\"overse\" + 0.001*\"bertaud\" + 0.001*\"variol\" + 0.001*\"euler\" + 0.001*\"piketti\" + 0.001*\"magistr\" + 0.001*\"bed\" + 0.001*\"mattress\" + 0.001*\"gather\" + 0.001*\"aspect\" + 0.001*\"stake\" + 0.001*\"farm\" + 0.001*\"coat\" + 0.001*\"kid\" + 0.001*\"reward\" + 0.001*\"spite\" + 0.001*\"dens\" + 0.001*\"monet\" + 0.001*\"coher\" + 0.001*\"canadian\" + 0.001*\"trip\" + 0.001*\"mathemat\" + 0.001*\"bind\" + 0.001*\"justic\" + 0.001*\"rose\" + 0.001*\"stone\"')\n",
      "(5, '0.003*\"sar_cov\" + 0.003*\"sex\" + 0.002*\"asymptomat\" + 0.002*\"pool\" + 0.002*\"saliva\" + 0.002*\"prescrib\" + 0.002*\"1980\" + 0.002*\"transpar\" + 0.001*\"marijuana\" + 0.001*\"avian\" + 0.001*\"height\" + 0.001*\"eitc\" + 0.001*\"anomali\" + 0.001*\"taiwan\" + 0.001*\"commodif\" + 0.001*\"pcr\" + 0.001*\"dead\" + 0.001*\"shortag\" + 0.001*\"bezo\" + 0.001*\"diagnost\" + 0.001*\"diagnos\" + 0.001*\"promis\" + 0.001*\"influenti\" + 0.001*\"polio\" + 0.001*\"monopoli\" + 0.001*\"communist\" + 0.001*\"taylor\" + 0.001*\"sensit\" + 0.001*\"differenti\" + 0.001*\"christian\" + 0.001*\"royal\" + 0.001*\"superspread\" + 0.001*\"consensus\" + 0.001*\"lewi\" + 0.001*\"hilleman\" + 0.001*\"escort\" + 0.001*\"contractor\" + 0.001*\"display\" + 0.001*\"coal\" + 0.001*\"coincid\" + 0.001*\"assert\" + 0.001*\"coordin\" + 0.001*\"overwhelm\" + 0.001*\"bought\" + 0.001*\"absenc\" + 0.001*\"liquid\" + 0.001*\"toilet\" + 0.001*\"caesar\" + 0.001*\"kelton\" + 0.001*\"exclus\" + 0.001*\"canon\" + 0.001*\"pdf\" + 0.001*\"exploit\" + 0.001*\"hierarchi\" + 0.001*\"disrupt\" + 0.001*\"fraction\" + 0.001*\"slowli\" + 0.001*\"compon\" + 0.001*\"cathol\" + 0.001*\"fli\" + 0.001*\"framework\" + 0.001*\"stop\" + 0.001*\"physiolog\" + 0.001*\"command\" + 0.001*\"belong\" + 0.001*\"smoke\" + 0.001*\"mcwhorter\" + 0.001*\"substant\" + 0.001*\"profil\" + 0.001*\"mission\" + 0.001*\"aggress\" + 0.001*\"nytim\" + 0.001*\"headquart\" + 0.001*\"catastroph\" + 0.001*\"simul\" + 0.001*\"struck\" + 0.001*\"linguist\" + 0.001*\"harm\" + 0.001*\"stranger\" + 0.001*\"cancel\" + 0.001*\"credibl\" + 0.001*\"existenti\" + 0.001*\"lang\" + 0.001*\"london\" + 0.001*\"fentanyl\" + 0.001*\"televis\" + 0.001*\"infecti\" + 0.001*\"align\" + 0.001*\"inventor\" + 0.001*\"viral_load\" + 0.001*\"hypothes\" + 0.001*\"alleg\" + 0.001*\"korean\" + 0.001*\"austin\" + 0.001*\"volatil\" + 0.001*\"underst\" + 0.001*\"strength\" + 0.001*\"republ\" + 0.001*\"2000\" + 0.001*\"cruis\"')\n",
      "(6, '0.002*\"bound\" + 0.002*\"writer\" + 0.002*\"charact\" + 0.002*\"jamaica\" + 0.002*\"nigeria\" + 0.002*\"cast\" + 0.002*\"phase\" + 0.002*\"partner\" + 0.002*\"pace\" + 0.002*\"wuhan\" + 0.002*\"launch\" + 0.002*\"villag\" + 0.002*\"virginia\" + 0.002*\"australian\" + 0.002*\"bed\" + 0.002*\"williamson\" + 0.002*\"utilitarian\" + 0.002*\"tutor\" + 0.002*\"newspap\" + 0.002*\"zede\" + 0.002*\"found\" + 0.002*\"eastern\" + 0.001*\"facil\" + 0.001*\"rer\" + 0.001*\"cheaper\" + 0.001*\"diverg\" + 0.001*\"tie\" + 0.001*\"provinc\" + 0.001*\"airbnb\" + 0.001*\"edit\" + 0.001*\"translat\" + 0.001*\"oppon\" + 0.001*\"200\" + 0.001*\"block\" + 0.001*\"jurisdict\" + 0.001*\"hondura\" + 0.001*\"red\" + 0.001*\"aw\" + 0.001*\"adapt\" + 0.001*\"rap\" + 0.001*\"side\" + 0.001*\"acemoglu\" + 0.001*\"narrat\" + 0.001*\"coloni\" + 0.001*\"credibl\" + 0.001*\"transport\" + 0.001*\"wind\" + 0.001*\"shutdown\" + 0.001*\"bless\" + 0.001*\"exempt\" + 0.001*\"ocean\" + 0.001*\"eqrx\" + 0.001*\"abandon_abduct\" + 0.001*\"tenur\" + 0.001*\"distinct\" + 0.001*\"stabil\" + 0.001*\"tough\" + 0.001*\"workshop\" + 0.001*\"penalti_undocu\" + 0.001*\"undocu\" + 0.001*\"complaint\" + 0.001*\"contain\" + 0.001*\"jewish\" + 0.001*\"conscienti\" + 0.001*\"slower\" + 0.001*\"avail\" + 0.001*\"promis\" + 0.001*\"tuition\" + 0.001*\"instagram\" + 0.001*\"weaker\" + 0.001*\"unpreced\" + 0.001*\"gdpr\" + 0.001*\"suprem\" + 0.001*\"westhoff\" + 0.001*\"glass\" + 0.001*\"rural\" + 0.001*\"cooper\" + 0.001*\"wander\" + 0.001*\"disappear\" + 0.001*\"emphasi\" + 0.001*\"fake\" + 0.001*\"geograph\" + 0.001*\"bloomberg\" + 0.001*\"meme\" + 0.001*\"densiti\" + 0.001*\"deep\" + 0.001*\"herd\" + 0.001*\"influenti\" + 0.001*\"accomplish\" + 0.001*\"constitut\" + 0.001*\"jamaican\" + 0.001*\"polish\" + 0.001*\"patterson\" + 0.001*\"athlet\" + 0.001*\"mandel\" + 0.001*\"turbin\" + 0.001*\"instal\" + 0.001*\"borisi\" + 0.001*\"inspir\" + 0.001*\"gt\"')\n",
      "(7, '0.003*\"politician\" + 0.003*\"ufo\" + 0.002*\"yorker\" + 0.002*\"levi\" + 0.002*\"chief\" + 0.002*\"deliber\" + 0.002*\"garett\" + 0.002*\"abroad\" + 0.002*\"peac\" + 0.002*\"cosmopolitan\" + 0.002*\"modi\" + 0.002*\"lever\" + 0.002*\"comfort\" + 0.002*\"prospect\" + 0.002*\"kidney\" + 0.002*\"vcs\" + 0.002*\"road\" + 0.002*\"surplus\" + 0.002*\"nonbank\" + 0.002*\"discov\" + 0.002*\"wfh\" + 0.002*\"album\" + 0.002*\"evil\" + 0.002*\"jone\" + 0.002*\"district\" + 0.002*\"nobel\" + 0.002*\"mie\" + 0.002*\"garett_jone\" + 0.002*\"advis\" + 0.002*\"realloc\" + 0.002*\"transcript\" + 0.002*\"taught\" + 0.001*\"roth\" + 0.001*\"pregnanc_pregnanc\" + 0.001*\"appiah\" + 0.001*\"buyout_buyout\" + 0.001*\"accompani\" + 0.001*\"pregnanc\" + 0.001*\"texa\" + 0.001*\"length\" + 0.001*\"frozen\" + 0.001*\"subway\" + 0.001*\"emphas\" + 0.001*\"magazin\" + 0.001*\"taco_bell\" + 0.001*\"district_attorney\" + 0.001*\"insist\" + 0.001*\"constitut\" + 0.001*\"deep\" + 0.001*\"banker\" + 0.001*\"villag\" + 0.001*\"uniform\" + 0.001*\"crazi\" + 0.001*\"strateg\" + 0.001*\"beij\" + 0.001*\"presidenti\" + 0.001*\"transit\" + 0.001*\"show\" + 0.001*\"accomplish\" + 0.001*\"greatest\" + 0.001*\"varieti\" + 0.001*\"macroeconom\" + 0.001*\"hot\" + 0.001*\"valid\" + 0.001*\"disrupt\" + 0.001*\"photo\" + 0.001*\"tier\" + 0.001*\"mason\" + 0.001*\"sach\" + 0.001*\"ecb\" + 0.001*\"parasit\" + 0.001*\"input\" + 0.001*\"conspiraci\" + 0.001*\"voic_mail\" + 0.001*\"krugman\" + 0.001*\"vc\" + 0.001*\"lebanon\" + 0.001*\"emi\" + 0.001*\"radio\" + 0.001*\"plenti\" + 0.001*\"squanto\" + 0.001*\"gke\" + 0.001*\"drain\" + 0.001*\"stimulus\" + 0.001*\"arkansa\" + 0.001*\"amaz\" + 0.001*\"chloroquin\" + 0.001*\"dakota\" + 0.001*\"slash\" + 0.001*\"ozimek\" + 0.001*\"highway\" + 0.001*\"alt\" + 0.001*\"appoint_treasur\" + 0.001*\"overwhelm\" + 0.001*\"satellit\" + 0.001*\"truck\" + 0.001*\"ultim\" + 0.001*\"polygen\" + 0.001*\"charter\" + 0.001*\"dataset\"')\n"
     ]
    }
   ],
   "source": [
    "#Manually inspect the topics generated from this model, to check interpretability: \n",
    "check_topics_lda_model = gensim.models.LdaModel(corpus=corpus,id2word=id2word, num_topics=k,alpha=a,eta=b,passes = 20, iterations = 400, random_state=4444) \n",
    "topics = check_topics_lda_model.print_topics(num_words = 100)\n",
    "for topic in topics:\n",
    "    print(topic)  #see if weights change meaningfully? If so, may be able to use customized k-medoids clustering. "
   ]
  },
  {
   "cell_type": "code",
   "execution_count": 18,
   "metadata": {},
   "outputs": [],
   "source": [
    "#Generate the topic_document matrix, and the correlation dataframes\n",
    "df_2 = pandas.read_csv('LDA_ready_data.csv', index_col = 0)"
   ]
  },
  {
   "cell_type": "code",
   "execution_count": null,
   "metadata": {},
   "outputs": [],
   "source": []
  },
  {
   "cell_type": "code",
   "execution_count": 204,
   "metadata": {},
   "outputs": [],
   "source": [
    "topic_terms = []"
   ]
  },
  {
   "cell_type": "code",
   "execution_count": 236,
   "metadata": {},
   "outputs": [
    {
     "name": "stdout",
     "output_type": "stream",
     "text": [
      "CPU times: user 31.4 s, sys: 76.8 ms, total: 31.5 s\n",
      "Wall time: 31.5 s\n"
     ]
    }
   ],
   "source": [
    "%%time\n",
    "\n",
    "#Manually repeat for random_state = [1, 22, 333, 4444, 55555]\n",
    "r = 55555\n",
    "\n",
    "lda_model = gensim.models.LdaModel(corpus=corpus,id2word=id2word, num_topics=k,alpha=a,eta=b,passes = 20, random_state = r, iterations = 400) #set passes and iterations high enough to ensure convergence\n",
    "   \n",
    "#document_topic matrix: \n",
    "matrix = np.zeros((1498,k))\n",
    "for d in range(1498): \n",
    "    topic_distribution = lda_model.get_document_topics(corpus[d])\n",
    "    for t in topic_distribution:\n",
    "        i, p = t\n",
    "        try:\n",
    "            if i in range(k):\n",
    "                matrix[d][i] = p\n",
    "        except:\n",
    "            matrix[d][i] = 0\n",
    "\n",
    "#Test correlation between topic vectors and external features: \n",
    "df_topics_doc = pandas.DataFrame(matrix,columns = ['Topic 0', 'Topic 1','Topic 2', 'Topic 3','Topic 4', 'Topic 5','Topic 6', 'Topic 7'])\n",
    "df_combined = pandas.concat([df_2, df_topics_doc], axis = 1, sort = False)\n",
    "df_corr_random = df_combined[[\n",
    " 'Entry Author',\n",
    " #'Time Posted',\n",
    " #'Entry Text',\n",
    " #'Linked Domains',\n",
    " 'Number of Comments',\n",
    " #'First Comment Time',\n",
    " 'Entry Text Length',\n",
    " 'Twitter',\n",
    " 'Amazon',\n",
    " 'Self Reference',\n",
    " 'NY Times',\n",
    " 'Bloomberg',\n",
    " 'WaPo',\n",
    " 'NBER',\n",
    " 'YouTube',\n",
    " 'Medium',\n",
    " 'SSRN',\n",
    " 'Wikipedia',\n",
    " 'WSJ',\n",
    " 'The Guardian',\n",
    " 'BBC',\n",
    " 'Mercatus Center',\n",
    " 'Time Posted in Epoch',\n",
    " 'Time Posted Since Midnight',\n",
    " 'First Comment Time in Epoch',\n",
    " 'First Response Since Post',\n",
    " 'Topic 0',\n",
    " 'Topic 1',\n",
    " 'Topic 2',\n",
    " 'Topic 3',\n",
    " 'Topic 4',\n",
    " 'Topic 5',\n",
    " 'Topic 6',\n",
    " 'Topic 7']].copy()"
   ]
  },
  {
   "cell_type": "code",
   "execution_count": 237,
   "metadata": {},
   "outputs": [],
   "source": [
    "#topic_term list of lists:\n",
    "topic_terms.append([x[1] for x in lda_model.print_topics(num_words = 100)])"
   ]
  },
  {
   "cell_type": "code",
   "execution_count": 238,
   "metadata": {},
   "outputs": [],
   "source": [
    "corr = df_corr_random.corr(method='spearman')"
   ]
  },
  {
   "cell_type": "code",
   "execution_count": 239,
   "metadata": {
    "scrolled": false
   },
   "outputs": [
    {
     "data": {
      "text/html": [
       "<style  type=\"text/css\" >\n",
       "    #T_3a006360_cc9e_11ea_97e7_320015ebc5a0row0_col2 {\n",
       "            background-color: pink;\n",
       "        }    #T_3a006360_cc9e_11ea_97e7_320015ebc5a0row0_col5 {\n",
       "            background-color: pink;\n",
       "        }    #T_3a006360_cc9e_11ea_97e7_320015ebc5a0row1_col21 {\n",
       "            background-color: pink;\n",
       "        }    #T_3a006360_cc9e_11ea_97e7_320015ebc5a0row2_col0 {\n",
       "            background-color: pink;\n",
       "        }    #T_3a006360_cc9e_11ea_97e7_320015ebc5a0row2_col5 {\n",
       "            background-color: pink;\n",
       "        }    #T_3a006360_cc9e_11ea_97e7_320015ebc5a0row2_col19 {\n",
       "            background-color: pink;\n",
       "        }    #T_3a006360_cc9e_11ea_97e7_320015ebc5a0row2_col22 {\n",
       "            background-color: pink;\n",
       "        }    #T_3a006360_cc9e_11ea_97e7_320015ebc5a0row2_col23 {\n",
       "            background-color: pink;\n",
       "        }    #T_3a006360_cc9e_11ea_97e7_320015ebc5a0row2_col24 {\n",
       "            background-color: pink;\n",
       "        }    #T_3a006360_cc9e_11ea_97e7_320015ebc5a0row2_col25 {\n",
       "            background-color: pink;\n",
       "        }    #T_3a006360_cc9e_11ea_97e7_320015ebc5a0row2_col26 {\n",
       "            background-color: pink;\n",
       "        }    #T_3a006360_cc9e_11ea_97e7_320015ebc5a0row2_col27 {\n",
       "            background-color: pink;\n",
       "        }    #T_3a006360_cc9e_11ea_97e7_320015ebc5a0row2_col28 {\n",
       "            background-color: pink;\n",
       "        }    #T_3a006360_cc9e_11ea_97e7_320015ebc5a0row2_col29 {\n",
       "            background-color: pink;\n",
       "        }    #T_3a006360_cc9e_11ea_97e7_320015ebc5a0row5_col0 {\n",
       "            background-color: pink;\n",
       "        }    #T_3a006360_cc9e_11ea_97e7_320015ebc5a0row5_col2 {\n",
       "            background-color: pink;\n",
       "        }    #T_3a006360_cc9e_11ea_97e7_320015ebc5a0row18_col20 {\n",
       "            background-color: pink;\n",
       "        }    #T_3a006360_cc9e_11ea_97e7_320015ebc5a0row19_col2 {\n",
       "            background-color: pink;\n",
       "        }    #T_3a006360_cc9e_11ea_97e7_320015ebc5a0row19_col21 {\n",
       "            background-color: pink;\n",
       "        }    #T_3a006360_cc9e_11ea_97e7_320015ebc5a0row19_col27 {\n",
       "            background-color: pink;\n",
       "        }    #T_3a006360_cc9e_11ea_97e7_320015ebc5a0row19_col29 {\n",
       "            background-color: pink;\n",
       "        }    #T_3a006360_cc9e_11ea_97e7_320015ebc5a0row20_col18 {\n",
       "            background-color: pink;\n",
       "        }    #T_3a006360_cc9e_11ea_97e7_320015ebc5a0row21_col1 {\n",
       "            background-color: pink;\n",
       "        }    #T_3a006360_cc9e_11ea_97e7_320015ebc5a0row21_col19 {\n",
       "            background-color: pink;\n",
       "        }    #T_3a006360_cc9e_11ea_97e7_320015ebc5a0row22_col2 {\n",
       "            background-color: pink;\n",
       "        }    #T_3a006360_cc9e_11ea_97e7_320015ebc5a0row22_col23 {\n",
       "            background-color: pink;\n",
       "        }    #T_3a006360_cc9e_11ea_97e7_320015ebc5a0row22_col24 {\n",
       "            background-color: pink;\n",
       "        }    #T_3a006360_cc9e_11ea_97e7_320015ebc5a0row22_col25 {\n",
       "            background-color: pink;\n",
       "        }    #T_3a006360_cc9e_11ea_97e7_320015ebc5a0row22_col26 {\n",
       "            background-color: pink;\n",
       "        }    #T_3a006360_cc9e_11ea_97e7_320015ebc5a0row22_col27 {\n",
       "            background-color: pink;\n",
       "        }    #T_3a006360_cc9e_11ea_97e7_320015ebc5a0row22_col28 {\n",
       "            background-color: pink;\n",
       "        }    #T_3a006360_cc9e_11ea_97e7_320015ebc5a0row22_col29 {\n",
       "            background-color: pink;\n",
       "        }    #T_3a006360_cc9e_11ea_97e7_320015ebc5a0row23_col2 {\n",
       "            background-color: pink;\n",
       "        }    #T_3a006360_cc9e_11ea_97e7_320015ebc5a0row23_col22 {\n",
       "            background-color: pink;\n",
       "        }    #T_3a006360_cc9e_11ea_97e7_320015ebc5a0row23_col24 {\n",
       "            background-color: pink;\n",
       "        }    #T_3a006360_cc9e_11ea_97e7_320015ebc5a0row23_col25 {\n",
       "            background-color: pink;\n",
       "        }    #T_3a006360_cc9e_11ea_97e7_320015ebc5a0row23_col26 {\n",
       "            background-color: pink;\n",
       "        }    #T_3a006360_cc9e_11ea_97e7_320015ebc5a0row23_col27 {\n",
       "            background-color: pink;\n",
       "        }    #T_3a006360_cc9e_11ea_97e7_320015ebc5a0row23_col28 {\n",
       "            background-color: pink;\n",
       "        }    #T_3a006360_cc9e_11ea_97e7_320015ebc5a0row23_col29 {\n",
       "            background-color: pink;\n",
       "        }    #T_3a006360_cc9e_11ea_97e7_320015ebc5a0row24_col2 {\n",
       "            background-color: pink;\n",
       "        }    #T_3a006360_cc9e_11ea_97e7_320015ebc5a0row24_col22 {\n",
       "            background-color: pink;\n",
       "        }    #T_3a006360_cc9e_11ea_97e7_320015ebc5a0row24_col23 {\n",
       "            background-color: pink;\n",
       "        }    #T_3a006360_cc9e_11ea_97e7_320015ebc5a0row24_col25 {\n",
       "            background-color: pink;\n",
       "        }    #T_3a006360_cc9e_11ea_97e7_320015ebc5a0row24_col26 {\n",
       "            background-color: pink;\n",
       "        }    #T_3a006360_cc9e_11ea_97e7_320015ebc5a0row24_col27 {\n",
       "            background-color: pink;\n",
       "        }    #T_3a006360_cc9e_11ea_97e7_320015ebc5a0row24_col28 {\n",
       "            background-color: pink;\n",
       "        }    #T_3a006360_cc9e_11ea_97e7_320015ebc5a0row24_col29 {\n",
       "            background-color: pink;\n",
       "        }    #T_3a006360_cc9e_11ea_97e7_320015ebc5a0row25_col2 {\n",
       "            background-color: pink;\n",
       "        }    #T_3a006360_cc9e_11ea_97e7_320015ebc5a0row25_col22 {\n",
       "            background-color: pink;\n",
       "        }    #T_3a006360_cc9e_11ea_97e7_320015ebc5a0row25_col23 {\n",
       "            background-color: pink;\n",
       "        }    #T_3a006360_cc9e_11ea_97e7_320015ebc5a0row25_col24 {\n",
       "            background-color: pink;\n",
       "        }    #T_3a006360_cc9e_11ea_97e7_320015ebc5a0row25_col26 {\n",
       "            background-color: pink;\n",
       "        }    #T_3a006360_cc9e_11ea_97e7_320015ebc5a0row25_col27 {\n",
       "            background-color: pink;\n",
       "        }    #T_3a006360_cc9e_11ea_97e7_320015ebc5a0row25_col28 {\n",
       "            background-color: pink;\n",
       "        }    #T_3a006360_cc9e_11ea_97e7_320015ebc5a0row25_col29 {\n",
       "            background-color: pink;\n",
       "        }    #T_3a006360_cc9e_11ea_97e7_320015ebc5a0row26_col2 {\n",
       "            background-color: pink;\n",
       "        }    #T_3a006360_cc9e_11ea_97e7_320015ebc5a0row26_col22 {\n",
       "            background-color: pink;\n",
       "        }    #T_3a006360_cc9e_11ea_97e7_320015ebc5a0row26_col23 {\n",
       "            background-color: pink;\n",
       "        }    #T_3a006360_cc9e_11ea_97e7_320015ebc5a0row26_col24 {\n",
       "            background-color: pink;\n",
       "        }    #T_3a006360_cc9e_11ea_97e7_320015ebc5a0row26_col25 {\n",
       "            background-color: pink;\n",
       "        }    #T_3a006360_cc9e_11ea_97e7_320015ebc5a0row26_col27 {\n",
       "            background-color: pink;\n",
       "        }    #T_3a006360_cc9e_11ea_97e7_320015ebc5a0row26_col28 {\n",
       "            background-color: pink;\n",
       "        }    #T_3a006360_cc9e_11ea_97e7_320015ebc5a0row26_col29 {\n",
       "            background-color: pink;\n",
       "        }    #T_3a006360_cc9e_11ea_97e7_320015ebc5a0row27_col2 {\n",
       "            background-color: pink;\n",
       "        }    #T_3a006360_cc9e_11ea_97e7_320015ebc5a0row27_col19 {\n",
       "            background-color: pink;\n",
       "        }    #T_3a006360_cc9e_11ea_97e7_320015ebc5a0row27_col22 {\n",
       "            background-color: pink;\n",
       "        }    #T_3a006360_cc9e_11ea_97e7_320015ebc5a0row27_col23 {\n",
       "            background-color: pink;\n",
       "        }    #T_3a006360_cc9e_11ea_97e7_320015ebc5a0row27_col24 {\n",
       "            background-color: pink;\n",
       "        }    #T_3a006360_cc9e_11ea_97e7_320015ebc5a0row27_col25 {\n",
       "            background-color: pink;\n",
       "        }    #T_3a006360_cc9e_11ea_97e7_320015ebc5a0row27_col26 {\n",
       "            background-color: pink;\n",
       "        }    #T_3a006360_cc9e_11ea_97e7_320015ebc5a0row27_col28 {\n",
       "            background-color: pink;\n",
       "        }    #T_3a006360_cc9e_11ea_97e7_320015ebc5a0row27_col29 {\n",
       "            background-color: pink;\n",
       "        }    #T_3a006360_cc9e_11ea_97e7_320015ebc5a0row28_col2 {\n",
       "            background-color: pink;\n",
       "        }    #T_3a006360_cc9e_11ea_97e7_320015ebc5a0row28_col22 {\n",
       "            background-color: pink;\n",
       "        }    #T_3a006360_cc9e_11ea_97e7_320015ebc5a0row28_col23 {\n",
       "            background-color: pink;\n",
       "        }    #T_3a006360_cc9e_11ea_97e7_320015ebc5a0row28_col24 {\n",
       "            background-color: pink;\n",
       "        }    #T_3a006360_cc9e_11ea_97e7_320015ebc5a0row28_col25 {\n",
       "            background-color: pink;\n",
       "        }    #T_3a006360_cc9e_11ea_97e7_320015ebc5a0row28_col26 {\n",
       "            background-color: pink;\n",
       "        }    #T_3a006360_cc9e_11ea_97e7_320015ebc5a0row28_col27 {\n",
       "            background-color: pink;\n",
       "        }    #T_3a006360_cc9e_11ea_97e7_320015ebc5a0row28_col29 {\n",
       "            background-color: pink;\n",
       "        }    #T_3a006360_cc9e_11ea_97e7_320015ebc5a0row29_col2 {\n",
       "            background-color: pink;\n",
       "        }    #T_3a006360_cc9e_11ea_97e7_320015ebc5a0row29_col19 {\n",
       "            background-color: pink;\n",
       "        }    #T_3a006360_cc9e_11ea_97e7_320015ebc5a0row29_col22 {\n",
       "            background-color: pink;\n",
       "        }    #T_3a006360_cc9e_11ea_97e7_320015ebc5a0row29_col23 {\n",
       "            background-color: pink;\n",
       "        }    #T_3a006360_cc9e_11ea_97e7_320015ebc5a0row29_col24 {\n",
       "            background-color: pink;\n",
       "        }    #T_3a006360_cc9e_11ea_97e7_320015ebc5a0row29_col25 {\n",
       "            background-color: pink;\n",
       "        }    #T_3a006360_cc9e_11ea_97e7_320015ebc5a0row29_col26 {\n",
       "            background-color: pink;\n",
       "        }    #T_3a006360_cc9e_11ea_97e7_320015ebc5a0row29_col27 {\n",
       "            background-color: pink;\n",
       "        }    #T_3a006360_cc9e_11ea_97e7_320015ebc5a0row29_col28 {\n",
       "            background-color: pink;\n",
       "        }</style><table id=\"T_3a006360_cc9e_11ea_97e7_320015ebc5a0\" ><thead>    <tr>        <th class=\"blank level0\" ></th>        <th class=\"col_heading level0 col0\" >Entry Author</th>        <th class=\"col_heading level0 col1\" >Number of Comments</th>        <th class=\"col_heading level0 col2\" >Entry Text Length</th>        <th class=\"col_heading level0 col3\" >Twitter</th>        <th class=\"col_heading level0 col4\" >Amazon</th>        <th class=\"col_heading level0 col5\" >Self Reference</th>        <th class=\"col_heading level0 col6\" >NY Times</th>        <th class=\"col_heading level0 col7\" >Bloomberg</th>        <th class=\"col_heading level0 col8\" >WaPo</th>        <th class=\"col_heading level0 col9\" >NBER</th>        <th class=\"col_heading level0 col10\" >YouTube</th>        <th class=\"col_heading level0 col11\" >Medium</th>        <th class=\"col_heading level0 col12\" >SSRN</th>        <th class=\"col_heading level0 col13\" >Wikipedia</th>        <th class=\"col_heading level0 col14\" >WSJ</th>        <th class=\"col_heading level0 col15\" >The Guardian</th>        <th class=\"col_heading level0 col16\" >BBC</th>        <th class=\"col_heading level0 col17\" >Mercatus Center</th>        <th class=\"col_heading level0 col18\" >Time Posted in Epoch</th>        <th class=\"col_heading level0 col19\" >Time Posted Since Midnight</th>        <th class=\"col_heading level0 col20\" >First Comment Time in Epoch</th>        <th class=\"col_heading level0 col21\" >First Response Since Post</th>        <th class=\"col_heading level0 col22\" >Topic 0</th>        <th class=\"col_heading level0 col23\" >Topic 1</th>        <th class=\"col_heading level0 col24\" >Topic 2</th>        <th class=\"col_heading level0 col25\" >Topic 3</th>        <th class=\"col_heading level0 col26\" >Topic 4</th>        <th class=\"col_heading level0 col27\" >Topic 5</th>        <th class=\"col_heading level0 col28\" >Topic 6</th>        <th class=\"col_heading level0 col29\" >Topic 7</th>    </tr></thead><tbody>\n",
       "                <tr>\n",
       "                        <th id=\"T_3a006360_cc9e_11ea_97e7_320015ebc5a0level0_row0\" class=\"row_heading level0 row0\" >Entry Author</th>\n",
       "                        <td id=\"T_3a006360_cc9e_11ea_97e7_320015ebc5a0row0_col0\" class=\"data row0 col0\" >nan</td>\n",
       "                        <td id=\"T_3a006360_cc9e_11ea_97e7_320015ebc5a0row0_col1\" class=\"data row0 col1\" >-0.083366</td>\n",
       "                        <td id=\"T_3a006360_cc9e_11ea_97e7_320015ebc5a0row0_col2\" class=\"data row0 col2\" >-0.260888</td>\n",
       "                        <td id=\"T_3a006360_cc9e_11ea_97e7_320015ebc5a0row0_col3\" class=\"data row0 col3\" >0.091931</td>\n",
       "                        <td id=\"T_3a006360_cc9e_11ea_97e7_320015ebc5a0row0_col4\" class=\"data row0 col4\" >nan</td>\n",
       "                        <td id=\"T_3a006360_cc9e_11ea_97e7_320015ebc5a0row0_col5\" class=\"data row0 col5\" >-0.239562</td>\n",
       "                        <td id=\"T_3a006360_cc9e_11ea_97e7_320015ebc5a0row0_col6\" class=\"data row0 col6\" >nan</td>\n",
       "                        <td id=\"T_3a006360_cc9e_11ea_97e7_320015ebc5a0row0_col7\" class=\"data row0 col7\" >0.074092</td>\n",
       "                        <td id=\"T_3a006360_cc9e_11ea_97e7_320015ebc5a0row0_col8\" class=\"data row0 col8\" >nan</td>\n",
       "                        <td id=\"T_3a006360_cc9e_11ea_97e7_320015ebc5a0row0_col9\" class=\"data row0 col9\" >nan</td>\n",
       "                        <td id=\"T_3a006360_cc9e_11ea_97e7_320015ebc5a0row0_col10\" class=\"data row0 col10\" >nan</td>\n",
       "                        <td id=\"T_3a006360_cc9e_11ea_97e7_320015ebc5a0row0_col11\" class=\"data row0 col11\" >nan</td>\n",
       "                        <td id=\"T_3a006360_cc9e_11ea_97e7_320015ebc5a0row0_col12\" class=\"data row0 col12\" >nan</td>\n",
       "                        <td id=\"T_3a006360_cc9e_11ea_97e7_320015ebc5a0row0_col13\" class=\"data row0 col13\" >nan</td>\n",
       "                        <td id=\"T_3a006360_cc9e_11ea_97e7_320015ebc5a0row0_col14\" class=\"data row0 col14\" >nan</td>\n",
       "                        <td id=\"T_3a006360_cc9e_11ea_97e7_320015ebc5a0row0_col15\" class=\"data row0 col15\" >nan</td>\n",
       "                        <td id=\"T_3a006360_cc9e_11ea_97e7_320015ebc5a0row0_col16\" class=\"data row0 col16\" >0.066861</td>\n",
       "                        <td id=\"T_3a006360_cc9e_11ea_97e7_320015ebc5a0row0_col17\" class=\"data row0 col17\" >nan</td>\n",
       "                        <td id=\"T_3a006360_cc9e_11ea_97e7_320015ebc5a0row0_col18\" class=\"data row0 col18\" >nan</td>\n",
       "                        <td id=\"T_3a006360_cc9e_11ea_97e7_320015ebc5a0row0_col19\" class=\"data row0 col19\" >nan</td>\n",
       "                        <td id=\"T_3a006360_cc9e_11ea_97e7_320015ebc5a0row0_col20\" class=\"data row0 col20\" >nan</td>\n",
       "                        <td id=\"T_3a006360_cc9e_11ea_97e7_320015ebc5a0row0_col21\" class=\"data row0 col21\" >nan</td>\n",
       "                        <td id=\"T_3a006360_cc9e_11ea_97e7_320015ebc5a0row0_col22\" class=\"data row0 col22\" >nan</td>\n",
       "                        <td id=\"T_3a006360_cc9e_11ea_97e7_320015ebc5a0row0_col23\" class=\"data row0 col23\" >0.081471</td>\n",
       "                        <td id=\"T_3a006360_cc9e_11ea_97e7_320015ebc5a0row0_col24\" class=\"data row0 col24\" >nan</td>\n",
       "                        <td id=\"T_3a006360_cc9e_11ea_97e7_320015ebc5a0row0_col25\" class=\"data row0 col25\" >0.088863</td>\n",
       "                        <td id=\"T_3a006360_cc9e_11ea_97e7_320015ebc5a0row0_col26\" class=\"data row0 col26\" >0.081400</td>\n",
       "                        <td id=\"T_3a006360_cc9e_11ea_97e7_320015ebc5a0row0_col27\" class=\"data row0 col27\" >0.102833</td>\n",
       "                        <td id=\"T_3a006360_cc9e_11ea_97e7_320015ebc5a0row0_col28\" class=\"data row0 col28\" >nan</td>\n",
       "                        <td id=\"T_3a006360_cc9e_11ea_97e7_320015ebc5a0row0_col29\" class=\"data row0 col29\" >0.111570</td>\n",
       "            </tr>\n",
       "            <tr>\n",
       "                        <th id=\"T_3a006360_cc9e_11ea_97e7_320015ebc5a0level0_row1\" class=\"row_heading level0 row1\" >Number of Comments</th>\n",
       "                        <td id=\"T_3a006360_cc9e_11ea_97e7_320015ebc5a0row1_col0\" class=\"data row1 col0\" >-0.083366</td>\n",
       "                        <td id=\"T_3a006360_cc9e_11ea_97e7_320015ebc5a0row1_col1\" class=\"data row1 col1\" >nan</td>\n",
       "                        <td id=\"T_3a006360_cc9e_11ea_97e7_320015ebc5a0row1_col2\" class=\"data row1 col2\" >0.090600</td>\n",
       "                        <td id=\"T_3a006360_cc9e_11ea_97e7_320015ebc5a0row1_col3\" class=\"data row1 col3\" >0.176011</td>\n",
       "                        <td id=\"T_3a006360_cc9e_11ea_97e7_320015ebc5a0row1_col4\" class=\"data row1 col4\" >-0.099158</td>\n",
       "                        <td id=\"T_3a006360_cc9e_11ea_97e7_320015ebc5a0row1_col5\" class=\"data row1 col5\" >nan</td>\n",
       "                        <td id=\"T_3a006360_cc9e_11ea_97e7_320015ebc5a0row1_col6\" class=\"data row1 col6\" >0.156249</td>\n",
       "                        <td id=\"T_3a006360_cc9e_11ea_97e7_320015ebc5a0row1_col7\" class=\"data row1 col7\" >0.190850</td>\n",
       "                        <td id=\"T_3a006360_cc9e_11ea_97e7_320015ebc5a0row1_col8\" class=\"data row1 col8\" >0.152969</td>\n",
       "                        <td id=\"T_3a006360_cc9e_11ea_97e7_320015ebc5a0row1_col9\" class=\"data row1 col9\" >nan</td>\n",
       "                        <td id=\"T_3a006360_cc9e_11ea_97e7_320015ebc5a0row1_col10\" class=\"data row1 col10\" >nan</td>\n",
       "                        <td id=\"T_3a006360_cc9e_11ea_97e7_320015ebc5a0row1_col11\" class=\"data row1 col11\" >nan</td>\n",
       "                        <td id=\"T_3a006360_cc9e_11ea_97e7_320015ebc5a0row1_col12\" class=\"data row1 col12\" >nan</td>\n",
       "                        <td id=\"T_3a006360_cc9e_11ea_97e7_320015ebc5a0row1_col13\" class=\"data row1 col13\" >nan</td>\n",
       "                        <td id=\"T_3a006360_cc9e_11ea_97e7_320015ebc5a0row1_col14\" class=\"data row1 col14\" >nan</td>\n",
       "                        <td id=\"T_3a006360_cc9e_11ea_97e7_320015ebc5a0row1_col15\" class=\"data row1 col15\" >nan</td>\n",
       "                        <td id=\"T_3a006360_cc9e_11ea_97e7_320015ebc5a0row1_col16\" class=\"data row1 col16\" >nan</td>\n",
       "                        <td id=\"T_3a006360_cc9e_11ea_97e7_320015ebc5a0row1_col17\" class=\"data row1 col17\" >nan</td>\n",
       "                        <td id=\"T_3a006360_cc9e_11ea_97e7_320015ebc5a0row1_col18\" class=\"data row1 col18\" >0.147359</td>\n",
       "                        <td id=\"T_3a006360_cc9e_11ea_97e7_320015ebc5a0row1_col19\" class=\"data row1 col19\" >nan</td>\n",
       "                        <td id=\"T_3a006360_cc9e_11ea_97e7_320015ebc5a0row1_col20\" class=\"data row1 col20\" >0.147299</td>\n",
       "                        <td id=\"T_3a006360_cc9e_11ea_97e7_320015ebc5a0row1_col21\" class=\"data row1 col21\" >-0.324402</td>\n",
       "                        <td id=\"T_3a006360_cc9e_11ea_97e7_320015ebc5a0row1_col22\" class=\"data row1 col22\" >nan</td>\n",
       "                        <td id=\"T_3a006360_cc9e_11ea_97e7_320015ebc5a0row1_col23\" class=\"data row1 col23\" >nan</td>\n",
       "                        <td id=\"T_3a006360_cc9e_11ea_97e7_320015ebc5a0row1_col24\" class=\"data row1 col24\" >0.070133</td>\n",
       "                        <td id=\"T_3a006360_cc9e_11ea_97e7_320015ebc5a0row1_col25\" class=\"data row1 col25\" >nan</td>\n",
       "                        <td id=\"T_3a006360_cc9e_11ea_97e7_320015ebc5a0row1_col26\" class=\"data row1 col26\" >nan</td>\n",
       "                        <td id=\"T_3a006360_cc9e_11ea_97e7_320015ebc5a0row1_col27\" class=\"data row1 col27\" >nan</td>\n",
       "                        <td id=\"T_3a006360_cc9e_11ea_97e7_320015ebc5a0row1_col28\" class=\"data row1 col28\" >0.075008</td>\n",
       "                        <td id=\"T_3a006360_cc9e_11ea_97e7_320015ebc5a0row1_col29\" class=\"data row1 col29\" >nan</td>\n",
       "            </tr>\n",
       "            <tr>\n",
       "                        <th id=\"T_3a006360_cc9e_11ea_97e7_320015ebc5a0level0_row2\" class=\"row_heading level0 row2\" >Entry Text Length</th>\n",
       "                        <td id=\"T_3a006360_cc9e_11ea_97e7_320015ebc5a0row2_col0\" class=\"data row2 col0\" >-0.260888</td>\n",
       "                        <td id=\"T_3a006360_cc9e_11ea_97e7_320015ebc5a0row2_col1\" class=\"data row2 col1\" >0.090600</td>\n",
       "                        <td id=\"T_3a006360_cc9e_11ea_97e7_320015ebc5a0row2_col2\" class=\"data row2 col2\" >nan</td>\n",
       "                        <td id=\"T_3a006360_cc9e_11ea_97e7_320015ebc5a0row2_col3\" class=\"data row2 col3\" >-0.169340</td>\n",
       "                        <td id=\"T_3a006360_cc9e_11ea_97e7_320015ebc5a0row2_col4\" class=\"data row2 col4\" >0.141571</td>\n",
       "                        <td id=\"T_3a006360_cc9e_11ea_97e7_320015ebc5a0row2_col5\" class=\"data row2 col5\" >0.220538</td>\n",
       "                        <td id=\"T_3a006360_cc9e_11ea_97e7_320015ebc5a0row2_col6\" class=\"data row2 col6\" >-0.165753</td>\n",
       "                        <td id=\"T_3a006360_cc9e_11ea_97e7_320015ebc5a0row2_col7\" class=\"data row2 col7\" >0.094327</td>\n",
       "                        <td id=\"T_3a006360_cc9e_11ea_97e7_320015ebc5a0row2_col8\" class=\"data row2 col8\" >-0.160667</td>\n",
       "                        <td id=\"T_3a006360_cc9e_11ea_97e7_320015ebc5a0row2_col9\" class=\"data row2 col9\" >nan</td>\n",
       "                        <td id=\"T_3a006360_cc9e_11ea_97e7_320015ebc5a0row2_col10\" class=\"data row2 col10\" >-0.096663</td>\n",
       "                        <td id=\"T_3a006360_cc9e_11ea_97e7_320015ebc5a0row2_col11\" class=\"data row2 col11\" >nan</td>\n",
       "                        <td id=\"T_3a006360_cc9e_11ea_97e7_320015ebc5a0row2_col12\" class=\"data row2 col12\" >nan</td>\n",
       "                        <td id=\"T_3a006360_cc9e_11ea_97e7_320015ebc5a0row2_col13\" class=\"data row2 col13\" >0.092675</td>\n",
       "                        <td id=\"T_3a006360_cc9e_11ea_97e7_320015ebc5a0row2_col14\" class=\"data row2 col14\" >nan</td>\n",
       "                        <td id=\"T_3a006360_cc9e_11ea_97e7_320015ebc5a0row2_col15\" class=\"data row2 col15\" >-0.102230</td>\n",
       "                        <td id=\"T_3a006360_cc9e_11ea_97e7_320015ebc5a0row2_col16\" class=\"data row2 col16\" >-0.168038</td>\n",
       "                        <td id=\"T_3a006360_cc9e_11ea_97e7_320015ebc5a0row2_col17\" class=\"data row2 col17\" >nan</td>\n",
       "                        <td id=\"T_3a006360_cc9e_11ea_97e7_320015ebc5a0row2_col18\" class=\"data row2 col18\" >0.099514</td>\n",
       "                        <td id=\"T_3a006360_cc9e_11ea_97e7_320015ebc5a0row2_col19\" class=\"data row2 col19\" >-0.411256</td>\n",
       "                        <td id=\"T_3a006360_cc9e_11ea_97e7_320015ebc5a0row2_col20\" class=\"data row2 col20\" >0.099521</td>\n",
       "                        <td id=\"T_3a006360_cc9e_11ea_97e7_320015ebc5a0row2_col21\" class=\"data row2 col21\" >nan</td>\n",
       "                        <td id=\"T_3a006360_cc9e_11ea_97e7_320015ebc5a0row2_col22\" class=\"data row2 col22\" >-0.409523</td>\n",
       "                        <td id=\"T_3a006360_cc9e_11ea_97e7_320015ebc5a0row2_col23\" class=\"data row2 col23\" >-0.347430</td>\n",
       "                        <td id=\"T_3a006360_cc9e_11ea_97e7_320015ebc5a0row2_col24\" class=\"data row2 col24\" >-0.306825</td>\n",
       "                        <td id=\"T_3a006360_cc9e_11ea_97e7_320015ebc5a0row2_col25\" class=\"data row2 col25\" >-0.391876</td>\n",
       "                        <td id=\"T_3a006360_cc9e_11ea_97e7_320015ebc5a0row2_col26\" class=\"data row2 col26\" >-0.356265</td>\n",
       "                        <td id=\"T_3a006360_cc9e_11ea_97e7_320015ebc5a0row2_col27\" class=\"data row2 col27\" >-0.383698</td>\n",
       "                        <td id=\"T_3a006360_cc9e_11ea_97e7_320015ebc5a0row2_col28\" class=\"data row2 col28\" >-0.407643</td>\n",
       "                        <td id=\"T_3a006360_cc9e_11ea_97e7_320015ebc5a0row2_col29\" class=\"data row2 col29\" >-0.449185</td>\n",
       "            </tr>\n",
       "            <tr>\n",
       "                        <th id=\"T_3a006360_cc9e_11ea_97e7_320015ebc5a0level0_row3\" class=\"row_heading level0 row3\" >Twitter</th>\n",
       "                        <td id=\"T_3a006360_cc9e_11ea_97e7_320015ebc5a0row3_col0\" class=\"data row3 col0\" >0.091931</td>\n",
       "                        <td id=\"T_3a006360_cc9e_11ea_97e7_320015ebc5a0row3_col1\" class=\"data row3 col1\" >0.176011</td>\n",
       "                        <td id=\"T_3a006360_cc9e_11ea_97e7_320015ebc5a0row3_col2\" class=\"data row3 col2\" >-0.169340</td>\n",
       "                        <td id=\"T_3a006360_cc9e_11ea_97e7_320015ebc5a0row3_col3\" class=\"data row3 col3\" >nan</td>\n",
       "                        <td id=\"T_3a006360_cc9e_11ea_97e7_320015ebc5a0row3_col4\" class=\"data row3 col4\" >-0.142276</td>\n",
       "                        <td id=\"T_3a006360_cc9e_11ea_97e7_320015ebc5a0row3_col5\" class=\"data row3 col5\" >nan</td>\n",
       "                        <td id=\"T_3a006360_cc9e_11ea_97e7_320015ebc5a0row3_col6\" class=\"data row3 col6\" >0.171668</td>\n",
       "                        <td id=\"T_3a006360_cc9e_11ea_97e7_320015ebc5a0row3_col7\" class=\"data row3 col7\" >nan</td>\n",
       "                        <td id=\"T_3a006360_cc9e_11ea_97e7_320015ebc5a0row3_col8\" class=\"data row3 col8\" >0.145166</td>\n",
       "                        <td id=\"T_3a006360_cc9e_11ea_97e7_320015ebc5a0row3_col9\" class=\"data row3 col9\" >nan</td>\n",
       "                        <td id=\"T_3a006360_cc9e_11ea_97e7_320015ebc5a0row3_col10\" class=\"data row3 col10\" >0.075187</td>\n",
       "                        <td id=\"T_3a006360_cc9e_11ea_97e7_320015ebc5a0row3_col11\" class=\"data row3 col11\" >nan</td>\n",
       "                        <td id=\"T_3a006360_cc9e_11ea_97e7_320015ebc5a0row3_col12\" class=\"data row3 col12\" >nan</td>\n",
       "                        <td id=\"T_3a006360_cc9e_11ea_97e7_320015ebc5a0row3_col13\" class=\"data row3 col13\" >nan</td>\n",
       "                        <td id=\"T_3a006360_cc9e_11ea_97e7_320015ebc5a0row3_col14\" class=\"data row3 col14\" >0.090780</td>\n",
       "                        <td id=\"T_3a006360_cc9e_11ea_97e7_320015ebc5a0row3_col15\" class=\"data row3 col15\" >nan</td>\n",
       "                        <td id=\"T_3a006360_cc9e_11ea_97e7_320015ebc5a0row3_col16\" class=\"data row3 col16\" >0.131512</td>\n",
       "                        <td id=\"T_3a006360_cc9e_11ea_97e7_320015ebc5a0row3_col17\" class=\"data row3 col17\" >0.075461</td>\n",
       "                        <td id=\"T_3a006360_cc9e_11ea_97e7_320015ebc5a0row3_col18\" class=\"data row3 col18\" >0.091219</td>\n",
       "                        <td id=\"T_3a006360_cc9e_11ea_97e7_320015ebc5a0row3_col19\" class=\"data row3 col19\" >0.088481</td>\n",
       "                        <td id=\"T_3a006360_cc9e_11ea_97e7_320015ebc5a0row3_col20\" class=\"data row3 col20\" >0.091215</td>\n",
       "                        <td id=\"T_3a006360_cc9e_11ea_97e7_320015ebc5a0row3_col21\" class=\"data row3 col21\" >-0.101173</td>\n",
       "                        <td id=\"T_3a006360_cc9e_11ea_97e7_320015ebc5a0row3_col22\" class=\"data row3 col22\" >0.147622</td>\n",
       "                        <td id=\"T_3a006360_cc9e_11ea_97e7_320015ebc5a0row3_col23\" class=\"data row3 col23\" >0.157632</td>\n",
       "                        <td id=\"T_3a006360_cc9e_11ea_97e7_320015ebc5a0row3_col24\" class=\"data row3 col24\" >0.118841</td>\n",
       "                        <td id=\"T_3a006360_cc9e_11ea_97e7_320015ebc5a0row3_col25\" class=\"data row3 col25\" >0.107069</td>\n",
       "                        <td id=\"T_3a006360_cc9e_11ea_97e7_320015ebc5a0row3_col26\" class=\"data row3 col26\" >0.095002</td>\n",
       "                        <td id=\"T_3a006360_cc9e_11ea_97e7_320015ebc5a0row3_col27\" class=\"data row3 col27\" >0.111713</td>\n",
       "                        <td id=\"T_3a006360_cc9e_11ea_97e7_320015ebc5a0row3_col28\" class=\"data row3 col28\" >0.136994</td>\n",
       "                        <td id=\"T_3a006360_cc9e_11ea_97e7_320015ebc5a0row3_col29\" class=\"data row3 col29\" >0.137546</td>\n",
       "            </tr>\n",
       "            <tr>\n",
       "                        <th id=\"T_3a006360_cc9e_11ea_97e7_320015ebc5a0level0_row4\" class=\"row_heading level0 row4\" >Amazon</th>\n",
       "                        <td id=\"T_3a006360_cc9e_11ea_97e7_320015ebc5a0row4_col0\" class=\"data row4 col0\" >nan</td>\n",
       "                        <td id=\"T_3a006360_cc9e_11ea_97e7_320015ebc5a0row4_col1\" class=\"data row4 col1\" >-0.099158</td>\n",
       "                        <td id=\"T_3a006360_cc9e_11ea_97e7_320015ebc5a0row4_col2\" class=\"data row4 col2\" >0.141571</td>\n",
       "                        <td id=\"T_3a006360_cc9e_11ea_97e7_320015ebc5a0row4_col3\" class=\"data row4 col3\" >-0.142276</td>\n",
       "                        <td id=\"T_3a006360_cc9e_11ea_97e7_320015ebc5a0row4_col4\" class=\"data row4 col4\" >nan</td>\n",
       "                        <td id=\"T_3a006360_cc9e_11ea_97e7_320015ebc5a0row4_col5\" class=\"data row4 col5\" >nan</td>\n",
       "                        <td id=\"T_3a006360_cc9e_11ea_97e7_320015ebc5a0row4_col6\" class=\"data row4 col6\" >nan</td>\n",
       "                        <td id=\"T_3a006360_cc9e_11ea_97e7_320015ebc5a0row4_col7\" class=\"data row4 col7\" >-0.091979</td>\n",
       "                        <td id=\"T_3a006360_cc9e_11ea_97e7_320015ebc5a0row4_col8\" class=\"data row4 col8\" >nan</td>\n",
       "                        <td id=\"T_3a006360_cc9e_11ea_97e7_320015ebc5a0row4_col9\" class=\"data row4 col9\" >nan</td>\n",
       "                        <td id=\"T_3a006360_cc9e_11ea_97e7_320015ebc5a0row4_col10\" class=\"data row4 col10\" >nan</td>\n",
       "                        <td id=\"T_3a006360_cc9e_11ea_97e7_320015ebc5a0row4_col11\" class=\"data row4 col11\" >0.076122</td>\n",
       "                        <td id=\"T_3a006360_cc9e_11ea_97e7_320015ebc5a0row4_col12\" class=\"data row4 col12\" >-0.074064</td>\n",
       "                        <td id=\"T_3a006360_cc9e_11ea_97e7_320015ebc5a0row4_col13\" class=\"data row4 col13\" >nan</td>\n",
       "                        <td id=\"T_3a006360_cc9e_11ea_97e7_320015ebc5a0row4_col14\" class=\"data row4 col14\" >nan</td>\n",
       "                        <td id=\"T_3a006360_cc9e_11ea_97e7_320015ebc5a0row4_col15\" class=\"data row4 col15\" >nan</td>\n",
       "                        <td id=\"T_3a006360_cc9e_11ea_97e7_320015ebc5a0row4_col16\" class=\"data row4 col16\" >nan</td>\n",
       "                        <td id=\"T_3a006360_cc9e_11ea_97e7_320015ebc5a0row4_col17\" class=\"data row4 col17\" >nan</td>\n",
       "                        <td id=\"T_3a006360_cc9e_11ea_97e7_320015ebc5a0row4_col18\" class=\"data row4 col18\" >-0.105142</td>\n",
       "                        <td id=\"T_3a006360_cc9e_11ea_97e7_320015ebc5a0row4_col19\" class=\"data row4 col19\" >-0.146163</td>\n",
       "                        <td id=\"T_3a006360_cc9e_11ea_97e7_320015ebc5a0row4_col20\" class=\"data row4 col20\" >-0.105112</td>\n",
       "                        <td id=\"T_3a006360_cc9e_11ea_97e7_320015ebc5a0row4_col21\" class=\"data row4 col21\" >0.119919</td>\n",
       "                        <td id=\"T_3a006360_cc9e_11ea_97e7_320015ebc5a0row4_col22\" class=\"data row4 col22\" >nan</td>\n",
       "                        <td id=\"T_3a006360_cc9e_11ea_97e7_320015ebc5a0row4_col23\" class=\"data row4 col23\" >nan</td>\n",
       "                        <td id=\"T_3a006360_cc9e_11ea_97e7_320015ebc5a0row4_col24\" class=\"data row4 col24\" >nan</td>\n",
       "                        <td id=\"T_3a006360_cc9e_11ea_97e7_320015ebc5a0row4_col25\" class=\"data row4 col25\" >nan</td>\n",
       "                        <td id=\"T_3a006360_cc9e_11ea_97e7_320015ebc5a0row4_col26\" class=\"data row4 col26\" >-0.073208</td>\n",
       "                        <td id=\"T_3a006360_cc9e_11ea_97e7_320015ebc5a0row4_col27\" class=\"data row4 col27\" >nan</td>\n",
       "                        <td id=\"T_3a006360_cc9e_11ea_97e7_320015ebc5a0row4_col28\" class=\"data row4 col28\" >nan</td>\n",
       "                        <td id=\"T_3a006360_cc9e_11ea_97e7_320015ebc5a0row4_col29\" class=\"data row4 col29\" >-0.102972</td>\n",
       "            </tr>\n",
       "            <tr>\n",
       "                        <th id=\"T_3a006360_cc9e_11ea_97e7_320015ebc5a0level0_row5\" class=\"row_heading level0 row5\" >Self Reference</th>\n",
       "                        <td id=\"T_3a006360_cc9e_11ea_97e7_320015ebc5a0row5_col0\" class=\"data row5 col0\" >-0.239562</td>\n",
       "                        <td id=\"T_3a006360_cc9e_11ea_97e7_320015ebc5a0row5_col1\" class=\"data row5 col1\" >nan</td>\n",
       "                        <td id=\"T_3a006360_cc9e_11ea_97e7_320015ebc5a0row5_col2\" class=\"data row5 col2\" >0.220538</td>\n",
       "                        <td id=\"T_3a006360_cc9e_11ea_97e7_320015ebc5a0row5_col3\" class=\"data row5 col3\" >nan</td>\n",
       "                        <td id=\"T_3a006360_cc9e_11ea_97e7_320015ebc5a0row5_col4\" class=\"data row5 col4\" >nan</td>\n",
       "                        <td id=\"T_3a006360_cc9e_11ea_97e7_320015ebc5a0row5_col5\" class=\"data row5 col5\" >nan</td>\n",
       "                        <td id=\"T_3a006360_cc9e_11ea_97e7_320015ebc5a0row5_col6\" class=\"data row5 col6\" >nan</td>\n",
       "                        <td id=\"T_3a006360_cc9e_11ea_97e7_320015ebc5a0row5_col7\" class=\"data row5 col7\" >nan</td>\n",
       "                        <td id=\"T_3a006360_cc9e_11ea_97e7_320015ebc5a0row5_col8\" class=\"data row5 col8\" >-0.077682</td>\n",
       "                        <td id=\"T_3a006360_cc9e_11ea_97e7_320015ebc5a0row5_col9\" class=\"data row5 col9\" >nan</td>\n",
       "                        <td id=\"T_3a006360_cc9e_11ea_97e7_320015ebc5a0row5_col10\" class=\"data row5 col10\" >nan</td>\n",
       "                        <td id=\"T_3a006360_cc9e_11ea_97e7_320015ebc5a0row5_col11\" class=\"data row5 col11\" >nan</td>\n",
       "                        <td id=\"T_3a006360_cc9e_11ea_97e7_320015ebc5a0row5_col12\" class=\"data row5 col12\" >nan</td>\n",
       "                        <td id=\"T_3a006360_cc9e_11ea_97e7_320015ebc5a0row5_col13\" class=\"data row5 col13\" >0.097305</td>\n",
       "                        <td id=\"T_3a006360_cc9e_11ea_97e7_320015ebc5a0row5_col14\" class=\"data row5 col14\" >nan</td>\n",
       "                        <td id=\"T_3a006360_cc9e_11ea_97e7_320015ebc5a0row5_col15\" class=\"data row5 col15\" >nan</td>\n",
       "                        <td id=\"T_3a006360_cc9e_11ea_97e7_320015ebc5a0row5_col16\" class=\"data row5 col16\" >nan</td>\n",
       "                        <td id=\"T_3a006360_cc9e_11ea_97e7_320015ebc5a0row5_col17\" class=\"data row5 col17\" >nan</td>\n",
       "                        <td id=\"T_3a006360_cc9e_11ea_97e7_320015ebc5a0row5_col18\" class=\"data row5 col18\" >0.093537</td>\n",
       "                        <td id=\"T_3a006360_cc9e_11ea_97e7_320015ebc5a0row5_col19\" class=\"data row5 col19\" >-0.099712</td>\n",
       "                        <td id=\"T_3a006360_cc9e_11ea_97e7_320015ebc5a0row5_col20\" class=\"data row5 col20\" >0.093537</td>\n",
       "                        <td id=\"T_3a006360_cc9e_11ea_97e7_320015ebc5a0row5_col21\" class=\"data row5 col21\" >nan</td>\n",
       "                        <td id=\"T_3a006360_cc9e_11ea_97e7_320015ebc5a0row5_col22\" class=\"data row5 col22\" >nan</td>\n",
       "                        <td id=\"T_3a006360_cc9e_11ea_97e7_320015ebc5a0row5_col23\" class=\"data row5 col23\" >nan</td>\n",
       "                        <td id=\"T_3a006360_cc9e_11ea_97e7_320015ebc5a0row5_col24\" class=\"data row5 col24\" >nan</td>\n",
       "                        <td id=\"T_3a006360_cc9e_11ea_97e7_320015ebc5a0row5_col25\" class=\"data row5 col25\" >-0.085824</td>\n",
       "                        <td id=\"T_3a006360_cc9e_11ea_97e7_320015ebc5a0row5_col26\" class=\"data row5 col26\" >-0.072622</td>\n",
       "                        <td id=\"T_3a006360_cc9e_11ea_97e7_320015ebc5a0row5_col27\" class=\"data row5 col27\" >-0.093643</td>\n",
       "                        <td id=\"T_3a006360_cc9e_11ea_97e7_320015ebc5a0row5_col28\" class=\"data row5 col28\" >nan</td>\n",
       "                        <td id=\"T_3a006360_cc9e_11ea_97e7_320015ebc5a0row5_col29\" class=\"data row5 col29\" >nan</td>\n",
       "            </tr>\n",
       "            <tr>\n",
       "                        <th id=\"T_3a006360_cc9e_11ea_97e7_320015ebc5a0level0_row6\" class=\"row_heading level0 row6\" >NY Times</th>\n",
       "                        <td id=\"T_3a006360_cc9e_11ea_97e7_320015ebc5a0row6_col0\" class=\"data row6 col0\" >nan</td>\n",
       "                        <td id=\"T_3a006360_cc9e_11ea_97e7_320015ebc5a0row6_col1\" class=\"data row6 col1\" >0.156249</td>\n",
       "                        <td id=\"T_3a006360_cc9e_11ea_97e7_320015ebc5a0row6_col2\" class=\"data row6 col2\" >-0.165753</td>\n",
       "                        <td id=\"T_3a006360_cc9e_11ea_97e7_320015ebc5a0row6_col3\" class=\"data row6 col3\" >0.171668</td>\n",
       "                        <td id=\"T_3a006360_cc9e_11ea_97e7_320015ebc5a0row6_col4\" class=\"data row6 col4\" >nan</td>\n",
       "                        <td id=\"T_3a006360_cc9e_11ea_97e7_320015ebc5a0row6_col5\" class=\"data row6 col5\" >nan</td>\n",
       "                        <td id=\"T_3a006360_cc9e_11ea_97e7_320015ebc5a0row6_col6\" class=\"data row6 col6\" >nan</td>\n",
       "                        <td id=\"T_3a006360_cc9e_11ea_97e7_320015ebc5a0row6_col7\" class=\"data row6 col7\" >nan</td>\n",
       "                        <td id=\"T_3a006360_cc9e_11ea_97e7_320015ebc5a0row6_col8\" class=\"data row6 col8\" >0.146344</td>\n",
       "                        <td id=\"T_3a006360_cc9e_11ea_97e7_320015ebc5a0row6_col9\" class=\"data row6 col9\" >nan</td>\n",
       "                        <td id=\"T_3a006360_cc9e_11ea_97e7_320015ebc5a0row6_col10\" class=\"data row6 col10\" >0.092733</td>\n",
       "                        <td id=\"T_3a006360_cc9e_11ea_97e7_320015ebc5a0row6_col11\" class=\"data row6 col11\" >nan</td>\n",
       "                        <td id=\"T_3a006360_cc9e_11ea_97e7_320015ebc5a0row6_col12\" class=\"data row6 col12\" >nan</td>\n",
       "                        <td id=\"T_3a006360_cc9e_11ea_97e7_320015ebc5a0row6_col13\" class=\"data row6 col13\" >nan</td>\n",
       "                        <td id=\"T_3a006360_cc9e_11ea_97e7_320015ebc5a0row6_col14\" class=\"data row6 col14\" >nan</td>\n",
       "                        <td id=\"T_3a006360_cc9e_11ea_97e7_320015ebc5a0row6_col15\" class=\"data row6 col15\" >0.136779</td>\n",
       "                        <td id=\"T_3a006360_cc9e_11ea_97e7_320015ebc5a0row6_col16\" class=\"data row6 col16\" >0.179939</td>\n",
       "                        <td id=\"T_3a006360_cc9e_11ea_97e7_320015ebc5a0row6_col17\" class=\"data row6 col17\" >nan</td>\n",
       "                        <td id=\"T_3a006360_cc9e_11ea_97e7_320015ebc5a0row6_col18\" class=\"data row6 col18\" >nan</td>\n",
       "                        <td id=\"T_3a006360_cc9e_11ea_97e7_320015ebc5a0row6_col19\" class=\"data row6 col19\" >0.119606</td>\n",
       "                        <td id=\"T_3a006360_cc9e_11ea_97e7_320015ebc5a0row6_col20\" class=\"data row6 col20\" >nan</td>\n",
       "                        <td id=\"T_3a006360_cc9e_11ea_97e7_320015ebc5a0row6_col21\" class=\"data row6 col21\" >-0.077881</td>\n",
       "                        <td id=\"T_3a006360_cc9e_11ea_97e7_320015ebc5a0row6_col22\" class=\"data row6 col22\" >0.130370</td>\n",
       "                        <td id=\"T_3a006360_cc9e_11ea_97e7_320015ebc5a0row6_col23\" class=\"data row6 col23\" >0.101375</td>\n",
       "                        <td id=\"T_3a006360_cc9e_11ea_97e7_320015ebc5a0row6_col24\" class=\"data row6 col24\" >0.111438</td>\n",
       "                        <td id=\"T_3a006360_cc9e_11ea_97e7_320015ebc5a0row6_col25\" class=\"data row6 col25\" >0.096143</td>\n",
       "                        <td id=\"T_3a006360_cc9e_11ea_97e7_320015ebc5a0row6_col26\" class=\"data row6 col26\" >0.130598</td>\n",
       "                        <td id=\"T_3a006360_cc9e_11ea_97e7_320015ebc5a0row6_col27\" class=\"data row6 col27\" >0.117761</td>\n",
       "                        <td id=\"T_3a006360_cc9e_11ea_97e7_320015ebc5a0row6_col28\" class=\"data row6 col28\" >0.114993</td>\n",
       "                        <td id=\"T_3a006360_cc9e_11ea_97e7_320015ebc5a0row6_col29\" class=\"data row6 col29\" >0.128885</td>\n",
       "            </tr>\n",
       "            <tr>\n",
       "                        <th id=\"T_3a006360_cc9e_11ea_97e7_320015ebc5a0level0_row7\" class=\"row_heading level0 row7\" >Bloomberg</th>\n",
       "                        <td id=\"T_3a006360_cc9e_11ea_97e7_320015ebc5a0row7_col0\" class=\"data row7 col0\" >0.074092</td>\n",
       "                        <td id=\"T_3a006360_cc9e_11ea_97e7_320015ebc5a0row7_col1\" class=\"data row7 col1\" >0.190850</td>\n",
       "                        <td id=\"T_3a006360_cc9e_11ea_97e7_320015ebc5a0row7_col2\" class=\"data row7 col2\" >0.094327</td>\n",
       "                        <td id=\"T_3a006360_cc9e_11ea_97e7_320015ebc5a0row7_col3\" class=\"data row7 col3\" >nan</td>\n",
       "                        <td id=\"T_3a006360_cc9e_11ea_97e7_320015ebc5a0row7_col4\" class=\"data row7 col4\" >-0.091979</td>\n",
       "                        <td id=\"T_3a006360_cc9e_11ea_97e7_320015ebc5a0row7_col5\" class=\"data row7 col5\" >nan</td>\n",
       "                        <td id=\"T_3a006360_cc9e_11ea_97e7_320015ebc5a0row7_col6\" class=\"data row7 col6\" >nan</td>\n",
       "                        <td id=\"T_3a006360_cc9e_11ea_97e7_320015ebc5a0row7_col7\" class=\"data row7 col7\" >nan</td>\n",
       "                        <td id=\"T_3a006360_cc9e_11ea_97e7_320015ebc5a0row7_col8\" class=\"data row7 col8\" >nan</td>\n",
       "                        <td id=\"T_3a006360_cc9e_11ea_97e7_320015ebc5a0row7_col9\" class=\"data row7 col9\" >nan</td>\n",
       "                        <td id=\"T_3a006360_cc9e_11ea_97e7_320015ebc5a0row7_col10\" class=\"data row7 col10\" >nan</td>\n",
       "                        <td id=\"T_3a006360_cc9e_11ea_97e7_320015ebc5a0row7_col11\" class=\"data row7 col11\" >nan</td>\n",
       "                        <td id=\"T_3a006360_cc9e_11ea_97e7_320015ebc5a0row7_col12\" class=\"data row7 col12\" >nan</td>\n",
       "                        <td id=\"T_3a006360_cc9e_11ea_97e7_320015ebc5a0row7_col13\" class=\"data row7 col13\" >nan</td>\n",
       "                        <td id=\"T_3a006360_cc9e_11ea_97e7_320015ebc5a0row7_col14\" class=\"data row7 col14\" >nan</td>\n",
       "                        <td id=\"T_3a006360_cc9e_11ea_97e7_320015ebc5a0row7_col15\" class=\"data row7 col15\" >nan</td>\n",
       "                        <td id=\"T_3a006360_cc9e_11ea_97e7_320015ebc5a0row7_col16\" class=\"data row7 col16\" >nan</td>\n",
       "                        <td id=\"T_3a006360_cc9e_11ea_97e7_320015ebc5a0row7_col17\" class=\"data row7 col17\" >nan</td>\n",
       "                        <td id=\"T_3a006360_cc9e_11ea_97e7_320015ebc5a0row7_col18\" class=\"data row7 col18\" >nan</td>\n",
       "                        <td id=\"T_3a006360_cc9e_11ea_97e7_320015ebc5a0row7_col19\" class=\"data row7 col19\" >nan</td>\n",
       "                        <td id=\"T_3a006360_cc9e_11ea_97e7_320015ebc5a0row7_col20\" class=\"data row7 col20\" >nan</td>\n",
       "                        <td id=\"T_3a006360_cc9e_11ea_97e7_320015ebc5a0row7_col21\" class=\"data row7 col21\" >-0.095729</td>\n",
       "                        <td id=\"T_3a006360_cc9e_11ea_97e7_320015ebc5a0row7_col22\" class=\"data row7 col22\" >nan</td>\n",
       "                        <td id=\"T_3a006360_cc9e_11ea_97e7_320015ebc5a0row7_col23\" class=\"data row7 col23\" >nan</td>\n",
       "                        <td id=\"T_3a006360_cc9e_11ea_97e7_320015ebc5a0row7_col24\" class=\"data row7 col24\" >nan</td>\n",
       "                        <td id=\"T_3a006360_cc9e_11ea_97e7_320015ebc5a0row7_col25\" class=\"data row7 col25\" >nan</td>\n",
       "                        <td id=\"T_3a006360_cc9e_11ea_97e7_320015ebc5a0row7_col26\" class=\"data row7 col26\" >nan</td>\n",
       "                        <td id=\"T_3a006360_cc9e_11ea_97e7_320015ebc5a0row7_col27\" class=\"data row7 col27\" >nan</td>\n",
       "                        <td id=\"T_3a006360_cc9e_11ea_97e7_320015ebc5a0row7_col28\" class=\"data row7 col28\" >nan</td>\n",
       "                        <td id=\"T_3a006360_cc9e_11ea_97e7_320015ebc5a0row7_col29\" class=\"data row7 col29\" >nan</td>\n",
       "            </tr>\n",
       "            <tr>\n",
       "                        <th id=\"T_3a006360_cc9e_11ea_97e7_320015ebc5a0level0_row8\" class=\"row_heading level0 row8\" >WaPo</th>\n",
       "                        <td id=\"T_3a006360_cc9e_11ea_97e7_320015ebc5a0row8_col0\" class=\"data row8 col0\" >nan</td>\n",
       "                        <td id=\"T_3a006360_cc9e_11ea_97e7_320015ebc5a0row8_col1\" class=\"data row8 col1\" >0.152969</td>\n",
       "                        <td id=\"T_3a006360_cc9e_11ea_97e7_320015ebc5a0row8_col2\" class=\"data row8 col2\" >-0.160667</td>\n",
       "                        <td id=\"T_3a006360_cc9e_11ea_97e7_320015ebc5a0row8_col3\" class=\"data row8 col3\" >0.145166</td>\n",
       "                        <td id=\"T_3a006360_cc9e_11ea_97e7_320015ebc5a0row8_col4\" class=\"data row8 col4\" >nan</td>\n",
       "                        <td id=\"T_3a006360_cc9e_11ea_97e7_320015ebc5a0row8_col5\" class=\"data row8 col5\" >-0.077682</td>\n",
       "                        <td id=\"T_3a006360_cc9e_11ea_97e7_320015ebc5a0row8_col6\" class=\"data row8 col6\" >0.146344</td>\n",
       "                        <td id=\"T_3a006360_cc9e_11ea_97e7_320015ebc5a0row8_col7\" class=\"data row8 col7\" >nan</td>\n",
       "                        <td id=\"T_3a006360_cc9e_11ea_97e7_320015ebc5a0row8_col8\" class=\"data row8 col8\" >nan</td>\n",
       "                        <td id=\"T_3a006360_cc9e_11ea_97e7_320015ebc5a0row8_col9\" class=\"data row8 col9\" >nan</td>\n",
       "                        <td id=\"T_3a006360_cc9e_11ea_97e7_320015ebc5a0row8_col10\" class=\"data row8 col10\" >nan</td>\n",
       "                        <td id=\"T_3a006360_cc9e_11ea_97e7_320015ebc5a0row8_col11\" class=\"data row8 col11\" >nan</td>\n",
       "                        <td id=\"T_3a006360_cc9e_11ea_97e7_320015ebc5a0row8_col12\" class=\"data row8 col12\" >nan</td>\n",
       "                        <td id=\"T_3a006360_cc9e_11ea_97e7_320015ebc5a0row8_col13\" class=\"data row8 col13\" >nan</td>\n",
       "                        <td id=\"T_3a006360_cc9e_11ea_97e7_320015ebc5a0row8_col14\" class=\"data row8 col14\" >nan</td>\n",
       "                        <td id=\"T_3a006360_cc9e_11ea_97e7_320015ebc5a0row8_col15\" class=\"data row8 col15\" >nan</td>\n",
       "                        <td id=\"T_3a006360_cc9e_11ea_97e7_320015ebc5a0row8_col16\" class=\"data row8 col16\" >nan</td>\n",
       "                        <td id=\"T_3a006360_cc9e_11ea_97e7_320015ebc5a0row8_col17\" class=\"data row8 col17\" >0.087709</td>\n",
       "                        <td id=\"T_3a006360_cc9e_11ea_97e7_320015ebc5a0row8_col18\" class=\"data row8 col18\" >nan</td>\n",
       "                        <td id=\"T_3a006360_cc9e_11ea_97e7_320015ebc5a0row8_col19\" class=\"data row8 col19\" >0.114585</td>\n",
       "                        <td id=\"T_3a006360_cc9e_11ea_97e7_320015ebc5a0row8_col20\" class=\"data row8 col20\" >nan</td>\n",
       "                        <td id=\"T_3a006360_cc9e_11ea_97e7_320015ebc5a0row8_col21\" class=\"data row8 col21\" >-0.089016</td>\n",
       "                        <td id=\"T_3a006360_cc9e_11ea_97e7_320015ebc5a0row8_col22\" class=\"data row8 col22\" >0.117085</td>\n",
       "                        <td id=\"T_3a006360_cc9e_11ea_97e7_320015ebc5a0row8_col23\" class=\"data row8 col23\" >nan</td>\n",
       "                        <td id=\"T_3a006360_cc9e_11ea_97e7_320015ebc5a0row8_col24\" class=\"data row8 col24\" >0.089740</td>\n",
       "                        <td id=\"T_3a006360_cc9e_11ea_97e7_320015ebc5a0row8_col25\" class=\"data row8 col25\" >0.091528</td>\n",
       "                        <td id=\"T_3a006360_cc9e_11ea_97e7_320015ebc5a0row8_col26\" class=\"data row8 col26\" >0.100732</td>\n",
       "                        <td id=\"T_3a006360_cc9e_11ea_97e7_320015ebc5a0row8_col27\" class=\"data row8 col27\" >0.091057</td>\n",
       "                        <td id=\"T_3a006360_cc9e_11ea_97e7_320015ebc5a0row8_col28\" class=\"data row8 col28\" >0.131738</td>\n",
       "                        <td id=\"T_3a006360_cc9e_11ea_97e7_320015ebc5a0row8_col29\" class=\"data row8 col29\" >0.101792</td>\n",
       "            </tr>\n",
       "            <tr>\n",
       "                        <th id=\"T_3a006360_cc9e_11ea_97e7_320015ebc5a0level0_row9\" class=\"row_heading level0 row9\" >NBER</th>\n",
       "                        <td id=\"T_3a006360_cc9e_11ea_97e7_320015ebc5a0row9_col0\" class=\"data row9 col0\" >nan</td>\n",
       "                        <td id=\"T_3a006360_cc9e_11ea_97e7_320015ebc5a0row9_col1\" class=\"data row9 col1\" >nan</td>\n",
       "                        <td id=\"T_3a006360_cc9e_11ea_97e7_320015ebc5a0row9_col2\" class=\"data row9 col2\" >nan</td>\n",
       "                        <td id=\"T_3a006360_cc9e_11ea_97e7_320015ebc5a0row9_col3\" class=\"data row9 col3\" >nan</td>\n",
       "                        <td id=\"T_3a006360_cc9e_11ea_97e7_320015ebc5a0row9_col4\" class=\"data row9 col4\" >nan</td>\n",
       "                        <td id=\"T_3a006360_cc9e_11ea_97e7_320015ebc5a0row9_col5\" class=\"data row9 col5\" >nan</td>\n",
       "                        <td id=\"T_3a006360_cc9e_11ea_97e7_320015ebc5a0row9_col6\" class=\"data row9 col6\" >nan</td>\n",
       "                        <td id=\"T_3a006360_cc9e_11ea_97e7_320015ebc5a0row9_col7\" class=\"data row9 col7\" >nan</td>\n",
       "                        <td id=\"T_3a006360_cc9e_11ea_97e7_320015ebc5a0row9_col8\" class=\"data row9 col8\" >nan</td>\n",
       "                        <td id=\"T_3a006360_cc9e_11ea_97e7_320015ebc5a0row9_col9\" class=\"data row9 col9\" >nan</td>\n",
       "                        <td id=\"T_3a006360_cc9e_11ea_97e7_320015ebc5a0row9_col10\" class=\"data row9 col10\" >nan</td>\n",
       "                        <td id=\"T_3a006360_cc9e_11ea_97e7_320015ebc5a0row9_col11\" class=\"data row9 col11\" >nan</td>\n",
       "                        <td id=\"T_3a006360_cc9e_11ea_97e7_320015ebc5a0row9_col12\" class=\"data row9 col12\" >nan</td>\n",
       "                        <td id=\"T_3a006360_cc9e_11ea_97e7_320015ebc5a0row9_col13\" class=\"data row9 col13\" >nan</td>\n",
       "                        <td id=\"T_3a006360_cc9e_11ea_97e7_320015ebc5a0row9_col14\" class=\"data row9 col14\" >nan</td>\n",
       "                        <td id=\"T_3a006360_cc9e_11ea_97e7_320015ebc5a0row9_col15\" class=\"data row9 col15\" >nan</td>\n",
       "                        <td id=\"T_3a006360_cc9e_11ea_97e7_320015ebc5a0row9_col16\" class=\"data row9 col16\" >nan</td>\n",
       "                        <td id=\"T_3a006360_cc9e_11ea_97e7_320015ebc5a0row9_col17\" class=\"data row9 col17\" >nan</td>\n",
       "                        <td id=\"T_3a006360_cc9e_11ea_97e7_320015ebc5a0row9_col18\" class=\"data row9 col18\" >nan</td>\n",
       "                        <td id=\"T_3a006360_cc9e_11ea_97e7_320015ebc5a0row9_col19\" class=\"data row9 col19\" >nan</td>\n",
       "                        <td id=\"T_3a006360_cc9e_11ea_97e7_320015ebc5a0row9_col20\" class=\"data row9 col20\" >nan</td>\n",
       "                        <td id=\"T_3a006360_cc9e_11ea_97e7_320015ebc5a0row9_col21\" class=\"data row9 col21\" >nan</td>\n",
       "                        <td id=\"T_3a006360_cc9e_11ea_97e7_320015ebc5a0row9_col22\" class=\"data row9 col22\" >nan</td>\n",
       "                        <td id=\"T_3a006360_cc9e_11ea_97e7_320015ebc5a0row9_col23\" class=\"data row9 col23\" >nan</td>\n",
       "                        <td id=\"T_3a006360_cc9e_11ea_97e7_320015ebc5a0row9_col24\" class=\"data row9 col24\" >nan</td>\n",
       "                        <td id=\"T_3a006360_cc9e_11ea_97e7_320015ebc5a0row9_col25\" class=\"data row9 col25\" >nan</td>\n",
       "                        <td id=\"T_3a006360_cc9e_11ea_97e7_320015ebc5a0row9_col26\" class=\"data row9 col26\" >nan</td>\n",
       "                        <td id=\"T_3a006360_cc9e_11ea_97e7_320015ebc5a0row9_col27\" class=\"data row9 col27\" >nan</td>\n",
       "                        <td id=\"T_3a006360_cc9e_11ea_97e7_320015ebc5a0row9_col28\" class=\"data row9 col28\" >nan</td>\n",
       "                        <td id=\"T_3a006360_cc9e_11ea_97e7_320015ebc5a0row9_col29\" class=\"data row9 col29\" >nan</td>\n",
       "            </tr>\n",
       "            <tr>\n",
       "                        <th id=\"T_3a006360_cc9e_11ea_97e7_320015ebc5a0level0_row10\" class=\"row_heading level0 row10\" >YouTube</th>\n",
       "                        <td id=\"T_3a006360_cc9e_11ea_97e7_320015ebc5a0row10_col0\" class=\"data row10 col0\" >nan</td>\n",
       "                        <td id=\"T_3a006360_cc9e_11ea_97e7_320015ebc5a0row10_col1\" class=\"data row10 col1\" >nan</td>\n",
       "                        <td id=\"T_3a006360_cc9e_11ea_97e7_320015ebc5a0row10_col2\" class=\"data row10 col2\" >-0.096663</td>\n",
       "                        <td id=\"T_3a006360_cc9e_11ea_97e7_320015ebc5a0row10_col3\" class=\"data row10 col3\" >0.075187</td>\n",
       "                        <td id=\"T_3a006360_cc9e_11ea_97e7_320015ebc5a0row10_col4\" class=\"data row10 col4\" >nan</td>\n",
       "                        <td id=\"T_3a006360_cc9e_11ea_97e7_320015ebc5a0row10_col5\" class=\"data row10 col5\" >nan</td>\n",
       "                        <td id=\"T_3a006360_cc9e_11ea_97e7_320015ebc5a0row10_col6\" class=\"data row10 col6\" >0.092733</td>\n",
       "                        <td id=\"T_3a006360_cc9e_11ea_97e7_320015ebc5a0row10_col7\" class=\"data row10 col7\" >nan</td>\n",
       "                        <td id=\"T_3a006360_cc9e_11ea_97e7_320015ebc5a0row10_col8\" class=\"data row10 col8\" >nan</td>\n",
       "                        <td id=\"T_3a006360_cc9e_11ea_97e7_320015ebc5a0row10_col9\" class=\"data row10 col9\" >nan</td>\n",
       "                        <td id=\"T_3a006360_cc9e_11ea_97e7_320015ebc5a0row10_col10\" class=\"data row10 col10\" >nan</td>\n",
       "                        <td id=\"T_3a006360_cc9e_11ea_97e7_320015ebc5a0row10_col11\" class=\"data row10 col11\" >nan</td>\n",
       "                        <td id=\"T_3a006360_cc9e_11ea_97e7_320015ebc5a0row10_col12\" class=\"data row10 col12\" >nan</td>\n",
       "                        <td id=\"T_3a006360_cc9e_11ea_97e7_320015ebc5a0row10_col13\" class=\"data row10 col13\" >nan</td>\n",
       "                        <td id=\"T_3a006360_cc9e_11ea_97e7_320015ebc5a0row10_col14\" class=\"data row10 col14\" >nan</td>\n",
       "                        <td id=\"T_3a006360_cc9e_11ea_97e7_320015ebc5a0row10_col15\" class=\"data row10 col15\" >0.080997</td>\n",
       "                        <td id=\"T_3a006360_cc9e_11ea_97e7_320015ebc5a0row10_col16\" class=\"data row10 col16\" >nan</td>\n",
       "                        <td id=\"T_3a006360_cc9e_11ea_97e7_320015ebc5a0row10_col17\" class=\"data row10 col17\" >nan</td>\n",
       "                        <td id=\"T_3a006360_cc9e_11ea_97e7_320015ebc5a0row10_col18\" class=\"data row10 col18\" >nan</td>\n",
       "                        <td id=\"T_3a006360_cc9e_11ea_97e7_320015ebc5a0row10_col19\" class=\"data row10 col19\" >nan</td>\n",
       "                        <td id=\"T_3a006360_cc9e_11ea_97e7_320015ebc5a0row10_col20\" class=\"data row10 col20\" >nan</td>\n",
       "                        <td id=\"T_3a006360_cc9e_11ea_97e7_320015ebc5a0row10_col21\" class=\"data row10 col21\" >nan</td>\n",
       "                        <td id=\"T_3a006360_cc9e_11ea_97e7_320015ebc5a0row10_col22\" class=\"data row10 col22\" >nan</td>\n",
       "                        <td id=\"T_3a006360_cc9e_11ea_97e7_320015ebc5a0row10_col23\" class=\"data row10 col23\" >nan</td>\n",
       "                        <td id=\"T_3a006360_cc9e_11ea_97e7_320015ebc5a0row10_col24\" class=\"data row10 col24\" >nan</td>\n",
       "                        <td id=\"T_3a006360_cc9e_11ea_97e7_320015ebc5a0row10_col25\" class=\"data row10 col25\" >nan</td>\n",
       "                        <td id=\"T_3a006360_cc9e_11ea_97e7_320015ebc5a0row10_col26\" class=\"data row10 col26\" >nan</td>\n",
       "                        <td id=\"T_3a006360_cc9e_11ea_97e7_320015ebc5a0row10_col27\" class=\"data row10 col27\" >nan</td>\n",
       "                        <td id=\"T_3a006360_cc9e_11ea_97e7_320015ebc5a0row10_col28\" class=\"data row10 col28\" >nan</td>\n",
       "                        <td id=\"T_3a006360_cc9e_11ea_97e7_320015ebc5a0row10_col29\" class=\"data row10 col29\" >nan</td>\n",
       "            </tr>\n",
       "            <tr>\n",
       "                        <th id=\"T_3a006360_cc9e_11ea_97e7_320015ebc5a0level0_row11\" class=\"row_heading level0 row11\" >Medium</th>\n",
       "                        <td id=\"T_3a006360_cc9e_11ea_97e7_320015ebc5a0row11_col0\" class=\"data row11 col0\" >nan</td>\n",
       "                        <td id=\"T_3a006360_cc9e_11ea_97e7_320015ebc5a0row11_col1\" class=\"data row11 col1\" >nan</td>\n",
       "                        <td id=\"T_3a006360_cc9e_11ea_97e7_320015ebc5a0row11_col2\" class=\"data row11 col2\" >nan</td>\n",
       "                        <td id=\"T_3a006360_cc9e_11ea_97e7_320015ebc5a0row11_col3\" class=\"data row11 col3\" >nan</td>\n",
       "                        <td id=\"T_3a006360_cc9e_11ea_97e7_320015ebc5a0row11_col4\" class=\"data row11 col4\" >0.076122</td>\n",
       "                        <td id=\"T_3a006360_cc9e_11ea_97e7_320015ebc5a0row11_col5\" class=\"data row11 col5\" >nan</td>\n",
       "                        <td id=\"T_3a006360_cc9e_11ea_97e7_320015ebc5a0row11_col6\" class=\"data row11 col6\" >nan</td>\n",
       "                        <td id=\"T_3a006360_cc9e_11ea_97e7_320015ebc5a0row11_col7\" class=\"data row11 col7\" >nan</td>\n",
       "                        <td id=\"T_3a006360_cc9e_11ea_97e7_320015ebc5a0row11_col8\" class=\"data row11 col8\" >nan</td>\n",
       "                        <td id=\"T_3a006360_cc9e_11ea_97e7_320015ebc5a0row11_col9\" class=\"data row11 col9\" >nan</td>\n",
       "                        <td id=\"T_3a006360_cc9e_11ea_97e7_320015ebc5a0row11_col10\" class=\"data row11 col10\" >nan</td>\n",
       "                        <td id=\"T_3a006360_cc9e_11ea_97e7_320015ebc5a0row11_col11\" class=\"data row11 col11\" >nan</td>\n",
       "                        <td id=\"T_3a006360_cc9e_11ea_97e7_320015ebc5a0row11_col12\" class=\"data row11 col12\" >nan</td>\n",
       "                        <td id=\"T_3a006360_cc9e_11ea_97e7_320015ebc5a0row11_col13\" class=\"data row11 col13\" >nan</td>\n",
       "                        <td id=\"T_3a006360_cc9e_11ea_97e7_320015ebc5a0row11_col14\" class=\"data row11 col14\" >nan</td>\n",
       "                        <td id=\"T_3a006360_cc9e_11ea_97e7_320015ebc5a0row11_col15\" class=\"data row11 col15\" >nan</td>\n",
       "                        <td id=\"T_3a006360_cc9e_11ea_97e7_320015ebc5a0row11_col16\" class=\"data row11 col16\" >nan</td>\n",
       "                        <td id=\"T_3a006360_cc9e_11ea_97e7_320015ebc5a0row11_col17\" class=\"data row11 col17\" >nan</td>\n",
       "                        <td id=\"T_3a006360_cc9e_11ea_97e7_320015ebc5a0row11_col18\" class=\"data row11 col18\" >nan</td>\n",
       "                        <td id=\"T_3a006360_cc9e_11ea_97e7_320015ebc5a0row11_col19\" class=\"data row11 col19\" >0.071145</td>\n",
       "                        <td id=\"T_3a006360_cc9e_11ea_97e7_320015ebc5a0row11_col20\" class=\"data row11 col20\" >nan</td>\n",
       "                        <td id=\"T_3a006360_cc9e_11ea_97e7_320015ebc5a0row11_col21\" class=\"data row11 col21\" >nan</td>\n",
       "                        <td id=\"T_3a006360_cc9e_11ea_97e7_320015ebc5a0row11_col22\" class=\"data row11 col22\" >0.076278</td>\n",
       "                        <td id=\"T_3a006360_cc9e_11ea_97e7_320015ebc5a0row11_col23\" class=\"data row11 col23\" >nan</td>\n",
       "                        <td id=\"T_3a006360_cc9e_11ea_97e7_320015ebc5a0row11_col24\" class=\"data row11 col24\" >0.089906</td>\n",
       "                        <td id=\"T_3a006360_cc9e_11ea_97e7_320015ebc5a0row11_col25\" class=\"data row11 col25\" >0.074433</td>\n",
       "                        <td id=\"T_3a006360_cc9e_11ea_97e7_320015ebc5a0row11_col26\" class=\"data row11 col26\" >0.081818</td>\n",
       "                        <td id=\"T_3a006360_cc9e_11ea_97e7_320015ebc5a0row11_col27\" class=\"data row11 col27\" >nan</td>\n",
       "                        <td id=\"T_3a006360_cc9e_11ea_97e7_320015ebc5a0row11_col28\" class=\"data row11 col28\" >nan</td>\n",
       "                        <td id=\"T_3a006360_cc9e_11ea_97e7_320015ebc5a0row11_col29\" class=\"data row11 col29\" >0.073988</td>\n",
       "            </tr>\n",
       "            <tr>\n",
       "                        <th id=\"T_3a006360_cc9e_11ea_97e7_320015ebc5a0level0_row12\" class=\"row_heading level0 row12\" >SSRN</th>\n",
       "                        <td id=\"T_3a006360_cc9e_11ea_97e7_320015ebc5a0row12_col0\" class=\"data row12 col0\" >nan</td>\n",
       "                        <td id=\"T_3a006360_cc9e_11ea_97e7_320015ebc5a0row12_col1\" class=\"data row12 col1\" >nan</td>\n",
       "                        <td id=\"T_3a006360_cc9e_11ea_97e7_320015ebc5a0row12_col2\" class=\"data row12 col2\" >nan</td>\n",
       "                        <td id=\"T_3a006360_cc9e_11ea_97e7_320015ebc5a0row12_col3\" class=\"data row12 col3\" >nan</td>\n",
       "                        <td id=\"T_3a006360_cc9e_11ea_97e7_320015ebc5a0row12_col4\" class=\"data row12 col4\" >-0.074064</td>\n",
       "                        <td id=\"T_3a006360_cc9e_11ea_97e7_320015ebc5a0row12_col5\" class=\"data row12 col5\" >nan</td>\n",
       "                        <td id=\"T_3a006360_cc9e_11ea_97e7_320015ebc5a0row12_col6\" class=\"data row12 col6\" >nan</td>\n",
       "                        <td id=\"T_3a006360_cc9e_11ea_97e7_320015ebc5a0row12_col7\" class=\"data row12 col7\" >nan</td>\n",
       "                        <td id=\"T_3a006360_cc9e_11ea_97e7_320015ebc5a0row12_col8\" class=\"data row12 col8\" >nan</td>\n",
       "                        <td id=\"T_3a006360_cc9e_11ea_97e7_320015ebc5a0row12_col9\" class=\"data row12 col9\" >nan</td>\n",
       "                        <td id=\"T_3a006360_cc9e_11ea_97e7_320015ebc5a0row12_col10\" class=\"data row12 col10\" >nan</td>\n",
       "                        <td id=\"T_3a006360_cc9e_11ea_97e7_320015ebc5a0row12_col11\" class=\"data row12 col11\" >nan</td>\n",
       "                        <td id=\"T_3a006360_cc9e_11ea_97e7_320015ebc5a0row12_col12\" class=\"data row12 col12\" >nan</td>\n",
       "                        <td id=\"T_3a006360_cc9e_11ea_97e7_320015ebc5a0row12_col13\" class=\"data row12 col13\" >nan</td>\n",
       "                        <td id=\"T_3a006360_cc9e_11ea_97e7_320015ebc5a0row12_col14\" class=\"data row12 col14\" >nan</td>\n",
       "                        <td id=\"T_3a006360_cc9e_11ea_97e7_320015ebc5a0row12_col15\" class=\"data row12 col15\" >nan</td>\n",
       "                        <td id=\"T_3a006360_cc9e_11ea_97e7_320015ebc5a0row12_col16\" class=\"data row12 col16\" >nan</td>\n",
       "                        <td id=\"T_3a006360_cc9e_11ea_97e7_320015ebc5a0row12_col17\" class=\"data row12 col17\" >nan</td>\n",
       "                        <td id=\"T_3a006360_cc9e_11ea_97e7_320015ebc5a0row12_col18\" class=\"data row12 col18\" >nan</td>\n",
       "                        <td id=\"T_3a006360_cc9e_11ea_97e7_320015ebc5a0row12_col19\" class=\"data row12 col19\" >nan</td>\n",
       "                        <td id=\"T_3a006360_cc9e_11ea_97e7_320015ebc5a0row12_col20\" class=\"data row12 col20\" >nan</td>\n",
       "                        <td id=\"T_3a006360_cc9e_11ea_97e7_320015ebc5a0row12_col21\" class=\"data row12 col21\" >nan</td>\n",
       "                        <td id=\"T_3a006360_cc9e_11ea_97e7_320015ebc5a0row12_col22\" class=\"data row12 col22\" >nan</td>\n",
       "                        <td id=\"T_3a006360_cc9e_11ea_97e7_320015ebc5a0row12_col23\" class=\"data row12 col23\" >nan</td>\n",
       "                        <td id=\"T_3a006360_cc9e_11ea_97e7_320015ebc5a0row12_col24\" class=\"data row12 col24\" >nan</td>\n",
       "                        <td id=\"T_3a006360_cc9e_11ea_97e7_320015ebc5a0row12_col25\" class=\"data row12 col25\" >nan</td>\n",
       "                        <td id=\"T_3a006360_cc9e_11ea_97e7_320015ebc5a0row12_col26\" class=\"data row12 col26\" >nan</td>\n",
       "                        <td id=\"T_3a006360_cc9e_11ea_97e7_320015ebc5a0row12_col27\" class=\"data row12 col27\" >nan</td>\n",
       "                        <td id=\"T_3a006360_cc9e_11ea_97e7_320015ebc5a0row12_col28\" class=\"data row12 col28\" >nan</td>\n",
       "                        <td id=\"T_3a006360_cc9e_11ea_97e7_320015ebc5a0row12_col29\" class=\"data row12 col29\" >nan</td>\n",
       "            </tr>\n",
       "            <tr>\n",
       "                        <th id=\"T_3a006360_cc9e_11ea_97e7_320015ebc5a0level0_row13\" class=\"row_heading level0 row13\" >Wikipedia</th>\n",
       "                        <td id=\"T_3a006360_cc9e_11ea_97e7_320015ebc5a0row13_col0\" class=\"data row13 col0\" >nan</td>\n",
       "                        <td id=\"T_3a006360_cc9e_11ea_97e7_320015ebc5a0row13_col1\" class=\"data row13 col1\" >nan</td>\n",
       "                        <td id=\"T_3a006360_cc9e_11ea_97e7_320015ebc5a0row13_col2\" class=\"data row13 col2\" >0.092675</td>\n",
       "                        <td id=\"T_3a006360_cc9e_11ea_97e7_320015ebc5a0row13_col3\" class=\"data row13 col3\" >nan</td>\n",
       "                        <td id=\"T_3a006360_cc9e_11ea_97e7_320015ebc5a0row13_col4\" class=\"data row13 col4\" >nan</td>\n",
       "                        <td id=\"T_3a006360_cc9e_11ea_97e7_320015ebc5a0row13_col5\" class=\"data row13 col5\" >0.097305</td>\n",
       "                        <td id=\"T_3a006360_cc9e_11ea_97e7_320015ebc5a0row13_col6\" class=\"data row13 col6\" >nan</td>\n",
       "                        <td id=\"T_3a006360_cc9e_11ea_97e7_320015ebc5a0row13_col7\" class=\"data row13 col7\" >nan</td>\n",
       "                        <td id=\"T_3a006360_cc9e_11ea_97e7_320015ebc5a0row13_col8\" class=\"data row13 col8\" >nan</td>\n",
       "                        <td id=\"T_3a006360_cc9e_11ea_97e7_320015ebc5a0row13_col9\" class=\"data row13 col9\" >nan</td>\n",
       "                        <td id=\"T_3a006360_cc9e_11ea_97e7_320015ebc5a0row13_col10\" class=\"data row13 col10\" >nan</td>\n",
       "                        <td id=\"T_3a006360_cc9e_11ea_97e7_320015ebc5a0row13_col11\" class=\"data row13 col11\" >nan</td>\n",
       "                        <td id=\"T_3a006360_cc9e_11ea_97e7_320015ebc5a0row13_col12\" class=\"data row13 col12\" >nan</td>\n",
       "                        <td id=\"T_3a006360_cc9e_11ea_97e7_320015ebc5a0row13_col13\" class=\"data row13 col13\" >nan</td>\n",
       "                        <td id=\"T_3a006360_cc9e_11ea_97e7_320015ebc5a0row13_col14\" class=\"data row13 col14\" >nan</td>\n",
       "                        <td id=\"T_3a006360_cc9e_11ea_97e7_320015ebc5a0row13_col15\" class=\"data row13 col15\" >nan</td>\n",
       "                        <td id=\"T_3a006360_cc9e_11ea_97e7_320015ebc5a0row13_col16\" class=\"data row13 col16\" >nan</td>\n",
       "                        <td id=\"T_3a006360_cc9e_11ea_97e7_320015ebc5a0row13_col17\" class=\"data row13 col17\" >nan</td>\n",
       "                        <td id=\"T_3a006360_cc9e_11ea_97e7_320015ebc5a0row13_col18\" class=\"data row13 col18\" >nan</td>\n",
       "                        <td id=\"T_3a006360_cc9e_11ea_97e7_320015ebc5a0row13_col19\" class=\"data row13 col19\" >nan</td>\n",
       "                        <td id=\"T_3a006360_cc9e_11ea_97e7_320015ebc5a0row13_col20\" class=\"data row13 col20\" >nan</td>\n",
       "                        <td id=\"T_3a006360_cc9e_11ea_97e7_320015ebc5a0row13_col21\" class=\"data row13 col21\" >nan</td>\n",
       "                        <td id=\"T_3a006360_cc9e_11ea_97e7_320015ebc5a0row13_col22\" class=\"data row13 col22\" >nan</td>\n",
       "                        <td id=\"T_3a006360_cc9e_11ea_97e7_320015ebc5a0row13_col23\" class=\"data row13 col23\" >nan</td>\n",
       "                        <td id=\"T_3a006360_cc9e_11ea_97e7_320015ebc5a0row13_col24\" class=\"data row13 col24\" >nan</td>\n",
       "                        <td id=\"T_3a006360_cc9e_11ea_97e7_320015ebc5a0row13_col25\" class=\"data row13 col25\" >nan</td>\n",
       "                        <td id=\"T_3a006360_cc9e_11ea_97e7_320015ebc5a0row13_col26\" class=\"data row13 col26\" >nan</td>\n",
       "                        <td id=\"T_3a006360_cc9e_11ea_97e7_320015ebc5a0row13_col27\" class=\"data row13 col27\" >nan</td>\n",
       "                        <td id=\"T_3a006360_cc9e_11ea_97e7_320015ebc5a0row13_col28\" class=\"data row13 col28\" >nan</td>\n",
       "                        <td id=\"T_3a006360_cc9e_11ea_97e7_320015ebc5a0row13_col29\" class=\"data row13 col29\" >nan</td>\n",
       "            </tr>\n",
       "            <tr>\n",
       "                        <th id=\"T_3a006360_cc9e_11ea_97e7_320015ebc5a0level0_row14\" class=\"row_heading level0 row14\" >WSJ</th>\n",
       "                        <td id=\"T_3a006360_cc9e_11ea_97e7_320015ebc5a0row14_col0\" class=\"data row14 col0\" >nan</td>\n",
       "                        <td id=\"T_3a006360_cc9e_11ea_97e7_320015ebc5a0row14_col1\" class=\"data row14 col1\" >nan</td>\n",
       "                        <td id=\"T_3a006360_cc9e_11ea_97e7_320015ebc5a0row14_col2\" class=\"data row14 col2\" >nan</td>\n",
       "                        <td id=\"T_3a006360_cc9e_11ea_97e7_320015ebc5a0row14_col3\" class=\"data row14 col3\" >0.090780</td>\n",
       "                        <td id=\"T_3a006360_cc9e_11ea_97e7_320015ebc5a0row14_col4\" class=\"data row14 col4\" >nan</td>\n",
       "                        <td id=\"T_3a006360_cc9e_11ea_97e7_320015ebc5a0row14_col5\" class=\"data row14 col5\" >nan</td>\n",
       "                        <td id=\"T_3a006360_cc9e_11ea_97e7_320015ebc5a0row14_col6\" class=\"data row14 col6\" >nan</td>\n",
       "                        <td id=\"T_3a006360_cc9e_11ea_97e7_320015ebc5a0row14_col7\" class=\"data row14 col7\" >nan</td>\n",
       "                        <td id=\"T_3a006360_cc9e_11ea_97e7_320015ebc5a0row14_col8\" class=\"data row14 col8\" >nan</td>\n",
       "                        <td id=\"T_3a006360_cc9e_11ea_97e7_320015ebc5a0row14_col9\" class=\"data row14 col9\" >nan</td>\n",
       "                        <td id=\"T_3a006360_cc9e_11ea_97e7_320015ebc5a0row14_col10\" class=\"data row14 col10\" >nan</td>\n",
       "                        <td id=\"T_3a006360_cc9e_11ea_97e7_320015ebc5a0row14_col11\" class=\"data row14 col11\" >nan</td>\n",
       "                        <td id=\"T_3a006360_cc9e_11ea_97e7_320015ebc5a0row14_col12\" class=\"data row14 col12\" >nan</td>\n",
       "                        <td id=\"T_3a006360_cc9e_11ea_97e7_320015ebc5a0row14_col13\" class=\"data row14 col13\" >nan</td>\n",
       "                        <td id=\"T_3a006360_cc9e_11ea_97e7_320015ebc5a0row14_col14\" class=\"data row14 col14\" >nan</td>\n",
       "                        <td id=\"T_3a006360_cc9e_11ea_97e7_320015ebc5a0row14_col15\" class=\"data row14 col15\" >0.095599</td>\n",
       "                        <td id=\"T_3a006360_cc9e_11ea_97e7_320015ebc5a0row14_col16\" class=\"data row14 col16\" >nan</td>\n",
       "                        <td id=\"T_3a006360_cc9e_11ea_97e7_320015ebc5a0row14_col17\" class=\"data row14 col17\" >0.087308</td>\n",
       "                        <td id=\"T_3a006360_cc9e_11ea_97e7_320015ebc5a0row14_col18\" class=\"data row14 col18\" >nan</td>\n",
       "                        <td id=\"T_3a006360_cc9e_11ea_97e7_320015ebc5a0row14_col19\" class=\"data row14 col19\" >nan</td>\n",
       "                        <td id=\"T_3a006360_cc9e_11ea_97e7_320015ebc5a0row14_col20\" class=\"data row14 col20\" >nan</td>\n",
       "                        <td id=\"T_3a006360_cc9e_11ea_97e7_320015ebc5a0row14_col21\" class=\"data row14 col21\" >-0.071128</td>\n",
       "                        <td id=\"T_3a006360_cc9e_11ea_97e7_320015ebc5a0row14_col22\" class=\"data row14 col22\" >nan</td>\n",
       "                        <td id=\"T_3a006360_cc9e_11ea_97e7_320015ebc5a0row14_col23\" class=\"data row14 col23\" >nan</td>\n",
       "                        <td id=\"T_3a006360_cc9e_11ea_97e7_320015ebc5a0row14_col24\" class=\"data row14 col24\" >nan</td>\n",
       "                        <td id=\"T_3a006360_cc9e_11ea_97e7_320015ebc5a0row14_col25\" class=\"data row14 col25\" >nan</td>\n",
       "                        <td id=\"T_3a006360_cc9e_11ea_97e7_320015ebc5a0row14_col26\" class=\"data row14 col26\" >nan</td>\n",
       "                        <td id=\"T_3a006360_cc9e_11ea_97e7_320015ebc5a0row14_col27\" class=\"data row14 col27\" >nan</td>\n",
       "                        <td id=\"T_3a006360_cc9e_11ea_97e7_320015ebc5a0row14_col28\" class=\"data row14 col28\" >nan</td>\n",
       "                        <td id=\"T_3a006360_cc9e_11ea_97e7_320015ebc5a0row14_col29\" class=\"data row14 col29\" >nan</td>\n",
       "            </tr>\n",
       "            <tr>\n",
       "                        <th id=\"T_3a006360_cc9e_11ea_97e7_320015ebc5a0level0_row15\" class=\"row_heading level0 row15\" >The Guardian</th>\n",
       "                        <td id=\"T_3a006360_cc9e_11ea_97e7_320015ebc5a0row15_col0\" class=\"data row15 col0\" >nan</td>\n",
       "                        <td id=\"T_3a006360_cc9e_11ea_97e7_320015ebc5a0row15_col1\" class=\"data row15 col1\" >nan</td>\n",
       "                        <td id=\"T_3a006360_cc9e_11ea_97e7_320015ebc5a0row15_col2\" class=\"data row15 col2\" >-0.102230</td>\n",
       "                        <td id=\"T_3a006360_cc9e_11ea_97e7_320015ebc5a0row15_col3\" class=\"data row15 col3\" >nan</td>\n",
       "                        <td id=\"T_3a006360_cc9e_11ea_97e7_320015ebc5a0row15_col4\" class=\"data row15 col4\" >nan</td>\n",
       "                        <td id=\"T_3a006360_cc9e_11ea_97e7_320015ebc5a0row15_col5\" class=\"data row15 col5\" >nan</td>\n",
       "                        <td id=\"T_3a006360_cc9e_11ea_97e7_320015ebc5a0row15_col6\" class=\"data row15 col6\" >0.136779</td>\n",
       "                        <td id=\"T_3a006360_cc9e_11ea_97e7_320015ebc5a0row15_col7\" class=\"data row15 col7\" >nan</td>\n",
       "                        <td id=\"T_3a006360_cc9e_11ea_97e7_320015ebc5a0row15_col8\" class=\"data row15 col8\" >nan</td>\n",
       "                        <td id=\"T_3a006360_cc9e_11ea_97e7_320015ebc5a0row15_col9\" class=\"data row15 col9\" >nan</td>\n",
       "                        <td id=\"T_3a006360_cc9e_11ea_97e7_320015ebc5a0row15_col10\" class=\"data row15 col10\" >0.080997</td>\n",
       "                        <td id=\"T_3a006360_cc9e_11ea_97e7_320015ebc5a0row15_col11\" class=\"data row15 col11\" >nan</td>\n",
       "                        <td id=\"T_3a006360_cc9e_11ea_97e7_320015ebc5a0row15_col12\" class=\"data row15 col12\" >nan</td>\n",
       "                        <td id=\"T_3a006360_cc9e_11ea_97e7_320015ebc5a0row15_col13\" class=\"data row15 col13\" >nan</td>\n",
       "                        <td id=\"T_3a006360_cc9e_11ea_97e7_320015ebc5a0row15_col14\" class=\"data row15 col14\" >0.095599</td>\n",
       "                        <td id=\"T_3a006360_cc9e_11ea_97e7_320015ebc5a0row15_col15\" class=\"data row15 col15\" >nan</td>\n",
       "                        <td id=\"T_3a006360_cc9e_11ea_97e7_320015ebc5a0row15_col16\" class=\"data row15 col16\" >0.072685</td>\n",
       "                        <td id=\"T_3a006360_cc9e_11ea_97e7_320015ebc5a0row15_col17\" class=\"data row15 col17\" >nan</td>\n",
       "                        <td id=\"T_3a006360_cc9e_11ea_97e7_320015ebc5a0row15_col18\" class=\"data row15 col18\" >nan</td>\n",
       "                        <td id=\"T_3a006360_cc9e_11ea_97e7_320015ebc5a0row15_col19\" class=\"data row15 col19\" >nan</td>\n",
       "                        <td id=\"T_3a006360_cc9e_11ea_97e7_320015ebc5a0row15_col20\" class=\"data row15 col20\" >nan</td>\n",
       "                        <td id=\"T_3a006360_cc9e_11ea_97e7_320015ebc5a0row15_col21\" class=\"data row15 col21\" >nan</td>\n",
       "                        <td id=\"T_3a006360_cc9e_11ea_97e7_320015ebc5a0row15_col22\" class=\"data row15 col22\" >0.072496</td>\n",
       "                        <td id=\"T_3a006360_cc9e_11ea_97e7_320015ebc5a0row15_col23\" class=\"data row15 col23\" >nan</td>\n",
       "                        <td id=\"T_3a006360_cc9e_11ea_97e7_320015ebc5a0row15_col24\" class=\"data row15 col24\" >0.092427</td>\n",
       "                        <td id=\"T_3a006360_cc9e_11ea_97e7_320015ebc5a0row15_col25\" class=\"data row15 col25\" >0.077000</td>\n",
       "                        <td id=\"T_3a006360_cc9e_11ea_97e7_320015ebc5a0row15_col26\" class=\"data row15 col26\" >nan</td>\n",
       "                        <td id=\"T_3a006360_cc9e_11ea_97e7_320015ebc5a0row15_col27\" class=\"data row15 col27\" >nan</td>\n",
       "                        <td id=\"T_3a006360_cc9e_11ea_97e7_320015ebc5a0row15_col28\" class=\"data row15 col28\" >nan</td>\n",
       "                        <td id=\"T_3a006360_cc9e_11ea_97e7_320015ebc5a0row15_col29\" class=\"data row15 col29\" >0.073602</td>\n",
       "            </tr>\n",
       "            <tr>\n",
       "                        <th id=\"T_3a006360_cc9e_11ea_97e7_320015ebc5a0level0_row16\" class=\"row_heading level0 row16\" >BBC</th>\n",
       "                        <td id=\"T_3a006360_cc9e_11ea_97e7_320015ebc5a0row16_col0\" class=\"data row16 col0\" >0.066861</td>\n",
       "                        <td id=\"T_3a006360_cc9e_11ea_97e7_320015ebc5a0row16_col1\" class=\"data row16 col1\" >nan</td>\n",
       "                        <td id=\"T_3a006360_cc9e_11ea_97e7_320015ebc5a0row16_col2\" class=\"data row16 col2\" >-0.168038</td>\n",
       "                        <td id=\"T_3a006360_cc9e_11ea_97e7_320015ebc5a0row16_col3\" class=\"data row16 col3\" >0.131512</td>\n",
       "                        <td id=\"T_3a006360_cc9e_11ea_97e7_320015ebc5a0row16_col4\" class=\"data row16 col4\" >nan</td>\n",
       "                        <td id=\"T_3a006360_cc9e_11ea_97e7_320015ebc5a0row16_col5\" class=\"data row16 col5\" >nan</td>\n",
       "                        <td id=\"T_3a006360_cc9e_11ea_97e7_320015ebc5a0row16_col6\" class=\"data row16 col6\" >0.179939</td>\n",
       "                        <td id=\"T_3a006360_cc9e_11ea_97e7_320015ebc5a0row16_col7\" class=\"data row16 col7\" >nan</td>\n",
       "                        <td id=\"T_3a006360_cc9e_11ea_97e7_320015ebc5a0row16_col8\" class=\"data row16 col8\" >nan</td>\n",
       "                        <td id=\"T_3a006360_cc9e_11ea_97e7_320015ebc5a0row16_col9\" class=\"data row16 col9\" >nan</td>\n",
       "                        <td id=\"T_3a006360_cc9e_11ea_97e7_320015ebc5a0row16_col10\" class=\"data row16 col10\" >nan</td>\n",
       "                        <td id=\"T_3a006360_cc9e_11ea_97e7_320015ebc5a0row16_col11\" class=\"data row16 col11\" >nan</td>\n",
       "                        <td id=\"T_3a006360_cc9e_11ea_97e7_320015ebc5a0row16_col12\" class=\"data row16 col12\" >nan</td>\n",
       "                        <td id=\"T_3a006360_cc9e_11ea_97e7_320015ebc5a0row16_col13\" class=\"data row16 col13\" >nan</td>\n",
       "                        <td id=\"T_3a006360_cc9e_11ea_97e7_320015ebc5a0row16_col14\" class=\"data row16 col14\" >nan</td>\n",
       "                        <td id=\"T_3a006360_cc9e_11ea_97e7_320015ebc5a0row16_col15\" class=\"data row16 col15\" >0.072685</td>\n",
       "                        <td id=\"T_3a006360_cc9e_11ea_97e7_320015ebc5a0row16_col16\" class=\"data row16 col16\" >nan</td>\n",
       "                        <td id=\"T_3a006360_cc9e_11ea_97e7_320015ebc5a0row16_col17\" class=\"data row16 col17\" >nan</td>\n",
       "                        <td id=\"T_3a006360_cc9e_11ea_97e7_320015ebc5a0row16_col18\" class=\"data row16 col18\" >nan</td>\n",
       "                        <td id=\"T_3a006360_cc9e_11ea_97e7_320015ebc5a0row16_col19\" class=\"data row16 col19\" >0.086614</td>\n",
       "                        <td id=\"T_3a006360_cc9e_11ea_97e7_320015ebc5a0row16_col20\" class=\"data row16 col20\" >nan</td>\n",
       "                        <td id=\"T_3a006360_cc9e_11ea_97e7_320015ebc5a0row16_col21\" class=\"data row16 col21\" >nan</td>\n",
       "                        <td id=\"T_3a006360_cc9e_11ea_97e7_320015ebc5a0row16_col22\" class=\"data row16 col22\" >0.084513</td>\n",
       "                        <td id=\"T_3a006360_cc9e_11ea_97e7_320015ebc5a0row16_col23\" class=\"data row16 col23\" >0.073094</td>\n",
       "                        <td id=\"T_3a006360_cc9e_11ea_97e7_320015ebc5a0row16_col24\" class=\"data row16 col24\" >0.076283</td>\n",
       "                        <td id=\"T_3a006360_cc9e_11ea_97e7_320015ebc5a0row16_col25\" class=\"data row16 col25\" >0.095446</td>\n",
       "                        <td id=\"T_3a006360_cc9e_11ea_97e7_320015ebc5a0row16_col26\" class=\"data row16 col26\" >0.078355</td>\n",
       "                        <td id=\"T_3a006360_cc9e_11ea_97e7_320015ebc5a0row16_col27\" class=\"data row16 col27\" >0.100343</td>\n",
       "                        <td id=\"T_3a006360_cc9e_11ea_97e7_320015ebc5a0row16_col28\" class=\"data row16 col28\" >0.127711</td>\n",
       "                        <td id=\"T_3a006360_cc9e_11ea_97e7_320015ebc5a0row16_col29\" class=\"data row16 col29\" >0.072018</td>\n",
       "            </tr>\n",
       "            <tr>\n",
       "                        <th id=\"T_3a006360_cc9e_11ea_97e7_320015ebc5a0level0_row17\" class=\"row_heading level0 row17\" >Mercatus Center</th>\n",
       "                        <td id=\"T_3a006360_cc9e_11ea_97e7_320015ebc5a0row17_col0\" class=\"data row17 col0\" >nan</td>\n",
       "                        <td id=\"T_3a006360_cc9e_11ea_97e7_320015ebc5a0row17_col1\" class=\"data row17 col1\" >nan</td>\n",
       "                        <td id=\"T_3a006360_cc9e_11ea_97e7_320015ebc5a0row17_col2\" class=\"data row17 col2\" >nan</td>\n",
       "                        <td id=\"T_3a006360_cc9e_11ea_97e7_320015ebc5a0row17_col3\" class=\"data row17 col3\" >0.075461</td>\n",
       "                        <td id=\"T_3a006360_cc9e_11ea_97e7_320015ebc5a0row17_col4\" class=\"data row17 col4\" >nan</td>\n",
       "                        <td id=\"T_3a006360_cc9e_11ea_97e7_320015ebc5a0row17_col5\" class=\"data row17 col5\" >nan</td>\n",
       "                        <td id=\"T_3a006360_cc9e_11ea_97e7_320015ebc5a0row17_col6\" class=\"data row17 col6\" >nan</td>\n",
       "                        <td id=\"T_3a006360_cc9e_11ea_97e7_320015ebc5a0row17_col7\" class=\"data row17 col7\" >nan</td>\n",
       "                        <td id=\"T_3a006360_cc9e_11ea_97e7_320015ebc5a0row17_col8\" class=\"data row17 col8\" >0.087709</td>\n",
       "                        <td id=\"T_3a006360_cc9e_11ea_97e7_320015ebc5a0row17_col9\" class=\"data row17 col9\" >nan</td>\n",
       "                        <td id=\"T_3a006360_cc9e_11ea_97e7_320015ebc5a0row17_col10\" class=\"data row17 col10\" >nan</td>\n",
       "                        <td id=\"T_3a006360_cc9e_11ea_97e7_320015ebc5a0row17_col11\" class=\"data row17 col11\" >nan</td>\n",
       "                        <td id=\"T_3a006360_cc9e_11ea_97e7_320015ebc5a0row17_col12\" class=\"data row17 col12\" >nan</td>\n",
       "                        <td id=\"T_3a006360_cc9e_11ea_97e7_320015ebc5a0row17_col13\" class=\"data row17 col13\" >nan</td>\n",
       "                        <td id=\"T_3a006360_cc9e_11ea_97e7_320015ebc5a0row17_col14\" class=\"data row17 col14\" >0.087308</td>\n",
       "                        <td id=\"T_3a006360_cc9e_11ea_97e7_320015ebc5a0row17_col15\" class=\"data row17 col15\" >nan</td>\n",
       "                        <td id=\"T_3a006360_cc9e_11ea_97e7_320015ebc5a0row17_col16\" class=\"data row17 col16\" >nan</td>\n",
       "                        <td id=\"T_3a006360_cc9e_11ea_97e7_320015ebc5a0row17_col17\" class=\"data row17 col17\" >nan</td>\n",
       "                        <td id=\"T_3a006360_cc9e_11ea_97e7_320015ebc5a0row17_col18\" class=\"data row17 col18\" >0.086740</td>\n",
       "                        <td id=\"T_3a006360_cc9e_11ea_97e7_320015ebc5a0row17_col19\" class=\"data row17 col19\" >nan</td>\n",
       "                        <td id=\"T_3a006360_cc9e_11ea_97e7_320015ebc5a0row17_col20\" class=\"data row17 col20\" >0.086776</td>\n",
       "                        <td id=\"T_3a006360_cc9e_11ea_97e7_320015ebc5a0row17_col21\" class=\"data row17 col21\" >nan</td>\n",
       "                        <td id=\"T_3a006360_cc9e_11ea_97e7_320015ebc5a0row17_col22\" class=\"data row17 col22\" >nan</td>\n",
       "                        <td id=\"T_3a006360_cc9e_11ea_97e7_320015ebc5a0row17_col23\" class=\"data row17 col23\" >nan</td>\n",
       "                        <td id=\"T_3a006360_cc9e_11ea_97e7_320015ebc5a0row17_col24\" class=\"data row17 col24\" >nan</td>\n",
       "                        <td id=\"T_3a006360_cc9e_11ea_97e7_320015ebc5a0row17_col25\" class=\"data row17 col25\" >nan</td>\n",
       "                        <td id=\"T_3a006360_cc9e_11ea_97e7_320015ebc5a0row17_col26\" class=\"data row17 col26\" >nan</td>\n",
       "                        <td id=\"T_3a006360_cc9e_11ea_97e7_320015ebc5a0row17_col27\" class=\"data row17 col27\" >nan</td>\n",
       "                        <td id=\"T_3a006360_cc9e_11ea_97e7_320015ebc5a0row17_col28\" class=\"data row17 col28\" >nan</td>\n",
       "                        <td id=\"T_3a006360_cc9e_11ea_97e7_320015ebc5a0row17_col29\" class=\"data row17 col29\" >nan</td>\n",
       "            </tr>\n",
       "            <tr>\n",
       "                        <th id=\"T_3a006360_cc9e_11ea_97e7_320015ebc5a0level0_row18\" class=\"row_heading level0 row18\" >Time Posted in Epoch</th>\n",
       "                        <td id=\"T_3a006360_cc9e_11ea_97e7_320015ebc5a0row18_col0\" class=\"data row18 col0\" >nan</td>\n",
       "                        <td id=\"T_3a006360_cc9e_11ea_97e7_320015ebc5a0row18_col1\" class=\"data row18 col1\" >0.147359</td>\n",
       "                        <td id=\"T_3a006360_cc9e_11ea_97e7_320015ebc5a0row18_col2\" class=\"data row18 col2\" >0.099514</td>\n",
       "                        <td id=\"T_3a006360_cc9e_11ea_97e7_320015ebc5a0row18_col3\" class=\"data row18 col3\" >0.091219</td>\n",
       "                        <td id=\"T_3a006360_cc9e_11ea_97e7_320015ebc5a0row18_col4\" class=\"data row18 col4\" >-0.105142</td>\n",
       "                        <td id=\"T_3a006360_cc9e_11ea_97e7_320015ebc5a0row18_col5\" class=\"data row18 col5\" >0.093537</td>\n",
       "                        <td id=\"T_3a006360_cc9e_11ea_97e7_320015ebc5a0row18_col6\" class=\"data row18 col6\" >nan</td>\n",
       "                        <td id=\"T_3a006360_cc9e_11ea_97e7_320015ebc5a0row18_col7\" class=\"data row18 col7\" >nan</td>\n",
       "                        <td id=\"T_3a006360_cc9e_11ea_97e7_320015ebc5a0row18_col8\" class=\"data row18 col8\" >nan</td>\n",
       "                        <td id=\"T_3a006360_cc9e_11ea_97e7_320015ebc5a0row18_col9\" class=\"data row18 col9\" >nan</td>\n",
       "                        <td id=\"T_3a006360_cc9e_11ea_97e7_320015ebc5a0row18_col10\" class=\"data row18 col10\" >nan</td>\n",
       "                        <td id=\"T_3a006360_cc9e_11ea_97e7_320015ebc5a0row18_col11\" class=\"data row18 col11\" >nan</td>\n",
       "                        <td id=\"T_3a006360_cc9e_11ea_97e7_320015ebc5a0row18_col12\" class=\"data row18 col12\" >nan</td>\n",
       "                        <td id=\"T_3a006360_cc9e_11ea_97e7_320015ebc5a0row18_col13\" class=\"data row18 col13\" >nan</td>\n",
       "                        <td id=\"T_3a006360_cc9e_11ea_97e7_320015ebc5a0row18_col14\" class=\"data row18 col14\" >nan</td>\n",
       "                        <td id=\"T_3a006360_cc9e_11ea_97e7_320015ebc5a0row18_col15\" class=\"data row18 col15\" >nan</td>\n",
       "                        <td id=\"T_3a006360_cc9e_11ea_97e7_320015ebc5a0row18_col16\" class=\"data row18 col16\" >nan</td>\n",
       "                        <td id=\"T_3a006360_cc9e_11ea_97e7_320015ebc5a0row18_col17\" class=\"data row18 col17\" >0.086740</td>\n",
       "                        <td id=\"T_3a006360_cc9e_11ea_97e7_320015ebc5a0row18_col18\" class=\"data row18 col18\" >nan</td>\n",
       "                        <td id=\"T_3a006360_cc9e_11ea_97e7_320015ebc5a0row18_col19\" class=\"data row18 col19\" >nan</td>\n",
       "                        <td id=\"T_3a006360_cc9e_11ea_97e7_320015ebc5a0row18_col20\" class=\"data row18 col20\" >1.000000</td>\n",
       "                        <td id=\"T_3a006360_cc9e_11ea_97e7_320015ebc5a0row18_col21\" class=\"data row18 col21\" >-0.164900</td>\n",
       "                        <td id=\"T_3a006360_cc9e_11ea_97e7_320015ebc5a0row18_col22\" class=\"data row18 col22\" >nan</td>\n",
       "                        <td id=\"T_3a006360_cc9e_11ea_97e7_320015ebc5a0row18_col23\" class=\"data row18 col23\" >nan</td>\n",
       "                        <td id=\"T_3a006360_cc9e_11ea_97e7_320015ebc5a0row18_col24\" class=\"data row18 col24\" >nan</td>\n",
       "                        <td id=\"T_3a006360_cc9e_11ea_97e7_320015ebc5a0row18_col25\" class=\"data row18 col25\" >nan</td>\n",
       "                        <td id=\"T_3a006360_cc9e_11ea_97e7_320015ebc5a0row18_col26\" class=\"data row18 col26\" >nan</td>\n",
       "                        <td id=\"T_3a006360_cc9e_11ea_97e7_320015ebc5a0row18_col27\" class=\"data row18 col27\" >nan</td>\n",
       "                        <td id=\"T_3a006360_cc9e_11ea_97e7_320015ebc5a0row18_col28\" class=\"data row18 col28\" >-0.066683</td>\n",
       "                        <td id=\"T_3a006360_cc9e_11ea_97e7_320015ebc5a0row18_col29\" class=\"data row18 col29\" >nan</td>\n",
       "            </tr>\n",
       "            <tr>\n",
       "                        <th id=\"T_3a006360_cc9e_11ea_97e7_320015ebc5a0level0_row19\" class=\"row_heading level0 row19\" >Time Posted Since Midnight</th>\n",
       "                        <td id=\"T_3a006360_cc9e_11ea_97e7_320015ebc5a0row19_col0\" class=\"data row19 col0\" >nan</td>\n",
       "                        <td id=\"T_3a006360_cc9e_11ea_97e7_320015ebc5a0row19_col1\" class=\"data row19 col1\" >nan</td>\n",
       "                        <td id=\"T_3a006360_cc9e_11ea_97e7_320015ebc5a0row19_col2\" class=\"data row19 col2\" >-0.411256</td>\n",
       "                        <td id=\"T_3a006360_cc9e_11ea_97e7_320015ebc5a0row19_col3\" class=\"data row19 col3\" >0.088481</td>\n",
       "                        <td id=\"T_3a006360_cc9e_11ea_97e7_320015ebc5a0row19_col4\" class=\"data row19 col4\" >-0.146163</td>\n",
       "                        <td id=\"T_3a006360_cc9e_11ea_97e7_320015ebc5a0row19_col5\" class=\"data row19 col5\" >-0.099712</td>\n",
       "                        <td id=\"T_3a006360_cc9e_11ea_97e7_320015ebc5a0row19_col6\" class=\"data row19 col6\" >0.119606</td>\n",
       "                        <td id=\"T_3a006360_cc9e_11ea_97e7_320015ebc5a0row19_col7\" class=\"data row19 col7\" >nan</td>\n",
       "                        <td id=\"T_3a006360_cc9e_11ea_97e7_320015ebc5a0row19_col8\" class=\"data row19 col8\" >0.114585</td>\n",
       "                        <td id=\"T_3a006360_cc9e_11ea_97e7_320015ebc5a0row19_col9\" class=\"data row19 col9\" >nan</td>\n",
       "                        <td id=\"T_3a006360_cc9e_11ea_97e7_320015ebc5a0row19_col10\" class=\"data row19 col10\" >nan</td>\n",
       "                        <td id=\"T_3a006360_cc9e_11ea_97e7_320015ebc5a0row19_col11\" class=\"data row19 col11\" >0.071145</td>\n",
       "                        <td id=\"T_3a006360_cc9e_11ea_97e7_320015ebc5a0row19_col12\" class=\"data row19 col12\" >nan</td>\n",
       "                        <td id=\"T_3a006360_cc9e_11ea_97e7_320015ebc5a0row19_col13\" class=\"data row19 col13\" >nan</td>\n",
       "                        <td id=\"T_3a006360_cc9e_11ea_97e7_320015ebc5a0row19_col14\" class=\"data row19 col14\" >nan</td>\n",
       "                        <td id=\"T_3a006360_cc9e_11ea_97e7_320015ebc5a0row19_col15\" class=\"data row19 col15\" >nan</td>\n",
       "                        <td id=\"T_3a006360_cc9e_11ea_97e7_320015ebc5a0row19_col16\" class=\"data row19 col16\" >0.086614</td>\n",
       "                        <td id=\"T_3a006360_cc9e_11ea_97e7_320015ebc5a0row19_col17\" class=\"data row19 col17\" >nan</td>\n",
       "                        <td id=\"T_3a006360_cc9e_11ea_97e7_320015ebc5a0row19_col18\" class=\"data row19 col18\" >nan</td>\n",
       "                        <td id=\"T_3a006360_cc9e_11ea_97e7_320015ebc5a0row19_col19\" class=\"data row19 col19\" >nan</td>\n",
       "                        <td id=\"T_3a006360_cc9e_11ea_97e7_320015ebc5a0row19_col20\" class=\"data row19 col20\" >nan</td>\n",
       "                        <td id=\"T_3a006360_cc9e_11ea_97e7_320015ebc5a0row19_col21\" class=\"data row19 col21\" >-0.243497</td>\n",
       "                        <td id=\"T_3a006360_cc9e_11ea_97e7_320015ebc5a0row19_col22\" class=\"data row19 col22\" >0.150397</td>\n",
       "                        <td id=\"T_3a006360_cc9e_11ea_97e7_320015ebc5a0row19_col23\" class=\"data row19 col23\" >0.139243</td>\n",
       "                        <td id=\"T_3a006360_cc9e_11ea_97e7_320015ebc5a0row19_col24\" class=\"data row19 col24\" >0.133541</td>\n",
       "                        <td id=\"T_3a006360_cc9e_11ea_97e7_320015ebc5a0row19_col25\" class=\"data row19 col25\" >0.160093</td>\n",
       "                        <td id=\"T_3a006360_cc9e_11ea_97e7_320015ebc5a0row19_col26\" class=\"data row19 col26\" >0.161145</td>\n",
       "                        <td id=\"T_3a006360_cc9e_11ea_97e7_320015ebc5a0row19_col27\" class=\"data row19 col27\" >0.204593</td>\n",
       "                        <td id=\"T_3a006360_cc9e_11ea_97e7_320015ebc5a0row19_col28\" class=\"data row19 col28\" >0.164017</td>\n",
       "                        <td id=\"T_3a006360_cc9e_11ea_97e7_320015ebc5a0row19_col29\" class=\"data row19 col29\" >0.219647</td>\n",
       "            </tr>\n",
       "            <tr>\n",
       "                        <th id=\"T_3a006360_cc9e_11ea_97e7_320015ebc5a0level0_row20\" class=\"row_heading level0 row20\" >First Comment Time in Epoch</th>\n",
       "                        <td id=\"T_3a006360_cc9e_11ea_97e7_320015ebc5a0row20_col0\" class=\"data row20 col0\" >nan</td>\n",
       "                        <td id=\"T_3a006360_cc9e_11ea_97e7_320015ebc5a0row20_col1\" class=\"data row20 col1\" >0.147299</td>\n",
       "                        <td id=\"T_3a006360_cc9e_11ea_97e7_320015ebc5a0row20_col2\" class=\"data row20 col2\" >0.099521</td>\n",
       "                        <td id=\"T_3a006360_cc9e_11ea_97e7_320015ebc5a0row20_col3\" class=\"data row20 col3\" >0.091215</td>\n",
       "                        <td id=\"T_3a006360_cc9e_11ea_97e7_320015ebc5a0row20_col4\" class=\"data row20 col4\" >-0.105112</td>\n",
       "                        <td id=\"T_3a006360_cc9e_11ea_97e7_320015ebc5a0row20_col5\" class=\"data row20 col5\" >0.093537</td>\n",
       "                        <td id=\"T_3a006360_cc9e_11ea_97e7_320015ebc5a0row20_col6\" class=\"data row20 col6\" >nan</td>\n",
       "                        <td id=\"T_3a006360_cc9e_11ea_97e7_320015ebc5a0row20_col7\" class=\"data row20 col7\" >nan</td>\n",
       "                        <td id=\"T_3a006360_cc9e_11ea_97e7_320015ebc5a0row20_col8\" class=\"data row20 col8\" >nan</td>\n",
       "                        <td id=\"T_3a006360_cc9e_11ea_97e7_320015ebc5a0row20_col9\" class=\"data row20 col9\" >nan</td>\n",
       "                        <td id=\"T_3a006360_cc9e_11ea_97e7_320015ebc5a0row20_col10\" class=\"data row20 col10\" >nan</td>\n",
       "                        <td id=\"T_3a006360_cc9e_11ea_97e7_320015ebc5a0row20_col11\" class=\"data row20 col11\" >nan</td>\n",
       "                        <td id=\"T_3a006360_cc9e_11ea_97e7_320015ebc5a0row20_col12\" class=\"data row20 col12\" >nan</td>\n",
       "                        <td id=\"T_3a006360_cc9e_11ea_97e7_320015ebc5a0row20_col13\" class=\"data row20 col13\" >nan</td>\n",
       "                        <td id=\"T_3a006360_cc9e_11ea_97e7_320015ebc5a0row20_col14\" class=\"data row20 col14\" >nan</td>\n",
       "                        <td id=\"T_3a006360_cc9e_11ea_97e7_320015ebc5a0row20_col15\" class=\"data row20 col15\" >nan</td>\n",
       "                        <td id=\"T_3a006360_cc9e_11ea_97e7_320015ebc5a0row20_col16\" class=\"data row20 col16\" >nan</td>\n",
       "                        <td id=\"T_3a006360_cc9e_11ea_97e7_320015ebc5a0row20_col17\" class=\"data row20 col17\" >0.086776</td>\n",
       "                        <td id=\"T_3a006360_cc9e_11ea_97e7_320015ebc5a0row20_col18\" class=\"data row20 col18\" >1.000000</td>\n",
       "                        <td id=\"T_3a006360_cc9e_11ea_97e7_320015ebc5a0row20_col19\" class=\"data row20 col19\" >nan</td>\n",
       "                        <td id=\"T_3a006360_cc9e_11ea_97e7_320015ebc5a0row20_col20\" class=\"data row20 col20\" >nan</td>\n",
       "                        <td id=\"T_3a006360_cc9e_11ea_97e7_320015ebc5a0row20_col21\" class=\"data row20 col21\" >-0.164801</td>\n",
       "                        <td id=\"T_3a006360_cc9e_11ea_97e7_320015ebc5a0row20_col22\" class=\"data row20 col22\" >nan</td>\n",
       "                        <td id=\"T_3a006360_cc9e_11ea_97e7_320015ebc5a0row20_col23\" class=\"data row20 col23\" >nan</td>\n",
       "                        <td id=\"T_3a006360_cc9e_11ea_97e7_320015ebc5a0row20_col24\" class=\"data row20 col24\" >nan</td>\n",
       "                        <td id=\"T_3a006360_cc9e_11ea_97e7_320015ebc5a0row20_col25\" class=\"data row20 col25\" >nan</td>\n",
       "                        <td id=\"T_3a006360_cc9e_11ea_97e7_320015ebc5a0row20_col26\" class=\"data row20 col26\" >nan</td>\n",
       "                        <td id=\"T_3a006360_cc9e_11ea_97e7_320015ebc5a0row20_col27\" class=\"data row20 col27\" >nan</td>\n",
       "                        <td id=\"T_3a006360_cc9e_11ea_97e7_320015ebc5a0row20_col28\" class=\"data row20 col28\" >-0.066701</td>\n",
       "                        <td id=\"T_3a006360_cc9e_11ea_97e7_320015ebc5a0row20_col29\" class=\"data row20 col29\" >nan</td>\n",
       "            </tr>\n",
       "            <tr>\n",
       "                        <th id=\"T_3a006360_cc9e_11ea_97e7_320015ebc5a0level0_row21\" class=\"row_heading level0 row21\" >First Response Since Post</th>\n",
       "                        <td id=\"T_3a006360_cc9e_11ea_97e7_320015ebc5a0row21_col0\" class=\"data row21 col0\" >nan</td>\n",
       "                        <td id=\"T_3a006360_cc9e_11ea_97e7_320015ebc5a0row21_col1\" class=\"data row21 col1\" >-0.324402</td>\n",
       "                        <td id=\"T_3a006360_cc9e_11ea_97e7_320015ebc5a0row21_col2\" class=\"data row21 col2\" >nan</td>\n",
       "                        <td id=\"T_3a006360_cc9e_11ea_97e7_320015ebc5a0row21_col3\" class=\"data row21 col3\" >-0.101173</td>\n",
       "                        <td id=\"T_3a006360_cc9e_11ea_97e7_320015ebc5a0row21_col4\" class=\"data row21 col4\" >0.119919</td>\n",
       "                        <td id=\"T_3a006360_cc9e_11ea_97e7_320015ebc5a0row21_col5\" class=\"data row21 col5\" >nan</td>\n",
       "                        <td id=\"T_3a006360_cc9e_11ea_97e7_320015ebc5a0row21_col6\" class=\"data row21 col6\" >-0.077881</td>\n",
       "                        <td id=\"T_3a006360_cc9e_11ea_97e7_320015ebc5a0row21_col7\" class=\"data row21 col7\" >-0.095729</td>\n",
       "                        <td id=\"T_3a006360_cc9e_11ea_97e7_320015ebc5a0row21_col8\" class=\"data row21 col8\" >-0.089016</td>\n",
       "                        <td id=\"T_3a006360_cc9e_11ea_97e7_320015ebc5a0row21_col9\" class=\"data row21 col9\" >nan</td>\n",
       "                        <td id=\"T_3a006360_cc9e_11ea_97e7_320015ebc5a0row21_col10\" class=\"data row21 col10\" >nan</td>\n",
       "                        <td id=\"T_3a006360_cc9e_11ea_97e7_320015ebc5a0row21_col11\" class=\"data row21 col11\" >nan</td>\n",
       "                        <td id=\"T_3a006360_cc9e_11ea_97e7_320015ebc5a0row21_col12\" class=\"data row21 col12\" >nan</td>\n",
       "                        <td id=\"T_3a006360_cc9e_11ea_97e7_320015ebc5a0row21_col13\" class=\"data row21 col13\" >nan</td>\n",
       "                        <td id=\"T_3a006360_cc9e_11ea_97e7_320015ebc5a0row21_col14\" class=\"data row21 col14\" >-0.071128</td>\n",
       "                        <td id=\"T_3a006360_cc9e_11ea_97e7_320015ebc5a0row21_col15\" class=\"data row21 col15\" >nan</td>\n",
       "                        <td id=\"T_3a006360_cc9e_11ea_97e7_320015ebc5a0row21_col16\" class=\"data row21 col16\" >nan</td>\n",
       "                        <td id=\"T_3a006360_cc9e_11ea_97e7_320015ebc5a0row21_col17\" class=\"data row21 col17\" >nan</td>\n",
       "                        <td id=\"T_3a006360_cc9e_11ea_97e7_320015ebc5a0row21_col18\" class=\"data row21 col18\" >-0.164900</td>\n",
       "                        <td id=\"T_3a006360_cc9e_11ea_97e7_320015ebc5a0row21_col19\" class=\"data row21 col19\" >-0.243497</td>\n",
       "                        <td id=\"T_3a006360_cc9e_11ea_97e7_320015ebc5a0row21_col20\" class=\"data row21 col20\" >-0.164801</td>\n",
       "                        <td id=\"T_3a006360_cc9e_11ea_97e7_320015ebc5a0row21_col21\" class=\"data row21 col21\" >nan</td>\n",
       "                        <td id=\"T_3a006360_cc9e_11ea_97e7_320015ebc5a0row21_col22\" class=\"data row21 col22\" >nan</td>\n",
       "                        <td id=\"T_3a006360_cc9e_11ea_97e7_320015ebc5a0row21_col23\" class=\"data row21 col23\" >nan</td>\n",
       "                        <td id=\"T_3a006360_cc9e_11ea_97e7_320015ebc5a0row21_col24\" class=\"data row21 col24\" >nan</td>\n",
       "                        <td id=\"T_3a006360_cc9e_11ea_97e7_320015ebc5a0row21_col25\" class=\"data row21 col25\" >-0.071815</td>\n",
       "                        <td id=\"T_3a006360_cc9e_11ea_97e7_320015ebc5a0row21_col26\" class=\"data row21 col26\" >-0.074324</td>\n",
       "                        <td id=\"T_3a006360_cc9e_11ea_97e7_320015ebc5a0row21_col27\" class=\"data row21 col27\" >nan</td>\n",
       "                        <td id=\"T_3a006360_cc9e_11ea_97e7_320015ebc5a0row21_col28\" class=\"data row21 col28\" >nan</td>\n",
       "                        <td id=\"T_3a006360_cc9e_11ea_97e7_320015ebc5a0row21_col29\" class=\"data row21 col29\" >-0.082399</td>\n",
       "            </tr>\n",
       "            <tr>\n",
       "                        <th id=\"T_3a006360_cc9e_11ea_97e7_320015ebc5a0level0_row22\" class=\"row_heading level0 row22\" >Topic 0</th>\n",
       "                        <td id=\"T_3a006360_cc9e_11ea_97e7_320015ebc5a0row22_col0\" class=\"data row22 col0\" >nan</td>\n",
       "                        <td id=\"T_3a006360_cc9e_11ea_97e7_320015ebc5a0row22_col1\" class=\"data row22 col1\" >nan</td>\n",
       "                        <td id=\"T_3a006360_cc9e_11ea_97e7_320015ebc5a0row22_col2\" class=\"data row22 col2\" >-0.409523</td>\n",
       "                        <td id=\"T_3a006360_cc9e_11ea_97e7_320015ebc5a0row22_col3\" class=\"data row22 col3\" >0.147622</td>\n",
       "                        <td id=\"T_3a006360_cc9e_11ea_97e7_320015ebc5a0row22_col4\" class=\"data row22 col4\" >nan</td>\n",
       "                        <td id=\"T_3a006360_cc9e_11ea_97e7_320015ebc5a0row22_col5\" class=\"data row22 col5\" >nan</td>\n",
       "                        <td id=\"T_3a006360_cc9e_11ea_97e7_320015ebc5a0row22_col6\" class=\"data row22 col6\" >0.130370</td>\n",
       "                        <td id=\"T_3a006360_cc9e_11ea_97e7_320015ebc5a0row22_col7\" class=\"data row22 col7\" >nan</td>\n",
       "                        <td id=\"T_3a006360_cc9e_11ea_97e7_320015ebc5a0row22_col8\" class=\"data row22 col8\" >0.117085</td>\n",
       "                        <td id=\"T_3a006360_cc9e_11ea_97e7_320015ebc5a0row22_col9\" class=\"data row22 col9\" >nan</td>\n",
       "                        <td id=\"T_3a006360_cc9e_11ea_97e7_320015ebc5a0row22_col10\" class=\"data row22 col10\" >nan</td>\n",
       "                        <td id=\"T_3a006360_cc9e_11ea_97e7_320015ebc5a0row22_col11\" class=\"data row22 col11\" >0.076278</td>\n",
       "                        <td id=\"T_3a006360_cc9e_11ea_97e7_320015ebc5a0row22_col12\" class=\"data row22 col12\" >nan</td>\n",
       "                        <td id=\"T_3a006360_cc9e_11ea_97e7_320015ebc5a0row22_col13\" class=\"data row22 col13\" >nan</td>\n",
       "                        <td id=\"T_3a006360_cc9e_11ea_97e7_320015ebc5a0row22_col14\" class=\"data row22 col14\" >nan</td>\n",
       "                        <td id=\"T_3a006360_cc9e_11ea_97e7_320015ebc5a0row22_col15\" class=\"data row22 col15\" >0.072496</td>\n",
       "                        <td id=\"T_3a006360_cc9e_11ea_97e7_320015ebc5a0row22_col16\" class=\"data row22 col16\" >0.084513</td>\n",
       "                        <td id=\"T_3a006360_cc9e_11ea_97e7_320015ebc5a0row22_col17\" class=\"data row22 col17\" >nan</td>\n",
       "                        <td id=\"T_3a006360_cc9e_11ea_97e7_320015ebc5a0row22_col18\" class=\"data row22 col18\" >nan</td>\n",
       "                        <td id=\"T_3a006360_cc9e_11ea_97e7_320015ebc5a0row22_col19\" class=\"data row22 col19\" >0.150397</td>\n",
       "                        <td id=\"T_3a006360_cc9e_11ea_97e7_320015ebc5a0row22_col20\" class=\"data row22 col20\" >nan</td>\n",
       "                        <td id=\"T_3a006360_cc9e_11ea_97e7_320015ebc5a0row22_col21\" class=\"data row22 col21\" >nan</td>\n",
       "                        <td id=\"T_3a006360_cc9e_11ea_97e7_320015ebc5a0row22_col22\" class=\"data row22 col22\" >nan</td>\n",
       "                        <td id=\"T_3a006360_cc9e_11ea_97e7_320015ebc5a0row22_col23\" class=\"data row22 col23\" >0.299062</td>\n",
       "                        <td id=\"T_3a006360_cc9e_11ea_97e7_320015ebc5a0row22_col24\" class=\"data row22 col24\" >0.260295</td>\n",
       "                        <td id=\"T_3a006360_cc9e_11ea_97e7_320015ebc5a0row22_col25\" class=\"data row22 col25\" >0.326774</td>\n",
       "                        <td id=\"T_3a006360_cc9e_11ea_97e7_320015ebc5a0row22_col26\" class=\"data row22 col26\" >0.301790</td>\n",
       "                        <td id=\"T_3a006360_cc9e_11ea_97e7_320015ebc5a0row22_col27\" class=\"data row22 col27\" >0.308310</td>\n",
       "                        <td id=\"T_3a006360_cc9e_11ea_97e7_320015ebc5a0row22_col28\" class=\"data row22 col28\" >0.340366</td>\n",
       "                        <td id=\"T_3a006360_cc9e_11ea_97e7_320015ebc5a0row22_col29\" class=\"data row22 col29\" >0.362823</td>\n",
       "            </tr>\n",
       "            <tr>\n",
       "                        <th id=\"T_3a006360_cc9e_11ea_97e7_320015ebc5a0level0_row23\" class=\"row_heading level0 row23\" >Topic 1</th>\n",
       "                        <td id=\"T_3a006360_cc9e_11ea_97e7_320015ebc5a0row23_col0\" class=\"data row23 col0\" >0.081471</td>\n",
       "                        <td id=\"T_3a006360_cc9e_11ea_97e7_320015ebc5a0row23_col1\" class=\"data row23 col1\" >nan</td>\n",
       "                        <td id=\"T_3a006360_cc9e_11ea_97e7_320015ebc5a0row23_col2\" class=\"data row23 col2\" >-0.347430</td>\n",
       "                        <td id=\"T_3a006360_cc9e_11ea_97e7_320015ebc5a0row23_col3\" class=\"data row23 col3\" >0.157632</td>\n",
       "                        <td id=\"T_3a006360_cc9e_11ea_97e7_320015ebc5a0row23_col4\" class=\"data row23 col4\" >nan</td>\n",
       "                        <td id=\"T_3a006360_cc9e_11ea_97e7_320015ebc5a0row23_col5\" class=\"data row23 col5\" >nan</td>\n",
       "                        <td id=\"T_3a006360_cc9e_11ea_97e7_320015ebc5a0row23_col6\" class=\"data row23 col6\" >0.101375</td>\n",
       "                        <td id=\"T_3a006360_cc9e_11ea_97e7_320015ebc5a0row23_col7\" class=\"data row23 col7\" >nan</td>\n",
       "                        <td id=\"T_3a006360_cc9e_11ea_97e7_320015ebc5a0row23_col8\" class=\"data row23 col8\" >nan</td>\n",
       "                        <td id=\"T_3a006360_cc9e_11ea_97e7_320015ebc5a0row23_col9\" class=\"data row23 col9\" >nan</td>\n",
       "                        <td id=\"T_3a006360_cc9e_11ea_97e7_320015ebc5a0row23_col10\" class=\"data row23 col10\" >nan</td>\n",
       "                        <td id=\"T_3a006360_cc9e_11ea_97e7_320015ebc5a0row23_col11\" class=\"data row23 col11\" >nan</td>\n",
       "                        <td id=\"T_3a006360_cc9e_11ea_97e7_320015ebc5a0row23_col12\" class=\"data row23 col12\" >nan</td>\n",
       "                        <td id=\"T_3a006360_cc9e_11ea_97e7_320015ebc5a0row23_col13\" class=\"data row23 col13\" >nan</td>\n",
       "                        <td id=\"T_3a006360_cc9e_11ea_97e7_320015ebc5a0row23_col14\" class=\"data row23 col14\" >nan</td>\n",
       "                        <td id=\"T_3a006360_cc9e_11ea_97e7_320015ebc5a0row23_col15\" class=\"data row23 col15\" >nan</td>\n",
       "                        <td id=\"T_3a006360_cc9e_11ea_97e7_320015ebc5a0row23_col16\" class=\"data row23 col16\" >0.073094</td>\n",
       "                        <td id=\"T_3a006360_cc9e_11ea_97e7_320015ebc5a0row23_col17\" class=\"data row23 col17\" >nan</td>\n",
       "                        <td id=\"T_3a006360_cc9e_11ea_97e7_320015ebc5a0row23_col18\" class=\"data row23 col18\" >nan</td>\n",
       "                        <td id=\"T_3a006360_cc9e_11ea_97e7_320015ebc5a0row23_col19\" class=\"data row23 col19\" >0.139243</td>\n",
       "                        <td id=\"T_3a006360_cc9e_11ea_97e7_320015ebc5a0row23_col20\" class=\"data row23 col20\" >nan</td>\n",
       "                        <td id=\"T_3a006360_cc9e_11ea_97e7_320015ebc5a0row23_col21\" class=\"data row23 col21\" >nan</td>\n",
       "                        <td id=\"T_3a006360_cc9e_11ea_97e7_320015ebc5a0row23_col22\" class=\"data row23 col22\" >0.299062</td>\n",
       "                        <td id=\"T_3a006360_cc9e_11ea_97e7_320015ebc5a0row23_col23\" class=\"data row23 col23\" >nan</td>\n",
       "                        <td id=\"T_3a006360_cc9e_11ea_97e7_320015ebc5a0row23_col24\" class=\"data row23 col24\" >0.209318</td>\n",
       "                        <td id=\"T_3a006360_cc9e_11ea_97e7_320015ebc5a0row23_col25\" class=\"data row23 col25\" >0.267850</td>\n",
       "                        <td id=\"T_3a006360_cc9e_11ea_97e7_320015ebc5a0row23_col26\" class=\"data row23 col26\" >0.256515</td>\n",
       "                        <td id=\"T_3a006360_cc9e_11ea_97e7_320015ebc5a0row23_col27\" class=\"data row23 col27\" >0.242590</td>\n",
       "                        <td id=\"T_3a006360_cc9e_11ea_97e7_320015ebc5a0row23_col28\" class=\"data row23 col28\" >0.289120</td>\n",
       "                        <td id=\"T_3a006360_cc9e_11ea_97e7_320015ebc5a0row23_col29\" class=\"data row23 col29\" >0.314226</td>\n",
       "            </tr>\n",
       "            <tr>\n",
       "                        <th id=\"T_3a006360_cc9e_11ea_97e7_320015ebc5a0level0_row24\" class=\"row_heading level0 row24\" >Topic 2</th>\n",
       "                        <td id=\"T_3a006360_cc9e_11ea_97e7_320015ebc5a0row24_col0\" class=\"data row24 col0\" >nan</td>\n",
       "                        <td id=\"T_3a006360_cc9e_11ea_97e7_320015ebc5a0row24_col1\" class=\"data row24 col1\" >0.070133</td>\n",
       "                        <td id=\"T_3a006360_cc9e_11ea_97e7_320015ebc5a0row24_col2\" class=\"data row24 col2\" >-0.306825</td>\n",
       "                        <td id=\"T_3a006360_cc9e_11ea_97e7_320015ebc5a0row24_col3\" class=\"data row24 col3\" >0.118841</td>\n",
       "                        <td id=\"T_3a006360_cc9e_11ea_97e7_320015ebc5a0row24_col4\" class=\"data row24 col4\" >nan</td>\n",
       "                        <td id=\"T_3a006360_cc9e_11ea_97e7_320015ebc5a0row24_col5\" class=\"data row24 col5\" >nan</td>\n",
       "                        <td id=\"T_3a006360_cc9e_11ea_97e7_320015ebc5a0row24_col6\" class=\"data row24 col6\" >0.111438</td>\n",
       "                        <td id=\"T_3a006360_cc9e_11ea_97e7_320015ebc5a0row24_col7\" class=\"data row24 col7\" >nan</td>\n",
       "                        <td id=\"T_3a006360_cc9e_11ea_97e7_320015ebc5a0row24_col8\" class=\"data row24 col8\" >0.089740</td>\n",
       "                        <td id=\"T_3a006360_cc9e_11ea_97e7_320015ebc5a0row24_col9\" class=\"data row24 col9\" >nan</td>\n",
       "                        <td id=\"T_3a006360_cc9e_11ea_97e7_320015ebc5a0row24_col10\" class=\"data row24 col10\" >nan</td>\n",
       "                        <td id=\"T_3a006360_cc9e_11ea_97e7_320015ebc5a0row24_col11\" class=\"data row24 col11\" >0.089906</td>\n",
       "                        <td id=\"T_3a006360_cc9e_11ea_97e7_320015ebc5a0row24_col12\" class=\"data row24 col12\" >nan</td>\n",
       "                        <td id=\"T_3a006360_cc9e_11ea_97e7_320015ebc5a0row24_col13\" class=\"data row24 col13\" >nan</td>\n",
       "                        <td id=\"T_3a006360_cc9e_11ea_97e7_320015ebc5a0row24_col14\" class=\"data row24 col14\" >nan</td>\n",
       "                        <td id=\"T_3a006360_cc9e_11ea_97e7_320015ebc5a0row24_col15\" class=\"data row24 col15\" >0.092427</td>\n",
       "                        <td id=\"T_3a006360_cc9e_11ea_97e7_320015ebc5a0row24_col16\" class=\"data row24 col16\" >0.076283</td>\n",
       "                        <td id=\"T_3a006360_cc9e_11ea_97e7_320015ebc5a0row24_col17\" class=\"data row24 col17\" >nan</td>\n",
       "                        <td id=\"T_3a006360_cc9e_11ea_97e7_320015ebc5a0row24_col18\" class=\"data row24 col18\" >nan</td>\n",
       "                        <td id=\"T_3a006360_cc9e_11ea_97e7_320015ebc5a0row24_col19\" class=\"data row24 col19\" >0.133541</td>\n",
       "                        <td id=\"T_3a006360_cc9e_11ea_97e7_320015ebc5a0row24_col20\" class=\"data row24 col20\" >nan</td>\n",
       "                        <td id=\"T_3a006360_cc9e_11ea_97e7_320015ebc5a0row24_col21\" class=\"data row24 col21\" >nan</td>\n",
       "                        <td id=\"T_3a006360_cc9e_11ea_97e7_320015ebc5a0row24_col22\" class=\"data row24 col22\" >0.260295</td>\n",
       "                        <td id=\"T_3a006360_cc9e_11ea_97e7_320015ebc5a0row24_col23\" class=\"data row24 col23\" >0.209318</td>\n",
       "                        <td id=\"T_3a006360_cc9e_11ea_97e7_320015ebc5a0row24_col24\" class=\"data row24 col24\" >nan</td>\n",
       "                        <td id=\"T_3a006360_cc9e_11ea_97e7_320015ebc5a0row24_col25\" class=\"data row24 col25\" >0.237159</td>\n",
       "                        <td id=\"T_3a006360_cc9e_11ea_97e7_320015ebc5a0row24_col26\" class=\"data row24 col26\" >0.209437</td>\n",
       "                        <td id=\"T_3a006360_cc9e_11ea_97e7_320015ebc5a0row24_col27\" class=\"data row24 col27\" >0.218653</td>\n",
       "                        <td id=\"T_3a006360_cc9e_11ea_97e7_320015ebc5a0row24_col28\" class=\"data row24 col28\" >0.251289</td>\n",
       "                        <td id=\"T_3a006360_cc9e_11ea_97e7_320015ebc5a0row24_col29\" class=\"data row24 col29\" >0.282694</td>\n",
       "            </tr>\n",
       "            <tr>\n",
       "                        <th id=\"T_3a006360_cc9e_11ea_97e7_320015ebc5a0level0_row25\" class=\"row_heading level0 row25\" >Topic 3</th>\n",
       "                        <td id=\"T_3a006360_cc9e_11ea_97e7_320015ebc5a0row25_col0\" class=\"data row25 col0\" >0.088863</td>\n",
       "                        <td id=\"T_3a006360_cc9e_11ea_97e7_320015ebc5a0row25_col1\" class=\"data row25 col1\" >nan</td>\n",
       "                        <td id=\"T_3a006360_cc9e_11ea_97e7_320015ebc5a0row25_col2\" class=\"data row25 col2\" >-0.391876</td>\n",
       "                        <td id=\"T_3a006360_cc9e_11ea_97e7_320015ebc5a0row25_col3\" class=\"data row25 col3\" >0.107069</td>\n",
       "                        <td id=\"T_3a006360_cc9e_11ea_97e7_320015ebc5a0row25_col4\" class=\"data row25 col4\" >nan</td>\n",
       "                        <td id=\"T_3a006360_cc9e_11ea_97e7_320015ebc5a0row25_col5\" class=\"data row25 col5\" >-0.085824</td>\n",
       "                        <td id=\"T_3a006360_cc9e_11ea_97e7_320015ebc5a0row25_col6\" class=\"data row25 col6\" >0.096143</td>\n",
       "                        <td id=\"T_3a006360_cc9e_11ea_97e7_320015ebc5a0row25_col7\" class=\"data row25 col7\" >nan</td>\n",
       "                        <td id=\"T_3a006360_cc9e_11ea_97e7_320015ebc5a0row25_col8\" class=\"data row25 col8\" >0.091528</td>\n",
       "                        <td id=\"T_3a006360_cc9e_11ea_97e7_320015ebc5a0row25_col9\" class=\"data row25 col9\" >nan</td>\n",
       "                        <td id=\"T_3a006360_cc9e_11ea_97e7_320015ebc5a0row25_col10\" class=\"data row25 col10\" >nan</td>\n",
       "                        <td id=\"T_3a006360_cc9e_11ea_97e7_320015ebc5a0row25_col11\" class=\"data row25 col11\" >0.074433</td>\n",
       "                        <td id=\"T_3a006360_cc9e_11ea_97e7_320015ebc5a0row25_col12\" class=\"data row25 col12\" >nan</td>\n",
       "                        <td id=\"T_3a006360_cc9e_11ea_97e7_320015ebc5a0row25_col13\" class=\"data row25 col13\" >nan</td>\n",
       "                        <td id=\"T_3a006360_cc9e_11ea_97e7_320015ebc5a0row25_col14\" class=\"data row25 col14\" >nan</td>\n",
       "                        <td id=\"T_3a006360_cc9e_11ea_97e7_320015ebc5a0row25_col15\" class=\"data row25 col15\" >0.077000</td>\n",
       "                        <td id=\"T_3a006360_cc9e_11ea_97e7_320015ebc5a0row25_col16\" class=\"data row25 col16\" >0.095446</td>\n",
       "                        <td id=\"T_3a006360_cc9e_11ea_97e7_320015ebc5a0row25_col17\" class=\"data row25 col17\" >nan</td>\n",
       "                        <td id=\"T_3a006360_cc9e_11ea_97e7_320015ebc5a0row25_col18\" class=\"data row25 col18\" >nan</td>\n",
       "                        <td id=\"T_3a006360_cc9e_11ea_97e7_320015ebc5a0row25_col19\" class=\"data row25 col19\" >0.160093</td>\n",
       "                        <td id=\"T_3a006360_cc9e_11ea_97e7_320015ebc5a0row25_col20\" class=\"data row25 col20\" >nan</td>\n",
       "                        <td id=\"T_3a006360_cc9e_11ea_97e7_320015ebc5a0row25_col21\" class=\"data row25 col21\" >-0.071815</td>\n",
       "                        <td id=\"T_3a006360_cc9e_11ea_97e7_320015ebc5a0row25_col22\" class=\"data row25 col22\" >0.326774</td>\n",
       "                        <td id=\"T_3a006360_cc9e_11ea_97e7_320015ebc5a0row25_col23\" class=\"data row25 col23\" >0.267850</td>\n",
       "                        <td id=\"T_3a006360_cc9e_11ea_97e7_320015ebc5a0row25_col24\" class=\"data row25 col24\" >0.237159</td>\n",
       "                        <td id=\"T_3a006360_cc9e_11ea_97e7_320015ebc5a0row25_col25\" class=\"data row25 col25\" >nan</td>\n",
       "                        <td id=\"T_3a006360_cc9e_11ea_97e7_320015ebc5a0row25_col26\" class=\"data row25 col26\" >0.277642</td>\n",
       "                        <td id=\"T_3a006360_cc9e_11ea_97e7_320015ebc5a0row25_col27\" class=\"data row25 col27\" >0.280284</td>\n",
       "                        <td id=\"T_3a006360_cc9e_11ea_97e7_320015ebc5a0row25_col28\" class=\"data row25 col28\" >0.319934</td>\n",
       "                        <td id=\"T_3a006360_cc9e_11ea_97e7_320015ebc5a0row25_col29\" class=\"data row25 col29\" >0.338328</td>\n",
       "            </tr>\n",
       "            <tr>\n",
       "                        <th id=\"T_3a006360_cc9e_11ea_97e7_320015ebc5a0level0_row26\" class=\"row_heading level0 row26\" >Topic 4</th>\n",
       "                        <td id=\"T_3a006360_cc9e_11ea_97e7_320015ebc5a0row26_col0\" class=\"data row26 col0\" >0.081400</td>\n",
       "                        <td id=\"T_3a006360_cc9e_11ea_97e7_320015ebc5a0row26_col1\" class=\"data row26 col1\" >nan</td>\n",
       "                        <td id=\"T_3a006360_cc9e_11ea_97e7_320015ebc5a0row26_col2\" class=\"data row26 col2\" >-0.356265</td>\n",
       "                        <td id=\"T_3a006360_cc9e_11ea_97e7_320015ebc5a0row26_col3\" class=\"data row26 col3\" >0.095002</td>\n",
       "                        <td id=\"T_3a006360_cc9e_11ea_97e7_320015ebc5a0row26_col4\" class=\"data row26 col4\" >-0.073208</td>\n",
       "                        <td id=\"T_3a006360_cc9e_11ea_97e7_320015ebc5a0row26_col5\" class=\"data row26 col5\" >-0.072622</td>\n",
       "                        <td id=\"T_3a006360_cc9e_11ea_97e7_320015ebc5a0row26_col6\" class=\"data row26 col6\" >0.130598</td>\n",
       "                        <td id=\"T_3a006360_cc9e_11ea_97e7_320015ebc5a0row26_col7\" class=\"data row26 col7\" >nan</td>\n",
       "                        <td id=\"T_3a006360_cc9e_11ea_97e7_320015ebc5a0row26_col8\" class=\"data row26 col8\" >0.100732</td>\n",
       "                        <td id=\"T_3a006360_cc9e_11ea_97e7_320015ebc5a0row26_col9\" class=\"data row26 col9\" >nan</td>\n",
       "                        <td id=\"T_3a006360_cc9e_11ea_97e7_320015ebc5a0row26_col10\" class=\"data row26 col10\" >nan</td>\n",
       "                        <td id=\"T_3a006360_cc9e_11ea_97e7_320015ebc5a0row26_col11\" class=\"data row26 col11\" >0.081818</td>\n",
       "                        <td id=\"T_3a006360_cc9e_11ea_97e7_320015ebc5a0row26_col12\" class=\"data row26 col12\" >nan</td>\n",
       "                        <td id=\"T_3a006360_cc9e_11ea_97e7_320015ebc5a0row26_col13\" class=\"data row26 col13\" >nan</td>\n",
       "                        <td id=\"T_3a006360_cc9e_11ea_97e7_320015ebc5a0row26_col14\" class=\"data row26 col14\" >nan</td>\n",
       "                        <td id=\"T_3a006360_cc9e_11ea_97e7_320015ebc5a0row26_col15\" class=\"data row26 col15\" >nan</td>\n",
       "                        <td id=\"T_3a006360_cc9e_11ea_97e7_320015ebc5a0row26_col16\" class=\"data row26 col16\" >0.078355</td>\n",
       "                        <td id=\"T_3a006360_cc9e_11ea_97e7_320015ebc5a0row26_col17\" class=\"data row26 col17\" >nan</td>\n",
       "                        <td id=\"T_3a006360_cc9e_11ea_97e7_320015ebc5a0row26_col18\" class=\"data row26 col18\" >nan</td>\n",
       "                        <td id=\"T_3a006360_cc9e_11ea_97e7_320015ebc5a0row26_col19\" class=\"data row26 col19\" >0.161145</td>\n",
       "                        <td id=\"T_3a006360_cc9e_11ea_97e7_320015ebc5a0row26_col20\" class=\"data row26 col20\" >nan</td>\n",
       "                        <td id=\"T_3a006360_cc9e_11ea_97e7_320015ebc5a0row26_col21\" class=\"data row26 col21\" >-0.074324</td>\n",
       "                        <td id=\"T_3a006360_cc9e_11ea_97e7_320015ebc5a0row26_col22\" class=\"data row26 col22\" >0.301790</td>\n",
       "                        <td id=\"T_3a006360_cc9e_11ea_97e7_320015ebc5a0row26_col23\" class=\"data row26 col23\" >0.256515</td>\n",
       "                        <td id=\"T_3a006360_cc9e_11ea_97e7_320015ebc5a0row26_col24\" class=\"data row26 col24\" >0.209437</td>\n",
       "                        <td id=\"T_3a006360_cc9e_11ea_97e7_320015ebc5a0row26_col25\" class=\"data row26 col25\" >0.277642</td>\n",
       "                        <td id=\"T_3a006360_cc9e_11ea_97e7_320015ebc5a0row26_col26\" class=\"data row26 col26\" >nan</td>\n",
       "                        <td id=\"T_3a006360_cc9e_11ea_97e7_320015ebc5a0row26_col27\" class=\"data row26 col27\" >0.262628</td>\n",
       "                        <td id=\"T_3a006360_cc9e_11ea_97e7_320015ebc5a0row26_col28\" class=\"data row26 col28\" >0.294956</td>\n",
       "                        <td id=\"T_3a006360_cc9e_11ea_97e7_320015ebc5a0row26_col29\" class=\"data row26 col29\" >0.320561</td>\n",
       "            </tr>\n",
       "            <tr>\n",
       "                        <th id=\"T_3a006360_cc9e_11ea_97e7_320015ebc5a0level0_row27\" class=\"row_heading level0 row27\" >Topic 5</th>\n",
       "                        <td id=\"T_3a006360_cc9e_11ea_97e7_320015ebc5a0row27_col0\" class=\"data row27 col0\" >0.102833</td>\n",
       "                        <td id=\"T_3a006360_cc9e_11ea_97e7_320015ebc5a0row27_col1\" class=\"data row27 col1\" >nan</td>\n",
       "                        <td id=\"T_3a006360_cc9e_11ea_97e7_320015ebc5a0row27_col2\" class=\"data row27 col2\" >-0.383698</td>\n",
       "                        <td id=\"T_3a006360_cc9e_11ea_97e7_320015ebc5a0row27_col3\" class=\"data row27 col3\" >0.111713</td>\n",
       "                        <td id=\"T_3a006360_cc9e_11ea_97e7_320015ebc5a0row27_col4\" class=\"data row27 col4\" >nan</td>\n",
       "                        <td id=\"T_3a006360_cc9e_11ea_97e7_320015ebc5a0row27_col5\" class=\"data row27 col5\" >-0.093643</td>\n",
       "                        <td id=\"T_3a006360_cc9e_11ea_97e7_320015ebc5a0row27_col6\" class=\"data row27 col6\" >0.117761</td>\n",
       "                        <td id=\"T_3a006360_cc9e_11ea_97e7_320015ebc5a0row27_col7\" class=\"data row27 col7\" >nan</td>\n",
       "                        <td id=\"T_3a006360_cc9e_11ea_97e7_320015ebc5a0row27_col8\" class=\"data row27 col8\" >0.091057</td>\n",
       "                        <td id=\"T_3a006360_cc9e_11ea_97e7_320015ebc5a0row27_col9\" class=\"data row27 col9\" >nan</td>\n",
       "                        <td id=\"T_3a006360_cc9e_11ea_97e7_320015ebc5a0row27_col10\" class=\"data row27 col10\" >nan</td>\n",
       "                        <td id=\"T_3a006360_cc9e_11ea_97e7_320015ebc5a0row27_col11\" class=\"data row27 col11\" >nan</td>\n",
       "                        <td id=\"T_3a006360_cc9e_11ea_97e7_320015ebc5a0row27_col12\" class=\"data row27 col12\" >nan</td>\n",
       "                        <td id=\"T_3a006360_cc9e_11ea_97e7_320015ebc5a0row27_col13\" class=\"data row27 col13\" >nan</td>\n",
       "                        <td id=\"T_3a006360_cc9e_11ea_97e7_320015ebc5a0row27_col14\" class=\"data row27 col14\" >nan</td>\n",
       "                        <td id=\"T_3a006360_cc9e_11ea_97e7_320015ebc5a0row27_col15\" class=\"data row27 col15\" >nan</td>\n",
       "                        <td id=\"T_3a006360_cc9e_11ea_97e7_320015ebc5a0row27_col16\" class=\"data row27 col16\" >0.100343</td>\n",
       "                        <td id=\"T_3a006360_cc9e_11ea_97e7_320015ebc5a0row27_col17\" class=\"data row27 col17\" >nan</td>\n",
       "                        <td id=\"T_3a006360_cc9e_11ea_97e7_320015ebc5a0row27_col18\" class=\"data row27 col18\" >nan</td>\n",
       "                        <td id=\"T_3a006360_cc9e_11ea_97e7_320015ebc5a0row27_col19\" class=\"data row27 col19\" >0.204593</td>\n",
       "                        <td id=\"T_3a006360_cc9e_11ea_97e7_320015ebc5a0row27_col20\" class=\"data row27 col20\" >nan</td>\n",
       "                        <td id=\"T_3a006360_cc9e_11ea_97e7_320015ebc5a0row27_col21\" class=\"data row27 col21\" >nan</td>\n",
       "                        <td id=\"T_3a006360_cc9e_11ea_97e7_320015ebc5a0row27_col22\" class=\"data row27 col22\" >0.308310</td>\n",
       "                        <td id=\"T_3a006360_cc9e_11ea_97e7_320015ebc5a0row27_col23\" class=\"data row27 col23\" >0.242590</td>\n",
       "                        <td id=\"T_3a006360_cc9e_11ea_97e7_320015ebc5a0row27_col24\" class=\"data row27 col24\" >0.218653</td>\n",
       "                        <td id=\"T_3a006360_cc9e_11ea_97e7_320015ebc5a0row27_col25\" class=\"data row27 col25\" >0.280284</td>\n",
       "                        <td id=\"T_3a006360_cc9e_11ea_97e7_320015ebc5a0row27_col26\" class=\"data row27 col26\" >0.262628</td>\n",
       "                        <td id=\"T_3a006360_cc9e_11ea_97e7_320015ebc5a0row27_col27\" class=\"data row27 col27\" >nan</td>\n",
       "                        <td id=\"T_3a006360_cc9e_11ea_97e7_320015ebc5a0row27_col28\" class=\"data row27 col28\" >0.298198</td>\n",
       "                        <td id=\"T_3a006360_cc9e_11ea_97e7_320015ebc5a0row27_col29\" class=\"data row27 col29\" >0.319601</td>\n",
       "            </tr>\n",
       "            <tr>\n",
       "                        <th id=\"T_3a006360_cc9e_11ea_97e7_320015ebc5a0level0_row28\" class=\"row_heading level0 row28\" >Topic 6</th>\n",
       "                        <td id=\"T_3a006360_cc9e_11ea_97e7_320015ebc5a0row28_col0\" class=\"data row28 col0\" >nan</td>\n",
       "                        <td id=\"T_3a006360_cc9e_11ea_97e7_320015ebc5a0row28_col1\" class=\"data row28 col1\" >0.075008</td>\n",
       "                        <td id=\"T_3a006360_cc9e_11ea_97e7_320015ebc5a0row28_col2\" class=\"data row28 col2\" >-0.407643</td>\n",
       "                        <td id=\"T_3a006360_cc9e_11ea_97e7_320015ebc5a0row28_col3\" class=\"data row28 col3\" >0.136994</td>\n",
       "                        <td id=\"T_3a006360_cc9e_11ea_97e7_320015ebc5a0row28_col4\" class=\"data row28 col4\" >nan</td>\n",
       "                        <td id=\"T_3a006360_cc9e_11ea_97e7_320015ebc5a0row28_col5\" class=\"data row28 col5\" >nan</td>\n",
       "                        <td id=\"T_3a006360_cc9e_11ea_97e7_320015ebc5a0row28_col6\" class=\"data row28 col6\" >0.114993</td>\n",
       "                        <td id=\"T_3a006360_cc9e_11ea_97e7_320015ebc5a0row28_col7\" class=\"data row28 col7\" >nan</td>\n",
       "                        <td id=\"T_3a006360_cc9e_11ea_97e7_320015ebc5a0row28_col8\" class=\"data row28 col8\" >0.131738</td>\n",
       "                        <td id=\"T_3a006360_cc9e_11ea_97e7_320015ebc5a0row28_col9\" class=\"data row28 col9\" >nan</td>\n",
       "                        <td id=\"T_3a006360_cc9e_11ea_97e7_320015ebc5a0row28_col10\" class=\"data row28 col10\" >nan</td>\n",
       "                        <td id=\"T_3a006360_cc9e_11ea_97e7_320015ebc5a0row28_col11\" class=\"data row28 col11\" >nan</td>\n",
       "                        <td id=\"T_3a006360_cc9e_11ea_97e7_320015ebc5a0row28_col12\" class=\"data row28 col12\" >nan</td>\n",
       "                        <td id=\"T_3a006360_cc9e_11ea_97e7_320015ebc5a0row28_col13\" class=\"data row28 col13\" >nan</td>\n",
       "                        <td id=\"T_3a006360_cc9e_11ea_97e7_320015ebc5a0row28_col14\" class=\"data row28 col14\" >nan</td>\n",
       "                        <td id=\"T_3a006360_cc9e_11ea_97e7_320015ebc5a0row28_col15\" class=\"data row28 col15\" >nan</td>\n",
       "                        <td id=\"T_3a006360_cc9e_11ea_97e7_320015ebc5a0row28_col16\" class=\"data row28 col16\" >0.127711</td>\n",
       "                        <td id=\"T_3a006360_cc9e_11ea_97e7_320015ebc5a0row28_col17\" class=\"data row28 col17\" >nan</td>\n",
       "                        <td id=\"T_3a006360_cc9e_11ea_97e7_320015ebc5a0row28_col18\" class=\"data row28 col18\" >-0.066683</td>\n",
       "                        <td id=\"T_3a006360_cc9e_11ea_97e7_320015ebc5a0row28_col19\" class=\"data row28 col19\" >0.164017</td>\n",
       "                        <td id=\"T_3a006360_cc9e_11ea_97e7_320015ebc5a0row28_col20\" class=\"data row28 col20\" >-0.066701</td>\n",
       "                        <td id=\"T_3a006360_cc9e_11ea_97e7_320015ebc5a0row28_col21\" class=\"data row28 col21\" >nan</td>\n",
       "                        <td id=\"T_3a006360_cc9e_11ea_97e7_320015ebc5a0row28_col22\" class=\"data row28 col22\" >0.340366</td>\n",
       "                        <td id=\"T_3a006360_cc9e_11ea_97e7_320015ebc5a0row28_col23\" class=\"data row28 col23\" >0.289120</td>\n",
       "                        <td id=\"T_3a006360_cc9e_11ea_97e7_320015ebc5a0row28_col24\" class=\"data row28 col24\" >0.251289</td>\n",
       "                        <td id=\"T_3a006360_cc9e_11ea_97e7_320015ebc5a0row28_col25\" class=\"data row28 col25\" >0.319934</td>\n",
       "                        <td id=\"T_3a006360_cc9e_11ea_97e7_320015ebc5a0row28_col26\" class=\"data row28 col26\" >0.294956</td>\n",
       "                        <td id=\"T_3a006360_cc9e_11ea_97e7_320015ebc5a0row28_col27\" class=\"data row28 col27\" >0.298198</td>\n",
       "                        <td id=\"T_3a006360_cc9e_11ea_97e7_320015ebc5a0row28_col28\" class=\"data row28 col28\" >nan</td>\n",
       "                        <td id=\"T_3a006360_cc9e_11ea_97e7_320015ebc5a0row28_col29\" class=\"data row28 col29\" >0.356689</td>\n",
       "            </tr>\n",
       "            <tr>\n",
       "                        <th id=\"T_3a006360_cc9e_11ea_97e7_320015ebc5a0level0_row29\" class=\"row_heading level0 row29\" >Topic 7</th>\n",
       "                        <td id=\"T_3a006360_cc9e_11ea_97e7_320015ebc5a0row29_col0\" class=\"data row29 col0\" >0.111570</td>\n",
       "                        <td id=\"T_3a006360_cc9e_11ea_97e7_320015ebc5a0row29_col1\" class=\"data row29 col1\" >nan</td>\n",
       "                        <td id=\"T_3a006360_cc9e_11ea_97e7_320015ebc5a0row29_col2\" class=\"data row29 col2\" >-0.449185</td>\n",
       "                        <td id=\"T_3a006360_cc9e_11ea_97e7_320015ebc5a0row29_col3\" class=\"data row29 col3\" >0.137546</td>\n",
       "                        <td id=\"T_3a006360_cc9e_11ea_97e7_320015ebc5a0row29_col4\" class=\"data row29 col4\" >-0.102972</td>\n",
       "                        <td id=\"T_3a006360_cc9e_11ea_97e7_320015ebc5a0row29_col5\" class=\"data row29 col5\" >nan</td>\n",
       "                        <td id=\"T_3a006360_cc9e_11ea_97e7_320015ebc5a0row29_col6\" class=\"data row29 col6\" >0.128885</td>\n",
       "                        <td id=\"T_3a006360_cc9e_11ea_97e7_320015ebc5a0row29_col7\" class=\"data row29 col7\" >nan</td>\n",
       "                        <td id=\"T_3a006360_cc9e_11ea_97e7_320015ebc5a0row29_col8\" class=\"data row29 col8\" >0.101792</td>\n",
       "                        <td id=\"T_3a006360_cc9e_11ea_97e7_320015ebc5a0row29_col9\" class=\"data row29 col9\" >nan</td>\n",
       "                        <td id=\"T_3a006360_cc9e_11ea_97e7_320015ebc5a0row29_col10\" class=\"data row29 col10\" >nan</td>\n",
       "                        <td id=\"T_3a006360_cc9e_11ea_97e7_320015ebc5a0row29_col11\" class=\"data row29 col11\" >0.073988</td>\n",
       "                        <td id=\"T_3a006360_cc9e_11ea_97e7_320015ebc5a0row29_col12\" class=\"data row29 col12\" >nan</td>\n",
       "                        <td id=\"T_3a006360_cc9e_11ea_97e7_320015ebc5a0row29_col13\" class=\"data row29 col13\" >nan</td>\n",
       "                        <td id=\"T_3a006360_cc9e_11ea_97e7_320015ebc5a0row29_col14\" class=\"data row29 col14\" >nan</td>\n",
       "                        <td id=\"T_3a006360_cc9e_11ea_97e7_320015ebc5a0row29_col15\" class=\"data row29 col15\" >0.073602</td>\n",
       "                        <td id=\"T_3a006360_cc9e_11ea_97e7_320015ebc5a0row29_col16\" class=\"data row29 col16\" >0.072018</td>\n",
       "                        <td id=\"T_3a006360_cc9e_11ea_97e7_320015ebc5a0row29_col17\" class=\"data row29 col17\" >nan</td>\n",
       "                        <td id=\"T_3a006360_cc9e_11ea_97e7_320015ebc5a0row29_col18\" class=\"data row29 col18\" >nan</td>\n",
       "                        <td id=\"T_3a006360_cc9e_11ea_97e7_320015ebc5a0row29_col19\" class=\"data row29 col19\" >0.219647</td>\n",
       "                        <td id=\"T_3a006360_cc9e_11ea_97e7_320015ebc5a0row29_col20\" class=\"data row29 col20\" >nan</td>\n",
       "                        <td id=\"T_3a006360_cc9e_11ea_97e7_320015ebc5a0row29_col21\" class=\"data row29 col21\" >-0.082399</td>\n",
       "                        <td id=\"T_3a006360_cc9e_11ea_97e7_320015ebc5a0row29_col22\" class=\"data row29 col22\" >0.362823</td>\n",
       "                        <td id=\"T_3a006360_cc9e_11ea_97e7_320015ebc5a0row29_col23\" class=\"data row29 col23\" >0.314226</td>\n",
       "                        <td id=\"T_3a006360_cc9e_11ea_97e7_320015ebc5a0row29_col24\" class=\"data row29 col24\" >0.282694</td>\n",
       "                        <td id=\"T_3a006360_cc9e_11ea_97e7_320015ebc5a0row29_col25\" class=\"data row29 col25\" >0.338328</td>\n",
       "                        <td id=\"T_3a006360_cc9e_11ea_97e7_320015ebc5a0row29_col26\" class=\"data row29 col26\" >0.320561</td>\n",
       "                        <td id=\"T_3a006360_cc9e_11ea_97e7_320015ebc5a0row29_col27\" class=\"data row29 col27\" >0.319601</td>\n",
       "                        <td id=\"T_3a006360_cc9e_11ea_97e7_320015ebc5a0row29_col28\" class=\"data row29 col28\" >0.356689</td>\n",
       "                        <td id=\"T_3a006360_cc9e_11ea_97e7_320015ebc5a0row29_col29\" class=\"data row29 col29\" >nan</td>\n",
       "            </tr>\n",
       "    </tbody></table>"
      ],
      "text/plain": [
       "<pandas.io.formats.style.Styler at 0x1a1ee7c5d0>"
      ]
     },
     "execution_count": 239,
     "metadata": {},
     "output_type": "execute_result"
    }
   ],
   "source": [
    "#The following code is used to find/visualize significant correlations bewteen the LDA-generated topic vectors and any external feature for the last run: \n",
    "\n",
    "def spearmanr_pval(x,y):\n",
    "    return format(spearmanr(x,y)[1], '.4f')\n",
    "\n",
    "corr_p = df_corr_random.corr(method=spearmanr_pval)\n",
    "# corr_p.style.apply(lambda x: [\"background-color:pink\" if v <0.01 else \"\" for v in x], axis = 1)\n",
    "# corr.style.apply(lambda x: [\"background-color:pink\" if abs(v) > 0.2 else \"\" for v in x], axis = 1)\n",
    "\n",
    "test_corr = corr.mask(corr_p >= 0.01).copy()\n",
    "test_corr.style.apply(lambda x: [\"background-color:pink\" if abs(v) >=0.2 else \"\" for v in x], axis = 1)\n"
   ]
  },
  {
   "cell_type": "code",
   "execution_count": 224,
   "metadata": {},
   "outputs": [
    {
     "name": "stderr",
     "output_type": "stream",
     "text": [
      "<string>:6: DeprecationWarning: object of type <class 'float'> cannot be safely interpreted as an integer.\n",
      "<string>:6: DeprecationWarning: object of type <class 'float'> cannot be safely interpreted as an integer.\n"
     ]
    },
    {
     "data": {
      "image/png": "[encoded data removed]",
      "text/plain": [
       "<Figure size 864x720 with 2 Axes>"
      ]
     },
     "metadata": {
      "needs_background": "light"
     },
     "output_type": "display_data"
    }
   ],
   "source": [
    "fig, ax = plt.subplots(figsize=(12,10))  \n",
    "mask = np.triu(np.ones_like(corr, dtype=np.bool))\n",
    "sns.heatmap(corr, cmap = sns.diverging_palette(180, 10, as_cmap=True), mask = mask)\n",
    "\n",
    "fig.savefig(\"random_22_heatmap.png\")"
   ]
  },
  {
   "cell_type": "code",
   "execution_count": 241,
   "metadata": {},
   "outputs": [],
   "source": [
    "#Get topic_terms matrix across random_states: \n",
    "terms = []\n",
    "for r in topic_terms:\n",
    "    temp_weight = []\n",
    "    temp_term = []\n",
    "    for t in r:\n",
    "         for x in t.split('+'):\n",
    "            #w = float(x.split('*')[0].strip())\n",
    "            t = x.split('*')[1].strip().strip('\"')\n",
    "            terms.append(t)"
   ]
  },
  {
   "cell_type": "code",
   "execution_count": 242,
   "metadata": {},
   "outputs": [
    {
     "data": {
      "text/plain": [
       "4000"
      ]
     },
     "execution_count": 242,
     "metadata": {},
     "output_type": "execute_result"
    }
   ],
   "source": [
    "len(terms) #5 random_states * 8 topics/random_state * 100 terms/topic"
   ]
  },
  {
   "cell_type": "code",
   "execution_count": 243,
   "metadata": {},
   "outputs": [
    {
     "data": {
      "text/plain": [
       "1278"
      ]
     },
     "execution_count": 243,
     "metadata": {},
     "output_type": "execute_result"
    }
   ],
   "source": [
    "len(set(terms))"
   ]
  },
  {
   "cell_type": "code",
   "execution_count": 244,
   "metadata": {},
   "outputs": [],
   "source": [
    "fdist = FreqDist(terms)"
   ]
  },
  {
   "cell_type": "code",
   "execution_count": 245,
   "metadata": {},
   "outputs": [],
   "source": [
    "term_list_by_frequency = [x[0] for x in fdist.most_common()]\n",
    "i = range(0, len(term_list_by_frequency))\n",
    "terms_dict = dict(zip(term_list_by_frequency, i))\n"
   ]
  },
  {
   "cell_type": "code",
   "execution_count": 246,
   "metadata": {},
   "outputs": [],
   "source": [
    "#Map terms-topic mixtures to dictionary:\n",
    "terms_vectors_by_frequency = pandas.DataFrame()\n",
    "for k in range(5):\n",
    "    r = topic_terms[k]\n",
    "    random_state_topic_terms = []\n",
    "    for t in r: \n",
    "        temp_topic_terms = []\n",
    "        for x in t.split('+'):\n",
    "            term = x.split('*')[1].strip().strip('\"')\n",
    "            temp_topic_terms.append(terms_dict[str(term)])\n",
    "        random_state_topic_terms.append(temp_topic_terms)\n",
    "    terms_vectors_by_frequency['random_' + str(k) + ' terms'] = random_state_topic_terms\n"
   ]
  },
  {
   "cell_type": "code",
   "execution_count": 247,
   "metadata": {},
   "outputs": [
    {
     "data": {
      "text/html": [
       "<div>\n",
       "<style scoped>\n",
       "    .dataframe tbody tr th:only-of-type {\n",
       "        vertical-align: middle;\n",
       "    }\n",
       "\n",
       "    .dataframe tbody tr th {\n",
       "        vertical-align: top;\n",
       "    }\n",
       "\n",
       "    .dataframe thead th {\n",
       "        text-align: right;\n",
       "    }\n",
       "</style>\n",
       "<table border=\"1\" class=\"dataframe\">\n",
       "  <thead>\n",
       "    <tr style=\"text-align: right;\">\n",
       "      <th></th>\n",
       "      <th>random_0 terms</th>\n",
       "      <th>random_1 terms</th>\n",
       "      <th>random_2 terms</th>\n",
       "      <th>random_3 terms</th>\n",
       "      <th>random_4 terms</th>\n",
       "    </tr>\n",
       "  </thead>\n",
       "  <tbody>\n",
       "    <tr>\n",
       "      <th>0</th>\n",
       "      <td>[150, 151, 152, 153, 154, 46, 23, 360, 80, 155...</td>\n",
       "      <td>[112, 28, 154, 44, 208, 733, 14, 210, 59, 76, ...</td>\n",
       "      <td>[246, 40, 150, 334, 135, 5, 248, 233, 208, 287...</td>\n",
       "      <td>[135, 103, 132, 154, 230, 96, 185, 248, 111, 9...</td>\n",
       "      <td>[141, 94, 334, 59, 208, 44, 324, 110, 336, 343...</td>\n",
       "    </tr>\n",
       "    <tr>\n",
       "      <th>1</th>\n",
       "      <td>[87, 30, 381, 49, 28, 178, 179, 901, 180, 181,...</td>\n",
       "      <td>[52, 272, 304, 248, 141, 50, 88, 46, 976, 450,...</td>\n",
       "      <td>[128, 144, 491, 179, 81, 47, 187, 305, 601, 54...</td>\n",
       "      <td>[335, 152, 207, 337, 24, 334, 155, 38, 354, 37...</td>\n",
       "      <td>[228, 335, 81, 337, 132, 150, 227, 14, 98, 128...</td>\n",
       "    </tr>\n",
       "    <tr>\n",
       "      <th>2</th>\n",
       "      <td>[207, 94, 14, 519, 95, 208, 96, 209, 2, 210, 3...</td>\n",
       "      <td>[95, 27, 456, 96, 162, 97, 49, 220, 677, 286, ...</td>\n",
       "      <td>[112, 337, 125, 335, 154, 151, 50, 322, 2, 338...</td>\n",
       "      <td>[87, 90, 150, 81, 116, 345, 212, 178, 270, 133...</td>\n",
       "      <td>[2, 47, 20, 55, 79, 332, 304, 885, 229, 299, 1...</td>\n",
       "    </tr>\n",
       "    <tr>\n",
       "      <th>3</th>\n",
       "      <td>[227, 228, 229, 103, 230, 64, 704, 528, 104, 2...</td>\n",
       "      <td>[128, 180, 228, 498, 611, 786, 64, 787, 77, 87...</td>\n",
       "      <td>[228, 9, 20, 227, 307, 84, 251, 79, 288, 189, ...</td>\n",
       "      <td>[246, 272, 141, 332, 4, 247, 229, 779, 359, 78...</td>\n",
       "      <td>[272, 138, 331, 87, 207, 333, 134, 265, 7, 759...</td>\n",
       "    </tr>\n",
       "    <tr>\n",
       "      <th>4</th>\n",
       "      <td>[246, 68, 111, 247, 248, 249, 67, 112, 38, 250...</td>\n",
       "      <td>[256, 155, 55, 230, 462, 308, 231, 23, 209, 35...</td>\n",
       "      <td>[332, 96, 215, 155, 64, 35, 550, 178, 374, 447...</td>\n",
       "      <td>[2, 297, 136, 82, 249, 227, 333, 228, 77, 342,...</td>\n",
       "      <td>[68, 249, 154, 78, 352, 311, 103, 359, 126, 30...</td>\n",
       "    </tr>\n",
       "    <tr>\n",
       "      <th>5</th>\n",
       "      <td>[272, 273, 274, 275, 276, 277, 278, 554, 432, ...</td>\n",
       "      <td>[249, 207, 227, 135, 139, 179, 40, 31, 118, 14...</td>\n",
       "      <td>[4, 333, 256, 75, 25, 153, 323, 249, 59, 380, ...</td>\n",
       "      <td>[68, 59, 151, 153, 252, 883, 11, 250, 421, 281...</td>\n",
       "      <td>[509, 50, 161, 96, 28, 155, 195, 303, 326, 298...</td>\n",
       "    </tr>\n",
       "    <tr>\n",
       "      <th>6</th>\n",
       "      <td>[2, 40, 8, 296, 297, 125, 568, 298, 299, 300, ...</td>\n",
       "      <td>[246, 35, 333, 326, 229, 373, 334, 132, 303, 3...</td>\n",
       "      <td>[272, 207, 229, 87, 232, 98, 279, 143, 169, 68...</td>\n",
       "      <td>[98, 187, 85, 181, 326, 112, 9, 0, 403, 274, 1...</td>\n",
       "      <td>[246, 97, 466, 251, 247, 480, 35, 323, 64, 162...</td>\n",
       "    </tr>\n",
       "    <tr>\n",
       "      <th>7</th>\n",
       "      <td>[9, 44, 132, 331, 332, 333, 334, 335, 575, 56,...</td>\n",
       "      <td>[335, 150, 297, 332, 131, 225, 337, 255, 236, ...</td>\n",
       "      <td>[28, 136, 56, 442, 275, 277, 342, 301, 230, 31...</td>\n",
       "      <td>[17, 161, 304, 189, 242, 500, 803, 293, 343, 2...</td>\n",
       "      <td>[135, 25, 440, 30, 179, 230, 31, 349, 182, 112...</td>\n",
       "    </tr>\n",
       "  </tbody>\n",
       "</table>\n",
       "</div>"
      ],
      "text/plain": [
       "                                      random_0 terms  \\\n",
       "0  [150, 151, 152, 153, 154, 46, 23, 360, 80, 155...   \n",
       "1  [87, 30, 381, 49, 28, 178, 179, 901, 180, 181,...   \n",
       "2  [207, 94, 14, 519, 95, 208, 96, 209, 2, 210, 3...   \n",
       "3  [227, 228, 229, 103, 230, 64, 704, 528, 104, 2...   \n",
       "4  [246, 68, 111, 247, 248, 249, 67, 112, 38, 250...   \n",
       "5  [272, 273, 274, 275, 276, 277, 278, 554, 432, ...   \n",
       "6  [2, 40, 8, 296, 297, 125, 568, 298, 299, 300, ...   \n",
       "7  [9, 44, 132, 331, 332, 333, 334, 335, 575, 56,...   \n",
       "\n",
       "                                      random_1 terms  \\\n",
       "0  [112, 28, 154, 44, 208, 733, 14, 210, 59, 76, ...   \n",
       "1  [52, 272, 304, 248, 141, 50, 88, 46, 976, 450,...   \n",
       "2  [95, 27, 456, 96, 162, 97, 49, 220, 677, 286, ...   \n",
       "3  [128, 180, 228, 498, 611, 786, 64, 787, 77, 87...   \n",
       "4  [256, 155, 55, 230, 462, 308, 231, 23, 209, 35...   \n",
       "5  [249, 207, 227, 135, 139, 179, 40, 31, 118, 14...   \n",
       "6  [246, 35, 333, 326, 229, 373, 334, 132, 303, 3...   \n",
       "7  [335, 150, 297, 332, 131, 225, 337, 255, 236, ...   \n",
       "\n",
       "                                      random_2 terms  \\\n",
       "0  [246, 40, 150, 334, 135, 5, 248, 233, 208, 287...   \n",
       "1  [128, 144, 491, 179, 81, 47, 187, 305, 601, 54...   \n",
       "2  [112, 337, 125, 335, 154, 151, 50, 322, 2, 338...   \n",
       "3  [228, 9, 20, 227, 307, 84, 251, 79, 288, 189, ...   \n",
       "4  [332, 96, 215, 155, 64, 35, 550, 178, 374, 447...   \n",
       "5  [4, 333, 256, 75, 25, 153, 323, 249, 59, 380, ...   \n",
       "6  [272, 207, 229, 87, 232, 98, 279, 143, 169, 68...   \n",
       "7  [28, 136, 56, 442, 275, 277, 342, 301, 230, 31...   \n",
       "\n",
       "                                      random_3 terms  \\\n",
       "0  [135, 103, 132, 154, 230, 96, 185, 248, 111, 9...   \n",
       "1  [335, 152, 207, 337, 24, 334, 155, 38, 354, 37...   \n",
       "2  [87, 90, 150, 81, 116, 345, 212, 178, 270, 133...   \n",
       "3  [246, 272, 141, 332, 4, 247, 229, 779, 359, 78...   \n",
       "4  [2, 297, 136, 82, 249, 227, 333, 228, 77, 342,...   \n",
       "5  [68, 59, 151, 153, 252, 883, 11, 250, 421, 281...   \n",
       "6  [98, 187, 85, 181, 326, 112, 9, 0, 403, 274, 1...   \n",
       "7  [17, 161, 304, 189, 242, 500, 803, 293, 343, 2...   \n",
       "\n",
       "                                      random_4 terms  \n",
       "0  [141, 94, 334, 59, 208, 44, 324, 110, 336, 343...  \n",
       "1  [228, 335, 81, 337, 132, 150, 227, 14, 98, 128...  \n",
       "2  [2, 47, 20, 55, 79, 332, 304, 885, 229, 299, 1...  \n",
       "3  [272, 138, 331, 87, 207, 333, 134, 265, 7, 759...  \n",
       "4  [68, 249, 154, 78, 352, 311, 103, 359, 126, 30...  \n",
       "5  [509, 50, 161, 96, 28, 155, 195, 303, 326, 298...  \n",
       "6  [246, 97, 466, 251, 247, 480, 35, 323, 64, 162...  \n",
       "7  [135, 25, 440, 30, 179, 230, 31, 349, 182, 112...  "
      ]
     },
     "execution_count": 247,
     "metadata": {},
     "output_type": "execute_result"
    }
   ],
   "source": [
    "terms_vectors_by_frequency"
   ]
  },
  {
   "cell_type": "code",
   "execution_count": null,
   "metadata": {},
   "outputs": [],
   "source": [
    "#Use networkz to analyze similarities bewteen topic_term vectors: "
   ]
  },
  {
   "cell_type": "code",
   "execution_count": 71,
   "metadata": {},
   "outputs": [],
   "source": [
    "def jaccard_similarity(x, y):\n",
    "    number_intersect = len(x) + len(y) -len(set(x+y))              \n",
    "    return number_intersect/len(set(x+y))"
   ]
  },
  {
   "cell_type": "code",
   "execution_count": 73,
   "metadata": {
    "scrolled": true
   },
   "outputs": [],
   "source": [
    "j_score_dict = dict(zip(list(range(101)), [i/(200-i) for i in range(101)]))"
   ]
  },
  {
   "cell_type": "code",
   "execution_count": 117,
   "metadata": {},
   "outputs": [],
   "source": [
    "inv_j_score_dict = {v: k for k, v in j_score_dict.items()}"
   ]
  },
  {
   "cell_type": "code",
   "execution_count": 317,
   "metadata": {},
   "outputs": [],
   "source": [
    "G = nx.Graph()\n",
    "for r, q in combinations(range(5), 2):\n",
    "    random_first, random_second = terms_vectors_by_frequency['random_'+ str(r) + ' terms'], terms_vectors_by_frequency['random_'+ str(q) + ' terms']\n",
    "    for i in range(8):\n",
    "        for j in range(8):\n",
    "            j_score = jaccard_similarity(random_first[i], random_second[j])\n",
    "            if j_score >= j_score_dict[17]: #Only include two topic vectors that sshare n terms or more. \n",
    "                G.add_edge(i+r*10, j+q*10, weight = j_score)"
   ]
  },
  {
   "cell_type": "code",
   "execution_count": 318,
   "metadata": {},
   "outputs": [
    {
     "data": {
      "text/plain": [
       "33"
      ]
     },
     "execution_count": 318,
     "metadata": {},
     "output_type": "execute_result"
    }
   ],
   "source": [
    "len(G.edges())"
   ]
  },
  {
   "cell_type": "code",
   "execution_count": 319,
   "metadata": {
    "scrolled": true
   },
   "outputs": [],
   "source": [
    "edge_labels = defaultdict(int)\n",
    "for edge in list(G.edges()):\n",
    "    edge_labels[edge] = inv_j_score_dict[G.get_edge_data(edge[0], edge[1])['weight']]"
   ]
  },
  {
   "cell_type": "code",
   "execution_count": null,
   "metadata": {},
   "outputs": [],
   "source": []
  },
  {
   "cell_type": "code",
   "execution_count": null,
   "metadata": {},
   "outputs": [],
   "source": []
  },
  {
   "cell_type": "code",
   "execution_count": 338,
   "metadata": {
    "scrolled": true
   },
   "outputs": [
    {
     "data": {
      "image/png": "[encoded data removed]",
      "text/plain": [
       "<Figure size 1332x756 with 1 Axes>"
      ]
     },
     "metadata": {},
     "output_type": "display_data"
    }
   ],
   "source": [
    "pos = nx.spring_layout(G)\n",
    "nx.draw_networkx_labels(G, pos, font_size=25, font_color='k', font_family='sans-serif')\n",
    "nx.draw_networkx_edge_labels(G, pos, edge_labels = edge_labels, font_size=10, font_color='r', font_family='sans-serif')\n",
    "edges,weights = zip(*nx.get_edge_attributes(G,'weight').items())\n",
    "nx.draw(G, pos, node_size = 40, node_color='w', edgelist=edges, edge_color=weights, width=4, edge_cmap=plt.cm.Reds) \n",
    "fig = plt.gcf()\n",
    "fig.set_size_inches(18.5, 10.5)"
   ]
  },
  {
   "cell_type": "code",
   "execution_count": 327,
   "metadata": {},
   "outputs": [],
   "source": [
    "fig.savefig('final_networkx_17.png', dpi=100)"
   ]
  },
  {
   "cell_type": "code",
   "execution_count": null,
   "metadata": {},
   "outputs": [],
   "source": []
  }
 ],
 "metadata": {
  "kernelspec": {
   "display_name": "Python 3",
   "language": "python",
   "name": "python3"
  },
  "language_info": {
   "codemirror_mode": {
    "name": "ipython",
    "version": 3
   },
   "file_extension": ".py",
   "mimetype": "text/x-python",
   "name": "python",
   "nbconvert_exporter": "python",
   "pygments_lexer": "ipython3",
   "version": "3.7.4"
  }
 },
 "nbformat": 4,
 "nbformat_minor": 2
}
